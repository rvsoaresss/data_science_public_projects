{
 "cells": [
  {
   "cell_type": "code",
   "execution_count": 5,
   "metadata": {},
   "outputs": [
    {
     "name": "stdout",
     "output_type": "stream",
     "text": [
      "Faturmanento da Loja Iguatemi Campinas foi de 149,959.00\n",
      "Faturmanento da Loja Iguatemi Esplanada foi de 103,342.00\n",
      "Faturmanento da Loja Norte Shopping foi de 101,491.00\n",
      "Faturmanento da Loja Novo Shopping Ribeirão Preto foi de 99,703.00\n",
      "Faturmanento da Loja Palladium Shopping Curitiba foi de 120,621.00\n",
      "Faturmanento da Loja Parque Dom Pedro Shopping foi de 122,055.00\n",
      "Faturmanento da Loja Passei das Águas Shopping foi de 112,089.00\n",
      "Faturmanento da Loja Ribeirão Shopping foi de 112,936.00\n",
      "Faturmanento da Loja Rio Mar Recife foi de 139,869.00\n",
      "Faturmanento da Loja Rio Mar Shopping Fortaleza foi de 127,890.00\n",
      "Faturmanento da Loja Salvador Shopping foi de 129,156.00\n",
      "Faturmanento da Loja Shopping Barra foi de 103,148.00\n",
      "Faturmanento da Loja Shopping Center Interlagos foi de 103,821.00\n",
      "Faturmanento da Loja Shopping Center Leste Aricanduva foi de 86,156.00\n",
      "Faturmanento da Loja Shopping Eldorado foi de 124,339.00\n",
      "Faturmanento da Loja Shopping Ibirapuera foi de 107,907.00\n",
      "Faturmanento da Loja Shopping Iguatemi Fortaleza foi de 124,182.00\n",
      "Faturmanento da Loja Shopping Midway Mall foi de 105,269.00\n",
      "Faturmanento da Loja Shopping Morumbi foi de 117,936.00\n",
      "Faturmanento da Loja Shopping Recife foi de 131,871.00\n",
      "Faturmanento da Loja Shopping SP Market foi de 110,833.00\n",
      "Faturmanento da Loja Shopping União de Osasco foi de 116,032.00\n",
      "Faturmanento da Loja Shopping Vila Velha foi de 115,896.00\n",
      "Demorou: 0.984114408493042\n"
     ]
    }
   ],
   "source": [
    "import time\n",
    "import os\n",
    "import pandas as pd\n",
    "\n",
    "tempo_inicial=time.time()\n",
    "\n",
    "arquivos=os.listdir()\n",
    "\n",
    "for arquivo in arquivos:\n",
    "    if \"xlsx\" in arquivo:\n",
    "        tabela=pd.read_excel(arquivo)\n",
    "        faturamento=tabela[\"Valor Final\"].sum()\n",
    "        print(f\"Faturmanento da Loja {arquivo.replace('.xlsx','')} foi de {faturamento:,.2f}\")\n",
    "\n",
    "print(f\"Demorou: {time.time()-tempo_inicial}\")"
   ]
  },
  {
   "cell_type": "code",
   "execution_count": 6,
   "metadata": {},
   "outputs": [
    {
     "name": "stdout",
     "output_type": "stream",
     "text": [
      "[None, None, None, 'Faturmanento da Loja Iguatemi Campinas foi de 149,959.00', 'Faturmanento da Loja Iguatemi Esplanada foi de 103,342.00', 'Faturmanento da Loja Norte Shopping foi de 101,491.00', 'Faturmanento da Loja Novo Shopping Ribeirão Preto foi de 99,703.00', 'Faturmanento da Loja Palladium Shopping Curitiba foi de 120,621.00', 'Faturmanento da Loja Parque Dom Pedro Shopping foi de 122,055.00', 'Faturmanento da Loja Passei das Águas Shopping foi de 112,089.00', 'Faturmanento da Loja Ribeirão Shopping foi de 112,936.00', 'Faturmanento da Loja Rio Mar Recife foi de 139,869.00', 'Faturmanento da Loja Rio Mar Shopping Fortaleza foi de 127,890.00', 'Faturmanento da Loja Salvador Shopping foi de 129,156.00', 'Faturmanento da Loja Shopping Barra foi de 103,148.00', 'Faturmanento da Loja Shopping Center Interlagos foi de 103,821.00', 'Faturmanento da Loja Shopping Center Leste Aricanduva foi de 86,156.00', 'Faturmanento da Loja Shopping Eldorado foi de 124,339.00', 'Faturmanento da Loja Shopping Ibirapuera foi de 107,907.00', 'Faturmanento da Loja Shopping Iguatemi Fortaleza foi de 124,182.00', 'Faturmanento da Loja Shopping Midway Mall foi de 105,269.00', 'Faturmanento da Loja Shopping Morumbi foi de 117,936.00', 'Faturmanento da Loja Shopping Recife foi de 131,871.00', 'Faturmanento da Loja Shopping SP Market foi de 110,833.00', 'Faturmanento da Loja Shopping União de Osasco foi de 116,032.00', 'Faturmanento da Loja Shopping Vila Velha foi de 115,896.00', None]\n",
      "Demorou: 0.5201637744903564\n"
     ]
    }
   ],
   "source": [
    "from joblib import Parallel,delayed\n",
    "import time\n",
    "import pandas as pd\n",
    "import os\n",
    "\n",
    "tempo_inicial=time.time()\n",
    "\n",
    "arquivos=os.listdir()\n",
    "\n",
    "def calcular_faturamento(arquivo):\n",
    "    if \"xlsx\" in arquivo:\n",
    "        tabela=pd.read_excel(arquivo)\n",
    "        faturamento=tabela[\"Valor Final\"].sum()\n",
    "        return f\"Faturmanento da Loja {arquivo.replace('.xlsx','')} foi de {faturamento:,.2f}\"\n",
    "\n",
    "resultado = Parallel(n_jobs=2)(delayed(calcular_faturamento)(arquivo) for arquivo in arquivos)\n",
    "print(resultado)\n",
    "print(f\"Demorou: {time.time()-tempo_inicial}\")"
   ]
  },
  {
   "cell_type": "code",
   "execution_count": null,
   "metadata": {},
   "outputs": [],
   "source": []
  },
  {
   "cell_type": "code",
   "execution_count": null,
   "metadata": {},
   "outputs": [],
   "source": []
  }
 ],
 "metadata": {
  "kernelspec": {
   "display_name": "Python 3",
   "language": "python",
   "name": "python3"
  },
  "language_info": {
   "codemirror_mode": {
    "name": "ipython",
    "version": 3
   },
   "file_extension": ".py",
   "mimetype": "text/x-python",
   "name": "python",
   "nbconvert_exporter": "python",
   "pygments_lexer": "ipython3",
   "version": "3.8.5"
  }
 },
 "nbformat": 4,
 "nbformat_minor": 4
}
