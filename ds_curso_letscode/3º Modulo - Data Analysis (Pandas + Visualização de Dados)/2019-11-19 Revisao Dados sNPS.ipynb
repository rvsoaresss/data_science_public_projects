{
 "cells": [
  {
   "cell_type": "code",
   "execution_count": 3,
   "metadata": {},
   "outputs": [
    {
     "name": "stdout",
     "output_type": "stream",
     "text": [
      "Requirement already satisfied: xlrd in c:\\users\\soaresdo\\appdata\\local\\programs\\python\\python37\\lib\\site-packages (1.2.0)\n",
      "Requirement already satisfied: openpyxl in c:\\users\\soaresdo\\appdata\\local\\programs\\python\\python37\\lib\\site-packages (3.0.1)\n",
      "Requirement already satisfied: jdcal in c:\\users\\soaresdo\\appdata\\local\\programs\\python\\python37\\lib\\site-packages (from openpyxl) (1.4.1)\n",
      "Requirement already satisfied: et_xmlfile in c:\\users\\soaresdo\\appdata\\local\\programs\\python\\python37\\lib\\site-packages (from openpyxl) (1.0.1)\n"
     ]
    }
   ],
   "source": [
    "import pandas as pd\n",
    "import numpy as np\n",
    "%matplotlib inline\n",
    "import matplotlib.pyplot as plt\n",
    "!pip install xlrd\n",
    "import xlrd as xl\n",
    "!pip install openpyxl"
   ]
  },
  {
   "cell_type": "code",
   "execution_count": null,
   "metadata": {},
   "outputs": [],
   "source": [
    "df = pd.read_excel(\"TCE LA Raw Data - 2019-10.xlsx\")"
   ]
  },
  {
   "cell_type": "code",
   "execution_count": null,
   "metadata": {},
   "outputs": [],
   "source": [
    "df"
   ]
  },
  {
   "cell_type": "code",
   "execution_count": null,
   "metadata": {},
   "outputs": [],
   "source": [
    "filtro = df[\"Area\"]==\"Brazil\"\n",
    "plt.scatter(df[filtro][\"Number Of Days Since Previous Service\"],df[filtro][\"Q6 Likelihood To Recommend\"], \n",
    "            label = \"Brazil\", marker=\"x\")\n",
    "\n",
    "#filtro = df[\"Area\"]==\"Mexico\"\n",
    "#plt.scatter(df[filtro][\"Number Of Days Since Previous Service\"],df[filtro][\"Q6 Likelihood To Recommend\"], \n",
    "#            label = \"Mexico\", marker=\"o\")\n",
    "\n",
    "#filtro = df[\"Area\"]==\"Colombia\"\n",
    "#plt.scatter(df[filtro][\"Q6 Likelihood To Recommend\"],df[filtro][\"Q4 Ease Of Effort\"], \n",
    "#            label = \"Colombia\", marker=\"^\")\n",
    "\n",
    "plt.legend()\n",
    "plt.show()\n"
   ]
  },
  {
   "cell_type": "code",
   "execution_count": null,
   "metadata": {},
   "outputs": [],
   "source": [
    "score = df[\"Q6 Likelihood To Recommend\"]\n",
    "area = df[\"Area\"]"
   ]
  },
  {
   "cell_type": "code",
   "execution_count": null,
   "metadata": {},
   "outputs": [],
   "source": [
    "plt.barh(area, score)\n",
    "plt.show()"
   ]
  },
  {
   "cell_type": "code",
   "execution_count": null,
   "metadata": {},
   "outputs": [],
   "source": []
  },
  {
   "cell_type": "code",
   "execution_count": null,
   "metadata": {},
   "outputs": [],
   "source": [
    "df2 = pd.read_excel(r\"C:\\Users\\soaresdo\\HP Inc\\PBI - Documents\\LA TCE Dashboard\\Raw Data\\TCE LA Raw Data - 2019-10.xlsx\")"
   ]
  },
  {
   "cell_type": "code",
   "execution_count": null,
   "metadata": {},
   "outputs": [],
   "source": [
    "filtro_df2 = df2[[\"'Raw Data'[Month]\",\"'Raw Data'[Region Detail]\"]]"
   ]
  },
  {
   "cell_type": "code",
   "execution_count": null,
   "metadata": {},
   "outputs": [],
   "source": [
    "filtro_df2"
   ]
  },
  {
   "cell_type": "code",
   "execution_count": null,
   "metadata": {},
   "outputs": [],
   "source": [
    "filtro_df2.to_excel(\"excel.xlsx\")"
   ]
  },
  {
   "cell_type": "code",
   "execution_count": null,
   "metadata": {},
   "outputs": [],
   "source": []
  },
  {
   "cell_type": "code",
   "execution_count": null,
   "metadata": {},
   "outputs": [],
   "source": []
  },
  {
   "cell_type": "code",
   "execution_count": null,
   "metadata": {},
   "outputs": [],
   "source": []
  },
  {
   "cell_type": "code",
   "execution_count": null,
   "metadata": {},
   "outputs": [],
   "source": []
  }
 ],
 "metadata": {
  "kernelspec": {
   "display_name": "Python 3",
   "language": "python",
   "name": "python3"
  },
  "language_info": {
   "codemirror_mode": {
    "name": "ipython",
    "version": 3
   },
   "file_extension": ".py",
   "mimetype": "text/x-python",
   "name": "python",
   "nbconvert_exporter": "python",
   "pygments_lexer": "ipython3",
   "version": "3.7.4"
  }
 },
 "nbformat": 4,
 "nbformat_minor": 2
}
