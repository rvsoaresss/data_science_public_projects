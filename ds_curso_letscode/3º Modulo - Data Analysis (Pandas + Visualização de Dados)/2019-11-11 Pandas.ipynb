{
 "cells": [
  {
   "cell_type": "code",
   "execution_count": 2,
   "metadata": {},
   "outputs": [
    {
     "name": "stdout",
     "output_type": "stream",
     "text": [
      "Requirement already satisfied: pandas in c:\\users\\soaresdo\\appdata\\local\\programs\\python\\python37\\lib\\site-packages (0.25.3)\n",
      "Requirement already satisfied: numpy>=1.13.3 in c:\\users\\soaresdo\\appdata\\local\\programs\\python\\python37\\lib\\site-packages (from pandas) (1.17.3)\n",
      "Requirement already satisfied: python-dateutil>=2.6.1 in c:\\users\\soaresdo\\appdata\\local\\programs\\python\\python37\\lib\\site-packages (from pandas) (2.7.5)\n",
      "Requirement already satisfied: pytz>=2017.2 in c:\\users\\soaresdo\\appdata\\local\\programs\\python\\python37\\lib\\site-packages (from pandas) (2019.2)\n",
      "Requirement already satisfied: six>=1.5 in c:\\users\\soaresdo\\appdata\\local\\programs\\python\\python37\\lib\\site-packages (from python-dateutil>=2.6.1->pandas) (1.12.0)\n"
     ]
    }
   ],
   "source": [
    "#https://pandas.pydata.org/pandas-docs/stable/\n",
    "!pip install pandas"
   ]
  },
  {
   "cell_type": "code",
   "execution_count": 31,
   "metadata": {},
   "outputs": [],
   "source": [
    "import pandas as pd\n",
    "import numpy as np"
   ]
  },
  {
   "cell_type": "code",
   "execution_count": 32,
   "metadata": {},
   "outputs": [],
   "source": [
    "df = pd.read_csv(\"dados.csv\")"
   ]
  },
  {
   "cell_type": "code",
   "execution_count": 33,
   "metadata": {},
   "outputs": [
    {
     "data": {
      "text/html": [
       "<div>\n",
       "<style scoped>\n",
       "    .dataframe tbody tr th:only-of-type {\n",
       "        vertical-align: middle;\n",
       "    }\n",
       "\n",
       "    .dataframe tbody tr th {\n",
       "        vertical-align: top;\n",
       "    }\n",
       "\n",
       "    .dataframe thead th {\n",
       "        text-align: right;\n",
       "    }\n",
       "</style>\n",
       "<table border=\"1\" class=\"dataframe\">\n",
       "  <thead>\n",
       "    <tr style=\"text-align: right;\">\n",
       "      <th></th>\n",
       "      <th>condominio</th>\n",
       "      <th>quartos</th>\n",
       "      <th>suites</th>\n",
       "      <th>vagas</th>\n",
       "      <th>area</th>\n",
       "      <th>bairro</th>\n",
       "      <th>preco</th>\n",
       "      <th>pm2</th>\n",
       "    </tr>\n",
       "  </thead>\n",
       "  <tbody>\n",
       "    <tr>\n",
       "      <th>0</th>\n",
       "      <td>350.0</td>\n",
       "      <td>1</td>\n",
       "      <td>0.0</td>\n",
       "      <td>1.0</td>\n",
       "      <td>21</td>\n",
       "      <td>Botafogo</td>\n",
       "      <td>340000</td>\n",
       "      <td>16190.48</td>\n",
       "    </tr>\n",
       "    <tr>\n",
       "      <th>1</th>\n",
       "      <td>NaN</td>\n",
       "      <td>1</td>\n",
       "      <td>0.0</td>\n",
       "      <td>1.0</td>\n",
       "      <td>64</td>\n",
       "      <td>Botafogo</td>\n",
       "      <td>770000</td>\n",
       "      <td>12031.25</td>\n",
       "    </tr>\n",
       "    <tr>\n",
       "      <th>2</th>\n",
       "      <td>674.0</td>\n",
       "      <td>1</td>\n",
       "      <td>0.0</td>\n",
       "      <td>1.0</td>\n",
       "      <td>61</td>\n",
       "      <td>Botafogo</td>\n",
       "      <td>600000</td>\n",
       "      <td>9836.07</td>\n",
       "    </tr>\n",
       "    <tr>\n",
       "      <th>3</th>\n",
       "      <td>700.0</td>\n",
       "      <td>1</td>\n",
       "      <td>1.0</td>\n",
       "      <td>1.0</td>\n",
       "      <td>70</td>\n",
       "      <td>Botafogo</td>\n",
       "      <td>700000</td>\n",
       "      <td>10000.00</td>\n",
       "    </tr>\n",
       "    <tr>\n",
       "      <th>4</th>\n",
       "      <td>440.0</td>\n",
       "      <td>1</td>\n",
       "      <td>0.0</td>\n",
       "      <td>1.0</td>\n",
       "      <td>44</td>\n",
       "      <td>Botafogo</td>\n",
       "      <td>515000</td>\n",
       "      <td>11704.55</td>\n",
       "    </tr>\n",
       "  </tbody>\n",
       "</table>\n",
       "</div>"
      ],
      "text/plain": [
       "   condominio  quartos  suites  vagas  area    bairro   preco       pm2\n",
       "0       350.0        1     0.0    1.0    21  Botafogo  340000  16190.48\n",
       "1         NaN        1     0.0    1.0    64  Botafogo  770000  12031.25\n",
       "2       674.0        1     0.0    1.0    61  Botafogo  600000   9836.07\n",
       "3       700.0        1     1.0    1.0    70  Botafogo  700000  10000.00\n",
       "4       440.0        1     0.0    1.0    44  Botafogo  515000  11704.55"
      ]
     },
     "execution_count": 33,
     "metadata": {},
     "output_type": "execute_result"
    }
   ],
   "source": [
    "df.head()"
   ]
  },
  {
   "cell_type": "code",
   "execution_count": 34,
   "metadata": {},
   "outputs": [],
   "source": [
    "df = pd.read_csv(\"dados.csv\", sep=\",\",decimal=\".\",encoding=\"UTF-8\", header=0)"
   ]
  },
  {
   "cell_type": "code",
   "execution_count": 35,
   "metadata": {},
   "outputs": [
    {
     "data": {
      "text/html": [
       "<div>\n",
       "<style scoped>\n",
       "    .dataframe tbody tr th:only-of-type {\n",
       "        vertical-align: middle;\n",
       "    }\n",
       "\n",
       "    .dataframe tbody tr th {\n",
       "        vertical-align: top;\n",
       "    }\n",
       "\n",
       "    .dataframe thead th {\n",
       "        text-align: right;\n",
       "    }\n",
       "</style>\n",
       "<table border=\"1\" class=\"dataframe\">\n",
       "  <thead>\n",
       "    <tr style=\"text-align: right;\">\n",
       "      <th></th>\n",
       "      <th>condominio</th>\n",
       "      <th>quartos</th>\n",
       "      <th>suites</th>\n",
       "      <th>vagas</th>\n",
       "      <th>area</th>\n",
       "      <th>bairro</th>\n",
       "      <th>preco</th>\n",
       "      <th>pm2</th>\n",
       "    </tr>\n",
       "  </thead>\n",
       "  <tbody>\n",
       "    <tr>\n",
       "      <th>0</th>\n",
       "      <td>350.0</td>\n",
       "      <td>1</td>\n",
       "      <td>0.0</td>\n",
       "      <td>1.0</td>\n",
       "      <td>21</td>\n",
       "      <td>Botafogo</td>\n",
       "      <td>340000</td>\n",
       "      <td>16190.48</td>\n",
       "    </tr>\n",
       "    <tr>\n",
       "      <th>1</th>\n",
       "      <td>NaN</td>\n",
       "      <td>1</td>\n",
       "      <td>0.0</td>\n",
       "      <td>1.0</td>\n",
       "      <td>64</td>\n",
       "      <td>Botafogo</td>\n",
       "      <td>770000</td>\n",
       "      <td>12031.25</td>\n",
       "    </tr>\n",
       "    <tr>\n",
       "      <th>2</th>\n",
       "      <td>674.0</td>\n",
       "      <td>1</td>\n",
       "      <td>0.0</td>\n",
       "      <td>1.0</td>\n",
       "      <td>61</td>\n",
       "      <td>Botafogo</td>\n",
       "      <td>600000</td>\n",
       "      <td>9836.07</td>\n",
       "    </tr>\n",
       "    <tr>\n",
       "      <th>3</th>\n",
       "      <td>700.0</td>\n",
       "      <td>1</td>\n",
       "      <td>1.0</td>\n",
       "      <td>1.0</td>\n",
       "      <td>70</td>\n",
       "      <td>Botafogo</td>\n",
       "      <td>700000</td>\n",
       "      <td>10000.00</td>\n",
       "    </tr>\n",
       "    <tr>\n",
       "      <th>4</th>\n",
       "      <td>440.0</td>\n",
       "      <td>1</td>\n",
       "      <td>0.0</td>\n",
       "      <td>1.0</td>\n",
       "      <td>44</td>\n",
       "      <td>Botafogo</td>\n",
       "      <td>515000</td>\n",
       "      <td>11704.55</td>\n",
       "    </tr>\n",
       "  </tbody>\n",
       "</table>\n",
       "</div>"
      ],
      "text/plain": [
       "   condominio  quartos  suites  vagas  area    bairro   preco       pm2\n",
       "0       350.0        1     0.0    1.0    21  Botafogo  340000  16190.48\n",
       "1         NaN        1     0.0    1.0    64  Botafogo  770000  12031.25\n",
       "2       674.0        1     0.0    1.0    61  Botafogo  600000   9836.07\n",
       "3       700.0        1     1.0    1.0    70  Botafogo  700000  10000.00\n",
       "4       440.0        1     0.0    1.0    44  Botafogo  515000  11704.55"
      ]
     },
     "execution_count": 35,
     "metadata": {},
     "output_type": "execute_result"
    }
   ],
   "source": [
    "df.head()"
   ]
  },
  {
   "cell_type": "code",
   "execution_count": 36,
   "metadata": {},
   "outputs": [
    {
     "data": {
      "text/plain": [
       "(1997, 8)"
      ]
     },
     "execution_count": 36,
     "metadata": {},
     "output_type": "execute_result"
    }
   ],
   "source": [
    "df.shape"
   ]
  },
  {
   "cell_type": "code",
   "execution_count": 37,
   "metadata": {},
   "outputs": [
    {
     "data": {
      "text/html": [
       "<div>\n",
       "<style scoped>\n",
       "    .dataframe tbody tr th:only-of-type {\n",
       "        vertical-align: middle;\n",
       "    }\n",
       "\n",
       "    .dataframe tbody tr th {\n",
       "        vertical-align: top;\n",
       "    }\n",
       "\n",
       "    .dataframe thead th {\n",
       "        text-align: right;\n",
       "    }\n",
       "</style>\n",
       "<table border=\"1\" class=\"dataframe\">\n",
       "  <thead>\n",
       "    <tr style=\"text-align: right;\">\n",
       "      <th></th>\n",
       "      <th>condominio</th>\n",
       "      <th>quartos</th>\n",
       "      <th>suites</th>\n",
       "      <th>vagas</th>\n",
       "      <th>area</th>\n",
       "      <th>bairro</th>\n",
       "      <th>preco</th>\n",
       "      <th>pm2</th>\n",
       "    </tr>\n",
       "  </thead>\n",
       "  <tbody>\n",
       "    <tr>\n",
       "      <th>0</th>\n",
       "      <td>350.0</td>\n",
       "      <td>1</td>\n",
       "      <td>0.0</td>\n",
       "      <td>1.0</td>\n",
       "      <td>21</td>\n",
       "      <td>Botafogo</td>\n",
       "      <td>340000</td>\n",
       "      <td>16190.48</td>\n",
       "    </tr>\n",
       "    <tr>\n",
       "      <th>1</th>\n",
       "      <td>NaN</td>\n",
       "      <td>1</td>\n",
       "      <td>0.0</td>\n",
       "      <td>1.0</td>\n",
       "      <td>64</td>\n",
       "      <td>Botafogo</td>\n",
       "      <td>770000</td>\n",
       "      <td>12031.25</td>\n",
       "    </tr>\n",
       "    <tr>\n",
       "      <th>2</th>\n",
       "      <td>674.0</td>\n",
       "      <td>1</td>\n",
       "      <td>0.0</td>\n",
       "      <td>1.0</td>\n",
       "      <td>61</td>\n",
       "      <td>Botafogo</td>\n",
       "      <td>600000</td>\n",
       "      <td>9836.07</td>\n",
       "    </tr>\n",
       "    <tr>\n",
       "      <th>3</th>\n",
       "      <td>700.0</td>\n",
       "      <td>1</td>\n",
       "      <td>1.0</td>\n",
       "      <td>1.0</td>\n",
       "      <td>70</td>\n",
       "      <td>Botafogo</td>\n",
       "      <td>700000</td>\n",
       "      <td>10000.00</td>\n",
       "    </tr>\n",
       "    <tr>\n",
       "      <th>4</th>\n",
       "      <td>440.0</td>\n",
       "      <td>1</td>\n",
       "      <td>0.0</td>\n",
       "      <td>1.0</td>\n",
       "      <td>44</td>\n",
       "      <td>Botafogo</td>\n",
       "      <td>515000</td>\n",
       "      <td>11704.55</td>\n",
       "    </tr>\n",
       "    <tr>\n",
       "      <th>...</th>\n",
       "      <td>...</td>\n",
       "      <td>...</td>\n",
       "      <td>...</td>\n",
       "      <td>...</td>\n",
       "      <td>...</td>\n",
       "      <td>...</td>\n",
       "      <td>...</td>\n",
       "      <td>...</td>\n",
       "    </tr>\n",
       "    <tr>\n",
       "      <th>1992</th>\n",
       "      <td>1080.0</td>\n",
       "      <td>3</td>\n",
       "      <td>1.0</td>\n",
       "      <td>1.0</td>\n",
       "      <td>80</td>\n",
       "      <td>Tijuca</td>\n",
       "      <td>680000</td>\n",
       "      <td>8500.00</td>\n",
       "    </tr>\n",
       "    <tr>\n",
       "      <th>1993</th>\n",
       "      <td>750.0</td>\n",
       "      <td>3</td>\n",
       "      <td>0.0</td>\n",
       "      <td>1.0</td>\n",
       "      <td>82</td>\n",
       "      <td>Tijuca</td>\n",
       "      <td>650000</td>\n",
       "      <td>7926.83</td>\n",
       "    </tr>\n",
       "    <tr>\n",
       "      <th>1994</th>\n",
       "      <td>700.0</td>\n",
       "      <td>3</td>\n",
       "      <td>1.0</td>\n",
       "      <td>1.0</td>\n",
       "      <td>100</td>\n",
       "      <td>Tijuca</td>\n",
       "      <td>629900</td>\n",
       "      <td>6299.00</td>\n",
       "    </tr>\n",
       "    <tr>\n",
       "      <th>1995</th>\n",
       "      <td>1850.0</td>\n",
       "      <td>3</td>\n",
       "      <td>1.0</td>\n",
       "      <td>2.0</td>\n",
       "      <td>166</td>\n",
       "      <td>Tijuca</td>\n",
       "      <td>1600000</td>\n",
       "      <td>9638.55</td>\n",
       "    </tr>\n",
       "    <tr>\n",
       "      <th>1996</th>\n",
       "      <td>800.0</td>\n",
       "      <td>3</td>\n",
       "      <td>1.0</td>\n",
       "      <td>1.0</td>\n",
       "      <td>107</td>\n",
       "      <td>Tijuca</td>\n",
       "      <td>540000</td>\n",
       "      <td>5046.73</td>\n",
       "    </tr>\n",
       "  </tbody>\n",
       "</table>\n",
       "<p>1997 rows × 8 columns</p>\n",
       "</div>"
      ],
      "text/plain": [
       "      condominio  quartos  suites  vagas  area    bairro    preco       pm2\n",
       "0          350.0        1     0.0    1.0    21  Botafogo   340000  16190.48\n",
       "1            NaN        1     0.0    1.0    64  Botafogo   770000  12031.25\n",
       "2          674.0        1     0.0    1.0    61  Botafogo   600000   9836.07\n",
       "3          700.0        1     1.0    1.0    70  Botafogo   700000  10000.00\n",
       "4          440.0        1     0.0    1.0    44  Botafogo   515000  11704.55\n",
       "...          ...      ...     ...    ...   ...       ...      ...       ...\n",
       "1992      1080.0        3     1.0    1.0    80    Tijuca   680000   8500.00\n",
       "1993       750.0        3     0.0    1.0    82    Tijuca   650000   7926.83\n",
       "1994       700.0        3     1.0    1.0   100    Tijuca   629900   6299.00\n",
       "1995      1850.0        3     1.0    2.0   166    Tijuca  1600000   9638.55\n",
       "1996       800.0        3     1.0    1.0   107    Tijuca   540000   5046.73\n",
       "\n",
       "[1997 rows x 8 columns]"
      ]
     },
     "execution_count": 37,
     "metadata": {},
     "output_type": "execute_result"
    }
   ],
   "source": [
    "df"
   ]
  },
  {
   "cell_type": "code",
   "execution_count": 38,
   "metadata": {},
   "outputs": [
    {
     "data": {
      "text/html": [
       "<div>\n",
       "<style scoped>\n",
       "    .dataframe tbody tr th:only-of-type {\n",
       "        vertical-align: middle;\n",
       "    }\n",
       "\n",
       "    .dataframe tbody tr th {\n",
       "        vertical-align: top;\n",
       "    }\n",
       "\n",
       "    .dataframe thead th {\n",
       "        text-align: right;\n",
       "    }\n",
       "</style>\n",
       "<table border=\"1\" class=\"dataframe\">\n",
       "  <thead>\n",
       "    <tr style=\"text-align: right;\">\n",
       "      <th></th>\n",
       "      <th>condominio</th>\n",
       "      <th>quartos</th>\n",
       "      <th>suites</th>\n",
       "      <th>vagas</th>\n",
       "      <th>area</th>\n",
       "      <th>bairro</th>\n",
       "      <th>preco</th>\n",
       "      <th>pm2</th>\n",
       "    </tr>\n",
       "  </thead>\n",
       "  <tbody>\n",
       "    <tr>\n",
       "      <th>1992</th>\n",
       "      <td>1080.0</td>\n",
       "      <td>3</td>\n",
       "      <td>1.0</td>\n",
       "      <td>1.0</td>\n",
       "      <td>80</td>\n",
       "      <td>Tijuca</td>\n",
       "      <td>680000</td>\n",
       "      <td>8500.00</td>\n",
       "    </tr>\n",
       "    <tr>\n",
       "      <th>1993</th>\n",
       "      <td>750.0</td>\n",
       "      <td>3</td>\n",
       "      <td>0.0</td>\n",
       "      <td>1.0</td>\n",
       "      <td>82</td>\n",
       "      <td>Tijuca</td>\n",
       "      <td>650000</td>\n",
       "      <td>7926.83</td>\n",
       "    </tr>\n",
       "    <tr>\n",
       "      <th>1994</th>\n",
       "      <td>700.0</td>\n",
       "      <td>3</td>\n",
       "      <td>1.0</td>\n",
       "      <td>1.0</td>\n",
       "      <td>100</td>\n",
       "      <td>Tijuca</td>\n",
       "      <td>629900</td>\n",
       "      <td>6299.00</td>\n",
       "    </tr>\n",
       "    <tr>\n",
       "      <th>1995</th>\n",
       "      <td>1850.0</td>\n",
       "      <td>3</td>\n",
       "      <td>1.0</td>\n",
       "      <td>2.0</td>\n",
       "      <td>166</td>\n",
       "      <td>Tijuca</td>\n",
       "      <td>1600000</td>\n",
       "      <td>9638.55</td>\n",
       "    </tr>\n",
       "    <tr>\n",
       "      <th>1996</th>\n",
       "      <td>800.0</td>\n",
       "      <td>3</td>\n",
       "      <td>1.0</td>\n",
       "      <td>1.0</td>\n",
       "      <td>107</td>\n",
       "      <td>Tijuca</td>\n",
       "      <td>540000</td>\n",
       "      <td>5046.73</td>\n",
       "    </tr>\n",
       "  </tbody>\n",
       "</table>\n",
       "</div>"
      ],
      "text/plain": [
       "      condominio  quartos  suites  vagas  area  bairro    preco      pm2\n",
       "1992      1080.0        3     1.0    1.0    80  Tijuca   680000  8500.00\n",
       "1993       750.0        3     0.0    1.0    82  Tijuca   650000  7926.83\n",
       "1994       700.0        3     1.0    1.0   100  Tijuca   629900  6299.00\n",
       "1995      1850.0        3     1.0    2.0   166  Tijuca  1600000  9638.55\n",
       "1996       800.0        3     1.0    1.0   107  Tijuca   540000  5046.73"
      ]
     },
     "execution_count": 38,
     "metadata": {},
     "output_type": "execute_result"
    }
   ],
   "source": [
    "df.tail()"
   ]
  },
  {
   "cell_type": "code",
   "execution_count": 39,
   "metadata": {},
   "outputs": [
    {
     "data": {
      "text/html": [
       "<div>\n",
       "<style scoped>\n",
       "    .dataframe tbody tr th:only-of-type {\n",
       "        vertical-align: middle;\n",
       "    }\n",
       "\n",
       "    .dataframe tbody tr th {\n",
       "        vertical-align: top;\n",
       "    }\n",
       "\n",
       "    .dataframe thead th {\n",
       "        text-align: right;\n",
       "    }\n",
       "</style>\n",
       "<table border=\"1\" class=\"dataframe\">\n",
       "  <thead>\n",
       "    <tr style=\"text-align: right;\">\n",
       "      <th></th>\n",
       "      <th>condominio</th>\n",
       "      <th>quartos</th>\n",
       "      <th>suites</th>\n",
       "      <th>vagas</th>\n",
       "      <th>area</th>\n",
       "      <th>bairro</th>\n",
       "      <th>preco</th>\n",
       "      <th>pm2</th>\n",
       "    </tr>\n",
       "  </thead>\n",
       "  <tbody>\n",
       "    <tr>\n",
       "      <th>344</th>\n",
       "      <td>733.0</td>\n",
       "      <td>2</td>\n",
       "      <td>1.0</td>\n",
       "      <td>1.0</td>\n",
       "      <td>78</td>\n",
       "      <td>Grajaú</td>\n",
       "      <td>580000</td>\n",
       "      <td>7435.90</td>\n",
       "    </tr>\n",
       "    <tr>\n",
       "      <th>33</th>\n",
       "      <td>1170.0</td>\n",
       "      <td>2</td>\n",
       "      <td>1.0</td>\n",
       "      <td>1.0</td>\n",
       "      <td>80</td>\n",
       "      <td>Botafogo</td>\n",
       "      <td>815000</td>\n",
       "      <td>10187.50</td>\n",
       "    </tr>\n",
       "    <tr>\n",
       "      <th>398</th>\n",
       "      <td>790.0</td>\n",
       "      <td>2</td>\n",
       "      <td>1.0</td>\n",
       "      <td>1.0</td>\n",
       "      <td>75</td>\n",
       "      <td>Ipanema</td>\n",
       "      <td>1350000</td>\n",
       "      <td>18000.00</td>\n",
       "    </tr>\n",
       "    <tr>\n",
       "      <th>492</th>\n",
       "      <td>900.0</td>\n",
       "      <td>2</td>\n",
       "      <td>1.0</td>\n",
       "      <td>1.0</td>\n",
       "      <td>53</td>\n",
       "      <td>Leblon</td>\n",
       "      <td>1180000</td>\n",
       "      <td>22264.15</td>\n",
       "    </tr>\n",
       "    <tr>\n",
       "      <th>233</th>\n",
       "      <td>530.0</td>\n",
       "      <td>1</td>\n",
       "      <td>0.0</td>\n",
       "      <td>1.0</td>\n",
       "      <td>60</td>\n",
       "      <td>Gávea</td>\n",
       "      <td>950000</td>\n",
       "      <td>15833.33</td>\n",
       "    </tr>\n",
       "  </tbody>\n",
       "</table>\n",
       "</div>"
      ],
      "text/plain": [
       "     condominio  quartos  suites  vagas  area    bairro    preco       pm2\n",
       "344       733.0        2     1.0    1.0    78    Grajaú   580000   7435.90\n",
       "33       1170.0        2     1.0    1.0    80  Botafogo   815000  10187.50\n",
       "398       790.0        2     1.0    1.0    75   Ipanema  1350000  18000.00\n",
       "492       900.0        2     1.0    1.0    53    Leblon  1180000  22264.15\n",
       "233       530.0        1     0.0    1.0    60     Gávea   950000  15833.33"
      ]
     },
     "execution_count": 39,
     "metadata": {},
     "output_type": "execute_result"
    }
   ],
   "source": [
    "df.sample(5)"
   ]
  },
  {
   "cell_type": "code",
   "execution_count": 40,
   "metadata": {},
   "outputs": [
    {
     "data": {
      "text/plain": [
       "0    350.0\n",
       "1      NaN\n",
       "2    674.0\n",
       "3    700.0\n",
       "4    440.0\n",
       "Name: condominio, dtype: float64"
      ]
     },
     "execution_count": 40,
     "metadata": {},
     "output_type": "execute_result"
    }
   ],
   "source": [
    "df[\"condominio\"].head()"
   ]
  },
  {
   "cell_type": "code",
   "execution_count": 41,
   "metadata": {},
   "outputs": [
    {
     "data": {
      "text/plain": [
       "1992    1080.0\n",
       "1993     750.0\n",
       "1994     700.0\n",
       "1995    1850.0\n",
       "1996     800.0\n",
       "Name: condominio, dtype: float64"
      ]
     },
     "execution_count": 41,
     "metadata": {},
     "output_type": "execute_result"
    }
   ],
   "source": [
    "df[\"condominio\"].tail()"
   ]
  },
  {
   "cell_type": "code",
   "execution_count": 42,
   "metadata": {},
   "outputs": [
    {
     "data": {
      "text/plain": [
       "1063    1885.0\n",
       "1456     660.0\n",
       "396     1642.0\n",
       "479      750.0\n",
       "779      420.0\n",
       "Name: condominio, dtype: float64"
      ]
     },
     "execution_count": 42,
     "metadata": {},
     "output_type": "execute_result"
    }
   ],
   "source": [
    "df[\"condominio\"].sample(5)"
   ]
  },
  {
   "cell_type": "code",
   "execution_count": 43,
   "metadata": {},
   "outputs": [
    {
     "data": {
      "text/plain": [
       "0    350.0\n",
       "1      NaN\n",
       "2    674.0\n",
       "3    700.0\n",
       "4    440.0\n",
       "Name: condominio, dtype: float64"
      ]
     },
     "execution_count": 43,
     "metadata": {},
     "output_type": "execute_result"
    }
   ],
   "source": [
    "df[\"condominio\"][0:5]"
   ]
  },
  {
   "cell_type": "code",
   "execution_count": 44,
   "metadata": {},
   "outputs": [
    {
     "data": {
      "text/html": [
       "<div>\n",
       "<style scoped>\n",
       "    .dataframe tbody tr th:only-of-type {\n",
       "        vertical-align: middle;\n",
       "    }\n",
       "\n",
       "    .dataframe tbody tr th {\n",
       "        vertical-align: top;\n",
       "    }\n",
       "\n",
       "    .dataframe thead th {\n",
       "        text-align: right;\n",
       "    }\n",
       "</style>\n",
       "<table border=\"1\" class=\"dataframe\">\n",
       "  <thead>\n",
       "    <tr style=\"text-align: right;\">\n",
       "      <th></th>\n",
       "      <th>condominio</th>\n",
       "      <th>quartos</th>\n",
       "      <th>suites</th>\n",
       "      <th>vagas</th>\n",
       "      <th>area</th>\n",
       "      <th>bairro</th>\n",
       "      <th>preco</th>\n",
       "      <th>pm2</th>\n",
       "    </tr>\n",
       "  </thead>\n",
       "  <tbody>\n",
       "    <tr>\n",
       "      <th>0</th>\n",
       "      <td>350.0</td>\n",
       "      <td>1</td>\n",
       "      <td>0.0</td>\n",
       "      <td>1.0</td>\n",
       "      <td>21</td>\n",
       "      <td>Botafogo</td>\n",
       "      <td>340000</td>\n",
       "      <td>16190.48</td>\n",
       "    </tr>\n",
       "    <tr>\n",
       "      <th>1</th>\n",
       "      <td>NaN</td>\n",
       "      <td>1</td>\n",
       "      <td>0.0</td>\n",
       "      <td>1.0</td>\n",
       "      <td>64</td>\n",
       "      <td>Botafogo</td>\n",
       "      <td>770000</td>\n",
       "      <td>12031.25</td>\n",
       "    </tr>\n",
       "    <tr>\n",
       "      <th>2</th>\n",
       "      <td>674.0</td>\n",
       "      <td>1</td>\n",
       "      <td>0.0</td>\n",
       "      <td>1.0</td>\n",
       "      <td>61</td>\n",
       "      <td>Botafogo</td>\n",
       "      <td>600000</td>\n",
       "      <td>9836.07</td>\n",
       "    </tr>\n",
       "    <tr>\n",
       "      <th>3</th>\n",
       "      <td>700.0</td>\n",
       "      <td>1</td>\n",
       "      <td>1.0</td>\n",
       "      <td>1.0</td>\n",
       "      <td>70</td>\n",
       "      <td>Botafogo</td>\n",
       "      <td>700000</td>\n",
       "      <td>10000.00</td>\n",
       "    </tr>\n",
       "    <tr>\n",
       "      <th>4</th>\n",
       "      <td>440.0</td>\n",
       "      <td>1</td>\n",
       "      <td>0.0</td>\n",
       "      <td>1.0</td>\n",
       "      <td>44</td>\n",
       "      <td>Botafogo</td>\n",
       "      <td>515000</td>\n",
       "      <td>11704.55</td>\n",
       "    </tr>\n",
       "  </tbody>\n",
       "</table>\n",
       "</div>"
      ],
      "text/plain": [
       "   condominio  quartos  suites  vagas  area    bairro   preco       pm2\n",
       "0       350.0        1     0.0    1.0    21  Botafogo  340000  16190.48\n",
       "1         NaN        1     0.0    1.0    64  Botafogo  770000  12031.25\n",
       "2       674.0        1     0.0    1.0    61  Botafogo  600000   9836.07\n",
       "3       700.0        1     1.0    1.0    70  Botafogo  700000  10000.00\n",
       "4       440.0        1     0.0    1.0    44  Botafogo  515000  11704.55"
      ]
     },
     "execution_count": 44,
     "metadata": {},
     "output_type": "execute_result"
    }
   ],
   "source": [
    "df[0:5]"
   ]
  },
  {
   "cell_type": "code",
   "execution_count": 45,
   "metadata": {},
   "outputs": [
    {
     "data": {
      "text/html": [
       "<div>\n",
       "<style scoped>\n",
       "    .dataframe tbody tr th:only-of-type {\n",
       "        vertical-align: middle;\n",
       "    }\n",
       "\n",
       "    .dataframe tbody tr th {\n",
       "        vertical-align: top;\n",
       "    }\n",
       "\n",
       "    .dataframe thead th {\n",
       "        text-align: right;\n",
       "    }\n",
       "</style>\n",
       "<table border=\"1\" class=\"dataframe\">\n",
       "  <thead>\n",
       "    <tr style=\"text-align: right;\">\n",
       "      <th></th>\n",
       "      <th>condominio</th>\n",
       "      <th>quartos</th>\n",
       "      <th>suites</th>\n",
       "      <th>vagas</th>\n",
       "      <th>area</th>\n",
       "      <th>bairro</th>\n",
       "      <th>preco</th>\n",
       "      <th>pm2</th>\n",
       "    </tr>\n",
       "  </thead>\n",
       "  <tbody>\n",
       "    <tr>\n",
       "      <th>0</th>\n",
       "      <td>350.0</td>\n",
       "      <td>1</td>\n",
       "      <td>0.0</td>\n",
       "      <td>1.0</td>\n",
       "      <td>21</td>\n",
       "      <td>Botafogo</td>\n",
       "      <td>340000</td>\n",
       "      <td>16190.48</td>\n",
       "    </tr>\n",
       "  </tbody>\n",
       "</table>\n",
       "</div>"
      ],
      "text/plain": [
       "   condominio  quartos  suites  vagas  area    bairro   preco       pm2\n",
       "0       350.0        1     0.0    1.0    21  Botafogo  340000  16190.48"
      ]
     },
     "execution_count": 45,
     "metadata": {},
     "output_type": "execute_result"
    }
   ],
   "source": [
    "df[:1]"
   ]
  },
  {
   "cell_type": "code",
   "execution_count": 46,
   "metadata": {},
   "outputs": [
    {
     "data": {
      "text/html": [
       "<div>\n",
       "<style scoped>\n",
       "    .dataframe tbody tr th:only-of-type {\n",
       "        vertical-align: middle;\n",
       "    }\n",
       "\n",
       "    .dataframe tbody tr th {\n",
       "        vertical-align: top;\n",
       "    }\n",
       "\n",
       "    .dataframe thead th {\n",
       "        text-align: right;\n",
       "    }\n",
       "</style>\n",
       "<table border=\"1\" class=\"dataframe\">\n",
       "  <thead>\n",
       "    <tr style=\"text-align: right;\">\n",
       "      <th></th>\n",
       "      <th>condominio</th>\n",
       "      <th>quartos</th>\n",
       "      <th>suites</th>\n",
       "      <th>vagas</th>\n",
       "      <th>area</th>\n",
       "      <th>bairro</th>\n",
       "      <th>preco</th>\n",
       "      <th>pm2</th>\n",
       "    </tr>\n",
       "  </thead>\n",
       "  <tbody>\n",
       "    <tr>\n",
       "      <th>300</th>\n",
       "      <td>580.0</td>\n",
       "      <td>1</td>\n",
       "      <td>0.0</td>\n",
       "      <td>1.0</td>\n",
       "      <td>55</td>\n",
       "      <td>Grajaú</td>\n",
       "      <td>300000</td>\n",
       "      <td>5454.55</td>\n",
       "    </tr>\n",
       "  </tbody>\n",
       "</table>\n",
       "</div>"
      ],
      "text/plain": [
       "     condominio  quartos  suites  vagas  area  bairro   preco      pm2\n",
       "300       580.0        1     0.0    1.0    55  Grajaú  300000  5454.55"
      ]
     },
     "execution_count": 46,
     "metadata": {},
     "output_type": "execute_result"
    }
   ],
   "source": [
    "df[300:301]"
   ]
  },
  {
   "cell_type": "code",
   "execution_count": 47,
   "metadata": {},
   "outputs": [
    {
     "data": {
      "text/html": [
       "<div>\n",
       "<style scoped>\n",
       "    .dataframe tbody tr th:only-of-type {\n",
       "        vertical-align: middle;\n",
       "    }\n",
       "\n",
       "    .dataframe tbody tr th {\n",
       "        vertical-align: top;\n",
       "    }\n",
       "\n",
       "    .dataframe thead th {\n",
       "        text-align: right;\n",
       "    }\n",
       "</style>\n",
       "<table border=\"1\" class=\"dataframe\">\n",
       "  <thead>\n",
       "    <tr style=\"text-align: right;\">\n",
       "      <th></th>\n",
       "      <th>condominio</th>\n",
       "      <th>quartos</th>\n",
       "      <th>suites</th>\n",
       "      <th>vagas</th>\n",
       "      <th>area</th>\n",
       "      <th>bairro</th>\n",
       "      <th>preco</th>\n",
       "      <th>pm2</th>\n",
       "    </tr>\n",
       "  </thead>\n",
       "  <tbody>\n",
       "    <tr>\n",
       "      <th>300</th>\n",
       "      <td>580.0</td>\n",
       "      <td>1</td>\n",
       "      <td>0.0</td>\n",
       "      <td>1.0</td>\n",
       "      <td>55</td>\n",
       "      <td>Grajaú</td>\n",
       "      <td>300000</td>\n",
       "      <td>5454.55</td>\n",
       "    </tr>\n",
       "  </tbody>\n",
       "</table>\n",
       "</div>"
      ],
      "text/plain": [
       "     condominio  quartos  suites  vagas  area  bairro   preco      pm2\n",
       "300       580.0        1     0.0    1.0    55  Grajaú  300000  5454.55"
      ]
     },
     "execution_count": 47,
     "metadata": {},
     "output_type": "execute_result"
    }
   ],
   "source": [
    "n=300\n",
    "df[n:n+1]\n",
    "\n"
   ]
  },
  {
   "cell_type": "code",
   "execution_count": 48,
   "metadata": {},
   "outputs": [
    {
     "data": {
      "text/plain": [
       "condominio        580\n",
       "quartos             1\n",
       "suites              0\n",
       "vagas               1\n",
       "area               55\n",
       "bairro         Grajaú\n",
       "preco          300000\n",
       "pm2           5454.55\n",
       "Name: 300, dtype: object"
      ]
     },
     "execution_count": 48,
     "metadata": {},
     "output_type": "execute_result"
    }
   ],
   "source": [
    "df.iloc[300]"
   ]
  },
  {
   "cell_type": "code",
   "execution_count": 49,
   "metadata": {},
   "outputs": [
    {
     "data": {
      "text/plain": [
       "array([False, False, False,  True])"
      ]
     },
     "execution_count": 49,
     "metadata": {},
     "output_type": "execute_result"
    }
   ],
   "source": [
    "np.isnan([1,2,3,np.nan])"
   ]
  },
  {
   "cell_type": "code",
   "execution_count": 50,
   "metadata": {},
   "outputs": [
    {
     "data": {
      "text/html": [
       "<div>\n",
       "<style scoped>\n",
       "    .dataframe tbody tr th:only-of-type {\n",
       "        vertical-align: middle;\n",
       "    }\n",
       "\n",
       "    .dataframe tbody tr th {\n",
       "        vertical-align: top;\n",
       "    }\n",
       "\n",
       "    .dataframe thead th {\n",
       "        text-align: right;\n",
       "    }\n",
       "</style>\n",
       "<table border=\"1\" class=\"dataframe\">\n",
       "  <thead>\n",
       "    <tr style=\"text-align: right;\">\n",
       "      <th></th>\n",
       "      <th>condominio</th>\n",
       "      <th>quartos</th>\n",
       "      <th>suites</th>\n",
       "      <th>vagas</th>\n",
       "      <th>area</th>\n",
       "      <th>bairro</th>\n",
       "      <th>preco</th>\n",
       "      <th>pm2</th>\n",
       "    </tr>\n",
       "  </thead>\n",
       "  <tbody>\n",
       "    <tr>\n",
       "      <th>1</th>\n",
       "      <td>NaN</td>\n",
       "      <td>1</td>\n",
       "      <td>0.0</td>\n",
       "      <td>1.0</td>\n",
       "      <td>64</td>\n",
       "      <td>Botafogo</td>\n",
       "      <td>770000</td>\n",
       "      <td>12031.25</td>\n",
       "    </tr>\n",
       "  </tbody>\n",
       "</table>\n",
       "</div>"
      ],
      "text/plain": [
       "   condominio  quartos  suites  vagas  area    bairro   preco       pm2\n",
       "1         NaN        1     0.0    1.0    64  Botafogo  770000  12031.25"
      ]
     },
     "execution_count": 50,
     "metadata": {},
     "output_type": "execute_result"
    }
   ],
   "source": [
    "#retorna as linhas cujo elemento na coluna condominio é nulo\n",
    "df[pd.isnull(df[\"condominio\"])]"
   ]
  },
  {
   "cell_type": "code",
   "execution_count": 51,
   "metadata": {},
   "outputs": [
    {
     "data": {
      "text/plain": [
       "1   NaN\n",
       "Name: condominio, dtype: float64"
      ]
     },
     "execution_count": 51,
     "metadata": {},
     "output_type": "execute_result"
    }
   ],
   "source": [
    "df[pd.isnull(df[\"condominio\"])][\"condominio\"]"
   ]
  },
  {
   "cell_type": "code",
   "execution_count": 54,
   "metadata": {},
   "outputs": [
    {
     "data": {
      "text/plain": [
       "Index(['condominio', 'quartos', 'suites', 'vagas', 'area', 'bairro', 'preco',\n",
       "       'pm2'],\n",
       "      dtype='object')"
      ]
     },
     "execution_count": 54,
     "metadata": {},
     "output_type": "execute_result"
    }
   ],
   "source": [
    "df.columns"
   ]
  },
  {
   "cell_type": "code",
   "execution_count": 55,
   "metadata": {},
   "outputs": [
    {
     "data": {
      "text/plain": [
       "'condominio'"
      ]
     },
     "execution_count": 55,
     "metadata": {},
     "output_type": "execute_result"
    }
   ],
   "source": [
    "df.columns[0]"
   ]
  },
  {
   "cell_type": "code",
   "execution_count": 57,
   "metadata": {},
   "outputs": [
    {
     "data": {
      "text/html": [
       "<div>\n",
       "<style scoped>\n",
       "    .dataframe tbody tr th:only-of-type {\n",
       "        vertical-align: middle;\n",
       "    }\n",
       "\n",
       "    .dataframe tbody tr th {\n",
       "        vertical-align: top;\n",
       "    }\n",
       "\n",
       "    .dataframe thead th {\n",
       "        text-align: right;\n",
       "    }\n",
       "</style>\n",
       "<table border=\"1\" class=\"dataframe\">\n",
       "  <thead>\n",
       "    <tr style=\"text-align: right;\">\n",
       "      <th></th>\n",
       "      <th>condominio</th>\n",
       "      <th>quartos</th>\n",
       "    </tr>\n",
       "  </thead>\n",
       "  <tbody>\n",
       "    <tr>\n",
       "      <th>0</th>\n",
       "      <td>350.0</td>\n",
       "      <td>1</td>\n",
       "    </tr>\n",
       "    <tr>\n",
       "      <th>1</th>\n",
       "      <td>NaN</td>\n",
       "      <td>1</td>\n",
       "    </tr>\n",
       "    <tr>\n",
       "      <th>2</th>\n",
       "      <td>674.0</td>\n",
       "      <td>1</td>\n",
       "    </tr>\n",
       "    <tr>\n",
       "      <th>3</th>\n",
       "      <td>700.0</td>\n",
       "      <td>1</td>\n",
       "    </tr>\n",
       "    <tr>\n",
       "      <th>4</th>\n",
       "      <td>440.0</td>\n",
       "      <td>1</td>\n",
       "    </tr>\n",
       "  </tbody>\n",
       "</table>\n",
       "</div>"
      ],
      "text/plain": [
       "   condominio  quartos\n",
       "0       350.0        1\n",
       "1         NaN        1\n",
       "2       674.0        1\n",
       "3       700.0        1\n",
       "4       440.0        1"
      ]
     },
     "execution_count": 57,
     "metadata": {},
     "output_type": "execute_result"
    }
   ],
   "source": [
    "df[[\"condominio\",\"quartos\"]].head()"
   ]
  },
  {
   "cell_type": "code",
   "execution_count": 59,
   "metadata": {},
   "outputs": [
    {
     "data": {
      "text/plain": [
       "array([1, 2, 3], dtype=int64)"
      ]
     },
     "execution_count": 59,
     "metadata": {},
     "output_type": "execute_result"
    }
   ],
   "source": [
    "df[\"quartos\"].unique()"
   ]
  },
  {
   "cell_type": "code",
   "execution_count": 61,
   "metadata": {},
   "outputs": [
    {
     "name": "stdout",
     "output_type": "stream",
     "text": [
      "condominio   [3.500e+02       nan 6.740e+02 7.000e+02 4.400e+02 9.170e+02 8.500e+02\n",
      " 5.100e+02 2.000e+02 5.520e+02 4.950e+02 3.400e+02 8.000e+02 5.300e+02\n",
      " 5.000e+02 6.000e+02 4.650e+02 1.400e+03 2.500e+02 1.000e+03 2.800e+02\n",
      " 4.810e+02 1.500e+02 1.071e+03 7.500e+02 9.920e+02 9.900e+02 9.600e+02\n",
      " 1.200e+03 1.100e+03 1.170e+03 5.190e+02 9.050e+02 7.600e+02 8.600e+02\n",
      " 5.200e+02 7.900e+02 5.500e+02 7.450e+02 9.700e+02 1.800e+03 9.680e+02\n",
      " 9.000e+02 8.300e+02 6.650e+02 4.500e+02 7.200e+02 1.942e+03 8.900e+02\n",
      " 1.580e+03 1.670e+03 1.500e+03 1.335e+03 1.350e+03 1.700e+03 9.800e+02\n",
      " 1.206e+03 1.260e+03 3.900e+03 1.029e+03 1.300e+03 1.380e+03 1.600e+03\n",
      " 1.133e+03 8.400e+02 5.900e+02 6.500e+02 4.700e+02 3.900e+02 3.650e+02\n",
      " 4.000e+02 4.300e+02 7.390e+02 5.400e+02 5.120e+02 4.720e+02 6.600e+02\n",
      " 7.050e+02 5.600e+02 4.900e+02 3.800e+02 8.210e+02 9.500e+02 9.450e+02\n",
      " 5.250e+02 7.400e+02 6.930e+02 7.350e+02 1.275e+03 2.200e+03 6.050e+02\n",
      " 8.200e+02 2.000e+03 9.240e+02 6.800e+02 9.300e+02 1.980e+03 1.290e+03\n",
      " 1.598e+03 1.939e+03 2.600e+03 1.309e+03 1.025e+03 3.600e+03 3.200e+03\n",
      " 1.018e+03 4.040e+02 1.084e+03 1.640e+03 1.230e+03 2.950e+03 2.400e+03\n",
      " 7.980e+02 8.050e+02 1.420e+03 7.750e+02 2.900e+02 7.850e+02 6.460e+02\n",
      " 1.184e+03 9.370e+02 8.150e+02 8.140e+02 2.600e+02 2.500e+03 1.250e+03\n",
      " 9.870e+02 9.770e+02 8.800e+02 1.140e+03 1.450e+03 1.456e+03 1.115e+03\n",
      " 1.769e+03 1.480e+03 3.300e+02 5.700e+02 2.300e+02 3.700e+02 5.800e+02\n",
      " 6.200e+02 3.450e+02 4.850e+02 4.680e+02 3.890e+02 6.610e+02 7.100e+02\n",
      " 6.690e+02 7.300e+02 6.400e+02 3.000e+02 6.900e+02 5.140e+02 7.330e+02\n",
      " 4.280e+02 1.270e+03 8.660e+02 1.150e+03 7.920e+02 1.113e+03 7.800e+02\n",
      " 5.560e+02 4.600e+02 1.518e+03 7.140e+02 1.642e+03 3.570e+03 1.090e+03\n",
      " 6.060e+02 1.885e+03 4.520e+02 4.059e+03 4.190e+03 1.007e+03 5.550e+02\n",
      " 9.780e+02 1.050e+03 3.300e+03 1.530e+03 2.350e+03 1.310e+03 2.480e+03\n",
      " 1.215e+03 4.600e+03 2.100e+03 9.940e+02 2.988e+03 2.800e+03 1.204e+03\n",
      " 1.517e+03 5.461e+03 3.090e+03 1.925e+03 1.900e+03 2.013e+03 6.180e+02\n",
      " 1.860e+03 1.850e+03 5.450e+02 5.110e+02 5.330e+02 7.780e+02 8.940e+02\n",
      " 8.450e+02 2.055e+03 1.286e+03 1.124e+03 1.070e+03 2.520e+03 1.398e+03\n",
      " 1.830e+03 2.250e+03 1.180e+03 5.400e+03 1.060e+03 1.550e+03 1.110e+03\n",
      " 2.216e+03 1.127e+03 4.240e+02 2.640e+02 3.100e+02 6.550e+02 7.720e+02\n",
      " 6.420e+02 4.200e+02 6.450e+02 6.540e+02 4.230e+02 7.440e+02 7.360e+02\n",
      " 8.850e+02 7.710e+02 4.800e+02 6.350e+02 8.350e+02 1.080e+03 8.250e+02\n",
      " 8.100e+02 1.315e+03 6.300e+02 9.130e+02 1.900e+02 1.528e+03 9.400e+02\n",
      " 3.480e+02 3.110e+02 1.040e+03 3.940e+02 8.820e+02 9.360e+02 9.200e+02\n",
      " 1.142e+03 6.160e+02 1.684e+03 1.130e+03 1.327e+03 3.930e+03 9.910e+02\n",
      " 1.678e+03 4.920e+02 7.700e+02 1.128e+03 9.830e+02 9.960e+02 8.700e+02\n",
      " 1.950e+03 1.259e+03 1.190e+03 1.834e+03 1.697e+03 1.620e+03 7.080e+02\n",
      " 1.183e+03 9.750e+02 7.820e+02 6.880e+02 1.042e+03 1.078e+03 1.390e+03\n",
      " 1.014e+03 1.300e+02 4.730e+02 5.460e+02 2.100e+02 7.110e+02 7.120e+02\n",
      " 4.830e+02 1.122e+03 5.650e+02 6.630e+02 6.280e+02 5.980e+02 1.045e+03\n",
      " 7.150e+02 1.000e+00 1.650e+03 4.011e+03 1.520e+03 4.550e+02 3.800e+03\n",
      " 1.463e+03 1.200e+02 1.575e+03 4.500e+03 1.570e+03 4.150e+02 6.040e+02\n",
      " 3.600e+02 1.750e+03 3.200e+02 1.036e+03 1.866e+03 1.560e+03 1.160e+03\n",
      " 6.500e+03 2.009e+03 3.080e+03 4.000e+03 1.680e+03 1.880e+03 7.090e+02\n",
      " 9.510e+02 4.110e+02 3.850e+02 4.560e+02 3.150e+02 2.650e+02 2.700e+02\n",
      " 2.860e+02 8.130e+02 2.810e+02 7.380e+02 5.660e+02 6.210e+02 4.060e+02\n",
      " 5.970e+02 5.880e+02 1.370e+03 9.100e+02 6.700e+02 6.860e+02 6.750e+02\n",
      " 8.950e+02 3.580e+02 9.470e+02 6.080e+02 4.100e+02 9.270e+02 8.590e+02\n",
      " 1.692e+03 1.630e+03 1.540e+03 4.840e+02 4.130e+02 3.620e+02 5.150e+02\n",
      " 5.350e+02 6.840e+02 6.990e+02 1.356e+03 8.370e+02 2.887e+03 9.590e+02\n",
      " 3.500e+03 1.415e+03 1.210e+03 1.888e+03 9.090e+02 1.329e+03 2.813e+03\n",
      " 1.283e+03 7.071e+03 7.060e+02 8.170e+02 3.070e+02 1.065e+03 9.070e+02\n",
      " 1.950e+02 8.340e+02 1.294e+03 4.250e+02 1.613e+03 3.560e+03 2.309e+03\n",
      " 1.720e+03 2.700e+03 2.270e+03 1.760e+03 8.190e+02 1.320e+03 4.400e+03\n",
      " 1.659e+03 2.280e+03 1.288e+03 2.050e+03 2.300e+03 6.810e+02 3.950e+02\n",
      " 8.060e+02 4.890e+02 2.660e+02 4.750e+02 6.100e+02 1.068e+03 1.336e+03]\n",
      "quartos   [1 2 3]\n",
      "suites   [0. 1. 2. 3.]\n",
      "vagas   [1. 2. 3. 4. 0.]\n",
      "area   [ 21  64  61  70  44  60  65  43  26  42  35  67  54  40  47  45  50  58\n",
      "  28 105 100  80  68  72  86  85  76  75  66  69  88  90  62  84  82  93\n",
      " 117  87 129 120 109  94 215 114 130  89 135  83 113  96 104  99 107 115\n",
      " 103  78 220  97 140 126 112 110 122  22  37  34  31  25  55  48  39  56\n",
      "  32 150  53  95 195  71  79 209 194 168 200 125 280 210 155 190 170 230\n",
      " 240 102  98 300 340 108  92 152 160 188 175  36  38 142  74 139 123  52\n",
      "  59  49  77  63  73 101  81  30 147 134 325 205 172 124 350 165 138 180\n",
      " 201 186  33 475 118 144  41  27  91 154 128 145 106 214 212 156 136 228\n",
      " 158 174 116 166 192 272 163 141 290 176 148 127  46 359 250 162 185 111\n",
      " 206 149 260 182 132 137 131  57 119 151  23 133 344 173 167 274  19 153\n",
      "  51  20 330]\n",
      "bairro   ['Botafogo' 'Copacabana' 'Gávea' 'Grajaú' 'Ipanema' 'Leblon' 'Tijuca']\n",
      "preco   [  340000   770000   600000   700000   515000   630000   740000   570000\n",
      "   430000   500000   790000   410000   625000   360000   670000   400000\n",
      "   750000   578000   350000   130000   597000   995000  1150000  1200000\n",
      "   980000   950000  1080000   815000   930000   720000  1100000   890000\n",
      "  1050000   920000   519000  1250000   675000   940000   879000  1300000\n",
      "  1130000   799000   885000   800000   705000   810000   450000  1659000\n",
      "  1890000  1900000  1600000   850000  1625000   900000  1400000  1750000\n",
      "  1340000  1650000  1700000   990000  1128000  3880000  1800000  1530000\n",
      "   880000   798000  1270000  2500000  1550000  1450000  1820000  1594389\n",
      "  1380000   265000   560000   550000   640000   650000   380000   390000\n",
      "   270000   590000   470000   895000   399000   629000   520000   480000\n",
      "   635000   420000   730000   898000   840000  1680000  1190000   820000\n",
      "  1280000   710000   760000   776000   580000   679000  1099000  1582000\n",
      "  1500000  2000000  1000000   735000   725000  2190000  1030000  2800000\n",
      "  2600000  1240000  2350000  3990000  2200000  2390000  1099999  3400000\n",
      "  5280000  3850000  4200000  1349000  1290000  3000000  3900000   620000\n",
      "  1950000  1830000  1365000  1260000  1590000  2450000  1789000  1388000\n",
      "  1585000  1350000   970000  2250000  1760000  1850000  2100000  2205000\n",
      "  2625000  1990000  2150000  1149000   178000   345000   280000   370000\n",
      "   285000   325000   300000   320000   294000   219000   454500   435000\n",
      "   465000   395000   354000   499000   460000   415000   475700   250000\n",
      "   305000   599000   248000   440000   894000   690000   540000   695000\n",
      "   680000   348000   669000   749000   530000   905000  1999000   870000\n",
      "   779000   699990   649000  2729000  3950000  1560000  5300000  1390000\n",
      "  1180000  9000000  1580000  2300000  7400000  3699000  5900000  3350000\n",
      "  2400000 13600000  3450000  1730000  3600000  2275000  5200000  2900000\n",
      "  2380000  8900000  2790000  3200000  1780000  3700000  1345000  1299000\n",
      "   935000   230000   545000   610000  1199000   290000  1790000  4000000\n",
      "  1490000  1630000  3500000  1699000  3300000  2950000  2980000  7000000\n",
      "  2420000  2490000  6500000  2750000  2107000  1620000  6300000  2650000\n",
      "  2090000   339000   205000   365000   249999   355000   445000   425000\n",
      "   405000   409000   446000   295000   490000   660000   785000   780000\n",
      "  1320000   699000   960000   945000   599900   510000   825000   899000\n",
      "   819900   568000  1090000   972000  2050000  1660000  1970000   934000\n",
      "  1827000  4199000   998000   535000   385000   585000   715000   755000\n",
      "   745000   834000   849000  1157000  4500000  1949900  1480000  1975000\n",
      "  2497000  1399000  2850000  1855000  1670000  1799000  1520000  2260000\n",
      "   159000   315000   330000   579999   228000   615000   975000  1575000\n",
      "  1070000   910000 11000000  6800000  2480000  2700000  1375000  1733000\n",
      "  1440000  2550000 10500000  3080000  1690000  2599000  3640000  2740000\n",
      "   389999   318000   224999   215000   555000   335000   455000   244000\n",
      "   419000   525000   766000   429900   658000   575000   275000  1152000\n",
      "   830000  1370000  1584000  1199999  1060000  2990000   449000   239000\n",
      "   862000   860000  1980000   985000   875000  1195000 11500000  1430000\n",
      "   795000  1330000  1325000  5100000  1880000   598000   734999   398000\n",
      "   429000   499999   765000   885500   659000  1300001 13500000  5650000\n",
      "  2780000  1049000  1940000  8250000  5990000  4750000   369000   329000\n",
      "   394999   494999   220000   595000   539000   319000   479000   955000\n",
      "   878000   629900]\n",
      "pm2   [16190.48 12031.25  9836.07 ...  7203.39  8500.    6299.  ]\n"
     ]
    }
   ],
   "source": [
    "for i in df.columns:\n",
    "    print(i,\" \",df[i].unique())\n",
    "    "
   ]
  },
  {
   "cell_type": "code",
   "execution_count": 63,
   "metadata": {},
   "outputs": [
    {
     "data": {
      "text/plain": [
       "array(['Botafogo', 'Copacabana', 'Gávea', 'Grajaú', 'Ipanema', 'Leblon',\n",
       "       'Tijuca'], dtype=object)"
      ]
     },
     "execution_count": 63,
     "metadata": {},
     "output_type": "execute_result"
    }
   ],
   "source": [
    "df[\"bairro\"].unique()"
   ]
  },
  {
   "cell_type": "code",
   "execution_count": 64,
   "metadata": {},
   "outputs": [
    {
     "data": {
      "text/plain": [
       "Copacabana    346\n",
       "Tijuca        341\n",
       "Botafogo      307\n",
       "Ipanema       281\n",
       "Leblon        280\n",
       "Grajaú        237\n",
       "Gávea         205\n",
       "Name: bairro, dtype: int64"
      ]
     },
     "execution_count": 64,
     "metadata": {},
     "output_type": "execute_result"
    }
   ],
   "source": [
    "df[\"bairro\"].value_counts()"
   ]
  },
  {
   "cell_type": "code",
   "execution_count": 65,
   "metadata": {},
   "outputs": [
    {
     "data": {
      "text/plain": [
       "(1997, 8)"
      ]
     },
     "execution_count": 65,
     "metadata": {},
     "output_type": "execute_result"
    }
   ],
   "source": [
    "df.shape"
   ]
  },
  {
   "cell_type": "code",
   "execution_count": 66,
   "metadata": {},
   "outputs": [
    {
     "data": {
      "text/plain": [
       "True"
      ]
     },
     "execution_count": 66,
     "metadata": {},
     "output_type": "execute_result"
    }
   ],
   "source": [
    "df.shape[0] == df[\"bairro\"].value_counts().sum()"
   ]
  },
  {
   "cell_type": "code",
   "execution_count": 67,
   "metadata": {},
   "outputs": [
    {
     "data": {
      "text/plain": [
       "0    950000\n",
       "dtype: int64"
      ]
     },
     "execution_count": 67,
     "metadata": {},
     "output_type": "execute_result"
    }
   ],
   "source": [
    "df[df[\"bairro\"]==\"Botafogo\"][\"preco\"].mode()"
   ]
  },
  {
   "cell_type": "code",
   "execution_count": 68,
   "metadata": {},
   "outputs": [
    {
     "data": {
      "text/plain": [
       "950000.0"
      ]
     },
     "execution_count": 68,
     "metadata": {},
     "output_type": "execute_result"
    }
   ],
   "source": [
    "df[df[\"bairro\"]==\"Botafogo\"][\"preco\"].median()"
   ]
  },
  {
   "cell_type": "code",
   "execution_count": 69,
   "metadata": {},
   "outputs": [
    {
     "data": {
      "text/plain": [
       "count    3.070000e+02\n",
       "mean     1.010614e+06\n",
       "std      5.141690e+05\n",
       "min      1.300000e+05\n",
       "25%      6.500000e+05\n",
       "50%      9.500000e+05\n",
       "75%      1.220000e+06\n",
       "max      4.199000e+06\n",
       "Name: preco, dtype: float64"
      ]
     },
     "execution_count": 69,
     "metadata": {},
     "output_type": "execute_result"
    }
   ],
   "source": [
    "df[df[\"bairro\"]==\"Botafogo\"][\"preco\"].describe()"
   ]
  },
  {
   "cell_type": "code",
   "execution_count": 70,
   "metadata": {},
   "outputs": [
    {
     "name": "stdout",
     "output_type": "stream",
     "text": [
      "Botafogo 1010613.638436482\n",
      "Copacabana 1216343.6358381503\n",
      "Gávea 1454570.731707317\n",
      "Grajaú 478886.89873417723\n",
      "Ipanema 2033096.053380783\n",
      "Leblon 1946192.857142857\n",
      "Tijuca 575077.9824046921\n"
     ]
    }
   ],
   "source": [
    "for i in df[\"bairro\"].unique():\n",
    "    print(i,df[df[\"bairro\"]==i][\"preco\"].mean())"
   ]
  },
  {
   "cell_type": "code",
   "execution_count": 71,
   "metadata": {},
   "outputs": [
    {
     "data": {
      "text/plain": [
       "bairro\n",
       "Botafogo      1.010614e+06\n",
       "Copacabana    1.216344e+06\n",
       "Grajaú        4.788869e+05\n",
       "Gávea         1.454571e+06\n",
       "Ipanema       2.033096e+06\n",
       "Leblon        1.946193e+06\n",
       "Tijuca        5.750780e+05\n",
       "Name: preco, dtype: float64"
      ]
     },
     "execution_count": 71,
     "metadata": {},
     "output_type": "execute_result"
    }
   ],
   "source": [
    "df.groupby(\"bairro\").mean()[\"preco\"]"
   ]
  },
  {
   "cell_type": "code",
   "execution_count": 72,
   "metadata": {},
   "outputs": [
    {
     "data": {
      "text/html": [
       "<div>\n",
       "<style scoped>\n",
       "    .dataframe tbody tr th:only-of-type {\n",
       "        vertical-align: middle;\n",
       "    }\n",
       "\n",
       "    .dataframe tbody tr th {\n",
       "        vertical-align: top;\n",
       "    }\n",
       "\n",
       "    .dataframe thead th {\n",
       "        text-align: right;\n",
       "    }\n",
       "</style>\n",
       "<table border=\"1\" class=\"dataframe\">\n",
       "  <thead>\n",
       "    <tr style=\"text-align: right;\">\n",
       "      <th></th>\n",
       "      <th>preco</th>\n",
       "    </tr>\n",
       "    <tr>\n",
       "      <th>bairro</th>\n",
       "      <th></th>\n",
       "    </tr>\n",
       "  </thead>\n",
       "  <tbody>\n",
       "    <tr>\n",
       "      <th>Botafogo</th>\n",
       "      <td>1.010614e+06</td>\n",
       "    </tr>\n",
       "    <tr>\n",
       "      <th>Copacabana</th>\n",
       "      <td>1.216344e+06</td>\n",
       "    </tr>\n",
       "    <tr>\n",
       "      <th>Grajaú</th>\n",
       "      <td>4.788869e+05</td>\n",
       "    </tr>\n",
       "    <tr>\n",
       "      <th>Gávea</th>\n",
       "      <td>1.454571e+06</td>\n",
       "    </tr>\n",
       "    <tr>\n",
       "      <th>Ipanema</th>\n",
       "      <td>2.033096e+06</td>\n",
       "    </tr>\n",
       "    <tr>\n",
       "      <th>Leblon</th>\n",
       "      <td>1.946193e+06</td>\n",
       "    </tr>\n",
       "    <tr>\n",
       "      <th>Tijuca</th>\n",
       "      <td>5.750780e+05</td>\n",
       "    </tr>\n",
       "  </tbody>\n",
       "</table>\n",
       "</div>"
      ],
      "text/plain": [
       "                   preco\n",
       "bairro                  \n",
       "Botafogo    1.010614e+06\n",
       "Copacabana  1.216344e+06\n",
       "Grajaú      4.788869e+05\n",
       "Gávea       1.454571e+06\n",
       "Ipanema     2.033096e+06\n",
       "Leblon      1.946193e+06\n",
       "Tijuca      5.750780e+05"
      ]
     },
     "execution_count": 72,
     "metadata": {},
     "output_type": "execute_result"
    }
   ],
   "source": [
    "df[[\"bairro\",\"preco\"]].groupby(\"bairro\").mean()"
   ]
  },
  {
   "cell_type": "code",
   "execution_count": null,
   "metadata": {},
   "outputs": [],
   "source": []
  },
  {
   "cell_type": "code",
   "execution_count": null,
   "metadata": {},
   "outputs": [],
   "source": []
  },
  {
   "cell_type": "code",
   "execution_count": null,
   "metadata": {},
   "outputs": [],
   "source": []
  }
 ],
 "metadata": {
  "kernelspec": {
   "display_name": "Python 3",
   "language": "python",
   "name": "python3"
  },
  "language_info": {
   "codemirror_mode": {
    "name": "ipython",
    "version": 3
   },
   "file_extension": ".py",
   "mimetype": "text/x-python",
   "name": "python",
   "nbconvert_exporter": "python",
   "pygments_lexer": "ipython3",
   "version": "3.7.4"
  }
 },
 "nbformat": 4,
 "nbformat_minor": 2
}
