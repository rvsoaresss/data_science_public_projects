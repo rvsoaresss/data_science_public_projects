{
 "cells": [
  {
   "cell_type": "code",
   "execution_count": 1,
   "metadata": {},
   "outputs": [],
   "source": [
    "#https://pandas.pydata.org/pandas-docs/stable/reference/api/pandas.to_datetime.html\n",
    "#https://pandas.pydata.org/pandas-docs/stable/reference/api/pandas.Series.dt.strftime.html"
   ]
  },
  {
   "cell_type": "code",
   "execution_count": 2,
   "metadata": {},
   "outputs": [],
   "source": [
    "import pandas as pd\n",
    "import numpy as np"
   ]
  },
  {
   "cell_type": "code",
   "execution_count": 3,
   "metadata": {},
   "outputs": [],
   "source": [
    "coluna_1 = [\"07APR89\", \"01APR96\", \"29JUN97\", \"23NOV85\", \"25AUG93\"]\n",
    "coluna_2 = [\"07041989\", \"01041996\", \"29061997\", \"23111985\", \"25081993\"]\n",
    "coluna_3 = [\"07/04/1989\", \"01/04/1996\", \"29/06/1997\", \"23/11/1985\", \"25/08/1993\"]"
   ]
  },
  {
   "cell_type": "code",
   "execution_count": 4,
   "metadata": {},
   "outputs": [],
   "source": [
    "df = pd.DataFrame()\n",
    "\n",
    "df[\"data_1\"] = coluna_1\n",
    "df[\"data_2\"] = coluna_2\n",
    "df[\"data_3\"] = coluna_3\n",
    "df[\"resposta\"] = [19890407, 19960401, 19970629, 19851123, 19930825]"
   ]
  },
  {
   "cell_type": "code",
   "execution_count": 5,
   "metadata": {
    "scrolled": true
   },
   "outputs": [
    {
     "data": {
      "text/html": [
       "<div>\n",
       "<style scoped>\n",
       "    .dataframe tbody tr th:only-of-type {\n",
       "        vertical-align: middle;\n",
       "    }\n",
       "\n",
       "    .dataframe tbody tr th {\n",
       "        vertical-align: top;\n",
       "    }\n",
       "\n",
       "    .dataframe thead th {\n",
       "        text-align: right;\n",
       "    }\n",
       "</style>\n",
       "<table border=\"1\" class=\"dataframe\">\n",
       "  <thead>\n",
       "    <tr style=\"text-align: right;\">\n",
       "      <th></th>\n",
       "      <th>data_1</th>\n",
       "      <th>data_2</th>\n",
       "      <th>data_3</th>\n",
       "      <th>resposta</th>\n",
       "    </tr>\n",
       "  </thead>\n",
       "  <tbody>\n",
       "    <tr>\n",
       "      <th>0</th>\n",
       "      <td>07APR89</td>\n",
       "      <td>07041989</td>\n",
       "      <td>07/04/1989</td>\n",
       "      <td>19890407</td>\n",
       "    </tr>\n",
       "    <tr>\n",
       "      <th>1</th>\n",
       "      <td>01APR96</td>\n",
       "      <td>01041996</td>\n",
       "      <td>01/04/1996</td>\n",
       "      <td>19960401</td>\n",
       "    </tr>\n",
       "    <tr>\n",
       "      <th>2</th>\n",
       "      <td>29JUN97</td>\n",
       "      <td>29061997</td>\n",
       "      <td>29/06/1997</td>\n",
       "      <td>19970629</td>\n",
       "    </tr>\n",
       "    <tr>\n",
       "      <th>3</th>\n",
       "      <td>23NOV85</td>\n",
       "      <td>23111985</td>\n",
       "      <td>23/11/1985</td>\n",
       "      <td>19851123</td>\n",
       "    </tr>\n",
       "    <tr>\n",
       "      <th>4</th>\n",
       "      <td>25AUG93</td>\n",
       "      <td>25081993</td>\n",
       "      <td>25/08/1993</td>\n",
       "      <td>19930825</td>\n",
       "    </tr>\n",
       "  </tbody>\n",
       "</table>\n",
       "</div>"
      ],
      "text/plain": [
       "    data_1    data_2      data_3  resposta\n",
       "0  07APR89  07041989  07/04/1989  19890407\n",
       "1  01APR96  01041996  01/04/1996  19960401\n",
       "2  29JUN97  29061997  29/06/1997  19970629\n",
       "3  23NOV85  23111985  23/11/1985  19851123\n",
       "4  25AUG93  25081993  25/08/1993  19930825"
      ]
     },
     "execution_count": 5,
     "metadata": {},
     "output_type": "execute_result"
    }
   ],
   "source": [
    "df"
   ]
  },
  {
   "cell_type": "code",
   "execution_count": 6,
   "metadata": {},
   "outputs": [
    {
     "data": {
      "text/plain": [
       "0"
      ]
     },
     "execution_count": 6,
     "metadata": {},
     "output_type": "execute_result"
    }
   ],
   "source": [
    "sum(df[\"data_1\"] == df[\"resposta\"])"
   ]
  },
  {
   "cell_type": "code",
   "execution_count": 7,
   "metadata": {},
   "outputs": [
    {
     "data": {
      "text/html": [
       "<div>\n",
       "<style scoped>\n",
       "    .dataframe tbody tr th:only-of-type {\n",
       "        vertical-align: middle;\n",
       "    }\n",
       "\n",
       "    .dataframe tbody tr th {\n",
       "        vertical-align: top;\n",
       "    }\n",
       "\n",
       "    .dataframe thead th {\n",
       "        text-align: right;\n",
       "    }\n",
       "</style>\n",
       "<table border=\"1\" class=\"dataframe\">\n",
       "  <thead>\n",
       "    <tr style=\"text-align: right;\">\n",
       "      <th></th>\n",
       "      <th>data_1</th>\n",
       "      <th>data_2</th>\n",
       "      <th>data_3</th>\n",
       "      <th>resposta</th>\n",
       "    </tr>\n",
       "  </thead>\n",
       "  <tbody>\n",
       "    <tr>\n",
       "      <th>0</th>\n",
       "      <td>1989-04-07</td>\n",
       "      <td>1989-04-07</td>\n",
       "      <td>1989-04-07</td>\n",
       "      <td>19890407</td>\n",
       "    </tr>\n",
       "    <tr>\n",
       "      <th>1</th>\n",
       "      <td>1996-04-01</td>\n",
       "      <td>1996-04-01</td>\n",
       "      <td>1996-04-01</td>\n",
       "      <td>19960401</td>\n",
       "    </tr>\n",
       "    <tr>\n",
       "      <th>2</th>\n",
       "      <td>1997-06-29</td>\n",
       "      <td>1997-06-29</td>\n",
       "      <td>1997-06-29</td>\n",
       "      <td>19970629</td>\n",
       "    </tr>\n",
       "    <tr>\n",
       "      <th>3</th>\n",
       "      <td>1985-11-23</td>\n",
       "      <td>1985-11-23</td>\n",
       "      <td>1985-11-23</td>\n",
       "      <td>19851123</td>\n",
       "    </tr>\n",
       "    <tr>\n",
       "      <th>4</th>\n",
       "      <td>1993-08-25</td>\n",
       "      <td>1993-08-25</td>\n",
       "      <td>1993-08-25</td>\n",
       "      <td>19930825</td>\n",
       "    </tr>\n",
       "  </tbody>\n",
       "</table>\n",
       "</div>"
      ],
      "text/plain": [
       "      data_1     data_2     data_3  resposta\n",
       "0 1989-04-07 1989-04-07 1989-04-07  19890407\n",
       "1 1996-04-01 1996-04-01 1996-04-01  19960401\n",
       "2 1997-06-29 1997-06-29 1997-06-29  19970629\n",
       "3 1985-11-23 1985-11-23 1985-11-23  19851123\n",
       "4 1993-08-25 1993-08-25 1993-08-25  19930825"
      ]
     },
     "execution_count": 7,
     "metadata": {},
     "output_type": "execute_result"
    }
   ],
   "source": [
    "df[\"data_1\"] = pd.to_datetime(df[\"data_1\"],format='%d%b%y')\n",
    "df[\"data_2\"] = pd.to_datetime(df[\"data_2\"],format='%d%m%Y')\n",
    "df[\"data_3\"] = pd.to_datetime(df[\"data_3\"],format='%d/%m/%Y')\n",
    "df"
   ]
  },
  {
   "cell_type": "code",
   "execution_count": 12,
   "metadata": {},
   "outputs": [],
   "source": [
    "#https://pandas.pydata.org/pandas-docs/stable/reference/api/pandas.Timedelta.html"
   ]
  },
  {
   "cell_type": "code",
   "execution_count": 13,
   "metadata": {
    "scrolled": true
   },
   "outputs": [
    {
     "data": {
      "text/plain": [
       "26.293150684931508"
      ]
     },
     "execution_count": 13,
     "metadata": {},
     "output_type": "execute_result"
    }
   ],
   "source": [
    "(pd.datetime.now() - df[\"data_1\"].iloc[4]).days/365"
   ]
  },
  {
   "cell_type": "code",
   "execution_count": 14,
   "metadata": {},
   "outputs": [
    {
     "data": {
      "text/plain": [
       "datetime.datetime(2019, 12, 4, 20, 15, 8, 646846)"
      ]
     },
     "execution_count": 14,
     "metadata": {},
     "output_type": "execute_result"
    }
   ],
   "source": [
    "pd.datetime.now()"
   ]
  },
  {
   "cell_type": "code",
   "execution_count": 15,
   "metadata": {},
   "outputs": [
    {
     "data": {
      "text/plain": [
       "0   1989-04-07\n",
       "1   1996-04-01\n",
       "2   1997-06-29\n",
       "3   1985-11-23\n",
       "4   1993-08-25\n",
       "Name: data_1, dtype: datetime64[ns]"
      ]
     },
     "execution_count": 15,
     "metadata": {},
     "output_type": "execute_result"
    }
   ],
   "source": [
    "df[\"data_1\"]"
   ]
  },
  {
   "cell_type": "code",
   "execution_count": 16,
   "metadata": {},
   "outputs": [
    {
     "data": {
      "text/plain": [
       "0    19890407\n",
       "1    19960401\n",
       "2    19970629\n",
       "3    19851123\n",
       "4    19930825\n",
       "Name: data_1, dtype: object"
      ]
     },
     "execution_count": 16,
     "metadata": {},
     "output_type": "execute_result"
    }
   ],
   "source": [
    "df[\"data_1\"].dt.strftime(\"%Y%m%d\")"
   ]
  },
  {
   "cell_type": "code",
   "execution_count": 17,
   "metadata": {},
   "outputs": [],
   "source": [
    "df[\"data_1\"] = df[\"data_1\"].dt.strftime(\"%Y%m%d\").astype(int)"
   ]
  },
  {
   "cell_type": "code",
   "execution_count": 18,
   "metadata": {},
   "outputs": [],
   "source": [
    "df[\"data_2\"] = df[\"data_2\"].dt.strftime(\"%Y%m%d\").astype(int)\n"
   ]
  },
  {
   "cell_type": "code",
   "execution_count": 19,
   "metadata": {},
   "outputs": [],
   "source": [
    "df[\"data_3\"] = df[\"data_3\"].dt.strftime(\"%Y%m%d\").astype(int)\n"
   ]
  },
  {
   "cell_type": "code",
   "execution_count": 20,
   "metadata": {},
   "outputs": [
    {
     "data": {
      "text/html": [
       "<div>\n",
       "<style scoped>\n",
       "    .dataframe tbody tr th:only-of-type {\n",
       "        vertical-align: middle;\n",
       "    }\n",
       "\n",
       "    .dataframe tbody tr th {\n",
       "        vertical-align: top;\n",
       "    }\n",
       "\n",
       "    .dataframe thead th {\n",
       "        text-align: right;\n",
       "    }\n",
       "</style>\n",
       "<table border=\"1\" class=\"dataframe\">\n",
       "  <thead>\n",
       "    <tr style=\"text-align: right;\">\n",
       "      <th></th>\n",
       "      <th>data_1</th>\n",
       "      <th>data_2</th>\n",
       "      <th>data_3</th>\n",
       "      <th>resposta</th>\n",
       "    </tr>\n",
       "  </thead>\n",
       "  <tbody>\n",
       "    <tr>\n",
       "      <th>0</th>\n",
       "      <td>19890407</td>\n",
       "      <td>19890407</td>\n",
       "      <td>19890407</td>\n",
       "      <td>19890407</td>\n",
       "    </tr>\n",
       "    <tr>\n",
       "      <th>1</th>\n",
       "      <td>19960401</td>\n",
       "      <td>19960401</td>\n",
       "      <td>19960401</td>\n",
       "      <td>19960401</td>\n",
       "    </tr>\n",
       "    <tr>\n",
       "      <th>2</th>\n",
       "      <td>19970629</td>\n",
       "      <td>19970629</td>\n",
       "      <td>19970629</td>\n",
       "      <td>19970629</td>\n",
       "    </tr>\n",
       "    <tr>\n",
       "      <th>3</th>\n",
       "      <td>19851123</td>\n",
       "      <td>19851123</td>\n",
       "      <td>19851123</td>\n",
       "      <td>19851123</td>\n",
       "    </tr>\n",
       "    <tr>\n",
       "      <th>4</th>\n",
       "      <td>19930825</td>\n",
       "      <td>19930825</td>\n",
       "      <td>19930825</td>\n",
       "      <td>19930825</td>\n",
       "    </tr>\n",
       "  </tbody>\n",
       "</table>\n",
       "</div>"
      ],
      "text/plain": [
       "     data_1    data_2    data_3  resposta\n",
       "0  19890407  19890407  19890407  19890407\n",
       "1  19960401  19960401  19960401  19960401\n",
       "2  19970629  19970629  19970629  19970629\n",
       "3  19851123  19851123  19851123  19851123\n",
       "4  19930825  19930825  19930825  19930825"
      ]
     },
     "execution_count": 20,
     "metadata": {},
     "output_type": "execute_result"
    }
   ],
   "source": [
    "df"
   ]
  },
  {
   "cell_type": "code",
   "execution_count": 29,
   "metadata": {},
   "outputs": [],
   "source": [
    "df[\"resposta\"] = pd.to_datetime(df[\"resposta\"].astype(str), format=\"%Y/%m/%d\")"
   ]
  },
  {
   "cell_type": "code",
   "execution_count": 30,
   "metadata": {},
   "outputs": [
    {
     "data": {
      "text/plain": [
       "0   1989-04-07\n",
       "1   1996-04-01\n",
       "2   1997-06-29\n",
       "3   1985-11-23\n",
       "4   1993-08-25\n",
       "Name: resposta, dtype: datetime64[ns]"
      ]
     },
     "execution_count": 30,
     "metadata": {},
     "output_type": "execute_result"
    }
   ],
   "source": [
    "df[\"resposta\"]"
   ]
  },
  {
   "cell_type": "code",
   "execution_count": null,
   "metadata": {},
   "outputs": [],
   "source": []
  },
  {
   "cell_type": "code",
   "execution_count": null,
   "metadata": {},
   "outputs": [],
   "source": []
  }
 ],
 "metadata": {
  "kernelspec": {
   "display_name": "Python 3",
   "language": "python",
   "name": "python3"
  },
  "language_info": {
   "codemirror_mode": {
    "name": "ipython",
    "version": 3
   },
   "file_extension": ".py",
   "mimetype": "text/x-python",
   "name": "python",
   "nbconvert_exporter": "python",
   "pygments_lexer": "ipython3",
   "version": "3.7.4"
  }
 },
 "nbformat": 4,
 "nbformat_minor": 2
}
