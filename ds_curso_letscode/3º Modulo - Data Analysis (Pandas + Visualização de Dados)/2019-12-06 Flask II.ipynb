{
 "cells": [
  {
   "cell_type": "code",
   "execution_count": null,
   "metadata": {},
   "outputs": [],
   "source": [
    "'''Instalando e conhecendo o Postman\n",
    "https://www.getpostman.com/downloads/'''"
   ]
  },
  {
   "cell_type": "code",
   "execution_count": null,
   "metadata": {},
   "outputs": [],
   "source": [
    "'''Tipos de requisições HTTP\n",
    "● GET;\n",
    "● POST;\n",
    "● PUT;\n",
    "● DELETE;\n",
    "Para mais tipo, consultar: https://developer.mozilla.org/pt-BR/docs/Web/HTTP/Methods'''"
   ]
  },
  {
   "cell_type": "code",
   "execution_count": null,
   "metadata": {},
   "outputs": [],
   "source": [
    "# Requisição GET\n",
    "\n",
    "from flask import Flask, request, current_app, jsonify\n",
    "\n",
    "app = Flask(__name__)\n",
    "\n",
    "@app.route(\"/show_config\", methods=['GET'])\n",
    "def show_config():\n",
    "    querystring_args = request.args.to_dict()\n",
    "    if int(querystring_args['id']) == 10:\n",
    "        return jsonify(\n",
    "            id = 10,\n",
    "            nome = \"Renato\",\n",
    "            cargo = \"Professor\"\n",
    "        )\n",
    "    return \"Não há usuário com esse id.\", 200\n",
    "app.run()\n",
    "\n",
    "#GET: localhost:5000/show_config?id=10"
   ]
  },
  {
   "cell_type": "code",
   "execution_count": null,
   "metadata": {},
   "outputs": [
    {
     "name": "stdout",
     "output_type": "stream",
     "text": [
      " * Serving Flask app \"__main__\" (lazy loading)\n",
      " * Environment: production\n",
      "   WARNING: This is a development server. Do not use it in a production deployment.\n",
      "   Use a production WSGI server instead.\n",
      " * Debug mode: off\n"
     ]
    },
    {
     "name": "stderr",
     "output_type": "stream",
     "text": [
      " * Running on http://127.0.0.1:5000/ (Press CTRL+C to quit)\n",
      "127.0.0.1 - - [06/Dec/2019 19:55:48] \"POST /show_config HTTP/1.1\" 200 -\n"
     ]
    }
   ],
   "source": [
    "# Requisição POST\n",
    "\n",
    "from flask import Flask, request, current_app, jsonify\n",
    "\n",
    "app = Flask(__name__)\n",
    "\n",
    "@app.route(\"/show_config\", methods=['POST'])\n",
    "def show_config():\n",
    "    post_args = request.json\n",
    "    if post_args['id'] == 10:\n",
    "        return \"Usuário salvo com sucesso!\", 200\n",
    "    return \"Usuário não pôde ser salvo.\", 200\n",
    "app.run()\n",
    "\n",
    "'''POST: localhost:5000/show_config\n",
    "{\n",
    "\"id\": 10,\n",
    "\"nome\": \"Renato\",\n",
    "\"cargo\": \"Professor\"\n",
    "}'''"
   ]
  },
  {
   "cell_type": "code",
   "execution_count": null,
   "metadata": {},
   "outputs": [
    {
     "name": "stdout",
     "output_type": "stream",
     "text": [
      " * Serving Flask app \"__main__\" (lazy loading)\n",
      " * Environment: production\n",
      "   WARNING: This is a development server. Do not use it in a production deployment.\n",
      "   Use a production WSGI server instead.\n",
      " * Debug mode: off\n"
     ]
    },
    {
     "name": "stderr",
     "output_type": "stream",
     "text": [
      " * Running on http://127.0.0.1:5000/ (Press CTRL+C to quit)\n",
      "127.0.0.1 - - [06/Dec/2019 19:58:09] \"PUT /show_config HTTP/1.1\" 200 -\n"
     ]
    }
   ],
   "source": [
    "# Requisição PUT\n",
    "\n",
    "from flask import Flask, request, current_app, jsonify\n",
    "\n",
    "app = Flask(__name__)\n",
    "\n",
    "@app.route(\"/show_config\", methods=['PUT'])\n",
    "def show_config():\n",
    "    querystring_args = request.args.to_dict()\n",
    "    post_args = request.json\n",
    "    if post_args['id'] == 10:\n",
    "        post_args['nome'] = \"Renato\"\n",
    "        return 'Usuário atualizado com sucesso!', 200\n",
    "    return 'Usuário não foi atualizado', 200\n",
    "app.run()\n",
    "\n",
    "'''PUT: localhost:5000/show_config\n",
    "{\n",
    "\"id\": 10,\n",
    "\"nome\": \"Fulano\"\n",
    "}'''"
   ]
  },
  {
   "cell_type": "code",
   "execution_count": null,
   "metadata": {},
   "outputs": [
    {
     "name": "stdout",
     "output_type": "stream",
     "text": [
      " * Serving Flask app \"__main__\" (lazy loading)\n",
      " * Environment: production\n",
      "   WARNING: This is a development server. Do not use it in a production deployment.\n",
      "   Use a production WSGI server instead.\n",
      " * Debug mode: off\n"
     ]
    },
    {
     "name": "stderr",
     "output_type": "stream",
     "text": [
      " * Running on http://127.0.0.1:5000/ (Press CTRL+C to quit)\n",
      "127.0.0.1 - - [06/Dec/2019 20:06:06] \"DELETE /show_config?id=10 HTTP/1.1\" 200 -\n"
     ]
    }
   ],
   "source": [
    "# Requisição DELETE\n",
    "\n",
    "from flask import Flask, request, current_app, jsonify\n",
    "\n",
    "app = Flask(__name__)\n",
    "\n",
    "@app.route(\"/show_config\", methods=['DELETE'])\n",
    "def show_config():\n",
    "    querystring_args = request.args.to_dict()\n",
    "    if int(querystring_args['id']) == 10:\n",
    "        return 'Usuário deletado com sucesso!', 200\n",
    "    return 'Usuário não foi deletado', 200\n",
    "app.run()\n",
    "#DELETE: localhost:5000/show_config?id=10"
   ]
  },
  {
   "cell_type": "code",
   "execution_count": null,
   "metadata": {
    "scrolled": true
   },
   "outputs": [
    {
     "name": "stdout",
     "output_type": "stream",
     "text": [
      " * Serving Flask app \"__main__\" (lazy loading)\n",
      " * Environment: production\n",
      "   WARNING: This is a development server. Do not use it in a production deployment.\n",
      "   Use a production WSGI server instead.\n",
      " * Debug mode: off\n"
     ]
    },
    {
     "name": "stderr",
     "output_type": "stream",
     "text": [
      " * Running on http://127.0.0.1:5000/ (Press CTRL+C to quit)\n"
     ]
    },
    {
     "data": {
      "image/png": "[encoded data removed]",
      "text/plain": [
       "<Figure size 432x288 with 1 Axes>"
      ]
     },
     "metadata": {
      "needs_background": "light"
     },
     "output_type": "display_data"
    },
    {
     "name": "stderr",
     "output_type": "stream",
     "text": [
      "127.0.0.1 - - [06/Dec/2019 20:18:59] \"POST /show_config HTTP/1.1\" 200 -\n"
     ]
    }
   ],
   "source": [
    "# Envio de arquivos\n",
    "\n",
    "from flask import Flask, request, current_app, jsonify\n",
    "import numpy as np\n",
    "import matplotlib.pyplot as plt\n",
    "from PIL import Image\n",
    "\n",
    "app = Flask(__name__)\n",
    "\n",
    "@app.route(\"/show_config\", methods=['POST'])\n",
    "def is_hot_dog():\n",
    "    if not 'file' in request.files:\n",
    "        return \"Erro! Não há arquivo na requisição.\", 400\n",
    "    image = Image.open(request.files['file'])\n",
    "    arr = np.array(image)\n",
    "    plt.imshow(arr)\n",
    "    plt.show()\n",
    "    return \"Imagem visualizada corretamente!\", 200\n",
    "app.run()"
   ]
  },
  {
   "cell_type": "code",
   "execution_count": null,
   "metadata": {},
   "outputs": [
    {
     "name": "stdout",
     "output_type": "stream",
     "text": [
      " * Serving Flask app \"__main__\" (lazy loading)\n",
      " * Environment: production\n",
      "   WARNING: This is a development server. Do not use it in a production deployment.\n",
      "   Use a production WSGI server instead.\n",
      " * Debug mode: off\n"
     ]
    },
    {
     "name": "stderr",
     "output_type": "stream",
     "text": [
      " * Running on http://127.0.0.1:5000/ (Press CTRL+C to quit)\n",
      "127.0.0.1 - - [06/Dec/2019 20:22:32] \"GET /show_config HTTP/1.1\" 200 -\n"
     ]
    }
   ],
   "source": [
    "# Download de arquivos\n",
    "\n",
    "from flask import Flask, send_from_directory\n",
    "app = Flask(__name__)\n",
    "@app.route('/show_config', methods=['GET'])\n",
    "def download():\n",
    "    return send_from_directory(directory=\"\", filename=\"iris.csv\")\n",
    "app.run()\n",
    "#GET: localhost:5000/show_config"
   ]
  },
  {
   "cell_type": "code",
   "execution_count": 2,
   "metadata": {},
   "outputs": [
    {
     "name": "stdout",
     "output_type": "stream",
     "text": [
      "     sepal.length  sepal.width  petal.length  petal.width    variety\n",
      "0             5.1          3.5           1.4          0.2     Setosa\n",
      "1             4.9          3.0           1.4          0.2     Setosa\n",
      "2             4.7          3.2           1.3          0.2     Setosa\n",
      "3             4.6          3.1           1.5          0.2     Setosa\n",
      "4             5.0          3.6           1.4          0.2     Setosa\n",
      "..            ...          ...           ...          ...        ...\n",
      "145           6.7          3.0           5.2          2.3  Virginica\n",
      "146           6.3          2.5           5.0          1.9  Virginica\n",
      "147           6.5          3.0           5.2          2.0  Virginica\n",
      "148           6.2          3.4           5.4          2.3  Virginica\n",
      "149           5.9          3.0           5.1          1.8  Virginica\n",
      "\n",
      "[150 rows x 5 columns]\n"
     ]
    }
   ],
   "source": [
    "# Fazer uma requisição pelo Flask\n",
    "\n",
    "import pandas as pd\n",
    "import requests\n",
    "def proxy_example():\n",
    "    csv = requests.get(\"https://gist.githubusercontent.com/netj/8836201/raw/6f9306ad21398ea43cba4f7d537619d0e07d5ae3/iris.csv\").content\n",
    "    f = open('data.csv', 'wb')\n",
    "    f.write(csv)\n",
    "    f.close()\n",
    "    df = pd.read_csv('data.csv')\n",
    "    print(df)\n",
    "proxy_example()"
   ]
  },
  {
   "cell_type": "code",
   "execution_count": null,
   "metadata": {},
   "outputs": [
    {
     "name": "stdout",
     "output_type": "stream",
     "text": [
      " * Serving Flask app \"__main__\" (lazy loading)\n",
      " * Environment: production\n",
      "   WARNING: This is a development server. Do not use it in a production deployment.\n",
      "   Use a production WSGI server instead.\n",
      " * Debug mode: off\n"
     ]
    },
    {
     "name": "stderr",
     "output_type": "stream",
     "text": [
      " * Running on http://127.0.0.1:5000/ (Press CTRL+C to quit)\n",
      "[2019-12-06 20:58:51,560] ERROR in app: Exception on /show_config [POST]\n",
      "Traceback (most recent call last):\n",
      "  File \"c:\\users\\soaresdo\\appdata\\local\\programs\\python\\python37\\lib\\site-packages\\flask\\app.py\", line 2446, in wsgi_app\n",
      "    response = self.full_dispatch_request()\n",
      "  File \"c:\\users\\soaresdo\\appdata\\local\\programs\\python\\python37\\lib\\site-packages\\flask\\app.py\", line 1951, in full_dispatch_request\n",
      "    rv = self.handle_user_exception(e)\n",
      "  File \"c:\\users\\soaresdo\\appdata\\local\\programs\\python\\python37\\lib\\site-packages\\flask\\app.py\", line 1820, in handle_user_exception\n",
      "    reraise(exc_type, exc_value, tb)\n",
      "  File \"c:\\users\\soaresdo\\appdata\\local\\programs\\python\\python37\\lib\\site-packages\\flask\\_compat.py\", line 39, in reraise\n",
      "    raise value\n",
      "  File \"c:\\users\\soaresdo\\appdata\\local\\programs\\python\\python37\\lib\\site-packages\\flask\\app.py\", line 1949, in full_dispatch_request\n",
      "    rv = self.dispatch_request()\n",
      "  File \"c:\\users\\soaresdo\\appdata\\local\\programs\\python\\python37\\lib\\site-packages\\flask\\app.py\", line 1935, in dispatch_request\n",
      "    return self.view_functions[rule.endpoint](**req.view_args)\n",
      "  File \"<ipython-input-3-483d604d45f1>\", line 10, in show_config\n",
      "    if post_args['id'] == 10:\n",
      "TypeError: 'NoneType' object is not subscriptable\n",
      "127.0.0.1 - - [06/Dec/2019 20:58:51] \"POST /show_config HTTP/1.1\" 500 -\n"
     ]
    },
    {
     "name": "stdout",
     "output_type": "stream",
     "text": [
      "True\n"
     ]
    },
    {
     "name": "stderr",
     "output_type": "stream",
     "text": [
      "[2019-12-06 20:58:58,769] ERROR in app: Exception on /show_config [POST]\n",
      "Traceback (most recent call last):\n",
      "  File \"c:\\users\\soaresdo\\appdata\\local\\programs\\python\\python37\\lib\\site-packages\\flask\\app.py\", line 2446, in wsgi_app\n",
      "    response = self.full_dispatch_request()\n",
      "  File \"c:\\users\\soaresdo\\appdata\\local\\programs\\python\\python37\\lib\\site-packages\\flask\\app.py\", line 1951, in full_dispatch_request\n",
      "    rv = self.handle_user_exception(e)\n",
      "  File \"c:\\users\\soaresdo\\appdata\\local\\programs\\python\\python37\\lib\\site-packages\\flask\\app.py\", line 1820, in handle_user_exception\n",
      "    reraise(exc_type, exc_value, tb)\n",
      "  File \"c:\\users\\soaresdo\\appdata\\local\\programs\\python\\python37\\lib\\site-packages\\flask\\_compat.py\", line 39, in reraise\n",
      "    raise value\n",
      "  File \"c:\\users\\soaresdo\\appdata\\local\\programs\\python\\python37\\lib\\site-packages\\flask\\app.py\", line 1949, in full_dispatch_request\n",
      "    rv = self.dispatch_request()\n",
      "  File \"c:\\users\\soaresdo\\appdata\\local\\programs\\python\\python37\\lib\\site-packages\\flask\\app.py\", line 1935, in dispatch_request\n",
      "    return self.view_functions[rule.endpoint](**req.view_args)\n",
      "  File \"<ipython-input-3-483d604d45f1>\", line 10, in show_config\n",
      "    if post_args['id'] == 10:\n",
      "TypeError: 'NoneType' object is not subscriptable\n",
      "127.0.0.1 - - [06/Dec/2019 20:58:58] \"POST /show_config HTTP/1.1\" 500 -\n"
     ]
    },
    {
     "name": "stdout",
     "output_type": "stream",
     "text": [
      "true\n"
     ]
    },
    {
     "name": "stderr",
     "output_type": "stream",
     "text": [
      "127.0.0.1 - - [06/Dec/2019 21:01:03] \"POST /show_config HTTP/1.1\" 200 -\n"
     ]
    },
    {
     "name": "stdout",
     "output_type": "stream",
     "text": [
      "true\n"
     ]
    }
   ],
   "source": [
    "# Headers\n",
    "\n",
    "from flask import Flask, request\n",
    "\n",
    "app = Flask(__name__)\n",
    "\n",
    "@app.route(\"/show_config\", methods=['POST'])\n",
    "def show_config():\n",
    "    post_args = request.json\n",
    "    headers = request.headers['teste']\n",
    "    print(headers)\n",
    "    if post_args['id'] == 10:\n",
    "        return \"Usuário salvo com sucesso!\", 200\n",
    "    return \"Usuário não pôde ser salvo.\", 200\n",
    "app.run()\n",
    "#POST: localhost:5000/show_config"
   ]
  },
  {
   "cell_type": "code",
   "execution_count": null,
   "metadata": {},
   "outputs": [],
   "source": [
    "# Desafio\n",
    "\n",
    "'''\n",
    "Squad 1:\n",
    "- Testar apis dos outros squads usando postman;\n",
    "Squad 2:\n",
    "- Criar endpoint de get que retorna o csv da base de dados iris;\n",
    "- Criar endpoint de post que adiciona um dado ao csv, sobrescrevendo o csv. O json recebido deve ser: {“sepal.length”:\n",
    "x.x, “sepal.width”: x.x, “petal.length”: x.x, “petal.width”: x.x, “variety”: “Tipo”};\n",
    "- Criar endpoint de put que atualiza um dado ao csv, sobrescrevendo o csv. O json recebido deve ser: {“id”: x,\n",
    "“sepal.length”: x.x, “sepal.width”: x.x, “petal.length”: x.x, “petal.width”: x.x, “variety”: “Tipo”}, em que o id é a \n",
    "linha do arquivo;\n",
    "- Criar endpoint de delete que atualiza um dado ao csv, sobrescrevendo o csv. Deve ser enviado o id e deletado a linha\n",
    "do csv correspondente a esse id;\n",
    "Squad 3:\n",
    "- Criar método para leitura do csv vindo do Squad 2;\n",
    "- Criar endpoint de post que retorna o gráfico de dispersão e tem como input um json com as coordenadas a serem\n",
    "plotadas. Por exemplo: {“coords”: [“sepal.length”, “petal.length”]\n",
    "- Criar endpoint de get que retorna o histograma;\n",
    "Squad 4:\n",
    "- Criar método para leitura do csv vindo do Squad 2;\n",
    "- Criar método post que recebe o json: {“sepal.length”: x.x, “sepal.width”: x.x, “petal.length”: x.x, “petal.width”: x.x},\n",
    "classificar o dado e retornar classe a que o dado pertence;\n",
    "'''\n",
    "\n"
   ]
  }
 ],
 "metadata": {
  "kernelspec": {
   "display_name": "Python 3",
   "language": "python",
   "name": "python3"
  },
  "language_info": {
   "codemirror_mode": {
    "name": "ipython",
    "version": 3
   },
   "file_extension": ".py",
   "mimetype": "text/x-python",
   "name": "python",
   "nbconvert_exporter": "python",
   "pygments_lexer": "ipython3",
   "version": "3.7.4"
  }
 },
 "nbformat": 4,
 "nbformat_minor": 2
}
