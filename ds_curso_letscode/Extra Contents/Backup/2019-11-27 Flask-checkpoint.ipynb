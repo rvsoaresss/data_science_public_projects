{
 "cells": [
  {
   "cell_type": "code",
   "execution_count": null,
   "metadata": {},
   "outputs": [],
   "source": [
    "pip install flask"
   ]
  },
  {
   "cell_type": "code",
   "execution_count": null,
   "metadata": {},
   "outputs": [],
   "source": [
    "pip install ipython"
   ]
  },
  {
   "cell_type": "code",
   "execution_count": null,
   "metadata": {},
   "outputs": [],
   "source": [
    "from flask import Flask\n",
    "\n",
    "app = Flask(__name__)\n",
    "@app.route(\"/\")\n",
    "\n",
    "def hello_world():\n",
    "    return \"Hello World! <strong> I am learning Flask</strong>\",200\n",
    "app.run()"
   ]
  },
  {
   "cell_type": "code",
   "execution_count": null,
   "metadata": {},
   "outputs": [],
   "source": [
    "from flask import Flask, request\n",
    "\n",
    "app=Flask(\"wtf\")\n",
    "\n",
    "@app.route(\"/noticias/<pais>\")\n",
    "def lista_de_noticias(pais):\n",
    "    cat=request.args.get(\"categoria\")\n",
    "    qtd=request.args.get(\"quantidade\")\n",
    "    return \"Categoria: {}, Quantidade: {}\".format(cat,qtd),200\n",
    "app.run()"
   ]
  },
  {
   "cell_type": "code",
   "execution_count": null,
   "metadata": {},
   "outputs": [],
   "source": [
    "from flask import Flask, request\n",
    "app=Flask(\"wtf\")\n",
    "\n",
    "@app.route(\"/<name>\")\n",
    "def index(name):\n",
    "    if name.lower() ==\"renato\":\n",
    "        return \"Ola {}\".format(name),200\n",
    "    else:\n",
    "        return \"Not found\", 404\n",
    "\n",
    "app.run()"
   ]
  },
  {
   "cell_type": "code",
   "execution_count": null,
   "metadata": {},
   "outputs": [],
   "source": [
    "from flask import Flask\n",
    "app=Flask(\"wtf\")\n",
    "\n",
    "@app.route(\"/<site>\")\n",
    "def url_shortener(site):\n",
    "    hyperlink_format='<a href=\"{link}\">{text}</a>'\n",
    "    link_text= hyperlink_format.format(link='http://www.{}.com'.format(site), text=site)\n",
    "    return link_text, 200\n",
    "\n",
    "app.run()"
   ]
  },
  {
   "cell_type": "code",
   "execution_count": null,
   "metadata": {},
   "outputs": [
    {
     "name": "stdout",
     "output_type": "stream",
     "text": [
      " * Serving Flask app \"wtf\" (lazy loading)\n",
      " * Environment: production\n",
      "   WARNING: This is a development server. Do not use it in a production deployment.\n",
      "   Use a production WSGI server instead.\n",
      " * Debug mode: off\n"
     ]
    },
    {
     "name": "stderr",
     "output_type": "stream",
     "text": [
      " * Running on http://127.0.0.1:5000/ (Press CTRL+C to quit)\n",
      "127.0.0.1 - - [27/Nov/2019 20:47:15] \"GET / HTTP/1.1\" 404 -\n",
      "[2019-11-27 20:47:51,129] ERROR in app: Exception on /html_page/renato [GET]\n",
      "Traceback (most recent call last):\n",
      "  File \"c:\\users\\soaresdo\\appdata\\local\\programs\\python\\python37\\lib\\site-packages\\flask\\app.py\", line 2446, in wsgi_app\n",
      "    response = self.full_dispatch_request()\n",
      "  File \"c:\\users\\soaresdo\\appdata\\local\\programs\\python\\python37\\lib\\site-packages\\flask\\app.py\", line 1951, in full_dispatch_request\n",
      "    rv = self.handle_user_exception(e)\n",
      "  File \"c:\\users\\soaresdo\\appdata\\local\\programs\\python\\python37\\lib\\site-packages\\flask\\app.py\", line 1820, in handle_user_exception\n",
      "    reraise(exc_type, exc_value, tb)\n",
      "  File \"c:\\users\\soaresdo\\appdata\\local\\programs\\python\\python37\\lib\\site-packages\\flask\\_compat.py\", line 39, in reraise\n",
      "    raise value\n",
      "  File \"c:\\users\\soaresdo\\appdata\\local\\programs\\python\\python37\\lib\\site-packages\\flask\\app.py\", line 1949, in full_dispatch_request\n",
      "    rv = self.dispatch_request()\n",
      "  File \"c:\\users\\soaresdo\\appdata\\local\\programs\\python\\python37\\lib\\site-packages\\flask\\app.py\", line 1935, in dispatch_request\n",
      "    return self.view_functions[rule.endpoint](**req.view_args)\n",
      "  File \"<ipython-input-3-6c68940cebe7>\", line 18, in html_page\n",
      "    \"\"\"%renato\n",
      "NameError: name 'renato' is not defined\n",
      "127.0.0.1 - - [27/Nov/2019 20:47:51] \"GET /html_page/renato HTTP/1.1\" 500 -\n"
     ]
    }
   ],
   "source": [
    "from flask import Flask\n",
    "\n",
    "app=Flask(\"wtf\")\n",
    "\n",
    "@app.route(\"/html_page/<nome>\")\n",
    "def html_page(nome):\n",
    "    return u\"\"\"\n",
    "    <html>\n",
    "        <head><title>Aprendendo a usar o Flask\"</title></head>\n",
    "        <body>\n",
    "            <h1>Ola %s! Algumas coisas que voce pode fazer em Flask:</h1>\n",
    "            <ul>\n",
    "                <li>Escrever html direto na view</li>\n",
    "                <li> Tentar automatizar a escrita de html via Python</li>\n",
    "            </ul>\n",
    "        </body>\n",
    "    </html>\n",
    "    \"\"\"%renato\n",
    "app.run()"
   ]
  },
  {
   "cell_type": "code",
   "execution_count": null,
   "metadata": {},
   "outputs": [],
   "source": [
    "{\n",
    "    \"id\":1,\n",
    "    \"nome\":\"Fulano de tal\",\n",
    "    \"endereco\":\"Av. Paulista\"\n",
    "}"
   ]
  },
  {
   "cell_type": "code",
   "execution_count": null,
   "metadata": {},
   "outputs": [],
   "source": [
    "import json\n",
    "from flask import Flask, make_response\n",
    "app = Flask(\"wtf\")\n",
    "@app.route(\"/\")\n",
    "def json_api():\n",
    "    pessoas = [{\"nome\": \"Bruce Dickinson\"},\n",
    "        {\"nome\": \"Arjen Lucassen\"},\n",
    "        {\"nome\": \"James Hetfield\"},\n",
    "        {\"nome\": \"Tobias Sammet\"}]\n",
    "    response = make_response(json.dumps(pessoas))\n",
    "    response.content_type = \"application/json\"\n",
    "    # ou\n",
    "    # response.headers['Content-Type'] = \"application/json\"\n",
    "    return response\n",
    "app.run(host=\"0.0.0.0\", port=8250)"
   ]
  },
  {
   "cell_type": "code",
   "execution_count": null,
   "metadata": {},
   "outputs": [],
   "source": []
  }
 ],
 "metadata": {
  "kernelspec": {
   "display_name": "Python 3",
   "language": "python",
   "name": "python3"
  },
  "language_info": {
   "codemirror_mode": {
    "name": "ipython",
    "version": 3
   },
   "file_extension": ".py",
   "mimetype": "text/x-python",
   "name": "python",
   "nbconvert_exporter": "python",
   "pygments_lexer": "ipython3",
   "version": "3.7.4"
  }
 },
 "nbformat": 4,
 "nbformat_minor": 2
}
