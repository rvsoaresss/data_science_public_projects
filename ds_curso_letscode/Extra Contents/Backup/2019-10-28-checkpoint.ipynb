{
 "cells": [
  {
   "cell_type": "code",
   "execution_count": 1,
   "metadata": {},
   "outputs": [],
   "source": [
    "class Guerreiro:\n",
    "    def __init__(self,classe,pv=100,dano=5):\n",
    "        self.classe = classe\n",
    "        self.pv = pv\n",
    "        self.dano = dano\n",
    "        if classe == \"espadachim\":\n",
    "            self.perdedor = \"mago\"\n",
    "        elif classe == \"mago\":\n",
    "            self.perdedor = \"escudeiro\"\n",
    "        elif classe == \"escudeiro\":\n",
    "            self.perdedor = \"arqueiro\"\n",
    "        else:\n",
    "            self.perdedor = \"espadachim\"\n",
    "        \n",
    "espadachim = Guerreiro('espadachim', pv=100, dano=5)\n",
    "mago = Guerreiro('mago', pv=100, dano=5)\n",
    "escudeiro = Guerreiro('escudeiro', pv=100, dano=5)\n",
    "arqueiro = Guerreiro(\"arqueiro\")"
   ]
  },
  {
   "cell_type": "code",
   "execution_count": 15,
   "metadata": {},
   "outputs": [],
   "source": [
    "import random\n",
    "def luta(guerreiro_1, guerreiro_2):\n",
    "    if guerreiro_1.perdedor == guerreiro_2.classe:\n",
    "        guerreiro_2.pv = guerreiro_2.pv - guerreiro_1.dano\n",
    "    elif guerreiro_2.perdedor == guerreiro_1.classe:\n",
    "        guerreiro_1.pv = guerreiro_1.pv - guerreiro_2.dano\n",
    "    else:\n",
    "        pass\n",
    "    \n",
    "def arena(rodadas, guerreiro_a, guerreiro_b, guerreiro_c, guerreiro_d):\n",
    "    morreram = []\n",
    "    jogadores = [guerreiro_a, guerreiro_b, guerreiro_c, guerreiro_d]\n",
    "    for i in range(rodadas):\n",
    "        jogador_1 = random.randint(0,len(jogadores)-1)\n",
    "        jogador_2 = random.randint(0,len(jogadores)-1)\n",
    "        while jogador_1 == jogador_2 and len(jogadores)>1:\n",
    "            jogador_2 = random.randint(0,len(jogadores)-1)\n",
    "        if len(jogadores)>1:\n",
    "            luta(jogadores[jogador_1], jogadores[jogador_2])\n",
    "            if jogadores[jogador_1].pv<=0:\n",
    "                morreu = jogadores.pop(jogador_1)\n",
    "                morreram.append(morreu)\n",
    "                print(morreu.classe, \"morreu!!!!\")\n",
    "            elif jogadores[jogador_2].pv<=0:\n",
    "                morreu = jogadores.pop(jogador_2)\n",
    "                morreram.append(morreu)\n",
    "                print(morreu.classe, \"morreu!!!!\")\n",
    "    maior_pv = jogadores[0]\n",
    "    index = 0\n",
    "    for i in range(1,len(jogadores)):\n",
    "        if jogadores[i].pv > maior_pv.pv:\n",
    "            maior_pv = jogadores[i]\n",
    "            index = i\n",
    "    if len(jogadores) == 1:\n",
    "        segundo = morreram[-1]\n",
    "    else:\n",
    "        jogadores.pop(index)\n",
    "        segundo = jogadores[0]\n",
    "        for i in range(1, len(jogadores)):\n",
    "            if jogadores[i].pv > segundo.pv:\n",
    "                segundo = jogadores[i]\n",
    "    print(\"Primeiro:\", maior_pv.classe)\n",
    "    print(\"Segundo:\", segundo.classe)\n",
    "        \n",
    "    \n",
    "            \n",
    "            \n",
    "    "
   ]
  },
  {
   "cell_type": "code",
   "execution_count": 20,
   "metadata": {},
   "outputs": [
    {
     "name": "stdout",
     "output_type": "stream",
     "text": [
      "arqueiro morreu!!!!\n",
      "mago morreu!!!!\n",
      "Primeiro: espadachim\n",
      "Segundo: escudeiro\n"
     ]
    }
   ],
   "source": [
    "arena(1000, espadachim, escudeiro, arqueiro, mago)"
   ]
  },
  {
   "cell_type": "code",
   "execution_count": 21,
   "metadata": {},
   "outputs": [
    {
     "name": "stdout",
     "output_type": "stream",
     "text": [
      "Collecting binarytree\n",
      "  Downloading https://files.pythonhosted.org/packages/31/5a/705308b18fb739cf1a8f0b50bad37957e00371c516f9ef435e8e666dec4a/binarytree-4.1.0.tar.gz\n",
      "Building wheels for collected packages: binarytree\n",
      "  Running setup.py bdist_wheel for binarytree: started\n",
      "  Running setup.py bdist_wheel for binarytree: finished with status 'done'\n",
      "  Stored in directory: C:\\Users\\claud\\AppData\\Local\\pip\\Cache\\wheels\\e7\\34\\cd\\5860203749b42608a06732024c920359fdac1d10f95f49dcae\n",
      "Successfully built binarytree\n",
      "Installing collected packages: binarytree\n",
      "Successfully installed binarytree-4.1.0\n"
     ]
    },
    {
     "name": "stderr",
     "output_type": "stream",
     "text": [
      "You are using pip version 18.1, however version 19.3.1 is available.\n",
      "You should consider upgrading via the 'python -m pip install --upgrade pip' command.\n"
     ]
    }
   ],
   "source": [
    "!pip install binarytree"
   ]
  },
  {
   "cell_type": "code",
   "execution_count": 22,
   "metadata": {},
   "outputs": [],
   "source": [
    "from binarytree import tree"
   ]
  },
  {
   "cell_type": "code",
   "execution_count": 23,
   "metadata": {},
   "outputs": [
    {
     "name": "stdout",
     "output_type": "stream",
     "text": [
      "\n",
      "       __9_____\n",
      "      /        \\\n",
      "     8         _11\n",
      "    / \\       /   \\\n",
      "  _5   1     13    7\n",
      " /          /       \\\n",
      "10         2         0\n",
      "\n"
     ]
    }
   ],
   "source": [
    "my_tree = tree()\n",
    "\n",
    "print(my_tree)"
   ]
  },
  {
   "cell_type": "code",
   "execution_count": 26,
   "metadata": {},
   "outputs": [
    {
     "data": {
      "text/plain": [
       "9"
      ]
     },
     "execution_count": 26,
     "metadata": {},
     "output_type": "execute_result"
    }
   ],
   "source": [
    "raiz.elemento"
   ]
  },
  {
   "cell_type": "code",
   "execution_count": 27,
   "metadata": {},
   "outputs": [
    {
     "data": {
      "text/plain": [
       "11"
      ]
     },
     "execution_count": 27,
     "metadata": {},
     "output_type": "execute_result"
    }
   ],
   "source": [
    "raiz.filho_dir.elemento"
   ]
  },
  {
   "cell_type": "code",
   "execution_count": 28,
   "metadata": {},
   "outputs": [],
   "source": [
    "import binarytree as bt"
   ]
  },
  {
   "cell_type": "code",
   "execution_count": 31,
   "metadata": {},
   "outputs": [
    {
     "name": "stdout",
     "output_type": "stream",
     "text": [
      "\n",
      "                    ______14_____________________\n",
      "                   /                             \\\n",
      "        __________22                    __________3_______\n",
      "       /            \\                  /                  \\\n",
      "  ____30___          24           ____21___             ___25\n",
      " /         \\           \\         /         \\           /     \\\n",
      "18         _17          2      _29         _10        20      5\n",
      "  \\       /   \\               /   \\       /   \\      /  \\\n",
      "   15    26    27            11    16    19    28   1    8\n",
      "\n"
     ]
    }
   ],
   "source": [
    "print(bt.tree(height=4))"
   ]
  },
  {
   "cell_type": "markdown",
   "metadata": {},
   "source": [
    "## Eu adaptei nossa class Tree pra utilizar a função a função display e _display_aux.\n",
    "\n",
    "### Não foquem nas funções de display, elas podem facilemente ser encontradas na internet, nosso objetivo deve ser o conceito de armazenamento e organização de elementos (key) da árvore binária"
   ]
  },
  {
   "cell_type": "code",
   "execution_count": 64,
   "metadata": {},
   "outputs": [],
   "source": [
    "class Tree:\n",
    "    def __init__(self,elemento,direita=None,esquerda = None):\n",
    "        self.key = elemento\n",
    "        self.right = direita\n",
    "        self.left = esquerda\n",
    "    \n",
    "    def display(self):\n",
    "        lines, _, _, _ = self._display_aux()\n",
    "        for line in lines:\n",
    "            print(line)\n",
    "            \n",
    "    def _display_aux(self):\n",
    "        \"\"\"Returns list of strings, width, height, and horizontal coordinate of the root.\"\"\"\n",
    "        # No child.\n",
    "        if self.right is None and self.left is None:\n",
    "            line = '%s' % self.key\n",
    "            width = len(line)\n",
    "            height = 1\n",
    "            middle = width // 2\n",
    "            return [line], width, height, middle\n",
    "\n",
    "        # Only left child.\n",
    "        if self.right is None:\n",
    "            lines, n, p, x = self.left._display_aux()\n",
    "            s = '%s' % self.key\n",
    "            u = len(s)\n",
    "            first_line = (x + 1) * ' ' + (n - x - 1) * '_' + s\n",
    "            second_line = x * ' ' + '/' + (n - x - 1 + u) * ' '\n",
    "            shifted_lines = [line + u * ' ' for line in lines]\n",
    "            return [first_line, second_line] + shifted_lines, n + u, p + 2, n + u // 2\n",
    "\n",
    "        # Only right child.\n",
    "        if self.left is None:\n",
    "            lines, n, p, x = self.right._display_aux()\n",
    "            s = '%s' % self.key\n",
    "            u = len(s)\n",
    "            first_line = s + x * '_' + (n - x) * ' '\n",
    "            second_line = (u + x) * ' ' + '\\\\' + (n - x - 1) * ' '\n",
    "            shifted_lines = [u * ' ' + line for line in lines]\n",
    "            return [first_line, second_line] + shifted_lines, n + u, p + 2, u // 2\n",
    "\n",
    "        # Two children.\n",
    "        left, n, p, x = self.left._display_aux()\n",
    "        right, m, q, y = self.right._display_aux()\n",
    "        s = '%s' % self.key\n",
    "        u = len(s)\n",
    "        first_line = (x + 1) * ' ' + (n - x - 1) * '_' + s + y * '_' + (m - y) * ' '\n",
    "        second_line = x * ' ' + '/' + (n - x - 1 + u + y) * ' ' + '\\\\' + (m - y - 1) * ' '\n",
    "        if p < q:\n",
    "            left += [n * ' '] * (q - p)\n",
    "        elif q < p:\n",
    "            right += [m * ' '] * (p - q)\n",
    "        zipped_lines = zip(left, right)\n",
    "        lines = [first_line, second_line] + [a + u * ' ' + b for a, b in zipped_lines]\n",
    "        return lines, n + m + u, max(p, q) + 2, n + u // 2\n",
    "\n",
    "    \n",
    "## também foi modificada para a nova class Tree\n",
    "def adicionar_node(raiz,node):\n",
    "    if node.key >  raiz.key:\n",
    "        if raiz.right == None:\n",
    "            raiz.right = node\n",
    "        else:\n",
    "            adicionar_node(raiz.right,node)\n",
    "    else:\n",
    "        if raiz.left == None:\n",
    "            raiz.left = node\n",
    "        else:\n",
    "            adicionar_node(raiz.left,node)"
   ]
  },
  {
   "cell_type": "code",
   "execution_count": 65,
   "metadata": {},
   "outputs": [
    {
     "name": "stdout",
     "output_type": "stream",
     "text": [
      "Novo nó com elemento 38\n",
      "Novo nó com elemento 11\n",
      "Novo nó com elemento 12\n",
      "Novo nó com elemento 14\n"
     ]
    }
   ],
   "source": [
    "raiz = Tree(10)\n",
    "for i in range(4):\n",
    "    node = Tree(random.randint(0,50))\n",
    "    print('Novo nó com elemento',node.key)\n",
    "    adicionar_node(raiz,node)"
   ]
  },
  {
   "cell_type": "code",
   "execution_count": 66,
   "metadata": {},
   "outputs": [
    {
     "name": "stdout",
     "output_type": "stream",
     "text": [
      "10_______ \n",
      "         \\\n",
      "    ____38\n",
      "   /      \n",
      "  11_     \n",
      "     \\    \n",
      "    12_   \n",
      "       \\  \n",
      "      14  \n"
     ]
    }
   ],
   "source": [
    "raiz.display()"
   ]
  },
  {
   "cell_type": "code",
   "execution_count": null,
   "metadata": {},
   "outputs": [],
   "source": []
  }
 ],
 "metadata": {
  "kernelspec": {
   "display_name": "Python 3",
   "language": "python",
   "name": "python3"
  },
  "language_info": {
   "codemirror_mode": {
    "name": "ipython",
    "version": 3
   },
   "file_extension": ".py",
   "mimetype": "text/x-python",
   "name": "python",
   "nbconvert_exporter": "python",
   "pygments_lexer": "ipython3",
   "version": "3.7.4"
  }
 },
 "nbformat": 4,
 "nbformat_minor": 2
}
