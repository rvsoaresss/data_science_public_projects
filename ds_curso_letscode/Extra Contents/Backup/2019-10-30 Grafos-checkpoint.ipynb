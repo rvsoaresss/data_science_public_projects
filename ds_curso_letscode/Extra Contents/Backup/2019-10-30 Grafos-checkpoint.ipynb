{
 "cells": [
  {
   "cell_type": "code",
   "execution_count": 1,
   "metadata": {},
   "outputs": [],
   "source": [
    "#grafos / matriz binaria\n",
    "import numpy as np\n",
    "np.random.seed(seed=42)"
   ]
  },
  {
   "cell_type": "code",
   "execution_count": 2,
   "metadata": {},
   "outputs": [],
   "source": [
    "mapa = np.zeros(25).reshape(5,5)"
   ]
  },
  {
   "cell_type": "code",
   "execution_count": 3,
   "metadata": {},
   "outputs": [
    {
     "data": {
      "text/plain": [
       "array([[0., 0., 0., 0., 0.],\n",
       "       [0., 0., 0., 0., 0.],\n",
       "       [0., 0., 0., 0., 0.],\n",
       "       [0., 0., 0., 0., 0.],\n",
       "       [0., 0., 0., 0., 0.]])"
      ]
     },
     "execution_count": 3,
     "metadata": {},
     "output_type": "execute_result"
    }
   ],
   "source": [
    "mapa"
   ]
  },
  {
   "cell_type": "code",
   "execution_count": 4,
   "metadata": {},
   "outputs": [
    {
     "data": {
      "text/plain": [
       "array([[0., 1., 1., 0., 0.],\n",
       "       [1., 0., 0., 0., 1.],\n",
       "       [0., 0., 0., 1., 1.],\n",
       "       [1., 0., 1., 0., 0.],\n",
       "       [1., 1., 0., 0., 0.]])"
      ]
     },
     "execution_count": 4,
     "metadata": {},
     "output_type": "execute_result"
    }
   ],
   "source": [
    "#0: vermelho\n",
    "#1: amarelo\n",
    "#2: verde\n",
    "#3: azul\n",
    "#4: cinza\n",
    "\n",
    "mapa[0][1] = 1\n",
    "mapa[0][2] = 1\n",
    "\n",
    "mapa[1][4] = 1\n",
    "mapa[1][0] = 1\n",
    "\n",
    "mapa[2][3] = 1\n",
    "mapa[2][4] = 1\n",
    "\n",
    "mapa[3][0] = 1\n",
    "mapa[3][2] = 1\n",
    "\n",
    "mapa[4][0] = 1\n",
    "mapa[4][1] = 1\n",
    "\n",
    "mapa\n"
   ]
  },
  {
   "cell_type": "code",
   "execution_count": 5,
   "metadata": {},
   "outputs": [],
   "source": [
    "np.random.seed(seed=42)\n",
    "#np.random.randint(1,10)"
   ]
  },
  {
   "cell_type": "code",
   "execution_count": 6,
   "metadata": {},
   "outputs": [
    {
     "data": {
      "text/plain": [
       "array([[7, 4, 8, 5, 7],\n",
       "       [3, 7, 8, 5, 4],\n",
       "       [8, 8, 3, 6, 5],\n",
       "       [2, 8, 6, 2, 5],\n",
       "       [1, 6, 9, 1, 3]])"
      ]
     },
     "execution_count": 6,
     "metadata": {},
     "output_type": "execute_result"
    }
   ],
   "source": [
    "mapa_pesos = np.random.randint(1,10,size=25).reshape(5,5)\n",
    "mapa_pesos"
   ]
  },
  {
   "cell_type": "code",
   "execution_count": 7,
   "metadata": {},
   "outputs": [
    {
     "data": {
      "text/plain": [
       "array([[0., 4., 8., 0., 0.],\n",
       "       [3., 0., 0., 0., 4.],\n",
       "       [0., 0., 0., 6., 5.],\n",
       "       [2., 0., 6., 0., 0.],\n",
       "       [1., 6., 0., 0., 0.]])"
      ]
     },
     "execution_count": 7,
     "metadata": {},
     "output_type": "execute_result"
    }
   ],
   "source": [
    "mapa_resultante = mapa*mapa_pesos\n",
    "mapa_resultante"
   ]
  },
  {
   "cell_type": "code",
   "execution_count": 8,
   "metadata": {},
   "outputs": [],
   "source": [
    "#horizontal quem esta conectado\n",
    "#vertical que se conecta"
   ]
  },
  {
   "cell_type": "code",
   "execution_count": null,
   "metadata": {},
   "outputs": [],
   "source": [
    "#vermelho para amarelo:4\n",
    "#vermelho para verde:8\n",
    "#vermelho para azul:14\n",
    "#vermelho para cinza:8"
   ]
  },
  {
   "cell_type": "code",
   "execution_count": 10,
   "metadata": {},
   "outputs": [
    {
     "data": {
      "text/plain": [
       "array([[0., 0., 0., 0., 0.],\n",
       "       [0., 0., 0., 0., 0.],\n",
       "       [0., 0., 0., 0., 0.],\n",
       "       [0., 0., 0., 0., 0.],\n",
       "       [0., 0., 0., 0., 0.]])"
      ]
     },
     "execution_count": 10,
     "metadata": {},
     "output_type": "execute_result"
    }
   ],
   "source": [
    "# segundo exemplo\n",
    "mapa = np.zeros(25).reshape(5,5)\n",
    "mapa"
   ]
  },
  {
   "cell_type": "code",
   "execution_count": 23,
   "metadata": {},
   "outputs": [
    {
     "data": {
      "text/plain": [
       "array([[0., 1., 1., 1., 1.],\n",
       "       [1., 0., 0., 0., 1.],\n",
       "       [1., 0., 0., 1., 1.],\n",
       "       [1., 0., 1., 0., 0.],\n",
       "       [1., 1., 1., 0., 0.]])"
      ]
     },
     "execution_count": 23,
     "metadata": {},
     "output_type": "execute_result"
    }
   ],
   "source": [
    "mapa[0][1] = 1\n",
    "mapa[0][2] = 1\n",
    "\n",
    "mapa[1][4] = 1\n",
    "mapa[1][0] = 1\n",
    "\n",
    "mapa[2][3] = 1\n",
    "mapa[2][4] = 1\n",
    "\n",
    "mapa[3][0] = 1\n",
    "mapa[3][2] = 1\n",
    "\n",
    "mapa[4][0] = 1\n",
    "mapa[4][1] = 1\n",
    "\n",
    "mapa\n",
    "\n",
    "for i in range(len(mapa)):\n",
    "    for j in range(len(mapa[i])):\n",
    "        if mapa [i][j] == 1:\n",
    "            mapa[j][i] = 1\n",
    "mapa"
   ]
  },
  {
   "cell_type": "code",
   "execution_count": 24,
   "metadata": {},
   "outputs": [
    {
     "data": {
      "text/plain": [
       "array([[0., 4., 8., 5., 7.],\n",
       "       [3., 0., 0., 0., 4.],\n",
       "       [8., 0., 0., 6., 5.],\n",
       "       [2., 0., 6., 0., 0.],\n",
       "       [1., 6., 9., 0., 0.]])"
      ]
     },
     "execution_count": 24,
     "metadata": {},
     "output_type": "execute_result"
    }
   ],
   "source": [
    "mapa_resultante = mapa*mapa_pesos\n",
    "mapa_resultante"
   ]
  },
  {
   "cell_type": "code",
   "execution_count": null,
   "metadata": {},
   "outputs": [],
   "source": []
  }
 ],
 "metadata": {
  "kernelspec": {
   "display_name": "Python 3",
   "language": "python",
   "name": "python3"
  },
  "language_info": {
   "codemirror_mode": {
    "name": "ipython",
    "version": 3
   },
   "file_extension": ".py",
   "mimetype": "text/x-python",
   "name": "python",
   "nbconvert_exporter": "python",
   "pygments_lexer": "ipython3",
   "version": "3.7.4"
  }
 },
 "nbformat": 4,
 "nbformat_minor": 2
}
