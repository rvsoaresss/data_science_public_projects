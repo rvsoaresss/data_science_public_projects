{
 "cells": [
  {
   "cell_type": "code",
   "execution_count": 1,
   "metadata": {},
   "outputs": [],
   "source": [
    "# as 3 leis da recursão (um algoritmo recursivo deve chamar a si mesmo)"
   ]
  },
  {
   "cell_type": "code",
   "execution_count": 2,
   "metadata": {},
   "outputs": [],
   "source": [
    "def fatorial(n):\n",
    "    if n==0 or n<1:\n",
    "        return 1\n",
    "    return n*fatorial(n-1)"
   ]
  },
  {
   "cell_type": "code",
   "execution_count": 3,
   "metadata": {},
   "outputs": [
    {
     "data": {
      "text/plain": [
       "24"
      ]
     },
     "execution_count": 3,
     "metadata": {},
     "output_type": "execute_result"
    }
   ],
   "source": [
    "fatorial(4)"
   ]
  },
  {
   "cell_type": "code",
   "execution_count": 4,
   "metadata": {},
   "outputs": [],
   "source": [
    "def fatorial(n):\n",
    "    print(\"Entrou o N=\",n)\n",
    "    if type(n) == str:\n",
    "        print(\"a entrada precisa ser um numero inteiro\")\n",
    "        return -1\n",
    "    elif int(n) != n:\n",
    "        print(\"a entrada precisa ser um numero inteiro\")\n",
    "        return -1\n",
    "    elif n == 0 or n<0:\n",
    "        print(\"\\t>> Saindo valor 1\")\n",
    "        return 1\n",
    "    else:\n",
    "        k=fatorial(n-1)\n",
    "        print(\"\\t>> Saindo valor\", n*k)\n",
    "        return n*k"
   ]
  },
  {
   "cell_type": "code",
   "execution_count": 5,
   "metadata": {},
   "outputs": [
    {
     "name": "stdout",
     "output_type": "stream",
     "text": [
      "Entrou o N= 10\n",
      "Entrou o N= 9\n",
      "Entrou o N= 8\n",
      "Entrou o N= 7\n",
      "Entrou o N= 6\n",
      "Entrou o N= 5\n",
      "Entrou o N= 4\n",
      "Entrou o N= 3\n",
      "Entrou o N= 2\n",
      "Entrou o N= 1\n",
      "Entrou o N= 0\n",
      "\t>> Saindo valor 1\n",
      "\t>> Saindo valor 1\n",
      "\t>> Saindo valor 2\n",
      "\t>> Saindo valor 6\n",
      "\t>> Saindo valor 24\n",
      "\t>> Saindo valor 120\n",
      "\t>> Saindo valor 720\n",
      "\t>> Saindo valor 5040\n",
      "\t>> Saindo valor 40320\n",
      "\t>> Saindo valor 362880\n",
      "\t>> Saindo valor 3628800\n"
     ]
    },
    {
     "data": {
      "text/plain": [
       "3628800"
      ]
     },
     "execution_count": 5,
     "metadata": {},
     "output_type": "execute_result"
    }
   ],
   "source": [
    "fatorial(10)"
   ]
  },
  {
   "cell_type": "code",
   "execution_count": 6,
   "metadata": {},
   "outputs": [],
   "source": [
    "def soma(n):\n",
    "    print(\"Entrou o N=\",n)\n",
    "    if type(n) == str:\n",
    "        print(\"a entrada precisa ser um numero inteiro\")\n",
    "        return -1\n",
    "    elif int(n) != n:\n",
    "        print(\"a entrada precisa ser um numero inteiro\")\n",
    "        return -1\n",
    "    elif n == 0 or n<0:\n",
    "        print(\"\\t>> Saindo valor 0\")\n",
    "        return 0\n",
    "    else:\n",
    "        k=soma(n-1)\n",
    "        print(\"\\t>> Saindo valor\",n,\"+\",k, n+k)\n",
    "        return n+k"
   ]
  },
  {
   "cell_type": "code",
   "execution_count": 7,
   "metadata": {},
   "outputs": [
    {
     "name": "stdout",
     "output_type": "stream",
     "text": [
      "Entrou o N= 5\n",
      "Entrou o N= 4\n",
      "Entrou o N= 3\n",
      "Entrou o N= 2\n",
      "Entrou o N= 1\n",
      "Entrou o N= 0\n",
      "\t>> Saindo valor 0\n",
      "\t>> Saindo valor 1 + 0 1\n",
      "\t>> Saindo valor 2 + 1 3\n",
      "\t>> Saindo valor 3 + 3 6\n",
      "\t>> Saindo valor 4 + 6 10\n",
      "\t>> Saindo valor 5 + 10 15\n"
     ]
    },
    {
     "data": {
      "text/plain": [
       "15"
      ]
     },
     "execution_count": 7,
     "metadata": {},
     "output_type": "execute_result"
    }
   ],
   "source": [
    "soma(5)"
   ]
  },
  {
   "cell_type": "code",
   "execution_count": 8,
   "metadata": {},
   "outputs": [],
   "source": [
    "def media(n):\n",
    "    print(\"Numero informado: \",n)\n",
    "    if type(n) == str:\n",
    "        print(\"a entrada precisa ser um numero inteiro\")\n",
    "    elif int(n) != n:\n",
    "        print(\"a entrada precisa ser um numero inteiro\")\n",
    "    elif n == 0 or n<0:\n",
    "        print(\"\\t>> Saindo valor 0\")\n",
    "        return 0\n",
    "    else:\n",
    "        k=media(n-1)\n",
    "        print(\"\\t>> Saindo valor\",n,\"+\",k, n+k)\n",
    "        return n+k/n"
   ]
  },
  {
   "cell_type": "code",
   "execution_count": 9,
   "metadata": {},
   "outputs": [
    {
     "name": "stdout",
     "output_type": "stream",
     "text": [
      "Numero informado:  4\n",
      "Numero informado:  3\n",
      "Numero informado:  2\n",
      "Numero informado:  1\n",
      "Numero informado:  0\n",
      "\t>> Saindo valor 0\n",
      "\t>> Saindo valor 1 + 0 1\n",
      "\t>> Saindo valor 2 + 1.0 3.0\n",
      "\t>> Saindo valor 3 + 2.5 5.5\n",
      "\t>> Saindo valor 4 + 3.8333333333333335 7.833333333333334\n"
     ]
    },
    {
     "data": {
      "text/plain": [
       "4.958333333333333"
      ]
     },
     "execution_count": 9,
     "metadata": {},
     "output_type": "execute_result"
    }
   ],
   "source": [
    "media(4)"
   ]
  },
  {
   "cell_type": "code",
   "execution_count": 10,
   "metadata": {},
   "outputs": [],
   "source": [
    "def media(n, count=0):\n",
    "    if n <=0:\n",
    "        return 0\n",
    "    count =+ 1\n",
    "    return(n%10 + media(n//10))/count"
   ]
  },
  {
   "cell_type": "code",
   "execution_count": 11,
   "metadata": {},
   "outputs": [
    {
     "data": {
      "text/plain": [
       "10.0"
      ]
     },
     "execution_count": 11,
     "metadata": {},
     "output_type": "execute_result"
    }
   ],
   "source": [
    "media(1234)"
   ]
  },
  {
   "cell_type": "code",
   "execution_count": 12,
   "metadata": {},
   "outputs": [],
   "source": [
    "def media(n, count=0):\n",
    "    if n <=0:\n",
    "        return 0\n",
    "    aux=n\n",
    "    count = 0\n",
    "    while aux>0:\n",
    "        count=count+1\n",
    "        aux=aux//10\n",
    "    return(n%10 + (count-1)*media(n//10))/count"
   ]
  },
  {
   "cell_type": "code",
   "execution_count": 13,
   "metadata": {},
   "outputs": [
    {
     "data": {
      "text/plain": [
       "2.5"
      ]
     },
     "execution_count": 13,
     "metadata": {},
     "output_type": "execute_result"
    }
   ],
   "source": [
    "media(1234)"
   ]
  },
  {
   "cell_type": "code",
   "execution_count": 14,
   "metadata": {},
   "outputs": [
    {
     "name": "stdout",
     "output_type": "stream",
     "text": [
      "2.5\n"
     ]
    }
   ],
   "source": [
    "numero = 1234\n",
    "resto = numero%10\n",
    "pt_int = numero//10\n",
    "print((4+(4-1)*media(123))/4)"
   ]
  },
  {
   "cell_type": "code",
   "execution_count": 15,
   "metadata": {},
   "outputs": [],
   "source": [
    "import numpy as np"
   ]
  },
  {
   "cell_type": "code",
   "execution_count": 16,
   "metadata": {},
   "outputs": [],
   "source": [
    "def soma(lista, n):\n",
    "    if n>0:\n",
    "        lista.append(n%10)\n",
    "        soma(lista,n//10)\n",
    "    else:\n",
    "        pass\n",
    "\n",
    "def mean_digitos(n):\n",
    "    if n<=0:\n",
    "        return -1\n",
    "    else:\n",
    "        lista=[]\n",
    "        soma(lista,n)\n",
    "        array=np.array(lista)\n",
    "        print(array)\n",
    "        return array.mean()"
   ]
  },
  {
   "cell_type": "code",
   "execution_count": 17,
   "metadata": {},
   "outputs": [
    {
     "name": "stdout",
     "output_type": "stream",
     "text": [
      "[4 3 2 1]\n"
     ]
    },
    {
     "data": {
      "text/plain": [
       "2.5"
      ]
     },
     "execution_count": 17,
     "metadata": {},
     "output_type": "execute_result"
    }
   ],
   "source": [
    "mean_digitos(1234)"
   ]
  },
  {
   "cell_type": "code",
   "execution_count": 18,
   "metadata": {},
   "outputs": [
    {
     "data": {
      "text/plain": [
       "array([<built-in function array>], dtype=object)"
      ]
     },
     "execution_count": 18,
     "metadata": {},
     "output_type": "execute_result"
    }
   ],
   "source": [
    "np.unique(np.array)"
   ]
  },
  {
   "cell_type": "code",
   "execution_count": 19,
   "metadata": {},
   "outputs": [],
   "source": [
    "#construindo arvores"
   ]
  },
  {
   "cell_type": "code",
   "execution_count": 20,
   "metadata": {},
   "outputs": [],
   "source": [
    "class Tree :\n",
    "    def __init__(self, cargo, left=None, right=None) :\n",
    "        self.cargo = cargo\n",
    "        self.left  = left\n",
    "        self.right = right\n",
    "    \n",
    "    def elem(self) :\n",
    "        return str(self.cargo)\n",
    "        \n",
    "left = Tree(2)\n",
    "right = Tree(3)\n",
    "tree = Tree(1, left, right)"
   ]
  },
  {
   "cell_type": "code",
   "execution_count": 21,
   "metadata": {},
   "outputs": [
    {
     "data": {
      "text/plain": [
       "1"
      ]
     },
     "execution_count": 21,
     "metadata": {},
     "output_type": "execute_result"
    }
   ],
   "source": [
    "tree.cargo"
   ]
  },
  {
   "cell_type": "code",
   "execution_count": 22,
   "metadata": {},
   "outputs": [
    {
     "data": {
      "text/plain": [
       "3"
      ]
     },
     "execution_count": 22,
     "metadata": {},
     "output_type": "execute_result"
    }
   ],
   "source": [
    "tree.right.cargo"
   ]
  },
  {
   "cell_type": "code",
   "execution_count": 23,
   "metadata": {},
   "outputs": [
    {
     "data": {
      "text/plain": [
       "2"
      ]
     },
     "execution_count": 23,
     "metadata": {},
     "output_type": "execute_result"
    }
   ],
   "source": [
    "tree.left.cargo"
   ]
  },
  {
   "cell_type": "code",
   "execution_count": null,
   "metadata": {},
   "outputs": [],
   "source": []
  },
  {
   "cell_type": "code",
   "execution_count": 24,
   "metadata": {},
   "outputs": [],
   "source": [
    "novo = Tree(4)"
   ]
  },
  {
   "cell_type": "code",
   "execution_count": 25,
   "metadata": {},
   "outputs": [
    {
     "data": {
      "text/plain": [
       "4"
      ]
     },
     "execution_count": 25,
     "metadata": {},
     "output_type": "execute_result"
    }
   ],
   "source": [
    "novo.cargo"
   ]
  },
  {
   "cell_type": "code",
   "execution_count": 26,
   "metadata": {},
   "outputs": [],
   "source": [
    "tree.left.left = novo"
   ]
  },
  {
   "cell_type": "code",
   "execution_count": 27,
   "metadata": {},
   "outputs": [
    {
     "data": {
      "text/plain": [
       "4"
      ]
     },
     "execution_count": 27,
     "metadata": {},
     "output_type": "execute_result"
    }
   ],
   "source": [
    "tree.left.left.cargo"
   ]
  },
  {
   "cell_type": "code",
   "execution_count": 28,
   "metadata": {},
   "outputs": [],
   "source": [
    "def total(tree):\n",
    "    if tree == None: \n",
    "        return 0\n",
    "    return total(tree.left) + total(tree.right) + tree.cargo"
   ]
  },
  {
   "cell_type": "code",
   "execution_count": 29,
   "metadata": {},
   "outputs": [
    {
     "data": {
      "text/plain": [
       "10"
      ]
     },
     "execution_count": 29,
     "metadata": {},
     "output_type": "execute_result"
    }
   ],
   "source": [
    "total(tree)"
   ]
  },
  {
   "cell_type": "code",
   "execution_count": 30,
   "metadata": {},
   "outputs": [],
   "source": [
    "def print_tree(tree):\n",
    "    if tree == None:\n",
    "        pass\n",
    "    else:\n",
    "\n",
    "        print_tree(tree.left)\n",
    "        print_tree(tree.right)\n",
    "        print(tree.cargo)"
   ]
  },
  {
   "cell_type": "code",
   "execution_count": 31,
   "metadata": {},
   "outputs": [
    {
     "name": "stdout",
     "output_type": "stream",
     "text": [
      "4\n",
      "2\n",
      "3\n",
      "1\n"
     ]
    }
   ],
   "source": [
    "print_tree(tree)"
   ]
  },
  {
   "cell_type": "code",
   "execution_count": 32,
   "metadata": {},
   "outputs": [],
   "source": [
    "novo_right_1 = Tree(5)"
   ]
  },
  {
   "cell_type": "code",
   "execution_count": 33,
   "metadata": {},
   "outputs": [],
   "source": [
    "novo_right_2 = Tree(6)"
   ]
  },
  {
   "cell_type": "code",
   "execution_count": 34,
   "metadata": {},
   "outputs": [],
   "source": [
    "tree.right.right = novo_right_1"
   ]
  },
  {
   "cell_type": "code",
   "execution_count": 35,
   "metadata": {},
   "outputs": [
    {
     "data": {
      "text/plain": [
       "5"
      ]
     },
     "execution_count": 35,
     "metadata": {},
     "output_type": "execute_result"
    }
   ],
   "source": [
    "tree.right.right.cargo"
   ]
  },
  {
   "cell_type": "code",
   "execution_count": 36,
   "metadata": {},
   "outputs": [
    {
     "name": "stdout",
     "output_type": "stream",
     "text": [
      "4\n",
      "2\n",
      "5\n",
      "3\n",
      "1\n"
     ]
    }
   ],
   "source": [
    "print_tree(tree)"
   ]
  },
  {
   "cell_type": "code",
   "execution_count": 37,
   "metadata": {},
   "outputs": [],
   "source": [
    "tree.right.left = novo_right_2"
   ]
  },
  {
   "cell_type": "code",
   "execution_count": 38,
   "metadata": {},
   "outputs": [
    {
     "name": "stdout",
     "output_type": "stream",
     "text": [
      "4\n",
      "2\n",
      "6\n",
      "5\n",
      "3\n",
      "1\n"
     ]
    }
   ],
   "source": [
    "print_tree(tree)"
   ]
  },
  {
   "cell_type": "code",
   "execution_count": 39,
   "metadata": {},
   "outputs": [],
   "source": [
    "def print_tree_right(tree):\n",
    "    if tree == None:\n",
    "        pass\n",
    "    else:\n",
    "\n",
    "        print_tree_right(tree.right)\n",
    "        print_tree_right(tree.left)\n",
    "        print(tree.cargo)"
   ]
  },
  {
   "cell_type": "code",
   "execution_count": 40,
   "metadata": {},
   "outputs": [
    {
     "name": "stdout",
     "output_type": "stream",
     "text": [
      "5\n",
      "6\n",
      "3\n",
      "4\n",
      "2\n",
      "1\n"
     ]
    }
   ],
   "source": [
    "print_tree_right(tree)"
   ]
  },
  {
   "cell_type": "code",
   "execution_count": 41,
   "metadata": {},
   "outputs": [],
   "source": [
    "def print_tree_middle(tree):\n",
    "    if tree == None:\n",
    "        pass\n",
    "    else:\n",
    "\n",
    "        print_tree_middle(tree.left)\n",
    "        print(tree.cargo)\n",
    "        print_tree_middle(tree.right)\n"
   ]
  },
  {
   "cell_type": "code",
   "execution_count": 42,
   "metadata": {},
   "outputs": [
    {
     "name": "stdout",
     "output_type": "stream",
     "text": [
      "4\n",
      "2\n",
      "1\n",
      "6\n",
      "3\n",
      "5\n"
     ]
    }
   ],
   "source": [
    "print_tree_middle(tree)"
   ]
  },
  {
   "cell_type": "code",
   "execution_count": 43,
   "metadata": {},
   "outputs": [],
   "source": [
    "# https://aprendendo-computacao-com-python.readthedocs.io/en/latest/capitulo_20.html"
   ]
  },
  {
   "cell_type": "code",
   "execution_count": 44,
   "metadata": {},
   "outputs": [],
   "source": [
    "# A startup ABC co. possui 4 funcionários, em que 2 desenvolvedores se reportam a um gerente que se\n",
    "# reporta a um diretor. Sabendo que o colaborador possui uma ficha contendo um número de matrícula, um\n",
    "# nome, um salário mensal e o seu cargo, construa uma árvore que apresente a hierarquia da empresa e\n",
    "# uma função que retorne um dicionário em que a chave são os nomes do funcionários e o valor são seus\n",
    "# salários, organizados em ordem decrescente de salário."
   ]
  },
  {
   "cell_type": "code",
   "execution_count": 45,
   "metadata": {},
   "outputs": [],
   "source": [
    "def Colaborador():\n",
    "    def __init__ (self, matricula, nome, salario, cargo):\n",
    "        self.matricula = matricula\n",
    "        self.nome = nome\n",
    "        self.salario = salario\n",
    "        self.cargo = cargo\n",
    "        \n",
    "class Hierarquia :\n",
    "    def __init__(self, colaborador, left=None, right=None) :\n",
    "        self.colaborador = colaborador\n",
    "        self.left  = left\n",
    "        self.right = right\n",
    "    \n",
    "    def elem(self) :\n",
    "        return str(self.cargo)"
   ]
  },
  {
   "cell_type": "code",
   "execution_count": null,
   "metadata": {},
   "outputs": [],
   "source": []
  },
  {
   "cell_type": "code",
   "execution_count": null,
   "metadata": {},
   "outputs": [],
   "source": []
  }
 ],
 "metadata": {
  "kernelspec": {
   "display_name": "Python 3",
   "language": "python",
   "name": "python3"
  },
  "language_info": {
   "codemirror_mode": {
    "name": "ipython",
    "version": 3
   },
   "file_extension": ".py",
   "mimetype": "text/x-python",
   "name": "python",
   "nbconvert_exporter": "python",
   "pygments_lexer": "ipython3",
   "version": "3.7.4"
  }
 },
 "nbformat": 4,
 "nbformat_minor": 2
}
