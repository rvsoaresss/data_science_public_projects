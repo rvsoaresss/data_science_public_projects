{
 "cells": [
  {
   "cell_type": "markdown",
   "metadata": {},
   "source": [
    "# Lista 02_01\n",
    "\n",
    "## Aluno: Rodrigo Soares\n",
    "\n",
    "## Total de PIs: XX/20"
   ]
  },
  {
   "cell_type": "markdown",
   "metadata": {},
   "source": [
    "*Dicas: sempre teste se a funcionalidade implementada está funcionando*"
   ]
  },
  {
   "cell_type": "markdown",
   "metadata": {},
   "source": [
    "## Exercício 1: Relógio\n",
    "\n",
    "#### PIs: XX/10"
   ]
  },
  {
   "cell_type": "markdown",
   "metadata": {},
   "source": [
    "Crie uma classe chamada Relogio. Essa classe deverá ter os atributos hora, minuto e segundo, e todos deverão iniciar com zero.\n",
    "\n",
    "Crie o método `__repr__()` que retorna uma `string` do tipo 'HH:MM:SS', onde HH é a hora, MM é o minuto e SS é o segundo.\n",
    "\n",
    "*Opcional: criar método que transforma a HH:MM:SS em total de segundos.*\n",
    "\n",
    "*Opcional: Criar método que transforma total de segundos em HH:MM:SS.*\n",
    "\n",
    "Crie quatro métodos: `adiantar_minuto(n)`, `atrasar_minuto(n)`, `adiantar_segundo(n)` e `atrasar_segundo(n)`. Eles receberam um inteiro `n` que irá ser adicionado ou subtraído do respectivo atributo (com a condição de que não existirão horas, minutos ou segundos negativos).\n",
    "\n",
    "Agora crie os métodos `soma(r)` e `diferenca(r)`, que receberá como parâmetro um objeto `r` do tipo `Relogio` e deverá calcular e retornar a soma e a diferença, respectivamente, entre o parâmetro recebido (`r`) e o próprio objeto em questão (`self`).\n",
    "\n",
    "Agora crie outros métodos, `adicionar(r)` e `subtrair(r)`, que receberá como parâmetro um objeto `r` do tipo `Relogio` e modificar o próprio objeto em questão (`self`) com o resultado da soma e subtração entre os dois objetos."
   ]
  },
  {
   "cell_type": "code",
   "execution_count": 1,
   "metadata": {},
   "outputs": [],
   "source": [
    "import datetime"
   ]
  },
  {
   "cell_type": "code",
   "execution_count": 2,
   "metadata": {},
   "outputs": [],
   "source": [
    "class Relogio:\n",
    "    def __init__(self,hora =0,minuto=0,segundo=0):\n",
    "        self.hora = hora\n",
    "        self.minuto = minuto\n",
    "        self.segundo = segundo\n",
    "    \n",
    "    def __repr__(self,hora,minuto,segundo):\n",
    "        horario = datetime.time(hora,minuto,segundo)\n",
    "        print(horario)\n",
    "    \n",
    "    def adiantar_minuto(self,n):\n",
    "        self.minuto = self.minuto + n\n",
    "        if self.minuto>=60:\n",
    "            self.hora = self.hora + self.minuto//60\n",
    "            self.minuto = self.minuto%60\n",
    "        if self.hora >=24:\n",
    "            self.hora = self.hora%24\n",
    "        \n",
    "        return a.__repr__(self.hora,self.minuto,self.segundo)\n",
    "    \n",
    "    def adiantar_segundo(self,n):\n",
    "        self.segundo = self.segundo + n\n",
    "        if self.segundo>=60:\n",
    "            self.minuto = self.minuto+self.segundo//60\n",
    "            self.segundo = self.segundo%60\n",
    "        if self.minuto>=60:\n",
    "            self.hora = self.hora + self.minuto//60\n",
    "            self.minuto = self.minuto%60\n",
    "        if self.hora>=24:\n",
    "            self.hora = self.hora%24\n",
    "        return a.__repr__(self.hora,self.minuto,self.segundo)\n",
    "    \n",
    "    def atrasar_minuto(self,n):\n",
    "        self.minuto = self.minuto - n\n",
    "        if self.minuto < 0:\n",
    "            self.hora = self.hora + self.minuto//60\n",
    "            self.minuto = self.minuto%60\n",
    "        if self.hora<0:\n",
    "            self.hora = 24 +self.hora\n",
    "        \n",
    "        return a.__repr__(self.hora,self.minuto,self.segundo)\n",
    "    \n",
    "    def atrasar_segundo(self,n):\n",
    "        self.segundo = self.segundo - n\n",
    "        if self.segundo <0:\n",
    "            self.minuto = self.minuto + self.segundo//60\n",
    "            self.segundo = self.segundo%60\n",
    "        if self.minuto<0:\n",
    "            self.hora = self.hora + self.minuto//60\n",
    "            self.minuto = self.minuto%60\n",
    "        if self.hora<0:\n",
    "            self.hora = 24 + self.hora\n",
    "        return a.__repr__(self.hora,self.minuto,self.segundo)\n",
    "    \n",
    "    def somar(self,relogio1,relogio2):\n",
    "        segundo_soma = relogio1.segundo + relogio2.segundo\n",
    "        minuto_soma = relogio1.minuto + relogio2.minuto\n",
    "        hora_soma = relogio1.hora + relogio2.hora\n",
    "        if segundo_soma >59:\n",
    "            segundo_soma = segundo_soma%60\n",
    "            minuto_soma = minuto_soma//60\n",
    "        if minuto_soma>59:\n",
    "            minuto_soma = minuto_soma%60\n",
    "            hora_soma = hora_soma//60\n",
    "        if hora_soma >=24:\n",
    "            hora_soma = hora_soma%24\n",
    "        print(datetime.time(hora_soma,minuto_soma, segundo_soma))\n",
    "    \n",
    "    def diferenca(self,relogio1,relogio2):\n",
    "        segundo_diferenca =relogio1.segundo - relogio2.segundo\n",
    "        minuto_diferenca = relogio1.minuto - relogio2.minuto\n",
    "        hora_diferenca = relogio1.hora - relogio2.hora\n",
    "        if segundo_diferenca < 0:\n",
    "            minuto_diferenca = minuto_diferenca + segundo_diferenca//60\n",
    "            segundo_diferenca = segundo_diferenca%60\n",
    "        if minuto_diferenca<0:\n",
    "            hora_diferenca = hora_diferenca + minuto_diferenca//60\n",
    "            minuto_diferenca = minuto_diferenca%60\n",
    "        if hora_diferenca<0:\n",
    "            hora_diferenca = 24 + hora_diferenca\n",
    "        \n",
    "        return a.__repr__(hora_diferenca,minuto_diferenca,segundo_diferenca)         "
   ]
  },
  {
   "cell_type": "code",
   "execution_count": 3,
   "metadata": {},
   "outputs": [],
   "source": [
    "a = Relogio(23,59,32)"
   ]
  },
  {
   "cell_type": "code",
   "execution_count": 4,
   "metadata": {},
   "outputs": [
    {
     "name": "stdout",
     "output_type": "stream",
     "text": [
      "23:59:32\n"
     ]
    }
   ],
   "source": [
    "a.__repr__(23,59,32)"
   ]
  },
  {
   "cell_type": "code",
   "execution_count": 5,
   "metadata": {},
   "outputs": [
    {
     "name": "stdout",
     "output_type": "stream",
     "text": [
      "01:39:32\n"
     ]
    }
   ],
   "source": [
    "a.adiantar_minuto(100)"
   ]
  },
  {
   "cell_type": "code",
   "execution_count": 6,
   "metadata": {},
   "outputs": [
    {
     "name": "stdout",
     "output_type": "stream",
     "text": [
      "01:40:42\n"
     ]
    }
   ],
   "source": [
    "a.adiantar_segundo(70)"
   ]
  },
  {
   "cell_type": "code",
   "execution_count": 7,
   "metadata": {},
   "outputs": [
    {
     "name": "stdout",
     "output_type": "stream",
     "text": [
      "00:30:42\n"
     ]
    }
   ],
   "source": [
    "a.atrasar_minuto(70)"
   ]
  },
  {
   "cell_type": "code",
   "execution_count": 8,
   "metadata": {},
   "outputs": [
    {
     "name": "stdout",
     "output_type": "stream",
     "text": [
      "00:29:32\n"
     ]
    }
   ],
   "source": [
    "a.atrasar_segundo(70)"
   ]
  },
  {
   "cell_type": "code",
   "execution_count": 9,
   "metadata": {},
   "outputs": [],
   "source": [
    "b = Relogio(23,32,12)"
   ]
  },
  {
   "cell_type": "code",
   "execution_count": 10,
   "metadata": {},
   "outputs": [
    {
     "name": "stdout",
     "output_type": "stream",
     "text": [
      "00:01:44\n"
     ]
    }
   ],
   "source": [
    "a.somar(a,b)"
   ]
  },
  {
   "cell_type": "code",
   "execution_count": 11,
   "metadata": {},
   "outputs": [
    {
     "name": "stdout",
     "output_type": "stream",
     "text": [
      "00:57:20\n"
     ]
    }
   ],
   "source": [
    "a.diferenca(a,b)"
   ]
  },
  {
   "cell_type": "code",
   "execution_count": null,
   "metadata": {},
   "outputs": [],
   "source": []
  },
  {
   "cell_type": "markdown",
   "metadata": {},
   "source": [
    "## Exercício 2: Robô\n",
    "\n",
    "#### PIs: XX/10"
   ]
  },
  {
   "cell_type": "markdown",
   "metadata": {},
   "source": [
    "Crie uma classe chamada Robo que representará a posição do robô em questão em um plano infinito. No construtor, poderá ser passado a posição inicial `(x, y)` desse robô e para qual direção ele está olhando (`n`orte, `s`ul, `l`este, `o`este). Caso a posição inicial não seja passada, devemos assumir que é `(0, 0)`. Caso a direção não seja passada, devemos assumir `n`.\n",
    "\n",
    "Crie o método `__repr__()` que retorna uma `string` que informa a posição do robô e em qual direção ele está olhando.\n",
    "\n",
    "Crie os método `virar_direita()` e `virar_esquerda()`. Esses métodos irão fazer um robô trocar a sua posição, de acordo com a atual.\n",
    "\n",
    "*Exemplos:*\n",
    "- Se um robô está olhando para o `n` e mandarmos ele `virar_esquerda()`, ele passará a olhar para o `o`.\n",
    "- Se um robô está olhando para o `l` e mandarmos ele `virar_direita()`, ele passará a olhar para o `s`.\n",
    "\n",
    "Agora, crie o método `avancar(i)`, que irá fazer o robô andar `i` posições no plano na direção que ele está olhando.\n",
    "\n",
    "*Exemplos:*\n",
    "\n",
    "- Se um robô estiver na posição `(0, 0)` olhando para o `n` e mandarmos ele avançar `5` posições, ele deverá ir para a posição `(0, 5)`.\n",
    "- Se um robô estiver na posição `(0, 0)` olhando para o `s` e mandarmos ele avançar `3` posições, ele deverá ir para a posição `(0, -3)`.\n",
    "- Se um robô estiver na posição `(0, 0)` olhando para o `l` e mandarmos ele avançar `1` posições, ele deverá ir para a posição `(1, 0)`.\n",
    "- Se um robô estiver na posição `(0, 0)` olhando para o `o` e mandarmos ele avançar `7` posições, ele deverá ir para a posição `(-7, 0)`.\n",
    "\n",
    "Cria um método `distancia(r)` que recebe como parâmetro um segundo robô (`r`) e retorna a distância do primeiro (`self`) para segundo (`r`)."
   ]
  },
  {
   "cell_type": "code",
   "execution_count": 12,
   "metadata": {},
   "outputs": [],
   "source": [
    "class Robo:\n",
    "    def __init__(self,x=0,y=0,direcao = 'n'):\n",
    "        self.x = x\n",
    "        self.y = y\n",
    "        self.direcao = direcao\n",
    "    def __repr__(self):\n",
    "        return self.direcao\n",
    "    \n",
    "    def virar_direita(self):\n",
    "        if self.direcao == 'n':\n",
    "            self.direcao = 'l'\n",
    "        elif self.direcao =='l':\n",
    "            self.direcao ='s'\n",
    "        elif self.direcao =='s':\n",
    "            self.direcao ='o'\n",
    "        else:\n",
    "            self.direcao = 'n'\n",
    "        return self.direcao\n",
    "    \n",
    "    def virar_esquerda(self):\n",
    "        if self.direcao == 'n':\n",
    "            self.direcao = 'o'\n",
    "        elif self.direcao =='o':\n",
    "            self.direcao ='s'\n",
    "        elif self.direcao =='s':\n",
    "            self.direcao ='l'\n",
    "        else:\n",
    "            self.direcao = 'n'\n",
    "        return self.direcao\n",
    "    \n",
    "    def avancar(self,i):\n",
    "        if self.direcao =='n':\n",
    "            self.y = self.y+i\n",
    "        elif self.direcao =='s':\n",
    "            self.y = self.y -i\n",
    "        elif self.direcao =='l':\n",
    "            self.x = self.x + i\n",
    "        else:\n",
    "            self.x = self.x - i\n",
    "        return self.x,self.y\n",
    "        \n",
    "    def distancia(self,r1,r2):\n",
    "        distancia = ((r1.x-r2.x)**2 +(r1.y - r2.y)**2)**(1/2)\n",
    "        return distancia\n",
    "    "
   ]
  },
  {
   "cell_type": "code",
   "execution_count": 13,
   "metadata": {},
   "outputs": [],
   "source": [
    "robo1 = Robo(0,0,'s')\n",
    "robo2 = Robo(1,1,'n')"
   ]
  },
  {
   "cell_type": "code",
   "execution_count": 14,
   "metadata": {},
   "outputs": [
    {
     "data": {
      "text/plain": [
       "'o'"
      ]
     },
     "execution_count": 14,
     "metadata": {},
     "output_type": "execute_result"
    }
   ],
   "source": [
    "robo1.virar_direita()"
   ]
  },
  {
   "cell_type": "code",
   "execution_count": 15,
   "metadata": {},
   "outputs": [
    {
     "data": {
      "text/plain": [
       "(-3, 0)"
      ]
     },
     "execution_count": 15,
     "metadata": {},
     "output_type": "execute_result"
    }
   ],
   "source": [
    "robo1.avancar(3)"
   ]
  },
  {
   "cell_type": "code",
   "execution_count": 16,
   "metadata": {},
   "outputs": [
    {
     "data": {
      "text/plain": [
       "4.123105625617661"
      ]
     },
     "execution_count": 16,
     "metadata": {},
     "output_type": "execute_result"
    }
   ],
   "source": [
    "robo1.distancia(robo1,robo2)"
   ]
  },
  {
   "cell_type": "code",
   "execution_count": null,
   "metadata": {},
   "outputs": [],
   "source": []
  }
 ],
 "metadata": {
  "kernelspec": {
   "display_name": "Python 3",
   "language": "python",
   "name": "python3"
  },
  "language_info": {
   "codemirror_mode": {
    "name": "ipython",
    "version": 3
   },
   "file_extension": ".py",
   "mimetype": "text/x-python",
   "name": "python",
   "nbconvert_exporter": "python",
   "pygments_lexer": "ipython3",
   "version": "3.7.4"
  }
 },
 "nbformat": 4,
 "nbformat_minor": 2
}
