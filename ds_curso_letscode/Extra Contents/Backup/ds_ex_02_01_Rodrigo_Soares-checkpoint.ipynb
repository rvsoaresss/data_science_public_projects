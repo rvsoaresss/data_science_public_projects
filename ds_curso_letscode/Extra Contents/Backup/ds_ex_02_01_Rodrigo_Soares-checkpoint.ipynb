{
 "cells": [
  {
   "cell_type": "markdown",
   "metadata": {},
   "source": [
    "# Lista 02_01\n",
    "\n",
    "## Aluno: \n",
    "\n",
    "## Total de PIs: XX/20"
   ]
  },
  {
   "cell_type": "markdown",
   "metadata": {},
   "source": [
    "*Dicas: sempre teste se a funcionalidade implementada está funcionando*"
   ]
  },
  {
   "cell_type": "markdown",
   "metadata": {},
   "source": [
    "## Exercício 1: Relógio\n",
    "\n",
    "#### PIs: XX/10"
   ]
  },
  {
   "cell_type": "markdown",
   "metadata": {},
   "source": [
    "Crie uma classe chamada Relogio. Essa classe deverá ter os atributos hora, minuto e segundo, e todos deverão iniciar com zero."
   ]
  },
  {
   "cell_type": "code",
   "execution_count": null,
   "metadata": {},
   "outputs": [],
   "source": []
  },
  {
   "cell_type": "markdown",
   "metadata": {},
   "source": [
    "Crie o método `__repr__()` que retorna uma `string` do tipo 'HH:MM:SS', onde HH é a hora, MM é o minuto e SS é o segundo."
   ]
  },
  {
   "cell_type": "code",
   "execution_count": null,
   "metadata": {},
   "outputs": [],
   "source": []
  },
  {
   "cell_type": "markdown",
   "metadata": {},
   "source": [
    "*Opcional: criar método que transforma a HH:MM:SS em total de segundos.*"
   ]
  },
  {
   "cell_type": "code",
   "execution_count": null,
   "metadata": {},
   "outputs": [],
   "source": []
  },
  {
   "cell_type": "markdown",
   "metadata": {},
   "source": [
    "*Opcional: Criar método que transforma total de segundos em HH:MM:SS.*"
   ]
  },
  {
   "cell_type": "code",
   "execution_count": null,
   "metadata": {},
   "outputs": [],
   "source": []
  },
  {
   "cell_type": "markdown",
   "metadata": {},
   "source": [
    "Crie quatro métodos: `adiantar_minuto(n)`, `atrasar_minuto(n)`, `adiantar_segundo(n)` e `atrasar_segundo(n)`. Eles receberam um inteiro `n` que irá ser adicionado ou subtraído do respectivo atributo (com a condição de que não existirão horas, minutos ou segundos negativos)."
   ]
  },
  {
   "cell_type": "code",
   "execution_count": null,
   "metadata": {},
   "outputs": [],
   "source": []
  },
  {
   "cell_type": "markdown",
   "metadata": {},
   "source": [
    "Agora crie os métodos `soma(r)` e `diferenca(r)`, que receberá como parâmetro um objeto `r` do tipo `Relogio` e deverá calcular e retornar a soma e a diferença, respectivamente, entre o parâmetro recebido (`r`) e o próprio objeto em questão (`self`)."
   ]
  },
  {
   "cell_type": "code",
   "execution_count": null,
   "metadata": {},
   "outputs": [],
   "source": []
  },
  {
   "cell_type": "markdown",
   "metadata": {},
   "source": [
    "Agora crie outros métodos, `adicionar(r)` e `subtrair(r)`, que receberá como parâmetro um objeto `r` do tipo `Relogio` e modificar o próprio objeto em questão (`self`) com o resultado da soma e subtração entre os dois objetos."
   ]
  },
  {
   "cell_type": "code",
   "execution_count": null,
   "metadata": {},
   "outputs": [],
   "source": []
  },
  {
   "cell_type": "markdown",
   "metadata": {},
   "source": [
    "## Exercício 2: Robô\n",
    "\n",
    "#### PIs: XX/10"
   ]
  },
  {
   "cell_type": "markdown",
   "metadata": {},
   "source": [
    "Crie uma classe chamada Robo que representará a posição do robô em questão em um plano infinito. No construtor, poderá ser passado a posição inicial `(x, y)` desse robô e para qual direção ele está olhando (`n`orte, `s`ul, `l`este, `o`este). Caso a posição inicial não seja passada, devemos assumir que é `(0, 0)`. Caso a direção não seja passada, devemos assumir `n`."
   ]
  },
  {
   "cell_type": "code",
   "execution_count": null,
   "metadata": {},
   "outputs": [],
   "source": []
  },
  {
   "cell_type": "markdown",
   "metadata": {},
   "source": [
    "Crie o método `__repr__()` que retorna uma `string` que informa a posição do robô e em qual direção ele está olhando."
   ]
  },
  {
   "cell_type": "code",
   "execution_count": null,
   "metadata": {},
   "outputs": [],
   "source": []
  },
  {
   "cell_type": "markdown",
   "metadata": {},
   "source": [
    "Crie os método `virar_direita()` e `virar_esquerda()`. Esses métodos irão fazer um robô trocar a sua posição, de acordo com a atual.\n",
    "\n",
    "*Exemplos:*\n",
    "- Se um robô está olhando para o `n` e mandarmos ele `virar_esquerda()`, ele passará a olhar para o `o`.\n",
    "- Se um robô está olhando para o `l` e mandarmos ele `virar_direita()`, ele passará a olhar para o `s`."
   ]
  },
  {
   "cell_type": "code",
   "execution_count": null,
   "metadata": {},
   "outputs": [],
   "source": []
  },
  {
   "cell_type": "markdown",
   "metadata": {},
   "source": [
    "Agora, crie o método `avancar(i)`, que irá fazer o robô andar `i` posições no plano na direção que ele está olhando.\n",
    "\n",
    "*Exemplos:*\n",
    "\n",
    "- Se um robô estiver na posição `(0, 0)` olhando para o `n` e mandarmos ele avançar `5` posições, ele deverá ir para a posição `(0, 5)`.\n",
    "- Se um robô estiver na posição `(0, 0)` olhando para o `s` e mandarmos ele avançar `3` posições, ele deverá ir para a posição `(0, -3)`.\n",
    "- Se um robô estiver na posição `(0, 0)` olhando para o `l` e mandarmos ele avançar `1` posições, ele deverá ir para a posição `(1, 0)`.\n",
    "- Se um robô estiver na posição `(0, 0)` olhando para o `o` e mandarmos ele avançar `7` posições, ele deverá ir para a posição `(-7, 0)`.\n"
   ]
  },
  {
   "cell_type": "code",
   "execution_count": null,
   "metadata": {},
   "outputs": [],
   "source": []
  },
  {
   "cell_type": "markdown",
   "metadata": {},
   "source": [
    "Cria um método `distancia(r)` que recebe como parâmetro um segundo robô (`r`) e retorna a distância do primeiro (`self`) para segundo (`r`)."
   ]
  },
  {
   "cell_type": "code",
   "execution_count": null,
   "metadata": {},
   "outputs": [],
   "source": []
  },
  {
   "cell_type": "markdown",
   "metadata": {},
   "source": [
    "## Exercício 3 - Empresa (Árvore)"
   ]
  },
  {
   "cell_type": "markdown",
   "metadata": {},
   "source": [
    "Crie um objeto do tipo colaborador que recebe como parametros os atributos matrícula, nome, cargo, contrato e uma lista de colaboradores (os quais são subordinados ao coladorador criado)."
   ]
  },
  {
   "cell_type": "code",
   "execution_count": 2,
   "metadata": {},
   "outputs": [],
   "source": [
    "import datetime"
   ]
  },
  {
   "cell_type": "code",
   "execution_count": 12,
   "metadata": {},
   "outputs": [],
   "source": [
    "class Colaborador:\n",
    "    def __init__ (self, matricula, nome, cargo, contrato, colaboradores=[]):\n",
    "        self.matricula = matricula\n",
    "        self.nome = nome\n",
    "        self.cargo = cargo\n",
    "        self.contrato = contrato\n",
    "        self.colaboradores = colaboradores\n",
    "        \n",
    "    def efetivar(self):\n",
    "        hora_matricula = datetime.datetime.now()\n",
    "        if self.contrato == \"bolsa\":\n",
    "            if (hora_matricula - self.matricula) >100:\n",
    "                return \"Efetivado\"\n",
    "            else:\n",
    "                return \"Não efetivado\"\n",
    "        else:\n",
    "            return \"Contrato não é bolsa\"\n",
    "        \n",
    "    def subordinados(self):\n",
    "        dicionario = {}\n",
    "        for colaborador in self.colaboradores:\n",
    "            if colaborador.nome != \"tbd\":\n",
    "                dicionario[colaborador.matricula] = colaborador.nome\n",
    "            if len(colaborador.colaboradores) > 0:\n",
    "                dicionario.update(colaborador.subordinados())\n",
    "            return dicionario\n",
    "        \n",
    "    def demitir(self, nome):\n",
    "        for colaborador in self.colaboradores:\n",
    "            if colaborador.nome == nome:\n",
    "                colaborador.nome = \"tbd\"\n",
    "                return \"Colaborador\" + nome + \"demitido\"\n",
    "            \n",
    "    def contratat(self, colaborador):\n",
    "        if self.cargo == \"presidente\" and colaborador.cargo == \"diretor\":\n",
    "            self.colaborador.append(colaborador)\n",
    "            return \"colaborador\" + colaborador.nome + \"contratato\"\n",
    "        elif self.cargo == \"diretor\" and colaborador.cargo == \"gerente\":\n",
    "            self.colaborador.append(colaborador)\n",
    "            return \"colaborador\" + colaborador.nome + \"contratato\"\n",
    "        elif self.cargo == \"gerente\" and colaborador.cargo in [\"analista\",\"desenvolvedor\",\"estagiario\"]:\n",
    "            self.colaborador.append(colaborador)\n",
    "            return \"colaborador\" + colaborador.nome + \"contratato\"        \n",
    "        else:\n",
    "            return self.cargo + \"não pode contratar \" + colaborador.cargo"
   ]
  },
  {
   "cell_type": "code",
   "execution_count": 13,
   "metadata": {},
   "outputs": [],
   "source": [
    "candido = Colaborador(datetime.datetime.now(),\"candido\",\"presidente\",\"pj\")"
   ]
  },
  {
   "cell_type": "code",
   "execution_count": 46,
   "metadata": {},
   "outputs": [],
   "source": [
    "class Colaborador:\n",
    "    def __init__ (self, matricula, nome, cargo, colaboradores):\n",
    "        self.matricula = matricula\n",
    "        self.nome = nome\n",
    "        self.cargo = cargo\n",
    "        self.colaboradores = colaboradores\n",
    "        \n",
    "        \n",
    "        \n",
    "        if cargo in [\"presidente\",\"diretor\",\"gerente\"]:\n",
    "            self.contrato = \"pj\"\n",
    "        elif cargo == \"estagiario\":     \n",
    "            self.contrato = \"bolsa\"\n",
    "        else:\n",
    "            self.contrato = \"clt\"\n",
    "        \n",
    "        \n",
    "    def efetivar(self):\n",
    "        hora_matricula = datetime.datetime.now()\n",
    "        if self.contrato == \"bolsa\":\n",
    "            if (hora_matricula - self.matricula) >100:\n",
    "                return \"Efetivado\"\n",
    "            else:\n",
    "                return \"Não efetivado\"\n",
    "        else:\n",
    "            return \"Contrato não é bolsa\"\n",
    "        \n",
    "    def subordinados(self):\n",
    "        dicionario = {}\n",
    "        for colaborador in self.colaboradores:\n",
    "            if colaborador.nome != \"tbd\":\n",
    "                dicionario[colaborador.matricula] = colaborador.nome\n",
    "            if len(colaborador.colaboradores) > 0:\n",
    "                dicionario.update(colaborador.subordinados())\n",
    "            return dicionario\n",
    "        \n",
    "    def demitir(self, nome):\n",
    "        for colaborador in self.colaboradores:\n",
    "            if colaborador.nome == nome:\n",
    "                colaborador.nome = \"tbd\"\n",
    "                return \"Colaborador\" + nome + \"demitido\"\n",
    "            \n",
    "    def contratar(self, colaborador):    \n",
    "        if self.cargo == \"presidente\" and colaborador.cargo == \"diretor\":\n",
    "            self.colaboradores.append(colaborador)\n",
    "            return \"colaborador\" + colaborador.nome + \"contratato\"\n",
    "        elif self.cargo == \"diretor\" and colaborador.cargo == \"gerente\":\n",
    "            self.colaboradores.append(colaborador)\n",
    "            return \"colaborador\" + colaborador.nome + \"contratato\"\n",
    "        elif self.cargo == \"gerente\" and colaborador.cargo in [\"analista\",\"desenvolvedor\",\"estagiario\"]:\n",
    "            self.colaboradores.append(colaborador)\n",
    "            return \"colaborador\" + colaborador.nome + \"contratato\"        \n",
    "        else:\n",
    "            return self.cargo + \"não pode contratar \" + colaborador.cargo"
   ]
  },
  {
   "cell_type": "code",
   "execution_count": 48,
   "metadata": {},
   "outputs": [],
   "source": [
    "candido = Colaborador(datetime.datetime.now(),\"candido\",\"presidente\",[])"
   ]
  },
  {
   "cell_type": "code",
   "execution_count": 49,
   "metadata": {},
   "outputs": [
    {
     "data": {
      "text/plain": [
       "'pj'"
      ]
     },
     "execution_count": 49,
     "metadata": {},
     "output_type": "execute_result"
    }
   ],
   "source": [
    "candido.contrato"
   ]
  },
  {
   "cell_type": "code",
   "execution_count": 51,
   "metadata": {},
   "outputs": [],
   "source": [
    "mathias = Colaborador(datetime.datetime.now(),\"mathias\",\"diretor\",[])"
   ]
  },
  {
   "cell_type": "code",
   "execution_count": 52,
   "metadata": {},
   "outputs": [
    {
     "data": {
      "text/plain": [
       "'pj'"
      ]
     },
     "execution_count": 52,
     "metadata": {},
     "output_type": "execute_result"
    }
   ],
   "source": [
    "mathias.contrato"
   ]
  },
  {
   "cell_type": "code",
   "execution_count": 54,
   "metadata": {},
   "outputs": [],
   "source": [
    "stag = Colaborador(datetime.datetime.now(),\"romario\",\"estagiario\",[])"
   ]
  },
  {
   "cell_type": "code",
   "execution_count": 55,
   "metadata": {},
   "outputs": [
    {
     "data": {
      "text/plain": [
       "'bolsa'"
      ]
     },
     "execution_count": 55,
     "metadata": {},
     "output_type": "execute_result"
    }
   ],
   "source": [
    "stag.contrato"
   ]
  },
  {
   "cell_type": "code",
   "execution_count": 56,
   "metadata": {},
   "outputs": [
    {
     "data": {
      "text/plain": [
       "'colaboradormathiascontratato'"
      ]
     },
     "execution_count": 56,
     "metadata": {},
     "output_type": "execute_result"
    }
   ],
   "source": [
    "candido.contratar(mathias)"
   ]
  },
  {
   "cell_type": "code",
   "execution_count": 59,
   "metadata": {
    "scrolled": false
   },
   "outputs": [
    {
     "data": {
      "text/plain": [
       "{datetime.datetime(2019, 11, 1, 21, 44, 0, 497636): 'mathias'}"
      ]
     },
     "execution_count": 59,
     "metadata": {},
     "output_type": "execute_result"
    }
   ],
   "source": [
    "candido.subordinados()"
   ]
  },
  {
   "cell_type": "code",
   "execution_count": 63,
   "metadata": {},
   "outputs": [],
   "source": [
    "mathias.subordinados()"
   ]
  },
  {
   "cell_type": "code",
   "execution_count": 64,
   "metadata": {},
   "outputs": [],
   "source": [
    "mathias.demitir(\"romario\")"
   ]
  },
  {
   "cell_type": "code",
   "execution_count": 65,
   "metadata": {},
   "outputs": [],
   "source": [
    "mathias.subordinados()"
   ]
  },
  {
   "cell_type": "code",
   "execution_count": null,
   "metadata": {},
   "outputs": [],
   "source": []
  },
  {
   "cell_type": "code",
   "execution_count": null,
   "metadata": {},
   "outputs": [],
   "source": []
  },
  {
   "cell_type": "markdown",
   "metadata": {},
   "source": [
    "Ao instânciar um novo objeto, deve-se seguir algumas regras, como por exemplo:\n",
    "- A matrícula é o timestamp da hora atual (utilizar módulo datetime);\n",
    "- Os cargos podem ser presitente, diretor, gerente, analista, desenvolvedor e estágiário;\n",
    "    - O presidente é superior aos diretores;\n",
    "    - O diretor é superior aos gerentes;\n",
    "    - O gerente é superior aos analistas, desenvolvedores e estagiários;\n",
    "- Os contratos do presidente, diretores e gerentes são do tipo 'pj', enquanto que os contratos dos analistas e desenvolvedores são do tipo 'clt' e os contratos dos estagiários são do tipo 'bolsa';"
   ]
  },
  {
   "cell_type": "markdown",
   "metadata": {},
   "source": [
    "Criar o método `efetivar()`, que não recebe nenhum parâmetro, mas deve verificar se o contrato do objeto é do tipo 'bolsa', caso seja, deve-se verificar a matrícula e subtrair do timestamp atual(utilizar o módulo), caso seja maior que 100, o método retorna a string 'efetivado', caso não, retorna a string 'não efetivado'. Caso o contrato não seja 'bolsa', deve retornar a string 'contrato não é bolsa'"
   ]
  },
  {
   "cell_type": "code",
   "execution_count": null,
   "metadata": {},
   "outputs": [],
   "source": []
  },
  {
   "cell_type": "markdown",
   "metadata": {},
   "source": [
    "Criar método `subordinados()`, que não recebe nenhum parâmetro e deve retornar um dicionário em que as chaves são as matrículas e os valores os nomes, dos funcionários subordinados ao colaborador chamado;"
   ]
  },
  {
   "cell_type": "code",
   "execution_count": null,
   "metadata": {},
   "outputs": [],
   "source": []
  },
  {
   "cell_type": "markdown",
   "metadata": {},
   "source": [
    "Criar método `demitir(nome)` que recebe como parâmetro um nome, esse nome deve ser verificado na lista de colaboradores, caso exista, deve ser removido da lista e deve retornar a string 'colaborador {nome} demitido';"
   ]
  },
  {
   "cell_type": "code",
   "execution_count": null,
   "metadata": {},
   "outputs": [],
   "source": []
  },
  {
   "cell_type": "markdown",
   "metadata": {},
   "source": [
    "Criar método `contratar(colaborador)` que recebe como parâmetro um objeto do tipo colaborador, a qual o colaborador instanciado deseja contratar. Dentro do método, fazer as devidas validações, como por exemplo:\n",
    "- Um presidente só pode contratar diretores;\n",
    "- Um diretor só pode contratar gerentes;\n",
    "- Um gerente só pode contrar analistas, desenvolvedores e estagiários;\n",
    "- analistas, desenvolvedores e estagiário não podem contratar ninguém;\n",
    "O novo colaborador deve ser adicionado a lista de colaboradores e deve ser retornado a string 'colaborador {nome} foi contratado';"
   ]
  },
  {
   "cell_type": "code",
   "execution_count": null,
   "metadata": {},
   "outputs": [],
   "source": []
  },
  {
   "cell_type": "markdown",
   "metadata": {},
   "source": [
    "## Execício 4 - Recursão"
   ]
  },
  {
   "cell_type": "markdown",
   "metadata": {},
   "source": [
    "Defina a função repete que recebe como argumento uma lista  w  e devolve uma lista em que o primeiro elemento de  w  aparece repetido 1 vez, o segundo elemento aparece repetido duas vezes e assim sucessivamente."
   ]
  },
  {
   "cell_type": "code",
   "execution_count": 2,
   "metadata": {},
   "outputs": [],
   "source": [
    "def repete(w):\n",
    "    pass\n",
    "\n",
    "w = [1, 2, 3]\n",
    "repete(w)\n",
    "#out [1, 2, 2, 3, 3, 3]"
   ]
  },
  {
   "cell_type": "markdown",
   "metadata": {},
   "source": [
    "## Exercício 5 - Recursão"
   ]
  },
  {
   "cell_type": "markdown",
   "metadata": {},
   "source": [
    "Defina a função prim_alg que recebe como argumento um número natural e devolve o primeiro algarismo (o mais significativo) na representação decimal de  n."
   ]
  },
  {
   "cell_type": "code",
   "execution_count": 3,
   "metadata": {},
   "outputs": [],
   "source": [
    "def prim_alg(n):\n",
    "    pass\n",
    "\n",
    "n = 5629\n",
    "prim_alg(n)\n",
    "#out 5"
   ]
  },
  {
   "cell_type": "code",
   "execution_count": 69,
   "metadata": {},
   "outputs": [
    {
     "data": {
      "text/plain": [
       "5"
      ]
     },
     "execution_count": 69,
     "metadata": {},
     "output_type": "execute_result"
    }
   ],
   "source": [
    "def prim_alg(n):\n",
    "    if n//10 == 0:\n",
    "        return n\n",
    "    else:\n",
    "        return prim_alg(n//10)\n",
    "\n",
    "n = 5629\n",
    "prim_alg(n)"
   ]
  },
  {
   "cell_type": "markdown",
   "metadata": {},
   "source": [
    "## Exercício 6 - Complexidade"
   ]
  },
  {
   "cell_type": "markdown",
   "metadata": {},
   "source": [
    "Faça um algoritmo de complexidade `O(log(n))` que receba uma lista que vai de 1 a 2500 e retorne essa lista, em que todos os valores que são potência de 2 sejam substituídos por 0"
   ]
  },
  {
   "cell_type": "code",
   "execution_count": null,
   "metadata": {},
   "outputs": [],
   "source": [
    "import match\n",
    "import numpy as np\n",
    "\n",
    "def lista_inicial(lista_final, mult=1):\n",
    "    lista_inicial = np.array(lista_inicial)\n",
    "    if mult in lista_inicial:\n",
    "        lista_inicial[lista_inicial == mult] = 0\n",
    "    if mult < 2500:\n",
    "        lista_final(lista_inicial,mult*2)"
   ]
  },
  {
   "cell_type": "markdown",
   "metadata": {},
   "source": [
    "## Exercício 7 - Complexidade"
   ]
  },
  {
   "cell_type": "markdown",
   "metadata": {},
   "source": [
    "Faça um algoritmo de complexidade `O(n)` que recebe um n e retorna uma matriz indentidade de nxn"
   ]
  },
  {
   "cell_type": "code",
   "execution_count": null,
   "metadata": {},
   "outputs": [],
   "source": []
  }
 ],
 "metadata": {
  "kernelspec": {
   "display_name": "Python 3",
   "language": "python",
   "name": "python3"
  },
  "language_info": {
   "codemirror_mode": {
    "name": "ipython",
    "version": 3
   },
   "file_extension": ".py",
   "mimetype": "text/x-python",
   "name": "python",
   "nbconvert_exporter": "python",
   "pygments_lexer": "ipython3",
   "version": "3.7.4"
  }
 },
 "nbformat": 4,
 "nbformat_minor": 2
}
