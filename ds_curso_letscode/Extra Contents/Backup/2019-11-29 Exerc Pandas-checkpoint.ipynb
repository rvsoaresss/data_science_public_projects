{
 "cells": [
  {
   "cell_type": "markdown",
   "metadata": {},
   "source": [
    "## Exercício!"
   ]
  },
  {
   "cell_type": "markdown",
   "metadata": {},
   "source": [
    "Importar os dois arquivo banks e juntar em apenas um DataFrame"
   ]
  },
  {
   "cell_type": "code",
   "execution_count": 4,
   "metadata": {},
   "outputs": [
    {
     "data": {
      "text/html": [
       "<div>\n",
       "<style scoped>\n",
       "    .dataframe tbody tr th:only-of-type {\n",
       "        vertical-align: middle;\n",
       "    }\n",
       "\n",
       "    .dataframe tbody tr th {\n",
       "        vertical-align: top;\n",
       "    }\n",
       "\n",
       "    .dataframe thead th {\n",
       "        text-align: right;\n",
       "    }\n",
       "</style>\n",
       "<table border=\"1\" class=\"dataframe\">\n",
       "  <thead>\n",
       "    <tr style=\"text-align: right;\">\n",
       "      <th></th>\n",
       "      <th>Unnamed: 0</th>\n",
       "      <th>Bank Name</th>\n",
       "      <th>City</th>\n",
       "      <th>ST</th>\n",
       "      <th>CERT</th>\n",
       "      <th>Acquiring Institution</th>\n",
       "      <th>Closing Date</th>\n",
       "      <th>Updated Date</th>\n",
       "    </tr>\n",
       "  </thead>\n",
       "  <tbody>\n",
       "    <tr>\n",
       "      <th>0</th>\n",
       "      <td>199</td>\n",
       "      <td>CommunitySouth Bank &amp; Trust</td>\n",
       "      <td>Easley</td>\n",
       "      <td>SC</td>\n",
       "      <td>57868</td>\n",
       "      <td>CertusBank, National Association</td>\n",
       "      <td>21-Jan-11</td>\n",
       "      <td>6-Jun-16</td>\n",
       "    </tr>\n",
       "    <tr>\n",
       "      <th>1</th>\n",
       "      <td>78</td>\n",
       "      <td>The Royal Palm Bank of Florida</td>\n",
       "      <td>Naples</td>\n",
       "      <td>FL</td>\n",
       "      <td>57096</td>\n",
       "      <td>First National Bank of the Gulf Coast</td>\n",
       "      <td>20-Jul-12</td>\n",
       "      <td>21-Mar-14</td>\n",
       "    </tr>\n",
       "    <tr>\n",
       "      <th>2</th>\n",
       "      <td>63</td>\n",
       "      <td>Citizens First National Bank</td>\n",
       "      <td>Princeton</td>\n",
       "      <td>IL</td>\n",
       "      <td>3731</td>\n",
       "      <td>Heartland Bank and Trust Company</td>\n",
       "      <td>2-Nov-12</td>\n",
       "      <td>22-Nov-13</td>\n",
       "    </tr>\n",
       "    <tr>\n",
       "      <th>3</th>\n",
       "      <td>481</td>\n",
       "      <td>TeamBank, NA</td>\n",
       "      <td>Paola</td>\n",
       "      <td>KS</td>\n",
       "      <td>4754</td>\n",
       "      <td>Great Southern Bank</td>\n",
       "      <td>20-Mar-09</td>\n",
       "      <td>12-Sep-16</td>\n",
       "    </tr>\n",
       "    <tr>\n",
       "      <th>4</th>\n",
       "      <td>287</td>\n",
       "      <td>Bank of Florida - Southeast</td>\n",
       "      <td>Fort Lauderdale</td>\n",
       "      <td>FL</td>\n",
       "      <td>57360</td>\n",
       "      <td>EverBank</td>\n",
       "      <td>28-May-10</td>\n",
       "      <td>8-Aug-16</td>\n",
       "    </tr>\n",
       "    <tr>\n",
       "      <th>...</th>\n",
       "      <td>...</td>\n",
       "      <td>...</td>\n",
       "      <td>...</td>\n",
       "      <td>...</td>\n",
       "      <td>...</td>\n",
       "      <td>...</td>\n",
       "      <td>...</td>\n",
       "      <td>...</td>\n",
       "    </tr>\n",
       "    <tr>\n",
       "      <th>160</th>\n",
       "      <td>305</td>\n",
       "      <td>Peotone Bank and Trust Company</td>\n",
       "      <td>Peotone</td>\n",
       "      <td>IL</td>\n",
       "      <td>10888</td>\n",
       "      <td>First Midwest Bank</td>\n",
       "      <td>23-Apr-10</td>\n",
       "      <td>23-Aug-12</td>\n",
       "    </tr>\n",
       "    <tr>\n",
       "      <th>161</th>\n",
       "      <td>113</td>\n",
       "      <td>Premier Community Bank of the Emerald Coast</td>\n",
       "      <td>Crestview</td>\n",
       "      <td>FL</td>\n",
       "      <td>58343</td>\n",
       "      <td>Summit Bank</td>\n",
       "      <td>16-Dec-11</td>\n",
       "      <td>21-Mar-14</td>\n",
       "    </tr>\n",
       "    <tr>\n",
       "      <th>162</th>\n",
       "      <td>475</td>\n",
       "      <td>American Southern Bank</td>\n",
       "      <td>Kennesaw</td>\n",
       "      <td>GA</td>\n",
       "      <td>57943</td>\n",
       "      <td>Bank of North Georgia</td>\n",
       "      <td>24-Apr-09</td>\n",
       "      <td>17-Aug-12</td>\n",
       "    </tr>\n",
       "    <tr>\n",
       "      <th>163</th>\n",
       "      <td>74</td>\n",
       "      <td>Second Federal Savings and Loan Association of...</td>\n",
       "      <td>Chicago</td>\n",
       "      <td>IL</td>\n",
       "      <td>27986</td>\n",
       "      <td>Hinsdale Bank &amp; Trust Company</td>\n",
       "      <td>20-Jul-12</td>\n",
       "      <td>14-Jan-13</td>\n",
       "    </tr>\n",
       "    <tr>\n",
       "      <th>164</th>\n",
       "      <td>91</td>\n",
       "      <td>Plantation Federal Bank</td>\n",
       "      <td>Pawleys Island</td>\n",
       "      <td>SC</td>\n",
       "      <td>32503</td>\n",
       "      <td>First Federal Bank</td>\n",
       "      <td>27-Apr-12</td>\n",
       "      <td>10-Nov-16</td>\n",
       "    </tr>\n",
       "  </tbody>\n",
       "</table>\n",
       "<p>165 rows × 8 columns</p>\n",
       "</div>"
      ],
      "text/plain": [
       "     Unnamed: 0                                          Bank Name  \\\n",
       "0           199                        CommunitySouth Bank & Trust   \n",
       "1            78                     The Royal Palm Bank of Florida   \n",
       "2            63                       Citizens First National Bank   \n",
       "3           481                                       TeamBank, NA   \n",
       "4           287                        Bank of Florida - Southeast   \n",
       "..          ...                                                ...   \n",
       "160         305                     Peotone Bank and Trust Company   \n",
       "161         113        Premier Community Bank of the Emerald Coast   \n",
       "162         475                             American Southern Bank   \n",
       "163          74  Second Federal Savings and Loan Association of...   \n",
       "164          91                            Plantation Federal Bank   \n",
       "\n",
       "                City  ST   CERT                  Acquiring Institution  \\\n",
       "0             Easley  SC  57868       CertusBank, National Association   \n",
       "1             Naples  FL  57096  First National Bank of the Gulf Coast   \n",
       "2          Princeton  IL   3731       Heartland Bank and Trust Company   \n",
       "3              Paola  KS   4754                    Great Southern Bank   \n",
       "4    Fort Lauderdale  FL  57360                               EverBank   \n",
       "..               ...  ..    ...                                    ...   \n",
       "160          Peotone  IL  10888                     First Midwest Bank   \n",
       "161        Crestview  FL  58343                            Summit Bank   \n",
       "162         Kennesaw  GA  57943                  Bank of North Georgia   \n",
       "163          Chicago  IL  27986          Hinsdale Bank & Trust Company   \n",
       "164   Pawleys Island  SC  32503                     First Federal Bank   \n",
       "\n",
       "    Closing Date Updated Date  \n",
       "0      21-Jan-11     6-Jun-16  \n",
       "1      20-Jul-12    21-Mar-14  \n",
       "2       2-Nov-12    22-Nov-13  \n",
       "3      20-Mar-09    12-Sep-16  \n",
       "4      28-May-10     8-Aug-16  \n",
       "..           ...          ...  \n",
       "160    23-Apr-10    23-Aug-12  \n",
       "161    16-Dec-11    21-Mar-14  \n",
       "162    24-Apr-09    17-Aug-12  \n",
       "163    20-Jul-12    14-Jan-13  \n",
       "164    27-Apr-12    10-Nov-16  \n",
       "\n",
       "[165 rows x 8 columns]"
      ]
     },
     "execution_count": 4,
     "metadata": {},
     "output_type": "execute_result"
    }
   ],
   "source": [
    "import pandas as pd\n",
    "import numpy as np\n",
    "\n",
    "df = pd.read_excel(\"2019-11-29 banks.xlsx\", sheet_name = \"Sheet1\")\n",
    "df"
   ]
  },
  {
   "cell_type": "markdown",
   "metadata": {},
   "source": [
    "Checar quantos estados (ST) existem no data frame"
   ]
  },
  {
   "cell_type": "code",
   "execution_count": 8,
   "metadata": {},
   "outputs": [
    {
     "data": {
      "text/plain": [
       "35"
      ]
     },
     "execution_count": 8,
     "metadata": {},
     "output_type": "execute_result"
    }
   ],
   "source": [
    "len(df[\"ST\"].unique())"
   ]
  },
  {
   "cell_type": "markdown",
   "metadata": {},
   "source": [
    "Checar quais estados (ST) existem no data frame"
   ]
  },
  {
   "cell_type": "code",
   "execution_count": 9,
   "metadata": {},
   "outputs": [
    {
     "data": {
      "text/plain": [
       "array(['SC', 'FL', 'IL', 'KS', 'GA', 'MN', 'CA', 'TN', 'NM', 'WI', 'AR',\n",
       "       'MO', 'WA', 'PA', 'MD', 'NV', 'WV', 'PR', 'WY', 'TX', 'MI', 'MS',\n",
       "       'LA', 'AL', 'NJ', 'OH', 'AZ', 'NY', 'CO', 'UT', 'NC', 'NE', 'VA',\n",
       "       'NH', 'ID'], dtype=object)"
      ]
     },
     "execution_count": 9,
     "metadata": {},
     "output_type": "execute_result"
    }
   ],
   "source": [
    "df[\"ST\"].unique()"
   ]
  },
  {
   "cell_type": "markdown",
   "metadata": {},
   "source": [
    "Verificar quais são os 5 estados com maior quantidade de bancos falidos"
   ]
  },
  {
   "cell_type": "code",
   "execution_count": 14,
   "metadata": {},
   "outputs": [
    {
     "data": {
      "text/plain": [
       "GA    36\n",
       "FL    22\n",
       "IL    21\n",
       "CA    13\n",
       "MN     9\n",
       "Name: ST, dtype: int64"
      ]
     },
     "execution_count": 14,
     "metadata": {},
     "output_type": "execute_result"
    }
   ],
   "source": [
    "df[\"ST\"].value_counts().head()"
   ]
  },
  {
   "cell_type": "markdown",
   "metadata": {},
   "source": [
    "Verificar quais são as instituições que mais compram bancos (acquiring institutions)"
   ]
  },
  {
   "cell_type": "code",
   "execution_count": 28,
   "metadata": {},
   "outputs": [
    {
     "data": {
      "text/plain": [
       "State Bank and Trust Company        7\n",
       "No Acquirer                         6\n",
       "Heartland Bank and Trust Company    4\n",
       "Centennial Bank                     4\n",
       "Community & Southern Bank           3\n",
       "Premier American Bank, N.A.         3\n",
       "Stearns Bank, N.A.                  3\n",
       "City National Bank                  3\n",
       "Great Southern Bank                 3\n",
       "United Fidelity Bank, fsb           3\n",
       "U.S. Bank, N.A.                     3\n",
       "First California Bank               3\n",
       "Name: Acquiring Institution, dtype: int64"
      ]
     },
     "execution_count": 28,
     "metadata": {},
     "output_type": "execute_result"
    }
   ],
   "source": [
    "df[\"Acquiring Institution\"].value_counts().head(12)"
   ]
  },
  {
   "cell_type": "markdown",
   "metadata": {},
   "source": [
    "Quantos bancos o State Bank of Texas adquiriu? Quantos eram realmente no Texas?"
   ]
  },
  {
   "cell_type": "code",
   "execution_count": 29,
   "metadata": {},
   "outputs": [
    {
     "data": {
      "text/html": [
       "<div>\n",
       "<style scoped>\n",
       "    .dataframe tbody tr th:only-of-type {\n",
       "        vertical-align: middle;\n",
       "    }\n",
       "\n",
       "    .dataframe tbody tr th {\n",
       "        vertical-align: top;\n",
       "    }\n",
       "\n",
       "    .dataframe thead th {\n",
       "        text-align: right;\n",
       "    }\n",
       "</style>\n",
       "<table border=\"1\" class=\"dataframe\">\n",
       "  <thead>\n",
       "    <tr style=\"text-align: right;\">\n",
       "      <th></th>\n",
       "      <th>Unnamed: 0</th>\n",
       "      <th>Bank Name</th>\n",
       "      <th>City</th>\n",
       "      <th>ST</th>\n",
       "      <th>CERT</th>\n",
       "      <th>Acquiring Institution</th>\n",
       "      <th>Closing Date</th>\n",
       "      <th>Updated Date</th>\n",
       "    </tr>\n",
       "  </thead>\n",
       "  <tbody>\n",
       "    <tr>\n",
       "      <th>51</th>\n",
       "      <td>21</td>\n",
       "      <td>The National Republic Bank of Chicago</td>\n",
       "      <td>Chicago</td>\n",
       "      <td>IL</td>\n",
       "      <td>916</td>\n",
       "      <td>State Bank of Texas</td>\n",
       "      <td>24-Oct-14</td>\n",
       "      <td>6-Jan-16</td>\n",
       "    </tr>\n",
       "    <tr>\n",
       "      <th>150</th>\n",
       "      <td>4</td>\n",
       "      <td>Seaway Bank and Trust Company</td>\n",
       "      <td>Chicago</td>\n",
       "      <td>IL</td>\n",
       "      <td>19328</td>\n",
       "      <td>State Bank of Texas</td>\n",
       "      <td>27-Jan-17</td>\n",
       "      <td>18-May-17</td>\n",
       "    </tr>\n",
       "  </tbody>\n",
       "</table>\n",
       "</div>"
      ],
      "text/plain": [
       "     Unnamed: 0                              Bank Name     City  ST   CERT  \\\n",
       "51           21  The National Republic Bank of Chicago  Chicago  IL    916   \n",
       "150           4          Seaway Bank and Trust Company  Chicago  IL  19328   \n",
       "\n",
       "    Acquiring Institution Closing Date Updated Date  \n",
       "51    State Bank of Texas    24-Oct-14     6-Jan-16  \n",
       "150   State Bank of Texas    27-Jan-17    18-May-17  "
      ]
     },
     "execution_count": 29,
     "metadata": {},
     "output_type": "execute_result"
    }
   ],
   "source": [
    "df[df[\"Acquiring Institution\"]==\"State Bank of Texas\"]"
   ]
  },
  {
   "cell_type": "markdown",
   "metadata": {},
   "source": [
    "Qual a cidade na Californa tem mais bancos falidos?"
   ]
  },
  {
   "cell_type": "code",
   "execution_count": 30,
   "metadata": {},
   "outputs": [
    {
     "data": {
      "text/html": [
       "<div>\n",
       "<style scoped>\n",
       "    .dataframe tbody tr th:only-of-type {\n",
       "        vertical-align: middle;\n",
       "    }\n",
       "\n",
       "    .dataframe tbody tr th {\n",
       "        vertical-align: top;\n",
       "    }\n",
       "\n",
       "    .dataframe thead th {\n",
       "        text-align: right;\n",
       "    }\n",
       "</style>\n",
       "<table border=\"1\" class=\"dataframe\">\n",
       "  <thead>\n",
       "    <tr style=\"text-align: right;\">\n",
       "      <th></th>\n",
       "      <th>Unnamed: 0</th>\n",
       "      <th>Bank Name</th>\n",
       "      <th>City</th>\n",
       "      <th>ST</th>\n",
       "      <th>CERT</th>\n",
       "      <th>Acquiring Institution</th>\n",
       "      <th>Closing Date</th>\n",
       "      <th>Updated Date</th>\n",
       "    </tr>\n",
       "  </thead>\n",
       "  <tbody>\n",
       "    <tr>\n",
       "      <th>10</th>\n",
       "      <td>313</td>\n",
       "      <td>Innovative Bank</td>\n",
       "      <td>Oakland</td>\n",
       "      <td>CA</td>\n",
       "      <td>23876</td>\n",
       "      <td>Center Bank</td>\n",
       "      <td>16-Apr-10</td>\n",
       "      <td>23-Aug-12</td>\n",
       "    </tr>\n",
       "    <tr>\n",
       "      <th>36</th>\n",
       "      <td>498</td>\n",
       "      <td>1st Centennial Bank</td>\n",
       "      <td>Redlands</td>\n",
       "      <td>CA</td>\n",
       "      <td>33025</td>\n",
       "      <td>First California Bank</td>\n",
       "      <td>23-Jan-09</td>\n",
       "      <td>13-Apr-16</td>\n",
       "    </tr>\n",
       "    <tr>\n",
       "      <th>47</th>\n",
       "      <td>284</td>\n",
       "      <td>Granite Community Bank, NA</td>\n",
       "      <td>Granite Bay</td>\n",
       "      <td>CA</td>\n",
       "      <td>57315</td>\n",
       "      <td>Tri Counties Bank</td>\n",
       "      <td>28-May-10</td>\n",
       "      <td>14-Sep-12</td>\n",
       "    </tr>\n",
       "    <tr>\n",
       "      <th>57</th>\n",
       "      <td>507</td>\n",
       "      <td>Security Pacific Bank</td>\n",
       "      <td>Los Angeles</td>\n",
       "      <td>CA</td>\n",
       "      <td>23595</td>\n",
       "      <td>Pacific Western Bank</td>\n",
       "      <td>7-Nov-08</td>\n",
       "      <td>28-Aug-12</td>\n",
       "    </tr>\n",
       "    <tr>\n",
       "      <th>62</th>\n",
       "      <td>182</td>\n",
       "      <td>San Luis Trust Bank, FSB</td>\n",
       "      <td>San Luis Obispo</td>\n",
       "      <td>CA</td>\n",
       "      <td>34783</td>\n",
       "      <td>First California Bank</td>\n",
       "      <td>18-Feb-11</td>\n",
       "      <td>12-Sep-16</td>\n",
       "    </tr>\n",
       "    <tr>\n",
       "      <th>85</th>\n",
       "      <td>378</td>\n",
       "      <td>Pacific Coast National Bank</td>\n",
       "      <td>San Clemente</td>\n",
       "      <td>CA</td>\n",
       "      <td>57914</td>\n",
       "      <td>Sunwest Bank</td>\n",
       "      <td>13-Nov-09</td>\n",
       "      <td>10-Apr-17</td>\n",
       "    </tr>\n",
       "    <tr>\n",
       "      <th>92</th>\n",
       "      <td>90</td>\n",
       "      <td>Palm Desert National Bank</td>\n",
       "      <td>Palm Desert</td>\n",
       "      <td>CA</td>\n",
       "      <td>23632</td>\n",
       "      <td>Pacific Premier Bank</td>\n",
       "      <td>27-Apr-12</td>\n",
       "      <td>7-Dec-15</td>\n",
       "    </tr>\n",
       "    <tr>\n",
       "      <th>100</th>\n",
       "      <td>402</td>\n",
       "      <td>San Joaquin Bank</td>\n",
       "      <td>Bakersfield</td>\n",
       "      <td>CA</td>\n",
       "      <td>23266</td>\n",
       "      <td>Citizens Business Bank</td>\n",
       "      <td>16-Oct-09</td>\n",
       "      <td>22-Aug-12</td>\n",
       "    </tr>\n",
       "    <tr>\n",
       "      <th>102</th>\n",
       "      <td>504</td>\n",
       "      <td>PFF Bank &amp; Trust</td>\n",
       "      <td>Pomona</td>\n",
       "      <td>CA</td>\n",
       "      <td>28344</td>\n",
       "      <td>U.S. Bank, N.A.</td>\n",
       "      <td>21-Nov-08</td>\n",
       "      <td>4-Jan-13</td>\n",
       "    </tr>\n",
       "    <tr>\n",
       "      <th>135</th>\n",
       "      <td>293</td>\n",
       "      <td>1st Pacific Bank of California</td>\n",
       "      <td>San Diego</td>\n",
       "      <td>CA</td>\n",
       "      <td>35517</td>\n",
       "      <td>City National Bank</td>\n",
       "      <td>7-May-10</td>\n",
       "      <td>13-Dec-12</td>\n",
       "    </tr>\n",
       "    <tr>\n",
       "      <th>138</th>\n",
       "      <td>183</td>\n",
       "      <td>Charter Oak Bank</td>\n",
       "      <td>Napa</td>\n",
       "      <td>CA</td>\n",
       "      <td>57855</td>\n",
       "      <td>Bank of Marin</td>\n",
       "      <td>18-Feb-11</td>\n",
       "      <td>12-Sep-12</td>\n",
       "    </tr>\n",
       "    <tr>\n",
       "      <th>139</th>\n",
       "      <td>220</td>\n",
       "      <td>Western Commercial Bank</td>\n",
       "      <td>Woodland Hills</td>\n",
       "      <td>CA</td>\n",
       "      <td>58087</td>\n",
       "      <td>First California Bank</td>\n",
       "      <td>5-Nov-10</td>\n",
       "      <td>12-Sep-16</td>\n",
       "    </tr>\n",
       "    <tr>\n",
       "      <th>153</th>\n",
       "      <td>218</td>\n",
       "      <td>First Vietnamese American Bank</td>\n",
       "      <td>Westminster</td>\n",
       "      <td>CA</td>\n",
       "      <td>57885</td>\n",
       "      <td>Grandpoint Bank</td>\n",
       "      <td>5-Nov-10</td>\n",
       "      <td>12-Sep-12</td>\n",
       "    </tr>\n",
       "  </tbody>\n",
       "</table>\n",
       "</div>"
      ],
      "text/plain": [
       "     Unnamed: 0                       Bank Name             City  ST   CERT  \\\n",
       "10          313                 Innovative Bank          Oakland  CA  23876   \n",
       "36          498             1st Centennial Bank         Redlands  CA  33025   \n",
       "47          284      Granite Community Bank, NA      Granite Bay  CA  57315   \n",
       "57          507           Security Pacific Bank      Los Angeles  CA  23595   \n",
       "62          182        San Luis Trust Bank, FSB  San Luis Obispo  CA  34783   \n",
       "85          378     Pacific Coast National Bank     San Clemente  CA  57914   \n",
       "92           90       Palm Desert National Bank      Palm Desert  CA  23632   \n",
       "100         402                San Joaquin Bank      Bakersfield  CA  23266   \n",
       "102         504                PFF Bank & Trust           Pomona  CA  28344   \n",
       "135         293  1st Pacific Bank of California        San Diego  CA  35517   \n",
       "138         183                Charter Oak Bank             Napa  CA  57855   \n",
       "139         220         Western Commercial Bank   Woodland Hills  CA  58087   \n",
       "153         218  First Vietnamese American Bank      Westminster  CA  57885   \n",
       "\n",
       "      Acquiring Institution Closing Date Updated Date  \n",
       "10              Center Bank    16-Apr-10    23-Aug-12  \n",
       "36    First California Bank    23-Jan-09    13-Apr-16  \n",
       "47        Tri Counties Bank    28-May-10    14-Sep-12  \n",
       "57     Pacific Western Bank     7-Nov-08    28-Aug-12  \n",
       "62    First California Bank    18-Feb-11    12-Sep-16  \n",
       "85             Sunwest Bank    13-Nov-09    10-Apr-17  \n",
       "92     Pacific Premier Bank    27-Apr-12     7-Dec-15  \n",
       "100  Citizens Business Bank    16-Oct-09    22-Aug-12  \n",
       "102         U.S. Bank, N.A.    21-Nov-08     4-Jan-13  \n",
       "135      City National Bank     7-May-10    13-Dec-12  \n",
       "138           Bank of Marin    18-Feb-11    12-Sep-12  \n",
       "139   First California Bank     5-Nov-10    12-Sep-16  \n",
       "153         Grandpoint Bank     5-Nov-10    12-Sep-12  "
      ]
     },
     "execution_count": 30,
     "metadata": {},
     "output_type": "execute_result"
    }
   ],
   "source": [
    "df[df[\"ST\"]==\"CA\"]"
   ]
  },
  {
   "cell_type": "markdown",
   "metadata": {},
   "source": [
    "Quantos bancos não possuem a palavra \"Bank\" e em seus nomes?"
   ]
  },
  {
   "cell_type": "code",
   "execution_count": null,
   "metadata": {
    "collapsed": true
   },
   "outputs": [],
   "source": []
  },
  {
   "cell_type": "markdown",
   "metadata": {},
   "source": [
    "Quantos bancos possuem nome começando com a letra \"s\"?"
   ]
  },
  {
   "cell_type": "code",
   "execution_count": null,
   "metadata": {
    "collapsed": true
   },
   "outputs": [],
   "source": []
  },
  {
   "cell_type": "markdown",
   "metadata": {},
   "source": [
    "Quantos valores CERT são acima de 20000?"
   ]
  },
  {
   "cell_type": "code",
   "execution_count": null,
   "metadata": {
    "collapsed": true
   },
   "outputs": [],
   "source": []
  },
  {
   "cell_type": "markdown",
   "metadata": {},
   "source": [
    "Quantos bancos possuem nomes que consistem de exatamente duas palavras? (ex: \"First Bank\", \"Bank Georgia\")"
   ]
  },
  {
   "cell_type": "code",
   "execution_count": null,
   "metadata": {
    "collapsed": true
   },
   "outputs": [],
   "source": []
  },
  {
   "cell_type": "markdown",
   "metadata": {},
   "source": [
    "Quantos bancos fecharam no ano de 2008?"
   ]
  },
  {
   "cell_type": "code",
   "execution_count": null,
   "metadata": {
    "collapsed": true
   },
   "outputs": [],
   "source": []
  },
  {
   "cell_type": "markdown",
   "metadata": {},
   "source": [
    "Qual o CERT médio, máximo e mínimo por estado?"
   ]
  },
  {
   "cell_type": "code",
   "execution_count": null,
   "metadata": {},
   "outputs": [],
   "source": []
  },
  {
   "cell_type": "markdown",
   "metadata": {},
   "source": [
    "## Exercício! "
   ]
  },
  {
   "cell_type": "markdown",
   "metadata": {},
   "source": [
    "Faça uma análise exploratória na base do iris. Encontre padrões, manualmente, sobre o que pode definir a classe de uma flor e cria uma função (com `if-else`) que dadas as características da flor, retorne sua classe."
   ]
  },
  {
   "cell_type": "code",
   "execution_count": null,
   "metadata": {},
   "outputs": [],
   "source": []
  }
 ],
 "metadata": {
  "kernelspec": {
   "display_name": "Python 3",
   "language": "python",
   "name": "python3"
  },
  "language_info": {
   "codemirror_mode": {
    "name": "ipython",
    "version": 3
   },
   "file_extension": ".py",
   "mimetype": "text/x-python",
   "name": "python",
   "nbconvert_exporter": "python",
   "pygments_lexer": "ipython3",
   "version": "3.7.4"
  }
 },
 "nbformat": 4,
 "nbformat_minor": 2
}
