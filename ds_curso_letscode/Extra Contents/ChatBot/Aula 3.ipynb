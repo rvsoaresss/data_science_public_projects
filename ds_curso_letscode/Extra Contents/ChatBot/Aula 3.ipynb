{
 "cells": [
  {
   "cell_type": "code",
   "execution_count": 1,
   "metadata": {},
   "outputs": [
    {
     "name": "stdout",
     "output_type": "stream",
     "text": [
      "Collecting chatterbot\n",
      "  Downloading https://files.pythonhosted.org/packages/6c/0e/dac0d82f34f86bf509cf5ef3e2dfc5aa7d444bd843a2330ceb7d854f84f2/ChatterBot-1.0.5-py2.py3-none-any.whl (67kB)\n",
      "Requirement already satisfied: pyyaml<5.2,>=5.1 in c:\\users\\soaresdo\\appdata\\local\\programs\\python\\python37\\lib\\site-packages (from chatterbot) (5.1.2)\n",
      "Requirement already satisfied: pytz in c:\\users\\soaresdo\\appdata\\local\\programs\\python\\python37\\lib\\site-packages (from chatterbot) (2019.2)\n",
      "Collecting spacy<2.2,>=2.1\n",
      "  Downloading https://files.pythonhosted.org/packages/41/ef/b6526a755050ddd937ef88e4a969ed9ba6854f3dd792516a692aad4bb6a7/spacy-2.1.9-cp37-cp37m-win_amd64.whl (30.0MB)\n",
      "Collecting mathparse<0.2,>=0.1\n",
      "  Downloading https://files.pythonhosted.org/packages/c3/e5/4910fb85950cb960fcf3f5aabe1c8e55f5c9201788a1c1302b570a7e1f84/mathparse-0.1.2-py3-none-any.whl\n",
      "Collecting pymongo<4.0,>=3.3\n",
      "  Downloading https://files.pythonhosted.org/packages/c9/36/715c4ccace03a20cf7e8f15a670f651615744987af62fad8b48bea8f65f9/pymongo-3.9.0-cp37-cp37m-win_amd64.whl (351kB)\n",
      "Collecting pint>=0.8.1\n",
      "  Downloading https://files.pythonhosted.org/packages/15/9d/bf177ebbc57d25e9e296addc14a1303d1e34d7964af5df428a8332349c42/Pint-0.9-py2.py3-none-any.whl (138kB)\n",
      "Requirement already satisfied: nltk<4.0,>=3.2 in c:\\users\\soaresdo\\appdata\\local\\programs\\python\\python37\\lib\\site-packages (from chatterbot) (3.4.5)\n",
      "Collecting sqlalchemy<1.3,>=1.2\n",
      "  Downloading https://files.pythonhosted.org/packages/f9/67/d07cf7ac7e6dd0bc55ba62816753f86d7c558107104ca915e730c9ec2512/SQLAlchemy-1.2.19.tar.gz (5.7MB)\n",
      "Collecting python-dateutil<2.8,>=2.7\n",
      "  Downloading https://files.pythonhosted.org/packages/74/68/d87d9b36af36f44254a8d512cbfc48369103a3b9e474be9bdfe536abfc45/python_dateutil-2.7.5-py2.py3-none-any.whl (225kB)\n",
      "Collecting cymem<2.1.0,>=2.0.2\n",
      "  Downloading https://files.pythonhosted.org/packages/73/26/fb9d708e2570bb48f35ce8b6f796ece9b0805191eb11545697a4e9fe06bc/cymem-2.0.2-cp37-cp37m-win_amd64.whl\n",
      "Collecting wasabi<1.1.0,>=0.2.0\n",
      "  Downloading https://files.pythonhosted.org/packages/c9/a1/6a75283482e6662cc3b050aed656ab234b97d64c3e12df10d08f1c4932ad/wasabi-0.3.0-py3-none-any.whl\n",
      "Collecting murmurhash<1.1.0,>=0.28.0\n",
      "  Downloading https://files.pythonhosted.org/packages/4f/7b/d77bc9bb101e113884b2d70a118e7ec8dcc9846a35a0e10d47ca37acdcbf/murmurhash-1.0.2-cp37-cp37m-win_amd64.whl\n",
      "Requirement already satisfied: requests<3.0.0,>=2.13.0 in c:\\users\\soaresdo\\appdata\\local\\programs\\python\\python37\\lib\\site-packages (from spacy<2.2,>=2.1->chatterbot) (2.22.0)\n",
      "Collecting blis<0.3.0,>=0.2.2\n",
      "  Downloading https://files.pythonhosted.org/packages/5e/94/9da0eff97411b3e85933e8b955d2ffd353f97b65372a2861e57d59d9ad5d/blis-0.2.4-cp37-cp37m-win_amd64.whl (3.1MB)\n",
      "Collecting thinc<7.1.0,>=7.0.8\n",
      "  Downloading https://files.pythonhosted.org/packages/20/16/96f6c0a4301f392077c67831639e8e614e2adf45185ee6a1c6a3f0ab2299/thinc-7.0.8-cp37-cp37m-win_amd64.whl (1.9MB)\n",
      "Requirement already satisfied: numpy>=1.15.0 in c:\\users\\soaresdo\\appdata\\local\\programs\\python\\python37\\lib\\site-packages (from spacy<2.2,>=2.1->chatterbot) (1.17.3)\n",
      "Collecting srsly<1.1.0,>=0.0.6\n",
      "  Downloading https://files.pythonhosted.org/packages/b7/a7/8829e71f434e442564dd9958299aa15c35885923aabe41bdc35f79887bad/srsly-0.2.0-cp37-cp37m-win_amd64.whl (174kB)\n",
      "Collecting preshed<2.1.0,>=2.0.1\n",
      "  Downloading https://files.pythonhosted.org/packages/b8/e3/0ec374ed2b5046073e735b6e349d759e795fc2e3c83306fbef88efa01921/preshed-2.0.1-cp37-cp37m-win_amd64.whl (73kB)\n",
      "Collecting plac<1.0.0,>=0.9.6\n",
      "  Downloading https://files.pythonhosted.org/packages/9e/9b/62c60d2f5bc135d2aa1d8c8a86aaf84edb719a59c7f11a4316259e61a298/plac-0.9.6-py2.py3-none-any.whl\n",
      "Requirement already satisfied: six in c:\\users\\soaresdo\\appdata\\local\\programs\\python\\python37\\lib\\site-packages (from nltk<4.0,>=3.2->chatterbot) (1.12.0)\n",
      "Requirement already satisfied: certifi>=2017.4.17 in c:\\users\\soaresdo\\appdata\\local\\programs\\python\\python37\\lib\\site-packages (from requests<3.0.0,>=2.13.0->spacy<2.2,>=2.1->chatterbot) (2019.9.11)\n",
      "Requirement already satisfied: chardet<3.1.0,>=3.0.2 in c:\\users\\soaresdo\\appdata\\local\\programs\\python\\python37\\lib\\site-packages (from requests<3.0.0,>=2.13.0->spacy<2.2,>=2.1->chatterbot) (3.0.4)\n",
      "Requirement already satisfied: urllib3!=1.25.0,!=1.25.1,<1.26,>=1.21.1 in c:\\users\\soaresdo\\appdata\\local\\programs\\python\\python37\\lib\\site-packages (from requests<3.0.0,>=2.13.0->spacy<2.2,>=2.1->chatterbot) (1.25.6)\n",
      "Requirement already satisfied: idna<2.9,>=2.5 in c:\\users\\soaresdo\\appdata\\local\\programs\\python\\python37\\lib\\site-packages (from requests<3.0.0,>=2.13.0->spacy<2.2,>=2.1->chatterbot) (2.8)\n",
      "Collecting tqdm<5.0.0,>=4.10.0\n",
      "  Downloading https://files.pythonhosted.org/packages/05/f2/764a5d530cf143ded9bc95216edb6e258c6554511e78de7c250557e8f3ed/tqdm-4.37.0-py2.py3-none-any.whl (53kB)\n",
      "Installing collected packages: cymem, wasabi, murmurhash, blis, tqdm, preshed, srsly, plac, thinc, spacy, mathparse, pymongo, pint, sqlalchemy, python-dateutil, chatterbot\n",
      "    Running setup.py install for sqlalchemy: started\n",
      "    Running setup.py install for sqlalchemy: finished with status 'done'\n",
      "  Found existing installation: python-dateutil 2.8.0\n",
      "    Uninstalling python-dateutil-2.8.0:\n",
      "      Successfully uninstalled python-dateutil-2.8.0\n",
      "Successfully installed blis-0.2.4 chatterbot-1.0.5 cymem-2.0.2 mathparse-0.1.2 murmurhash-1.0.2 pint-0.9 plac-0.9.6 preshed-2.0.1 pymongo-3.9.0 python-dateutil-2.7.5 spacy-2.1.9 sqlalchemy-1.2.19 srsly-0.2.0 thinc-7.0.8 tqdm-4.37.0 wasabi-0.3.0\n"
     ]
    }
   ],
   "source": [
    "# instação leva uns 3min\n",
    "!pip install chatterbot"
   ]
  },
  {
   "cell_type": "code",
   "execution_count": 2,
   "metadata": {},
   "outputs": [
    {
     "name": "stdout",
     "output_type": "stream",
     "text": [
      "Collecting chatterbot_corpus\n",
      "  Downloading https://files.pythonhosted.org/packages/ed/19/f8b41daf36fe4b0f43e283a820362ffdb2c1128600ab4ee187e84262fa4d/chatterbot_corpus-1.2.0-py2.py3-none-any.whl (117kB)\n",
      "Collecting PyYAML<4.0,>=3.12\n",
      "  Downloading https://files.pythonhosted.org/packages/bf/96/d02ef8e1f3073e07ffdc240444e5041f403f29c0775f9f1653f18221082f/PyYAML-3.13-cp37-cp37m-win_amd64.whl (206kB)\n",
      "Installing collected packages: PyYAML, chatterbot-corpus\n",
      "  Found existing installation: PyYAML 5.1.2\n",
      "    Uninstalling PyYAML-5.1.2:\n",
      "      Successfully uninstalled PyYAML-5.1.2\n",
      "Successfully installed PyYAML-3.13 chatterbot-corpus-1.2.0\n"
     ]
    },
    {
     "name": "stderr",
     "output_type": "stream",
     "text": [
      "ERROR: chatterbot 1.0.5 has requirement pyyaml<5.2,>=5.1, but you'll have pyyaml 3.13 which is incompatible.\n"
     ]
    }
   ],
   "source": [
    "# comando apresentou erro\n",
    "!pip install chatterbot_corpus"
   ]
  },
  {
   "cell_type": "code",
   "execution_count": 5,
   "metadata": {},
   "outputs": [
    {
     "name": "stdout",
     "output_type": "stream",
     "text": [
      "Requirement already satisfied: chatterbot-corpus from git+https://github.com/gunthercox/chatterbot-corpus.git#egg=chatterbot-corpus in c:\\users\\soaresdo\\appdata\\local\\programs\\python\\python37\\lib\\site-packages (1.2.0)\n",
      "Requirement already satisfied: PyYAML<4.0,>=3.12 in c:\\users\\soaresdo\\appdata\\local\\programs\\python\\python37\\lib\\site-packages (from chatterbot-corpus) (3.13)\n"
     ]
    }
   ],
   "source": [
    "!pip install git+https://github.com/gunthercox/chatterbot-corpus.git#egg=chatterbot-corpus"
   ]
  },
  {
   "cell_type": "code",
   "execution_count": 6,
   "metadata": {},
   "outputs": [],
   "source": [
    "from chatterbot import ChatBot\n",
    "from chatterbot.trainers import ChatterBotCorpusTrainer\n",
    "from chatterbot.trainers import ListTrainer"
   ]
  },
  {
   "cell_type": "code",
   "execution_count": 7,
   "metadata": {},
   "outputs": [
    {
     "name": "stderr",
     "output_type": "stream",
     "text": [
      "[nltk_data] Downloading package stopwords to\n",
      "[nltk_data]     C:\\Users\\soaresdo\\AppData\\Roaming\\nltk_data...\n",
      "[nltk_data]   Package stopwords is already up-to-date!\n",
      "[nltk_data] Downloading package averaged_perceptron_tagger to\n",
      "[nltk_data]     C:\\Users\\soaresdo\\AppData\\Roaming\\nltk_data...\n",
      "[nltk_data]   Package averaged_perceptron_tagger is already up-to-\n",
      "[nltk_data]       date!\n"
     ]
    }
   ],
   "source": [
    "chatbot = ChatBot(\"Ananda\")\n",
    "trainer = ChatterBotCorpusTrainer(chatbot)\n",
    "trainer.train =(\"chatterbot.corpus.portuguese\")"
   ]
  },
  {
   "cell_type": "code",
   "execution_count": null,
   "metadata": {},
   "outputs": [
    {
     "name": "stdout",
     "output_type": "stream",
     "text": [
      "oi\n",
      "oi\n",
      "bom dia\n",
      "oi\n",
      "como esta?\n",
      "oi\n"
     ]
    }
   ],
   "source": [
    "while True:\n",
    "    try:\n",
    "        bot_input = chatbot.get_response(input())\n",
    "        print(bot_input)\n",
    "    except:\n",
    "        print(\"Algo deu errado... Tchau!\")"
   ]
  },
  {
   "cell_type": "code",
   "execution_count": null,
   "metadata": {},
   "outputs": [],
   "source": [
    "# instação leva uns 30min\n",
    "!pip install selenium"
   ]
  },
  {
   "cell_type": "code",
   "execution_count": null,
   "metadata": {},
   "outputs": [],
   "source": []
  },
  {
   "cell_type": "code",
   "execution_count": null,
   "metadata": {},
   "outputs": [],
   "source": []
  },
  {
   "cell_type": "code",
   "execution_count": null,
   "metadata": {},
   "outputs": [],
   "source": []
  },
  {
   "cell_type": "code",
   "execution_count": null,
   "metadata": {},
   "outputs": [],
   "source": []
  }
 ],
 "metadata": {
  "kernelspec": {
   "display_name": "Python 3",
   "language": "python",
   "name": "python3"
  },
  "language_info": {
   "codemirror_mode": {
    "name": "ipython",
    "version": 3
   },
   "file_extension": ".py",
   "mimetype": "text/x-python",
   "name": "python",
   "nbconvert_exporter": "python",
   "pygments_lexer": "ipython3",
   "version": "3.7.4"
  }
 },
 "nbformat": 4,
 "nbformat_minor": 2
}
