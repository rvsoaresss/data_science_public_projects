{
 "cells": [
  {
   "cell_type": "markdown",
   "metadata": {
    "colab_type": "text",
    "id": "qwg-A-PYfsnA"
   },
   "source": [
    "# Conectando ao Web Whatsapp - Parte 2\n",
    "---\n",
    "No BOOTCAMP CHATBOTS PARA WHATSAPP nos aprofundamos nas features e capacidades do chatbot(como envio de arquivos/imagens), tanto em API´s e Webhooks, como na escalabilidade/disponibilidade na conexão junto ao Whatsapp Mobile."
   ]
  },
  {
   "cell_type": "code",
   "execution_count": 1,
   "metadata": {
    "colab": {},
    "colab_type": "code",
    "id": "v7v3JYQ7aaCy"
   },
   "outputs": [
    {
     "ename": "ModuleNotFoundError",
     "evalue": "No module named 'wikipedia'",
     "output_type": "error",
     "traceback": [
      "\u001b[1;31m---------------------------------------------------------------------------\u001b[0m",
      "\u001b[1;31mModuleNotFoundError\u001b[0m                       Traceback (most recent call last)",
      "\u001b[1;32m<ipython-input-1-50460f7e6e08>\u001b[0m in \u001b[0;36m<module>\u001b[1;34m\u001b[0m\n\u001b[0;32m      1\u001b[0m \u001b[1;31m# WIKIPEDIA\u001b[0m\u001b[1;33m\u001b[0m\u001b[1;33m\u001b[0m\u001b[1;33m\u001b[0m\u001b[0m\n\u001b[1;32m----> 2\u001b[1;33m \u001b[1;32mimport\u001b[0m \u001b[0mwikipedia\u001b[0m\u001b[1;33m\u001b[0m\u001b[1;33m\u001b[0m\u001b[0m\n\u001b[0m\u001b[0;32m      3\u001b[0m \u001b[0mwikipedia\u001b[0m\u001b[1;33m.\u001b[0m\u001b[0mset_lang\u001b[0m\u001b[1;33m(\u001b[0m\u001b[1;34m'pt'\u001b[0m\u001b[1;33m)\u001b[0m\u001b[1;33m\u001b[0m\u001b[1;33m\u001b[0m\u001b[0m\n\u001b[0;32m      4\u001b[0m \u001b[1;32mdef\u001b[0m \u001b[0mwiki\u001b[0m\u001b[1;33m(\u001b[0m\u001b[1;33m)\u001b[0m\u001b[1;33m:\u001b[0m\u001b[1;33m\u001b[0m\u001b[1;33m\u001b[0m\u001b[0m\n\u001b[0;32m      5\u001b[0m   \u001b[1;32mtry\u001b[0m\u001b[1;33m:\u001b[0m\u001b[1;33m\u001b[0m\u001b[1;33m\u001b[0m\u001b[0m\n",
      "\u001b[1;31mModuleNotFoundError\u001b[0m: No module named 'wikipedia'"
     ]
    }
   ],
   "source": [
    "# WIKIPEDIA\n",
    "import wikipedia\n",
    "wikipedia.set_lang('pt')\n",
    "def wiki():\n",
    "  try:\n",
    "    busca = str(pegaConversa().strip().lower()[2:])\n",
    "    mensagem = '{}'.format(wikipedia.summary(busca))\n",
    "    enviaMensagem(mensagem)\n",
    "  except:\n",
    "    enviaMensagem('Não encontrei nada relevante para \"{}\" na Wikipedia em português.'.format(busca))"
   ]
  },
  {
   "cell_type": "code",
   "execution_count": 2,
   "metadata": {
    "colab": {},
    "colab_type": "code",
    "id": "QGuPXdk7aceg"
   },
   "outputs": [],
   "source": [
    "# NOTÍCIAS\n",
    "import json\n",
    "import requests\n",
    "def noticias():\n",
    "\ttry:\n",
    "\t\treq = requests.get('https://newsapi.org/v2/top-headlines?country=br&category=technology&apiKey=')\n",
    "\t\tnoticias = json.loads(req.text)\n",
    "\t\tfor news in noticias['articles']:\n",
    "\t\t\ttitulo = news['title']\n",
    "\t\t\tlink = news['url']\n",
    "\t\t\tdesc = news['description']\n",
    "\t\t\tmensagem = \"{}\\n{}\\n{}\".format(titulo,desc,link)\n",
    "\t\t\tenviaMensagem(mensagem)\n",
    "\t\t\ttime.sleep(1)\n",
    "\texcept:\n",
    "\t\tenviaMensagem(\"agora não...\")\n",
    "\t\tpass"
   ]
  },
  {
   "cell_type": "code",
   "execution_count": 3,
   "metadata": {
    "colab": {},
    "colab_type": "code",
    "id": "Z2MuQDxSv0mt"
   },
   "outputs": [],
   "source": [
    "# VISÃO COMPUTACIONAL\n",
    "from PIL import Image #pip install Pillow\n",
    "def visa():\n",
    "\t# CAPTAR A FOTO\n",
    "\tfoto = driver.find_elements_by_class_name('_3mdDl')\n",
    "\tlast = len(foto) - 1\n",
    "\tfor img in foto[last].find_elements_by_tag_name('img'):\n",
    "\t  try:\n",
    "\t\t  #salvar imagem\n",
    "\t\t  img.screenshot(\"path/nome.png\")\n",
    "\t\t  #converter imagem\n",
    "\t\t  im = Image.open(\"path/nome.png\")\n",
    "\t\t  rgb = im.convert('RGB')\n",
    "\t\t  rgb.save(\"path/nome.jpg\")\n",
    "\t\t  break\n",
    "\t  except:\n",
    "\t\t  enviaMensagem(\"agora não...\")\n",
    "\t\t  break\n",
    "\tenviaMensagem(\"Analisando imagem...\")\n",
    "\t# PUBLICAR FOTO NA WEB\n",
    "\tfrom imgurpython import ImgurClient\n",
    "\tclient_id = 'CLIENT-ID'\n",
    "\tclient_secret = 'CLIENT SCRET'\n",
    "\tclient = ImgurClient(client_id, client_secret)\n",
    "\timage = client.upload_from_path(\"path-da-sua-img\",anon=False)\n",
    "\tprint(image['link'])\n",
    "\t# API AZURE FACE\n",
    "\timport requests\n",
    "\timport json\n",
    "\timport os\n",
    "\tsubscription_key = \"key\"\n",
    "\tassert subscription_key\n",
    "\tface_api_url = 'seu-endpoint/detect'\n",
    "\timage_url = image['link']\n",
    "\theaders = {'Ocp-Apim-Subscription-Key': subscription_key}\n",
    "\tparams = {'returnFaceId': 'true','returnFaceLandmarks': 'false','returnFaceAttributes': 'age,gender'}\n",
    "\trespo = requests.post(face_api_url, params=params,headers=headers, json={\"url\": image_url})\n",
    "\t# ENVIAR RESULTADOS DA API\n",
    "\ttry:\n",
    "\t\tgenero = None\n",
    "\t\tif (response.json()[0][\"faceAttributes\"]['gender'] == 'male'):\n",
    "\t\t\tgenero = \"Homem\"\n",
    "\t\telse:\n",
    "\t\t\tgenero = \"Mulher\"\n",
    "\t\tenviaMensagem(\"{}, {} anos\".format(genero,int(respo.json()[0]['faceAttributes']['age'])))\n",
    "\texcept:\n",
    "\t\tenviaMensagem(\"Rosto não reconhecido.\")"
   ]
  },
  {
   "cell_type": "code",
   "execution_count": 4,
   "metadata": {
    "colab": {},
    "colab_type": "code",
    "id": "2nFesBRBfq1I"
   },
   "outputs": [
    {
     "ename": "NameError",
     "evalue": "name 'pegaConversa' is not defined",
     "output_type": "error",
     "traceback": [
      "\u001b[1;31m---------------------------------------------------------------------------\u001b[0m",
      "\u001b[1;31mNameError\u001b[0m                                 Traceback (most recent call last)",
      "\u001b[1;32m<ipython-input-4-3f54ea80baf2>\u001b[0m in \u001b[0;36m<module>\u001b[1;34m\u001b[0m\n\u001b[0;32m      1\u001b[0m \u001b[1;31m# BLOCO PRINCIPAL DE EXECUÇÃO\u001b[0m\u001b[1;33m\u001b[0m\u001b[1;33m\u001b[0m\u001b[1;33m\u001b[0m\u001b[0m\n\u001b[1;32m----> 2\u001b[1;33m \u001b[0msalva\u001b[0m \u001b[1;33m=\u001b[0m \u001b[0mpegaConversa\u001b[0m\u001b[1;33m(\u001b[0m\u001b[1;33m)\u001b[0m\u001b[1;33m\u001b[0m\u001b[1;33m\u001b[0m\u001b[0m\n\u001b[0m\u001b[0;32m      3\u001b[0m \u001b[1;32mwhile\u001b[0m \u001b[1;32mTrue\u001b[0m\u001b[1;33m:\u001b[0m\u001b[1;33m\u001b[0m\u001b[1;33m\u001b[0m\u001b[0m\n\u001b[0;32m      4\u001b[0m         \u001b[1;32mtry\u001b[0m\u001b[1;33m:\u001b[0m\u001b[1;33m\u001b[0m\u001b[1;33m\u001b[0m\u001b[0m\n\u001b[0;32m      5\u001b[0m                 \u001b[1;32mif\u001b[0m \u001b[0mpegaConversa\u001b[0m\u001b[1;33m(\u001b[0m\u001b[1;33m)\u001b[0m \u001b[1;33m!=\u001b[0m \u001b[1;34m''\u001b[0m \u001b[1;32mand\u001b[0m \u001b[0mpegaConversa\u001b[0m\u001b[1;33m(\u001b[0m\u001b[1;33m)\u001b[0m\u001b[1;33m[\u001b[0m\u001b[1;33m:\u001b[0m\u001b[1;36m8\u001b[0m\u001b[1;33m]\u001b[0m \u001b[1;33m!=\u001b[0m \u001b[1;34m\"Ananda: \"\u001b[0m \u001b[1;32mand\u001b[0m \u001b[0mpegaConversa\u001b[0m\u001b[1;33m(\u001b[0m\u001b[1;33m)\u001b[0m \u001b[1;33m!=\u001b[0m \u001b[0msalva\u001b[0m \u001b[1;32mand\u001b[0m \u001b[0mpegaConversa\u001b[0m\u001b[1;33m(\u001b[0m\u001b[1;33m)\u001b[0m\u001b[1;33m.\u001b[0m\u001b[0mstrip\u001b[0m\u001b[1;33m(\u001b[0m\u001b[1;33m)\u001b[0m \u001b[1;33m!=\u001b[0m \u001b[1;34m\"!\"\u001b[0m \u001b[1;32mand\u001b[0m \u001b[0mpegaConversa\u001b[0m\u001b[1;33m(\u001b[0m\u001b[1;33m)\u001b[0m\u001b[1;33m.\u001b[0m\u001b[0mstrip\u001b[0m\u001b[1;33m(\u001b[0m\u001b[1;33m)\u001b[0m \u001b[1;33m!=\u001b[0m \u001b[1;34m\";\"\u001b[0m \u001b[1;32mand\u001b[0m \u001b[0mpegaConversa\u001b[0m\u001b[1;33m(\u001b[0m\u001b[1;33m)\u001b[0m\u001b[1;33m.\u001b[0m\u001b[0mstrip\u001b[0m\u001b[1;33m(\u001b[0m\u001b[1;33m)\u001b[0m\u001b[1;33m.\u001b[0m\u001b[0mlower\u001b[0m\u001b[1;33m(\u001b[0m\u001b[1;33m)\u001b[0m\u001b[1;33m[\u001b[0m\u001b[1;36m0\u001b[0m\u001b[1;33m:\u001b[0m\u001b[1;36m2\u001b[0m\u001b[1;33m]\u001b[0m \u001b[1;33m!=\u001b[0m \u001b[1;34m'w:'\u001b[0m \u001b[1;32mand\u001b[0m \u001b[0mpegaConversa\u001b[0m\u001b[1;33m(\u001b[0m\u001b[1;33m)\u001b[0m\u001b[1;33m.\u001b[0m\u001b[0mstrip\u001b[0m\u001b[1;33m(\u001b[0m\u001b[1;33m)\u001b[0m\u001b[1;33m.\u001b[0m\u001b[0mlower\u001b[0m\u001b[1;33m(\u001b[0m\u001b[1;33m)\u001b[0m \u001b[1;33m!=\u001b[0m \u001b[1;34m'noticias'\u001b[0m \u001b[1;32mand\u001b[0m \u001b[0mpegaConversa\u001b[0m\u001b[1;33m(\u001b[0m\u001b[1;33m)\u001b[0m\u001b[1;33m.\u001b[0m\u001b[0mstrip\u001b[0m\u001b[1;33m(\u001b[0m\u001b[1;33m)\u001b[0m\u001b[1;33m.\u001b[0m\u001b[0mlower\u001b[0m\u001b[1;33m(\u001b[0m\u001b[1;33m)\u001b[0m \u001b[1;33m!=\u001b[0m \u001b[1;34m'notícias'\u001b[0m \u001b[1;32mand\u001b[0m \u001b[0mpegaConversa\u001b[0m\u001b[1;33m(\u001b[0m\u001b[1;33m)\u001b[0m\u001b[1;33m.\u001b[0m\u001b[0mstrip\u001b[0m\u001b[1;33m(\u001b[0m\u001b[1;33m)\u001b[0m\u001b[1;33m.\u001b[0m\u001b[0mlower\u001b[0m\u001b[1;33m(\u001b[0m\u001b[1;33m)\u001b[0m \u001b[1;33m!=\u001b[0m \u001b[1;34m'visão computacional'\u001b[0m\u001b[1;33m:\u001b[0m\u001b[1;33m\u001b[0m\u001b[1;33m\u001b[0m\u001b[0m\n",
      "\u001b[1;31mNameError\u001b[0m: name 'pegaConversa' is not defined"
     ]
    }
   ],
   "source": [
    "# BLOCO PRINCIPAL DE EXECUÇÃO\n",
    "salva = pegaConversa()\n",
    "while True:\n",
    "\ttry:\n",
    "\t\tif pegaConversa() != '' and pegaConversa()[:8] != \"Ananda: \" and pegaConversa() != salva and pegaConversa().strip() != \"!\" and pegaConversa().strip() != \";\" and pegaConversa().strip().lower()[0:2] != 'w:' and pegaConversa().strip().lower() != 'noticias' and pegaConversa().strip().lower() != 'notícias' and pegaConversa().strip().lower() != 'visão computacional':\n",
    "\t\t\ttexto = str(pegaConversa().lower().strip())\n",
    "\t\t\tresponse = chatbot.get_response(texto)\n",
    "\t\t\tif float(response.confidence) < 0.2:\n",
    "\t\t\t\ttreinar(pegaConversa())\n",
    "\t\t\telse:\n",
    "\t\t\t\tenviaMensagem(response)\n",
    "\t\telif pegaConversa().strip().lower()[0:2] == 'w:':\n",
    "\t\t\twiki()\n",
    "\t\telif pegaConversa().strip().lower() == 'noticias' or pegaConversa().strip().lower() == 'notícias':\n",
    "\t\t\tnoticias()\n",
    "\t\telif pegaConversa().strip().lower() == 'visão computacional':\n",
    "\t\t\tenviaMensagem(\"Aguardando envio da imagem...\")\n",
    "\t\t\ttime.sleep(15)\n",
    "\t\t\tvisa()\n",
    "\t\t\tpass\n",
    "\t\telse:\n",
    "\t\t\tpass\n",
    "\texcept:\n",
    "\t\tpass\n"
   ]
  },
  {
   "cell_type": "code",
   "execution_count": null,
   "metadata": {},
   "outputs": [],
   "source": []
  },
  {
   "cell_type": "code",
   "execution_count": null,
   "metadata": {},
   "outputs": [],
   "source": []
  }
 ],
 "metadata": {
  "colab": {
   "collapsed_sections": [],
   "name": "dia5-imersão-chatbots-whatsapp.ipynb",
   "provenance": []
  },
  "kernelspec": {
   "display_name": "Python 3",
   "language": "python",
   "name": "python3"
  },
  "language_info": {
   "codemirror_mode": {
    "name": "ipython",
    "version": 3
   },
   "file_extension": ".py",
   "mimetype": "text/x-python",
   "name": "python",
   "nbconvert_exporter": "python",
   "pygments_lexer": "ipython3",
   "version": "3.7.4"
  }
 },
 "nbformat": 4,
 "nbformat_minor": 1
}
