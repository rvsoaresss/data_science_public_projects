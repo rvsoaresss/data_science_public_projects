{
 "cells": [
  {
   "cell_type": "markdown",
   "metadata": {},
   "source": [
    "# Recursão"
   ]
  },
  {
   "cell_type": "markdown",
   "metadata": {},
   "source": [
    "Recursão é um método de resolução de problemas que envolve quebrar um problema em subproblemas\n",
    "menores e menores até chegar a um problema pequeno o suficiente para que ele possa ser resolvido\n",
    "trivialmente. Normalmente recursão envolve uma função que chama a si mesma. Embora possa não\n",
    "parecer muito, a recursão nos permite escrever soluções elegantes para problemas que, de outra forma,\n",
    "podem ser muito difíceis de programar."
   ]
  },
  {
   "cell_type": "markdown",
   "metadata": {},
   "source": [
    "# Calculando a soma de uma lista de numeros"
   ]
  },
  {
   "cell_type": "code",
   "execution_count": 15,
   "metadata": {},
   "outputs": [
    {
     "ename": "IndentationError",
     "evalue": "expected an indented block (<ipython-input-15-c1f462000c71>, line 4)",
     "output_type": "error",
     "traceback": [
      "\u001b[1;36m  File \u001b[1;32m\"<ipython-input-15-c1f462000c71>\"\u001b[1;36m, line \u001b[1;32m4\u001b[0m\n\u001b[1;33m    theSum = theSum + i\u001b[0m\n\u001b[1;37m         ^\u001b[0m\n\u001b[1;31mIndentationError\u001b[0m\u001b[1;31m:\u001b[0m expected an indented block\n"
     ]
    }
   ],
   "source": [
    "def listsum(numList):\n",
    "    theSum = 0\n",
    "    for i in numList:\n",
    "    theSum = theSum + i\n",
    "        return theSum\n",
    "print(listsum([1,3,5,7,9]))"
   ]
  },
  {
   "cell_type": "code",
   "execution_count": 9,
   "metadata": {},
   "outputs": [],
   "source": [
    "# Calculando a soma de uma lista de numeros usando recursão"
   ]
  },
  {
   "cell_type": "code",
   "execution_count": 14,
   "metadata": {},
   "outputs": [
    {
     "name": "stdout",
     "output_type": "stream",
     "text": [
      "25\n"
     ]
    }
   ],
   "source": [
    "def listsum(numList):\n",
    "    if len(numList) == 1:\n",
    "        return numList[0]\n",
    "    else:\n",
    "        return numList[0] + listsum(numList[1:])\n",
    "print(listsum([1,3,5,7,9]))"
   ]
  },
  {
   "cell_type": "markdown",
   "metadata": {},
   "source": [
    "# As tres leis da recursão\n",
    "Um algoritmo recursivo deve ter um caso básico;\n",
    "Um algoritmo recursivo deve mudar o seu estado e se aproximar do caso básico;\n",
    "Um algoritmo recursivo deve chamar a si mesmo."
   ]
  },
  {
   "cell_type": "markdown",
   "metadata": {},
   "source": [
    "# Convertendo um número inteiro para uma string em qualquer base\n",
    "Reduzir o número original para uma série de números de um dígito.\n",
    "Converter o número de um dígito para um string.\n",
    "Concatenar os strings de um dígito para formar o resultado final."
   ]
  },
  {
   "cell_type": "code",
   "execution_count": 17,
   "metadata": {},
   "outputs": [
    {
     "name": "stdout",
     "output_type": "stream",
     "text": [
      "5AD\n"
     ]
    }
   ],
   "source": [
    "def toStr(n, base):\n",
    "    convertString = \"0123456789ABCDEF\"\n",
    "    \n",
    "    if n < base:\n",
    "        return convertString[n]\n",
    "    else:\n",
    "        return toStr(n // base, base) + convertString[n % base]\n",
    "print(toStr(1453, 16))"
   ]
  },
  {
   "cell_type": "markdown",
   "metadata": {},
   "source": [
    "# EXERCICIO 1\n",
    "Defina a função soma_nat que recebe como argumento um número natural n e devolve a soma de\n",
    "todos os números naturais até n.\n",
    "\n",
    "soma_nat(5)\n",
    "\n",
    "15"
   ]
  },
  {
   "cell_type": "code",
   "execution_count": null,
   "metadata": {},
   "outputs": [],
   "source": []
  },
  {
   "cell_type": "markdown",
   "metadata": {},
   "source": [
    "# EXERCICIO 2\n",
    "Defina a função media_digitos que recebe como argumento um número natural e devolve a média dos\n",
    "seus digitos.\n",
    "\n",
    "media_digitos(1234)\n",
    "\n",
    "2.5"
   ]
  },
  {
   "cell_type": "code",
   "execution_count": null,
   "metadata": {},
   "outputs": [],
   "source": []
  },
  {
   "cell_type": "markdown",
   "metadata": {},
   "source": [
    "# EXERCICIO 3\n",
    "Defina a função quadrados que recebe como argumento um número natural n e devolve a lista dos n\n",
    "primeiros quadrados perfeitos.\n",
    "\n",
    "quadrados(6)\n",
    "\n",
    "[1, 4, 9, 16, 25, 36]"
   ]
  },
  {
   "cell_type": "code",
   "execution_count": null,
   "metadata": {},
   "outputs": [],
   "source": []
  }
 ],
 "metadata": {
  "kernelspec": {
   "display_name": "Python 3",
   "language": "python",
   "name": "python3"
  },
  "language_info": {
   "codemirror_mode": {
    "name": "ipython",
    "version": 3
   },
   "file_extension": ".py",
   "mimetype": "text/x-python",
   "name": "python",
   "nbconvert_exporter": "python",
   "pygments_lexer": "ipython3",
   "version": "3.7.4"
  }
 },
 "nbformat": 4,
 "nbformat_minor": 2
}
