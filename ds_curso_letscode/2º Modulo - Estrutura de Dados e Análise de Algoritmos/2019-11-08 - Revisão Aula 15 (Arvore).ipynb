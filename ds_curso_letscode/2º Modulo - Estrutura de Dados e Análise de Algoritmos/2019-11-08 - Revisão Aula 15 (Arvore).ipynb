{
 "cells": [
  {
   "cell_type": "markdown",
   "metadata": {},
   "source": [
    "# O que é uma Arvore?\n",
    "\n",
    "Como listas ligadas, árvores são constituídas de células. Uma espécie comum de árvores é a árvore\n",
    "binária, em que cada célula contém referências a duas outras células. Tais referências são chamadas de\n",
    "subárvore esquerda e direita."
   ]
  },
  {
   "cell_type": "code",
   "execution_count": null,
   "metadata": {},
   "outputs": [],
   "source": []
  }
 ],
 "metadata": {
  "kernelspec": {
   "display_name": "Python 3",
   "language": "python",
   "name": "python3"
  },
  "language_info": {
   "codemirror_mode": {
    "name": "ipython",
    "version": 3
   },
   "file_extension": ".py",
   "mimetype": "text/x-python",
   "name": "python",
   "nbconvert_exporter": "python",
   "pygments_lexer": "ipython3",
   "version": "3.7.4"
  }
 },
 "nbformat": 4,
 "nbformat_minor": 2
}
