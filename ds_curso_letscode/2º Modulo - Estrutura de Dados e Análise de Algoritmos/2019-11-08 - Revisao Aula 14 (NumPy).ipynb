{
 "cells": [
  {
   "cell_type": "markdown",
   "metadata": {},
   "source": [
    "# Numpy"
   ]
  },
  {
   "cell_type": "code",
   "execution_count": 30,
   "metadata": {},
   "outputs": [],
   "source": [
    "import numpy as np"
   ]
  },
  {
   "cell_type": "markdown",
   "metadata": {},
   "source": [
    "# Arrays NumPy Unidimensional"
   ]
  },
  {
   "cell_type": "code",
   "execution_count": 31,
   "metadata": {},
   "outputs": [
    {
     "name": "stdout",
     "output_type": "stream",
     "text": [
      "[1 2 3 4 5]\n",
      "(5,)\n"
     ]
    }
   ],
   "source": [
    "my_array = np.array([1, 2, 3, 4, 5])\n",
    "print(my_array)\n",
    "print(my_array.shape)"
   ]
  },
  {
   "cell_type": "markdown",
   "metadata": {},
   "source": [
    "# Arrays NumPy Multidimensionais"
   ]
  },
  {
   "cell_type": "code",
   "execution_count": 32,
   "metadata": {},
   "outputs": [
    {
     "name": "stdout",
     "output_type": "stream",
     "text": [
      "[1 2 3 4 5]\n",
      "[1 2 3 4 5]\n",
      "(2, 5)\n",
      "[[-1 -1 -1 -1 -1]\n",
      " [ 1  2  3  4  5]]\n"
     ]
    }
   ],
   "source": [
    "my_array = np.array([[1, 2, 3, 4, 5], [1, 2, 3, 4, 5]])\n",
    "print(my_array[0])\n",
    "print(my_array[1])\n",
    "print(my_array.shape)\n",
    "my_array[0] = -1\n",
    "print(my_array)"
   ]
  },
  {
   "cell_type": "code",
   "execution_count": 33,
   "metadata": {},
   "outputs": [
    {
     "name": "stdout",
     "output_type": "stream",
     "text": [
      "[[0 1]\n",
      " [2 3]\n",
      " [4 5]]\n"
     ]
    }
   ],
   "source": [
    "a = np.arange(6).reshape((3, 2))\n",
    "print(a)"
   ]
  },
  {
   "cell_type": "code",
   "execution_count": 34,
   "metadata": {},
   "outputs": [
    {
     "name": "stdout",
     "output_type": "stream",
     "text": [
      "5\n"
     ]
    }
   ],
   "source": [
    "my_array = np.array([[4, 5], [6, 1]])\n",
    "print(my_array[0][1])"
   ]
  },
  {
   "cell_type": "code",
   "execution_count": 35,
   "metadata": {},
   "outputs": [
    {
     "name": "stdout",
     "output_type": "stream",
     "text": [
      "[[4 5]\n",
      " [6 1]]\n"
     ]
    }
   ],
   "source": [
    "my_array = np.array([[4, 5], [6, 1]])\n",
    "print(my_array)"
   ]
  },
  {
   "cell_type": "markdown",
   "metadata": {},
   "source": [
    "# Iniciando um array com valores aleatórios"
   ]
  },
  {
   "cell_type": "code",
   "execution_count": 61,
   "metadata": {},
   "outputs": [
    {
     "name": "stdout",
     "output_type": "stream",
     "text": [
      "[[0 1]\n",
      " [2 3]\n",
      " [4 5]]\n"
     ]
    }
   ],
   "source": [
    "x = np.empty([3,2], dtype = int)\n",
    "print(x)"
   ]
  },
  {
   "cell_type": "code",
   "execution_count": 52,
   "metadata": {},
   "outputs": [
    {
     "name": "stdout",
     "output_type": "stream",
     "text": [
      "[0.17837139 0.54469651 0.13894504 0.25898937 0.44254863]\n"
     ]
    }
   ],
   "source": [
    "my_random_array = np.random.random((5))\n",
    "print(my_random_array)"
   ]
  },
  {
   "cell_type": "code",
   "execution_count": 65,
   "metadata": {},
   "outputs": [
    {
     "name": "stdout",
     "output_type": "stream",
     "text": [
      "[[0. 5. 8. 1.]\n",
      " [4. 2. 6. 3.]\n",
      " [5. 7. 1. 7.]]\n"
     ]
    }
   ],
   "source": [
    "a = np.floor(10*np.random.random((3,4)))\n",
    "print(a)"
   ]
  },
  {
   "cell_type": "markdown",
   "metadata": {},
   "source": [
    "# Iniciando um array de 0 e de 1"
   ]
  },
  {
   "cell_type": "code",
   "execution_count": 66,
   "metadata": {},
   "outputs": [
    {
     "name": "stdout",
     "output_type": "stream",
     "text": [
      "[0. 0. 0. 0. 0.]\n"
     ]
    }
   ],
   "source": [
    "my_new_array = np.zeros((5))\n",
    "print(my_new_array)"
   ]
  },
  {
   "cell_type": "code",
   "execution_count": 67,
   "metadata": {},
   "outputs": [
    {
     "name": "stdout",
     "output_type": "stream",
     "text": [
      "[1. 1. 1. 1. 1.]\n"
     ]
    }
   ],
   "source": [
    "my_new_array = np.ones((5))\n",
    "print(my_new_array)"
   ]
  },
  {
   "cell_type": "markdown",
   "metadata": {},
   "source": [
    "# Indexação e slicing"
   ]
  },
  {
   "cell_type": "code",
   "execution_count": 68,
   "metadata": {},
   "outputs": [
    {
     "data": {
      "text/plain": [
       "22"
      ]
     },
     "execution_count": 68,
     "metadata": {},
     "output_type": "execute_result"
    }
   ],
   "source": [
    "my_array2 = np.array([3, 2, 8, 22, 127])\n",
    "my_array2[3]"
   ]
  },
  {
   "cell_type": "code",
   "execution_count": 69,
   "metadata": {},
   "outputs": [
    {
     "name": "stdout",
     "output_type": "stream",
     "text": [
      "[  2   8  22 127]\n"
     ]
    }
   ],
   "source": [
    "my_array2 = np.array([3, 2, 8, 22, 127])\n",
    "print(my_array2[1:])"
   ]
  },
  {
   "cell_type": "code",
   "execution_count": 70,
   "metadata": {},
   "outputs": [
    {
     "name": "stdout",
     "output_type": "stream",
     "text": [
      "[ 8 22]\n"
     ]
    }
   ],
   "source": [
    "my_array2 = np.array([3, 2, 8, 22, 127])\n",
    "print(my_array2[2:4])"
   ]
  },
  {
   "cell_type": "markdown",
   "metadata": {},
   "source": [
    "# Manipulando array em NumPy"
   ]
  },
  {
   "cell_type": "code",
   "execution_count": 73,
   "metadata": {},
   "outputs": [
    {
     "name": "stdout",
     "output_type": "stream",
     "text": [
      "Soma = \n",
      " [[ 6.  8.]\n",
      " [10. 12.]]\n",
      "\n",
      "\n",
      "Subtração = \n",
      " [[-4. -4.]\n",
      " [-4. -4.]]\n",
      "\n",
      "\n",
      "Multiplicação = \n",
      " [[ 5. 12.]\n",
      " [21. 32.]]\n",
      "\n",
      "\n",
      "Divisão = \n",
      " [[0.2        0.33333333]\n",
      " [0.42857143 0.5       ]]\n"
     ]
    }
   ],
   "source": [
    "a = np.array([[1.0, 2.0], [3.0, 4.0]])\n",
    "b = np.array([[5.0, 6.0], [7.0, 8.0]])\n",
    "soma = a + b # Soma\n",
    "subtracao = a - b # Subtração\n",
    "multiplicacao = a * b # Multiplicação\n",
    "divisao = a / b # Divisão\n",
    "print('Soma = \\n', + soma)\n",
    "print('\\n')\n",
    "print('Subtração = \\n', + subtracao)\n",
    "print('\\n')\n",
    "print('Multiplicação = \\n', + multiplicacao)\n",
    "print('\\n')\n",
    "print('Divisão = \\n', + divisao)"
   ]
  },
  {
   "cell_type": "markdown",
   "metadata": {},
   "source": [
    "# Multiplicação de arrays"
   ]
  },
  {
   "cell_type": "code",
   "execution_count": 74,
   "metadata": {},
   "outputs": [
    {
     "name": "stdout",
     "output_type": "stream",
     "text": [
      "Matrix Product = \n",
      " [[19. 22.]\n",
      " [43. 50.]]\n"
     ]
    }
   ],
   "source": [
    "a = np.array([[1.0, 2.0], [3.0, 4.0]])\n",
    "b = np.array([[5.0, 6.0], [7.0, 8.0]])\n",
    "matrix_product = a.dot(b)\n",
    "print('Matrix Product = \\n', + matrix_product)"
   ]
  },
  {
   "cell_type": "markdown",
   "metadata": {},
   "source": [
    "# EXERCÍCIO 1\n",
    "Remova todos os números ímpares de um NumPy Array que vai de 0 a 20"
   ]
  },
  {
   "cell_type": "code",
   "execution_count": null,
   "metadata": {},
   "outputs": [],
   "source": []
  },
  {
   "cell_type": "markdown",
   "metadata": {},
   "source": [
    "# EXERCÍCIO 2\n",
    "Dado um NumPy Array unidimensional que vai de 0 a 8, converta-o em um NumPy Array bidimensional e quadrado."
   ]
  },
  {
   "cell_type": "code",
   "execution_count": null,
   "metadata": {},
   "outputs": [],
   "source": []
  },
  {
   "cell_type": "markdown",
   "metadata": {},
   "source": [
    "# EXERCÍCIO 3\n",
    "Dado 2 NumPy Array, sendo o primeiro de tamanho 2 linhas por 5 colunas, com valores de 0 a 9 e outro\n",
    "de tamanho 3 linhas por 5 colunas, com valores de 10 a 24, crie um terceiro NumPy Array de tamanho 5\n",
    "linhas por 5 colunas que concatene verticalmente os NumPy Arrays 1 e 2.\n",
    "Dica: Pesquise as funções hstack e vstack."
   ]
  },
  {
   "cell_type": "code",
   "execution_count": null,
   "metadata": {},
   "outputs": [],
   "source": []
  },
  {
   "cell_type": "markdown",
   "metadata": {},
   "source": [
    "# EXERCÍCIO 4\n",
    "Dados 2 NumPy Arrays:\n",
    "Array1: [ 0, 10, 20, 40, 60]\n",
    "Array2: [10, 30, 40]\n",
    "Faça uma função que retorne os valores iguais entre os 2 arrays.\n",
    "Dica: Use a função intersect1d."
   ]
  },
  {
   "cell_type": "code",
   "execution_count": null,
   "metadata": {},
   "outputs": [],
   "source": []
  },
  {
   "cell_type": "markdown",
   "metadata": {},
   "source": [
    "# EXERCÍCIO 5\n",
    "Dada a matriz:\n",
    "array = np.array([[1,2,3,4],\n",
    "[1,2,3,4],\n",
    "[5,6,7,8],\n",
    "[1,2,3,4],\n",
    "[3,3,3,3],\n",
    "[5,6,7,8]])\n",
    "Faça uma função que remova as linhas duplicadas, deixando apenas uma incidência da mesma.\n",
    "Dica: Use a função unique."
   ]
  },
  {
   "cell_type": "code",
   "execution_count": null,
   "metadata": {},
   "outputs": [],
   "source": []
  }
 ],
 "metadata": {
  "kernelspec": {
   "display_name": "Python 3",
   "language": "python",
   "name": "python3"
  },
  "language_info": {
   "codemirror_mode": {
    "name": "ipython",
    "version": 3
   },
   "file_extension": ".py",
   "mimetype": "text/x-python",
   "name": "python",
   "nbconvert_exporter": "python",
   "pygments_lexer": "ipython3",
   "version": "3.7.4"
  }
 },
 "nbformat": 4,
 "nbformat_minor": 2
}
