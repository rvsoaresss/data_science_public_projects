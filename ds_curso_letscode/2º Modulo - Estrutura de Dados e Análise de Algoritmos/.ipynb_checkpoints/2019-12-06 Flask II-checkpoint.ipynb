{
 "cells": [
  {
   "cell_type": "code",
   "execution_count": null,
   "metadata": {},
   "outputs": [
    {
     "name": "stdout",
     "output_type": "stream",
     "text": [
      " * Serving Flask app \"__main__\" (lazy loading)\n",
      " * Environment: production\n",
      "   WARNING: This is a development server. Do not use it in a production deployment.\n",
      "   Use a production WSGI server instead.\n",
      " * Debug mode: off\n"
     ]
    },
    {
     "name": "stderr",
     "output_type": "stream",
     "text": [
      " * Running on http://127.0.0.1:5000/ (Press CTRL+C to quit)\n"
     ]
    }
   ],
   "source": [
    "from flask import Flask, request, current_app, jsonify\n",
    "\n",
    "app = Flask(__name__)\n",
    "\n",
    "@app.route(\"/show_config\", methods=['GET'])\n",
    "def show_config():\n",
    "    querystring_args = request.args.to_dict()\n",
    "    if int(querystring_args['id']) == 10:\n",
    "        return jsonify(\n",
    "            id = 10,\n",
    "            nome = \"Renato\",\n",
    "            cargo = \"Professor\"\n",
    "        )\n",
    "    return \"Não há usuário com esse id.\", 200\n",
    "app.run()\n",
    "\n",
    "#GET: localhost:5000/show_config?id=10"
   ]
  },
  {
   "cell_type": "code",
   "execution_count": null,
   "metadata": {},
   "outputs": [],
   "source": []
  }
 ],
 "metadata": {
  "kernelspec": {
   "display_name": "Python 3",
   "language": "python",
   "name": "python3"
  },
  "language_info": {
   "codemirror_mode": {
    "name": "ipython",
    "version": 3
   },
   "file_extension": ".py",
   "mimetype": "text/x-python",
   "name": "python",
   "nbconvert_exporter": "python",
   "pygments_lexer": "ipython3",
   "version": "3.7.4"
  }
 },
 "nbformat": 4,
 "nbformat_minor": 2
}
