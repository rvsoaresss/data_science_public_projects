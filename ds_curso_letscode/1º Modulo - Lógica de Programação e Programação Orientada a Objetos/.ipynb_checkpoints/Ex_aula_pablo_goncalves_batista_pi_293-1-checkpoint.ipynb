{
 "cells": [
  {
   "cell_type": "markdown",
   "metadata": {},
   "source": [
    "# Fazer a leitura do arquivo csv e fazer inputs com os textos"
   ]
  },
  {
   "cell_type": "markdown",
   "metadata": {},
   "source": [
    "## \"select n, m\" em que n e m são numeros inteiros. Esse comando retornará as linhas compreendidas por esses indices"
   ]
  },
  {
   "cell_type": "code",
   "execution_count": null,
   "metadata": {},
   "outputs": [],
   "source": [
    "#abertura de um arquivo externo\n",
    "#criacao de uma variavel para manipulacao dos dados\n",
    "\n",
    "arquivo=open(\"SalesJan2009.csv\",'r')\n",
    "arquivo_completo=arquivo.read()"
   ]
  },
  {
   "cell_type": "code",
   "execution_count": null,
   "metadata": {},
   "outputs": [],
   "source": [
    "arquivo_completo"
   ]
  },
  {
   "cell_type": "code",
   "execution_count": null,
   "metadata": {},
   "outputs": [],
   "source": [
    "arquivo_divisao_linhas=arquivo_completo.split('\\n')"
   ]
  },
  {
   "cell_type": "code",
   "execution_count": null,
   "metadata": {},
   "outputs": [],
   "source": [
    "arquivo_divisao_linhas"
   ]
  },
  {
   "cell_type": "code",
   "execution_count": null,
   "metadata": {},
   "outputs": [],
   "source": [
    "lista_separada_linhascolunas=[]\n",
    "for i in range(len(lista_separada_linhas)):\n",
    "    lista_separada_linhascolunas.append(lista_separada_linhas[i].split(';'))\n",
    "    "
   ]
  },
  {
   "cell_type": "code",
   "execution_count": null,
   "metadata": {},
   "outputs": [],
   "source": [
    "lista_separada_linhascolunas"
   ]
  },
  {
   "cell_type": "code",
   "execution_count": null,
   "metadata": {},
   "outputs": [],
   "source": [
    "def seleciona_linhas_entre(n,m):\n",
    "    for i in range(n,m+1):\n",
    "        print(lista_separada_linhas[i])"
   ]
  },
  {
   "cell_type": "code",
   "execution_count": null,
   "metadata": {
    "scrolled": true
   },
   "outputs": [],
   "source": [
    "seleciona_linhas_entre(0,6)"
   ]
  },
  {
   "cell_type": "markdown",
   "metadata": {},
   "source": [
    "## \"select 'name'\" em que name é a linha cujo contém esse name ou parte dele;"
   ]
  },
  {
   "cell_type": "code",
   "execution_count": null,
   "metadata": {},
   "outputs": [],
   "source": [
    "def seleciona_linha_contem(name):\n",
    "    for i in range(len(lista_separada_linhascolunas)):\n",
    "        for j in range(len(lista_separada_linhascolunas[i])):\n",
    "            if lista_separada_linhascolunas[i][j] == name:\n",
    "                print(lista_separada_linhascolunas[i])"
   ]
  },
  {
   "cell_type": "code",
   "execution_count": null,
   "metadata": {},
   "outputs": [],
   "source": [
    "seleciona_linha_contem('Mary')"
   ]
  },
  {
   "cell_type": "markdown",
   "metadata": {},
   "source": [
    "## \"select\" retorna todas as linhas;"
   ]
  },
  {
   "cell_type": "code",
   "execution_count": null,
   "metadata": {},
   "outputs": [],
   "source": [
    "def seleciona_todas_linhas():\n",
    "    for i in range(len(lista_separada_linhascolunas)):\n",
    "        print(lista_separada_linhascolunas[i])"
   ]
  },
  {
   "cell_type": "code",
   "execution_count": null,
   "metadata": {
    "scrolled": false
   },
   "outputs": [],
   "source": [
    "seleciona_todas_linhas()"
   ]
  },
  {
   "cell_type": "markdown",
   "metadata": {},
   "source": [
    "## \"delete n, m\" em que n e m são numeros inteiros. Esse comando deletará as linhas compreendidas por esses indices;"
   ]
  },
  {
   "cell_type": "code",
   "execution_count": null,
   "metadata": {},
   "outputs": [],
   "source": [
    "def deleta_linhas_entre(n,m):\n",
    "    for i in range(n,m+1):\n",
    "        del(lista_separada_linhas[n])\n",
    "    "
   ]
  },
  {
   "cell_type": "code",
   "execution_count": null,
   "metadata": {},
   "outputs": [],
   "source": [
    "deleta_linhas_entre(1,2)"
   ]
  },
  {
   "cell_type": "code",
   "execution_count": null,
   "metadata": {},
   "outputs": [],
   "source": [
    "lista_separada_linhas"
   ]
  },
  {
   "cell_type": "markdown",
   "metadata": {},
   "source": [
    "## \"delete\" deletará todas as linhas (exceto o cabeçalho);"
   ]
  },
  {
   "cell_type": "code",
   "execution_count": null,
   "metadata": {},
   "outputs": [],
   "source": [
    "def apaga_tudo():\n",
    "    for i in range(1,len(lista_separada_linhas)):\n",
    "        lista_separada_linhas.pop()\n",
    "    "
   ]
  },
  {
   "cell_type": "code",
   "execution_count": null,
   "metadata": {},
   "outputs": [],
   "source": [
    "apaga_tudo()"
   ]
  },
  {
   "cell_type": "code",
   "execution_count": null,
   "metadata": {
    "scrolled": false
   },
   "outputs": [],
   "source": [
    "lista_separada_linhas"
   ]
  },
  {
   "cell_type": "markdown",
   "metadata": {},
   "source": [
    "## \"add 'text'\" adiciona uma linha (separar campos por ;);"
   ]
  },
  {
   "cell_type": "code",
   "execution_count": null,
   "metadata": {},
   "outputs": [],
   "source": [
    "def inserindo_linhas_tabela(Transaction_date,Product,Price,Payment_Type,Name,City,State,Country,Account_Created,Last_Login,Latitude,Longitude):\n",
    "    arquivo = open(\"SalesJan2009.csv\",'r') # Abra o arquivo (leitura)\n",
    "    linha_nova=(\"\\n\"+Transaction_date+';'+Product+\";\"+Price+\";\"+Payment_Type+\";\"+Name+\";\"+City+\";\"+State+\";\"+Country+\";\"+Account_Created+\";\"+Last_Login+\";\"+Latitude+\";\"+Longitude)\n",
    "    conteudo_tabela = arquivo.readlines()\n",
    "    conteudo_tabela.append(linha_nova)\n",
    "\n",
    "    arquivo = open(\"SalesJan2009.csv\", 'w') # Abre novamente o arquivo (escrita)\n",
    "    arquivo.writelines(conteudo_tabela)    # escreva o conteúdo criado anteriormente nele.\n",
    "\n",
    "    arquivo.close()"
   ]
  },
  {
   "cell_type": "code",
   "execution_count": null,
   "metadata": {},
   "outputs": [],
   "source": [
    "#Transaction_date,Product,Price,Payment_Type,Name,City,State,Country,Account_Created,Last_Login,Latitude,Longitude\n",
    "\n",
    "inserindo_linhas_tabela(\"11/12/2019 20:09\",\"Product2\",\"1500\",\"Mastercard\",\"Gouya\",\"Echuca\",\"PABLO\",\"Australia\",\"9/25/05 21:13\",\"1/3/09 14:22\",\"-36.1333333\",\"144.77\")"
   ]
  },
  {
   "cell_type": "code",
   "execution_count": null,
   "metadata": {},
   "outputs": [],
   "source": []
  }
 ],
 "metadata": {
  "kernelspec": {
   "display_name": "Python 3",
   "language": "python",
   "name": "python3"
  },
  "language_info": {
   "codemirror_mode": {
    "name": "ipython",
    "version": 3
   },
   "file_extension": ".py",
   "mimetype": "text/x-python",
   "name": "python",
   "nbconvert_exporter": "python",
   "pygments_lexer": "ipython3",
   "version": "3.7.4"
  }
 },
 "nbformat": 4,
 "nbformat_minor": 2
}
