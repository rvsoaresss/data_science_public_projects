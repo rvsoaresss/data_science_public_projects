{
 "cells": [
  {
   "cell_type": "code",
   "execution_count": 1,
   "metadata": {},
   "outputs": [
    {
     "name": "stdout",
     "output_type": "stream",
     "text": [
      "Hello World\n"
     ]
    }
   ],
   "source": [
    "# 1. Faça um Programa que mostre a mensagem \"Alô mundo\" na tela\n",
    "print(\"Hello World\")"
   ]
  },
  {
   "cell_type": "code",
   "execution_count": 2,
   "metadata": {},
   "outputs": [
    {
     "name": "stdout",
     "output_type": "stream",
     "text": [
      "Informe um numero: 5\n",
      "O numero informado foi 5\n"
     ]
    }
   ],
   "source": [
    "# 2. Faça um Programa que peça um número e mostre a mensagem \"O numero informado foi\"\n",
    "num = input(\"Informe um numero: \")\n",
    "print(\"O numero informado foi\", num)"
   ]
  },
  {
   "cell_type": "code",
   "execution_count": 3,
   "metadata": {},
   "outputs": [
    {
     "name": "stdout",
     "output_type": "stream",
     "text": [
      "Informe o primeiro numero: 5\n",
      "Informe o segundo numero: 5\n",
      "10\n"
     ]
    }
   ],
   "source": [
    "#3. Faça um Programa que peça dois números e imprima a soma.\n",
    "num1 = input(\"Informe o primeiro numero: \")\n",
    "num2 = input(\"Informe o segundo numero: \")\n",
    "print(int(num1)+int(num2))"
   ]
  },
  {
   "cell_type": "code",
   "execution_count": 11,
   "metadata": {},
   "outputs": [
    {
     "name": "stdout",
     "output_type": "stream",
     "text": [
      "Informe a 1º nota:8.5\n",
      "Informe a 2º nota:9\n",
      "Informe a 3º nota:7.33\n",
      "Informe a 4º nota:6.54\n",
      "8.5\n",
      "9\n",
      "7.33\n",
      "6.54\n",
      "7.842499999999999\n"
     ]
    }
   ],
   "source": [
    "#4. Faça um Programa que peça as 4 notas bimestrais e mostre a média.\n",
    "nota1 = input(\"Informe a 1º nota:\")\n",
    "nota2 = input(\"Informe a 2º nota:\")\n",
    "nota3 = input(\"Informe a 3º nota:\")\n",
    "nota4 = input(\"Informe a 4º nota:\")\n",
    "print(nota1)\n",
    "print(nota2)\n",
    "print(nota3)\n",
    "print(nota4)\n",
    "media = (float(nota1)+float(nota2)+float(nota3)+float(nota4))/4\n",
    "print(media)"
   ]
  },
  {
   "cell_type": "code",
   "execution_count": 13,
   "metadata": {},
   "outputs": [
    {
     "name": "stdout",
     "output_type": "stream",
     "text": [
      "Informe o tamanho em M2:2\n",
      "Tamanho em centimetros: 200\n"
     ]
    }
   ],
   "source": [
    "#5. Faça um Programa que converta metros para centímetros.\n",
    "tamanho_m2 = input(\"Informe o tamanho em M2:\")\n",
    "tamanho_cm = int(tamanho_m2) * 100\n",
    "print(\"Tamanho em centimetros:\", tamanho_cm)\n"
   ]
  },
  {
   "cell_type": "code",
   "execution_count": 5,
   "metadata": {},
   "outputs": [
    {
     "name": "stdout",
     "output_type": "stream",
     "text": [
      "Raio do círculo: 5\n",
      "Área do círculo:  78.5\n"
     ]
    }
   ],
   "source": [
    "#6. Faça um Programa que peça o raio de um círculo, calcule e mostre sua área\n",
    "\n",
    "raio = float(input('Raio do círculo: '))\n",
    "pi = 3.14\n",
    "area = pi * (raio ** 2)\n",
    "print ('Área do círculo: ', area)"
   ]
  },
  {
   "cell_type": "code",
   "execution_count": 5,
   "metadata": {},
   "outputs": [
    {
     "name": "stdout",
     "output_type": "stream",
     "text": [
      "Informe o tamanho do lado do quadrado:5\n",
      "25.0\n"
     ]
    }
   ],
   "source": [
    "# 7. Faça um Programa que pede para o usuário digitar o tamanho do lado de um quadrado, em seguida calcule a área.\n",
    "\n",
    "lado_quadrado = float(input(\"Informe o tamanho do lado do quadrado:\"))\n",
    "tamanho_quadrado = lado_quadrado * lado_quadrado\n",
    "print(tamanho_quadrado)\n"
   ]
  },
  {
   "cell_type": "code",
   "execution_count": null,
   "metadata": {},
   "outputs": [],
   "source": [
    "# 8. Faça um Programa que pergunte quanto você ganha por hora e o número de horas trabalhadas no mês. \n",
    "# Calcule e mostre o total do seu salário no referido mês.\n",
    "\n",
    "valor_hora = float(input(\"Informe o valor\"))"
   ]
  }
 ],
 "metadata": {
  "kernelspec": {
   "display_name": "Python 3",
   "language": "python",
   "name": "python3"
  },
  "language_info": {
   "codemirror_mode": {
    "name": "ipython",
    "version": 3
   },
   "file_extension": ".py",
   "mimetype": "text/x-python",
   "name": "python",
   "nbconvert_exporter": "python",
   "pygments_lexer": "ipython3",
   "version": "3.7.4"
  }
 },
 "nbformat": 4,
 "nbformat_minor": 2
}
