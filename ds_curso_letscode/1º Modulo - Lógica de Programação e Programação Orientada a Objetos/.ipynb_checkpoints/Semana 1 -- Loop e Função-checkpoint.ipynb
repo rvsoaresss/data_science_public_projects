{
 "cells": [
  {
   "cell_type": "markdown",
   "metadata": {},
   "source": [
    "# Exemplos Loop"
   ]
  },
  {
   "cell_type": "markdown",
   "metadata": {},
   "source": [
    "## Exemplo While"
   ]
  },
  {
   "cell_type": "code",
   "execution_count": 1,
   "metadata": {},
   "outputs": [
    {
     "name": "stdout",
     "output_type": "stream",
     "text": [
      "0 1 2 3 4 5\n"
     ]
    }
   ],
   "source": [
    "count = 0\n",
    "\n",
    "while count < 5:\n",
    "    print(count, end=' ')\n",
    "    count = count + 1\n",
    "print(count)"
   ]
  },
  {
   "cell_type": "code",
   "execution_count": 2,
   "metadata": {},
   "outputs": [
    {
     "name": "stdout",
     "output_type": "stream",
     "text": [
      "1 2 3 4 5 5\n"
     ]
    }
   ],
   "source": [
    "count = 0\n",
    "\n",
    "while count < 5:\n",
    "    count = count + 1\n",
    "    print(count, end=' ')\n",
    "print(count)"
   ]
  },
  {
   "cell_type": "markdown",
   "metadata": {},
   "source": [
    "## Exemplo For simples"
   ]
  },
  {
   "cell_type": "code",
   "execution_count": 3,
   "metadata": {},
   "outputs": [
    {
     "name": "stdout",
     "output_type": "stream",
     "text": [
      "Hello World"
     ]
    }
   ],
   "source": [
    "palavra = 'Hello World'\n",
    "for i in range(0,len(palavra),1):\n",
    "    if palavra[i] == 'w':\n",
    "        break\n",
    "    else:\n",
    "        print(palavra[i],end='')"
   ]
  },
  {
   "cell_type": "code",
   "execution_count": 4,
   "metadata": {},
   "outputs": [
    {
     "name": "stdout",
     "output_type": "stream",
     "text": [
      "0 1 2 3 4 5 6 7 8 9 "
     ]
    }
   ],
   "source": [
    "for i in range(0,10,1):\n",
    "    print(i,end=' ')"
   ]
  },
  {
   "cell_type": "markdown",
   "metadata": {},
   "source": [
    "## Exemplo percorrimento de matriz"
   ]
  },
  {
   "cell_type": "code",
   "execution_count": 5,
   "metadata": {},
   "outputs": [],
   "source": [
    "A = [[0,1,2],[3,4,5],[6,7,8]]"
   ]
  },
  {
   "cell_type": "code",
   "execution_count": 6,
   "metadata": {},
   "outputs": [
    {
     "name": "stdout",
     "output_type": "stream",
     "text": [
      "A na linha 0 e coluna 0 = 0\n",
      "A na linha 0 e coluna 1 = 1\n",
      "A na linha 0 e coluna 2 = 2\n",
      "A na linha 1 e coluna 0 = 3\n",
      "A na linha 1 e coluna 1 = 4\n",
      "A na linha 1 e coluna 2 = 5\n",
      "A na linha 2 e coluna 0 = 6\n",
      "A na linha 2 e coluna 1 = 7\n",
      "A na linha 2 e coluna 2 = 8\n"
     ]
    }
   ],
   "source": [
    "for i in range(3):\n",
    "    for j in range(3):\n",
    "        print('A na linha',i,\"e coluna\",j,'=',A[i][j])"
   ]
  },
  {
   "cell_type": "markdown",
   "metadata": {},
   "source": [
    "# Examplo Enumerate"
   ]
  },
  {
   "cell_type": "code",
   "execution_count": 7,
   "metadata": {},
   "outputs": [
    {
     "name": "stdout",
     "output_type": "stream",
     "text": [
      "0 - Azul\n",
      "1 - Amarelo\n",
      "2 - Vermelho\n"
     ]
    }
   ],
   "source": [
    "for i,c in enumerate(['Azul','Amarelo','Vermelho']):\n",
    "    print(i,'-',c)"
   ]
  },
  {
   "cell_type": "markdown",
   "metadata": {},
   "source": [
    "# Exemplo função"
   ]
  },
  {
   "cell_type": "code",
   "execution_count": 8,
   "metadata": {},
   "outputs": [],
   "source": [
    "def sum_resp(resposta,contador):\n",
    "    contador = contador + int(resposta == 'sim')\n",
    "    return contador"
   ]
  },
  {
   "cell_type": "code",
   "execution_count": 9,
   "metadata": {},
   "outputs": [],
   "source": [
    "contador = 0\n",
    "a = 'sim'\n",
    "b = 'sim'\n",
    "c = 'sim'\n",
    "d = 'sim'\n",
    "e = 'sim'\n",
    "\n",
    "contador = sum_resp(a,contador)\n",
    "contador = sum_resp(b,contador)\n",
    "contador = sum_resp(c,contador)\n",
    "contador = sum_resp(d,contador)\n",
    "contador = sum_resp(e,contador)\n",
    "    "
   ]
  },
  {
   "cell_type": "markdown",
   "metadata": {},
   "source": [
    "## Calculadora"
   ]
  },
  {
   "cell_type": "code",
   "execution_count": 10,
   "metadata": {},
   "outputs": [],
   "source": [
    "def somar(a,b):\n",
    "    return a+b\n",
    "\n",
    "def subtracao(a,b):#vermelho\n",
    "    return a-b\n",
    "def mult(a,b):#verde\n",
    "    return(a*b)\n",
    "    \n",
    "def div(a,b):#azul\n",
    "    return(a/b)\n",
    "def pot(a, b):#cinza\n",
    "    return a**b\n",
    "    \n",
    "def raiz_square(a):#amarela\n",
    "    return (a ** (0.5))"
   ]
  },
  {
   "cell_type": "code",
   "execution_count": 11,
   "metadata": {},
   "outputs": [
    {
     "name": "stdout",
     "output_type": "stream",
     "text": [
      "soma: 12\n",
      "subtr: -4\n",
      "div: 0.5\n",
      "mult: 32\n",
      "pot: 65536\n",
      "root square: 2.0\n"
     ]
    }
   ],
   "source": [
    "x=4\n",
    "y = 8\n",
    "\n",
    "print('soma:',somar(x,y))\n",
    "print('subtr:',subtracao(x,y))\n",
    "print('div:',div(x,y))\n",
    "print('mult:',mult(x,y))\n",
    "print('pot:',pot(x,y))\n",
    "print('root square:', raiz_square(x))"
   ]
  },
  {
   "cell_type": "code",
   "execution_count": 12,
   "metadata": {},
   "outputs": [],
   "source": [
    "def calculadora(num1,num2,tipo_conta):\n",
    "    if tipo_conta == 1:\n",
    "        k = somar(num1,num2)\n",
    "    elif tipo_conta ==2:\n",
    "        k = subtracao(num1,num2)\n",
    "    else:\n",
    "        k = mult(num1,num2)\n",
    "    return k"
   ]
  },
  {
   "cell_type": "code",
   "execution_count": 13,
   "metadata": {},
   "outputs": [
    {
     "data": {
      "text/plain": [
       "4"
      ]
     },
     "execution_count": 13,
     "metadata": {},
     "output_type": "execute_result"
    }
   ],
   "source": [
    "calculadora(2,2,3)"
   ]
  },
  {
   "cell_type": "markdown",
   "metadata": {},
   "source": [
    "## Exercicio hackerrank -- for"
   ]
  },
  {
   "cell_type": "code",
   "execution_count": 14,
   "metadata": {},
   "outputs": [
    {
     "name": "stdout",
     "output_type": "stream",
     "text": [
      "O quadrado de 0 é 0\n",
      "O quadrado de 1 é 1\n",
      "O quadrado de 2 é 4\n",
      "O quadrado de 3 é 9\n",
      "O quadrado de 4 é 16\n"
     ]
    }
   ],
   "source": [
    "n = 5\n",
    "\n",
    "for i in range(n):\n",
    "    print(f'O quadrado de {i} é {i ** 2}')"
   ]
  },
  {
   "cell_type": "markdown",
   "metadata": {},
   "source": [
    "## Exercicio hackerrank -- função"
   ]
  },
  {
   "cell_type": "code",
   "execution_count": 15,
   "metadata": {},
   "outputs": [
    {
     "data": {
      "text/plain": [
       "'Ano bissexto'"
      ]
     },
     "execution_count": 15,
     "metadata": {},
     "output_type": "execute_result"
    }
   ],
   "source": [
    "def leap_year(i):\n",
    "    if i%400 == 0:\n",
    "    #print (\"Ano bissexto\")\n",
    "        return (\"Ano bissexto\")\n",
    "    elif i%100 == 0:\n",
    "   #print(\"Não bissexto\")\n",
    "        return (\"Não bissexto\")\n",
    "    elif i%4 == 0:\n",
    "   #print (\"Ano bissexto\")\n",
    "       return (\"Ano bissexto\")\n",
    "    else:\n",
    "   #print ('Não bissexto')\n",
    "        return \"Não bissexto\"\n",
    "\n",
    "leap_year(2000)"
   ]
  },
  {
   "cell_type": "code",
   "execution_count": 16,
   "metadata": {},
   "outputs": [
    {
     "data": {
      "text/plain": [
       "'Ano bissexto'"
      ]
     },
     "execution_count": 16,
     "metadata": {},
     "output_type": "execute_result"
    }
   ],
   "source": [
    "leap_year(2400)"
   ]
  },
  {
   "cell_type": "markdown",
   "metadata": {},
   "source": [
    "### Utilizando a função criada acima, para dentre dois anos, mostrar quais os anos bissextos dentro do intervalo desses anos"
   ]
  },
  {
   "cell_type": "code",
   "execution_count": 25,
   "metadata": {},
   "outputs": [],
   "source": [
    "def pedir_ano(a,b):\n",
    "    for ano in range(a,b):\n",
    "        if leap_year(ano) == 'Ano bissexto':\n",
    "            print(ano,end=' ')"
   ]
  },
  {
   "cell_type": "code",
   "execution_count": 26,
   "metadata": {},
   "outputs": [
    {
     "name": "stdout",
     "output_type": "stream",
     "text": [
      "2000 2004 2008 2012 2016 2020 2024 2028 2032 2036 2040 2044 2048 2052 2056 2060 2064 2068 2072 2076 2080 2084 2088 2092 2096 "
     ]
    }
   ],
   "source": [
    "pedir_ano(2000,2101)"
   ]
  },
  {
   "cell_type": "markdown",
   "metadata": {},
   "source": [
    "## Exercicio 4 -- Lista 5\n",
    "\n",
    "### Faça uma função que recebe um nome e imprima “ola [nome]”"
   ]
  },
  {
   "cell_type": "code",
   "execution_count": 19,
   "metadata": {},
   "outputs": [],
   "source": [
    "def recebe(nome):\n",
    "    print('ola',nome)"
   ]
  },
  {
   "cell_type": "code",
   "execution_count": 20,
   "metadata": {},
   "outputs": [
    {
     "name": "stdout",
     "output_type": "stream",
     "text": [
      "ola Claudio\n"
     ]
    }
   ],
   "source": [
    "recebe('Claudio')"
   ]
  }
 ],
 "metadata": {
  "kernelspec": {
   "display_name": "Python 3",
   "language": "python",
   "name": "python3"
  },
  "language_info": {
   "codemirror_mode": {
    "name": "ipython",
    "version": 3
   },
   "file_extension": ".py",
   "mimetype": "text/x-python",
   "name": "python",
   "nbconvert_exporter": "python",
   "pygments_lexer": "ipython3",
   "version": "3.7.4"
  }
 },
 "nbformat": 4,
 "nbformat_minor": 2
}
