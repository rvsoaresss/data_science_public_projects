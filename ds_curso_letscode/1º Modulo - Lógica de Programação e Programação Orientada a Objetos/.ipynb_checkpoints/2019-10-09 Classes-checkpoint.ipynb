{
 "cells": [
  {
   "cell_type": "code",
   "execution_count": 139,
   "metadata": {},
   "outputs": [],
   "source": [
    "class Contato():\n",
    "    \n",
    "    def __init__(self):\n",
    "        self.nome = []\n",
    "        self.telefone = []\n",
    "        self.email = []\n",
    "        \n",
    "    def add_contato(self, nome, telefone, email):\n",
    "        self.nome.append(nome)\n",
    "        self.telefone.append(telefone)\n",
    "        self.email.append(email)       \n",
    "        \n",
    "    def procura(self, nome):\n",
    "        for i in range(len(self.nome)):\n",
    "            if self.nome[i] == nome:\n",
    "                print(self.nome[i], self.telefone[i], self.email[i])\n",
    "\n",
    "    def retorna_nome(self, nome):\n",
    "        for i in range(len(self.nome)):\n",
    "            if self.nome[i] == nome:\n",
    "                return (self.nome[i], self.telefone[i], self.email[i])\n",
    "                \n",
    "    def retorna_email(self, email):\n",
    "        for i in range(len(self.email)):\n",
    "            if self.email[i] == email:\n",
    "                return (self.nome[i], self.telefone[i], self.email[i])\n",
    "            \n",
    "    def remove_contato(self, nome, telefone=\"\", email=\"\"):\n",
    "        print(nome, email, telefone)\n",
    "        if telefone == \"\" or email == \"\":\n",
    "            name, fone, email=self.retorna_nome(nome)\n",
    "            #print(name)\n",
    "            self.remove_contato(name, fone, email)\n",
    "        else:\n",
    "            self.nome.remove(nome)\n",
    "            self.telefone.remove(telefone)\n",
    "            self.email.remove(email)\n",
    "        print(\"Fim\")"
   ]
  },
  {
   "cell_type": "code",
   "execution_count": 140,
   "metadata": {},
   "outputs": [],
   "source": [
    "agenda = Contato()"
   ]
  },
  {
   "cell_type": "code",
   "execution_count": 141,
   "metadata": {},
   "outputs": [],
   "source": [
    "agenda.add_contato(\"Pablo\",\"32244000\",\"pablo123@bol.com\")"
   ]
  },
  {
   "cell_type": "code",
   "execution_count": 142,
   "metadata": {},
   "outputs": [],
   "source": [
    "agenda.add_contato(\"Daniel\", \"4008922\",\"daniel@ig.com\")"
   ]
  },
  {
   "cell_type": "code",
   "execution_count": 143,
   "metadata": {},
   "outputs": [],
   "source": [
    "def busca(nome_agenda):\n",
    "    for i in range(len(agenda)):\n",
    "        if agenda[i].nome == nome:\n",
    "            print(agenda[i].nome, agenda[i].telefone, agenda[i].email)"
   ]
  },
  {
   "cell_type": "code",
   "execution_count": 144,
   "metadata": {},
   "outputs": [
    {
     "name": "stdout",
     "output_type": "stream",
     "text": [
      "Pablo 32244000 pablo123@bol.com\n"
     ]
    }
   ],
   "source": [
    "agenda.procura(\"Pablo\")"
   ]
  },
  {
   "cell_type": "code",
   "execution_count": 145,
   "metadata": {},
   "outputs": [
    {
     "data": {
      "text/plain": [
       "['Pablo', 'Daniel']"
      ]
     },
     "execution_count": 145,
     "metadata": {},
     "output_type": "execute_result"
    }
   ],
   "source": [
    "agenda.nome"
   ]
  },
  {
   "cell_type": "code",
   "execution_count": 146,
   "metadata": {},
   "outputs": [
    {
     "name": "stdout",
     "output_type": "stream",
     "text": [
      "Daniel  \n",
      "Daniel daniel@ig.com 4008922\n",
      "Fim\n",
      "Fim\n"
     ]
    }
   ],
   "source": [
    "agenda.remove_contato(\"Daniel\")"
   ]
  },
  {
   "cell_type": "code",
   "execution_count": 147,
   "metadata": {},
   "outputs": [
    {
     "data": {
      "text/plain": [
       "['Pablo']"
      ]
     },
     "execution_count": 147,
     "metadata": {},
     "output_type": "execute_result"
    }
   ],
   "source": [
    "agenda.nome"
   ]
  },
  {
   "cell_type": "code",
   "execution_count": 148,
   "metadata": {},
   "outputs": [
    {
     "data": {
      "text/plain": [
       "['32244000']"
      ]
     },
     "execution_count": 148,
     "metadata": {},
     "output_type": "execute_result"
    }
   ],
   "source": [
    "agenda.telefone"
   ]
  },
  {
   "cell_type": "code",
   "execution_count": 149,
   "metadata": {},
   "outputs": [
    {
     "data": {
      "text/plain": [
       "['pablo123@bol.com']"
      ]
     },
     "execution_count": 149,
     "metadata": {},
     "output_type": "execute_result"
    }
   ],
   "source": [
    "agenda.email"
   ]
  },
  {
   "cell_type": "code",
   "execution_count": null,
   "metadata": {},
   "outputs": [],
   "source": []
  },
  {
   "cell_type": "code",
   "execution_count": null,
   "metadata": {},
   "outputs": [],
   "source": []
  }
 ],
 "metadata": {
  "kernelspec": {
   "display_name": "Python 3",
   "language": "python",
   "name": "python3"
  },
  "language_info": {
   "codemirror_mode": {
    "name": "ipython",
    "version": 3
   },
   "file_extension": ".py",
   "mimetype": "text/x-python",
   "name": "python",
   "nbconvert_exporter": "python",
   "pygments_lexer": "ipython3",
   "version": "3.7.4"
  }
 },
 "nbformat": 4,
 "nbformat_minor": 2
}
