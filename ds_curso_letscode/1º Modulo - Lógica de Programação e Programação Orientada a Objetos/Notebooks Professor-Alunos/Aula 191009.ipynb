{
 "cells": [
  {
   "cell_type": "code",
   "execution_count": 1,
   "metadata": {},
   "outputs": [],
   "source": [
    "tamanho_arq = 10 #Mbytes\n",
    "\n",
    "vel = 29 #Mbytes por segundo"
   ]
  },
  {
   "cell_type": "code",
   "execution_count": 2,
   "metadata": {},
   "outputs": [
    {
     "data": {
      "text/plain": [
       "0.3448275862068966"
      ]
     },
     "execution_count": 2,
     "metadata": {},
     "output_type": "execute_result"
    }
   ],
   "source": [
    "tempo = tamanho_arq/vel\n",
    "tempo"
   ]
  },
  {
   "cell_type": "markdown",
   "metadata": {},
   "source": [
    "## Exec 2 -- aula 9 -- Terceiro item\n",
    "\n",
    "O mais importante é entender como combinar os preços. Se queremos o menor preço, temos de saber dentre as duas opções qual o valor por litro em cada opção:\n",
    "\n",
    "lata: 80 reais/18 litros =  4,45 reais/litro\n",
    "\n",
    "galão:25 reais/3,6 litros =  6,95 reais/litro\n",
    "\n",
    "Logo, caso precisarmos de algo entre 11,52 litros e 18 litros, sai mais barato comprar a lata do que os galões. Podemos calcular esses 11,52 litros em quantidade de galões, ou seja 3,2 galões. Como não é possível comprar fração de galões, podemos dizer que se precisarmos de algo entre 10,8 litros (3 galões) e 18 litros, será mais barato comprar uma lata com 18 litros. 3 galões custam 75 reais, 4 seriam 100 reias e a lata custa apenas 80 reais.\n",
    "\n",
    "Ou seja, precisamos sempre dividir a quantidade de tinta que precisamos em porções de 18 litros (volume da lata), para porções inteiras de 18 litros, compramos a lata pois sempre será mais barato. Para porções com menos de 18 litros, temos de levar em conta que se essa porção for maior que 10,8 (3 galões) litros será mais barato comprar um lata inteira do que os galões. Caso a porção restante seja menor ou igual a 10,8 litros, devemos comprar os galões"
   ]
  },
  {
   "cell_type": "code",
   "execution_count": 4,
   "metadata": {},
   "outputs": [],
   "source": [
    "import math\n",
    "def calc_tinta(tam):\n",
    "    qntd_tinta = tam/6\n",
    "    qntd_tinta = qntd_tinta*1.1\n",
    "    print('Precisamos de %.2f litros de tinta'%qntd_tinta)\n",
    "    \n",
    "    tam_lata = 18\n",
    "    tam_galoes = 3.6\n",
    "    custo_lata = 80\n",
    "    custo_galao = 25\n",
    "    \n",
    "    ## calculando a quantidade de latas de tinta de 18 litros precisaremos\n",
    "    ### divisão inteira para pegar o número de porções interas de 18 litros\n",
    "    qntd_latas = qntd_tinta//tam_lata\n",
    "    \n",
    "    ## Checando quanta tinta ainda precisaremos\n",
    "    qntd_tinta_frac = qntd_tinta%tam_lata # resto da divisão\n",
    "    if qntd_tinta_frac > 3*tam_galoes:\n",
    "        qntd_galoes = 0\n",
    "        qntd_latas = qntd_latas + 1\n",
    "    else:\n",
    "        qntd_galoes = qntd_tinta_frac/tam_galoes\n",
    "        qntd_galoes = math.ceil(qntd_galoes) # arredondando a qntd_galoes para cima, para se tornar um inteiro\n",
    "        \n",
    "    custo = custo_lata*qntd_latas + custo_galao*qntd_galoes\n",
    "        \n",
    "    print('Devemos comprar',int(qntd_latas),'lata(s) e',qntd_galoes,'galão(ões), com custo de',custo,'reais!')\n"
   ]
  },
  {
   "cell_type": "code",
   "execution_count": 8,
   "metadata": {},
   "outputs": [
    {
     "name": "stdout",
     "output_type": "stream",
     "text": [
      "Precisamos de 11.00 litros de tinta\n",
      "Devemos comprar 1 lata(s) e 0 galão(ões), com custo de 80.0 reais!\n"
     ]
    }
   ],
   "source": [
    "calc_tinta(60)"
   ]
  },
  {
   "cell_type": "code",
   "execution_count": 102,
   "metadata": {},
   "outputs": [
    {
     "name": "stdout",
     "output_type": "stream",
     "text": [
      "Precisamos de 5.87 litros de tinta\n",
      "Devemos comprar 0 lata(s) e 2 galão(ões), com custo de 50.0 reais!\n"
     ]
    }
   ],
   "source": [
    "tamanho = 32\n",
    "calc_tinta(tamanho)"
   ]
  },
  {
   "cell_type": "code",
   "execution_count": 103,
   "metadata": {},
   "outputs": [
    {
     "name": "stdout",
     "output_type": "stream",
     "text": [
      "Precisamos de 2263.25 litros de tinta\n",
      "Devemos comprar 126 lata(s) e 0 galão(ões), com custo de 10080.0 reais!\n"
     ]
    }
   ],
   "source": [
    "tamanho = 12345\n",
    "calc_tinta(tamanho)"
   ]
  },
  {
   "cell_type": "markdown",
   "metadata": {},
   "source": [
    "## Exemplo Fatorial"
   ]
  },
  {
   "cell_type": "code",
   "execution_count": 15,
   "metadata": {},
   "outputs": [
    {
     "name": "stdout",
     "output_type": "stream",
     "text": [
      "3\n",
      "2\n",
      "1\n"
     ]
    },
    {
     "data": {
      "text/plain": [
       "24"
      ]
     },
     "execution_count": 15,
     "metadata": {},
     "output_type": "execute_result"
    }
   ],
   "source": [
    "def fatorial(n):\n",
    "    fatorial = n\n",
    "    for i in range(1,n):\n",
    "        fatorial = fatorial*(n-i)\n",
    "        print(n-i)\n",
    "    return fatorial\n",
    "fatorial(4)"
   ]
  },
  {
   "cell_type": "markdown",
   "metadata": {},
   "source": [
    "## Recursividade"
   ]
  },
  {
   "cell_type": "code",
   "execution_count": 40,
   "metadata": {},
   "outputs": [
    {
     "name": "stdout",
     "output_type": "stream",
     "text": [
      "Entrou n = 4\n",
      "Fazer 4*fatorial(3)\n",
      "Entrou n = 3\n",
      "Fazer 3*fatorial(2)\n",
      "Entrou n = 2\n",
      "Fazer 2*fatorial(1)\n",
      "Entrou n = 1\n",
      "return 1\n",
      "Saiu fat(1): 1\n",
      "Saiu fat(2): 2\n",
      "Saiu fat(3): 6\n",
      "Saiu fat(4): 24\n"
     ]
    },
    {
     "data": {
      "text/plain": [
       "24"
      ]
     },
     "execution_count": 40,
     "metadata": {},
     "output_type": "execute_result"
    }
   ],
   "source": [
    "def fatorial_2(n):\n",
    "    print('Entrou n =',n)\n",
    "    if n <2: # condição de parada\n",
    "        print('return %d'%(n))\n",
    "        retorno = n\n",
    "        print('Saiu fat(%d):'%n,retorno)\n",
    "        return retorno\n",
    "    print('Fazer %d*fatorial(%d)'%(n,n-1))\n",
    "    retorno = n*fatorial_2(n-1)\n",
    "    print('Saiu fat(%d):'%n,retorno)\n",
    "    return retorno\n",
    "\n",
    "fatorial_2(4)"
   ]
  },
  {
   "cell_type": "code",
   "execution_count": 38,
   "metadata": {},
   "outputs": [
    {
     "data": {
      "text/plain": [
       "9"
      ]
     },
     "execution_count": 38,
     "metadata": {},
     "output_type": "execute_result"
    }
   ],
   "source": [
    "def potencia(n,k):# n^k\n",
    "    print()\n",
    "    if k == 1:\n",
    "        return n\n",
    "    \n",
    "    return n*potencia(n,k-1)\n",
    "\n",
    "potencia(n=3,k=2)"
   ]
  },
  {
   "cell_type": "code",
   "execution_count": 56,
   "metadata": {},
   "outputs": [
    {
     "data": {
      "text/plain": [
       "6"
      ]
     },
     "execution_count": 56,
     "metadata": {},
     "output_type": "execute_result"
    }
   ],
   "source": [
    "def fat(n):\n",
    "\n",
    "    if n < 2:\n",
    "        return 1\n",
    "    return n*fat(n-1)\n",
    "fat(3)"
   ]
  },
  {
   "cell_type": "code",
   "execution_count": 64,
   "metadata": {},
   "outputs": [
    {
     "data": {
      "text/plain": [
       "24"
      ]
     },
     "execution_count": 64,
     "metadata": {},
     "output_type": "execute_result"
    }
   ],
   "source": [
    "n = 4\n",
    "fat1 = 1\n",
    "for i in range(1,n+1):\n",
    "    fat1 = fat1 * i\n",
    "    \n",
    "fat1"
   ]
  },
  {
   "cell_type": "code",
   "execution_count": 53,
   "metadata": {},
   "outputs": [],
   "source": [
    "def mult_2(n):\n",
    "    \n",
    "    if n < 2:\n",
    "        return 2\n",
    "    return 2 + mult_2(n - 1)"
   ]
  },
  {
   "cell_type": "code",
   "execution_count": 51,
   "metadata": {},
   "outputs": [],
   "source": [
    "soma = 0\n",
    "n = 3\n",
    "for i in range(n,0,-1):\n",
    "    soma = soma + 2"
   ]
  },
  {
   "cell_type": "code",
   "execution_count": 55,
   "metadata": {},
   "outputs": [
    {
     "data": {
      "text/plain": [
       "6"
      ]
     },
     "execution_count": 55,
     "metadata": {},
     "output_type": "execute_result"
    }
   ],
   "source": [
    "mult_2(3)"
   ]
  },
  {
   "cell_type": "markdown",
   "metadata": {},
   "source": [
    "## Revisão Classe"
   ]
  },
  {
   "cell_type": "code",
   "execution_count": 58,
   "metadata": {},
   "outputs": [],
   "source": [
    "class Contato():\n",
    "    def __init__(self):\n",
    "        self.nome = []\n",
    "        self.telefone = []\n",
    "        self.email = []\n",
    "    def add_contato(self,nome,telefone,email):\n",
    "        self.nome.append(nome)\n",
    "        self.telefone.append(telefone)\n",
    "        self.email.append(email)\n",
    "        \n",
    "    def procura(self,nome):\n",
    "        for i in range(len(self.nome)):\n",
    "            if self.nome[i] == nome:\n",
    "                print(self.nome[i], self.telefone[i], self.email[i])\n",
    "    \n",
    "    def retorna_nome(self,nome):\n",
    "        for i in range(len(self.nome)):\n",
    "            if self.nome[i] == nome:\n",
    "                return (self.nome[i], self.telefone[i], self.email[i])\n",
    "            \n",
    "    def retorna_email(self,email):\n",
    "        for i in range(len(self.email)):\n",
    "            if self.email[i] == email:\n",
    "                return (self.nome[i], self.telefone[i], self.email[i])\n",
    "                \n",
    "    def remove_contato(self,nome,telefone='',email=''):\n",
    "        if (telefone==''or email=='') and nome in self.nome:\n",
    "            name,fone,email=self.retorna_nome(nome)\n",
    "            self.remove_contato(name,fone,email)\n",
    "        else:\n",
    "            self.nome.remove(nome)\n",
    "            self.telefone.remove(telefone)\n",
    "            self.email.remove(email)\n"
   ]
  },
  {
   "cell_type": "code",
   "execution_count": null,
   "metadata": {},
   "outputs": [],
   "source": []
  },
  {
   "cell_type": "code",
   "execution_count": 59,
   "metadata": {},
   "outputs": [],
   "source": [
    "agenda = Contato()"
   ]
  },
  {
   "cell_type": "code",
   "execution_count": null,
   "metadata": {},
   "outputs": [],
   "source": []
  },
  {
   "cell_type": "code",
   "execution_count": 60,
   "metadata": {},
   "outputs": [],
   "source": [
    "agenda.add_contato( 'Pablo','32244000','pablo123@bol.com')\n"
   ]
  },
  {
   "cell_type": "code",
   "execution_count": 61,
   "metadata": {},
   "outputs": [],
   "source": [
    "agenda.add_contato('Daniel','40028922','daniel@ig.com')"
   ]
  },
  {
   "cell_type": "markdown",
   "metadata": {},
   "source": [
    "def procura(nome, agenda):\n",
    "    for i in range(len(agenda)):\n",
    "        if agenda[i].nome == nome:\n",
    "            print(agenda[i].nome, agenda[i].telefone, agenda[i].email)\n",
    "            "
   ]
  },
  {
   "cell_type": "code",
   "execution_count": null,
   "metadata": {},
   "outputs": [],
   "source": []
  },
  {
   "cell_type": "code",
   "execution_count": 62,
   "metadata": {},
   "outputs": [
    {
     "name": "stdout",
     "output_type": "stream",
     "text": [
      "Pablo 32244000 pablo123@bol.com\n"
     ]
    }
   ],
   "source": [
    "agenda.procura('Pablo')"
   ]
  },
  {
   "cell_type": "code",
   "execution_count": 63,
   "metadata": {},
   "outputs": [
    {
     "data": {
      "text/plain": [
       "['Pablo', 'Daniel']"
      ]
     },
     "execution_count": 63,
     "metadata": {},
     "output_type": "execute_result"
    }
   ],
   "source": [
    "agenda.nome"
   ]
  },
  {
   "cell_type": "code",
   "execution_count": 64,
   "metadata": {},
   "outputs": [],
   "source": [
    "agenda.remove_contato('Pablo')"
   ]
  },
  {
   "cell_type": "code",
   "execution_count": 65,
   "metadata": {},
   "outputs": [
    {
     "data": {
      "text/plain": [
       "['Daniel']"
      ]
     },
     "execution_count": 65,
     "metadata": {},
     "output_type": "execute_result"
    }
   ],
   "source": [
    "agenda.nome"
   ]
  },
  {
   "cell_type": "code",
   "execution_count": 66,
   "metadata": {},
   "outputs": [
    {
     "data": {
      "text/plain": [
       "['40028922']"
      ]
     },
     "execution_count": 66,
     "metadata": {},
     "output_type": "execute_result"
    }
   ],
   "source": [
    "agenda.telefone"
   ]
  },
  {
   "cell_type": "code",
   "execution_count": 67,
   "metadata": {},
   "outputs": [
    {
     "data": {
      "text/plain": [
       "['daniel@ig.com']"
      ]
     },
     "execution_count": 67,
     "metadata": {},
     "output_type": "execute_result"
    }
   ],
   "source": [
    "agenda.email"
   ]
  },
  {
   "cell_type": "code",
   "execution_count": 68,
   "metadata": {},
   "outputs": [
    {
     "data": {
      "text/plain": [
       "('Daniel', '40028922', 'daniel@ig.com')"
      ]
     },
     "execution_count": 68,
     "metadata": {},
     "output_type": "execute_result"
    }
   ],
   "source": [
    "agenda.retorna_email('daniel@ig.com')"
   ]
  },
  {
   "cell_type": "code",
   "execution_count": null,
   "metadata": {},
   "outputs": [],
   "source": []
  }
 ],
 "metadata": {
  "kernelspec": {
   "display_name": "Python 3",
   "language": "python",
   "name": "python3"
  },
  "language_info": {
   "codemirror_mode": {
    "name": "ipython",
    "version": 3
   },
   "file_extension": ".py",
   "mimetype": "text/x-python",
   "name": "python",
   "nbconvert_exporter": "python",
   "pygments_lexer": "ipython3",
   "version": "3.7.4"
  }
 },
 "nbformat": 4,
 "nbformat_minor": 2
}
