{
 "cells": [
  {
   "cell_type": "markdown",
   "metadata": {},
   "source": [
    "# Definindo uma classe\n",
    "\n",
    "### Construtores"
   ]
  },
  {
   "cell_type": "code",
   "execution_count": 31,
   "metadata": {},
   "outputs": [],
   "source": [
    "class Bolo:\n",
    "    def __init__(self):\n",
    "        self.sabor = 'chocolate'\n",
    "        self.formato = 'quadrado'\n",
    "        self.peso = 1\n",
    "        self.n_camadas = 3\n",
    "        self.calorias = 1000\n",
    "    def assar(self,flavor,formato):\n",
    "        self.sabor = flavor\n",
    "        self.formato = formato\n",
    "    def dividir(self):\n",
    "        pass\n",
    "    def misturar(self,sabor,peso,cal,formato):\n",
    "        self.sabor = sabor\n",
    "        self.peso = peso\n",
    "        self.calorias = cal\n",
    "        self.formato = formato\n",
    "    def esfriar(self):\n",
    "        pass\n",
    "    def rechear(self):\n",
    "        pass\n",
    "    def status_bolo(self):\n",
    "        print('sabor:',self.sabor)\n",
    "        print('formato:',self.formato)\n",
    "        print('peso:', self.peso)\n",
    "        print('nº camadas:',self.n_camadas )\n",
    "        print('calorias:', self.calorias)"
   ]
  },
  {
   "cell_type": "code",
   "execution_count": 36,
   "metadata": {},
   "outputs": [
    {
     "name": "stdout",
     "output_type": "stream",
     "text": [
      "sabor: chocolate\n",
      "formato: quadrado\n",
      "peso: 1\n",
      "nº camadas: 3\n",
      "calorias: 1000\n"
     ]
    }
   ],
   "source": [
    "cake = Bolo()\n",
    "cake.status_bolo()"
   ]
  },
  {
   "cell_type": "code",
   "execution_count": 37,
   "metadata": {},
   "outputs": [],
   "source": [
    "cake.misturar('laranja', 1.5, 1500, 'redondo')"
   ]
  },
  {
   "cell_type": "code",
   "execution_count": 38,
   "metadata": {},
   "outputs": [
    {
     "name": "stdout",
     "output_type": "stream",
     "text": [
      "sabor: laranja\n",
      "formato: redondo\n",
      "peso: 1.5\n",
      "nº camadas: 3\n",
      "calorias: 1500\n"
     ]
    }
   ],
   "source": [
    "cake.status_bolo()"
   ]
  },
  {
   "cell_type": "code",
   "execution_count": 1,
   "metadata": {},
   "outputs": [],
   "source": [
    "class Circle:\n",
    "    def __init__(self,radius): ## Construtor\n",
    "        self.r = radius"
   ]
  },
  {
   "cell_type": "code",
   "execution_count": 2,
   "metadata": {},
   "outputs": [],
   "source": [
    "circ = Circle(3)"
   ]
  },
  {
   "cell_type": "code",
   "execution_count": 3,
   "metadata": {},
   "outputs": [
    {
     "data": {
      "text/plain": [
       "3"
      ]
     },
     "execution_count": 3,
     "metadata": {},
     "output_type": "execute_result"
    }
   ],
   "source": [
    "circ.r"
   ]
  },
  {
   "cell_type": "markdown",
   "metadata": {},
   "source": [
    "## Métodos\n",
    "\n",
    "Basicamente uma função (igual as que já vimos) que só os objetos dessa classe poderão utilizar"
   ]
  },
  {
   "cell_type": "code",
   "execution_count": 4,
   "metadata": {},
   "outputs": [],
   "source": [
    "import math\n",
    "class Circle:\n",
    "    def __init__(self,radius):\n",
    "        self.r = radius\n",
    "    def get_perimeter(self):\n",
    "        return 2*math.pi*self.r"
   ]
  },
  {
   "cell_type": "code",
   "execution_count": 5,
   "metadata": {},
   "outputs": [
    {
     "data": {
      "text/plain": [
       "3"
      ]
     },
     "execution_count": 5,
     "metadata": {},
     "output_type": "execute_result"
    }
   ],
   "source": [
    "circ = Circle(3)\n",
    "circ.r"
   ]
  },
  {
   "cell_type": "code",
   "execution_count": 6,
   "metadata": {},
   "outputs": [
    {
     "data": {
      "text/plain": [
       "18.84955592153876"
      ]
     },
     "execution_count": 6,
     "metadata": {},
     "output_type": "execute_result"
    }
   ],
   "source": [
    "circ.get_perimeter()"
   ]
  },
  {
   "cell_type": "code",
   "execution_count": 7,
   "metadata": {},
   "outputs": [],
   "source": [
    "class Circle:\n",
    "    _pi = 3.14\n",
    "    def __init__(self,radius = 3):\n",
    "        self.r = radius\n",
    "    def get_perimeter(self):\n",
    "        return 2*self._pi*self.r"
   ]
  },
  {
   "cell_type": "code",
   "execution_count": 8,
   "metadata": {},
   "outputs": [
    {
     "data": {
      "text/plain": [
       "3"
      ]
     },
     "execution_count": 8,
     "metadata": {},
     "output_type": "execute_result"
    }
   ],
   "source": [
    "circ = Circle()\n",
    "circ.r"
   ]
  },
  {
   "cell_type": "code",
   "execution_count": 9,
   "metadata": {},
   "outputs": [
    {
     "data": {
      "text/plain": [
       "18.84"
      ]
     },
     "execution_count": 9,
     "metadata": {},
     "output_type": "execute_result"
    }
   ],
   "source": [
    "circ.get_perimeter()"
   ]
  },
  {
   "cell_type": "markdown",
   "metadata": {},
   "source": [
    "### Herança simples"
   ]
  },
  {
   "cell_type": "code",
   "execution_count": 10,
   "metadata": {},
   "outputs": [],
   "source": [
    "class Shape:\n",
    "    def __init__(self,tipo='circunferencia'):\n",
    "        self.tipo = tipo\n",
    "    def calc_area(self):\n",
    "        if self.tipo == 'circunferencia':\n",
    "             print('Área:',math.pi*self.dim**2)\n",
    "        elif self.tipo == 'quadrado':\n",
    "            print('Área:',self.dim**2)\n",
    "        else:\n",
    "            print('Apenas quadrado e circunferências implatandos. Outras formas em versões futuras. :)')\n",
    "        \n",
    "class Circle(Shape):\n",
    "    def __init__(self, raio = 3):\n",
    "        super().__init__()\n",
    "        self.dim = raio\n",
    "        \n",
    "class Quadrado(Shape):\n",
    "    def __init__(self, lado = 3):\n",
    "        super().__init__('quadrado')\n",
    "        self.dim = lado\n",
    "        \n",
    "class Triangulo(Shape):\n",
    "    def __init__(self, altura = 3, base = 3):\n",
    "        super().__init__('triangulo')\n",
    "        self.altura = altura\n",
    "        self.base = base"
   ]
  },
  {
   "cell_type": "code",
   "execution_count": 11,
   "metadata": {},
   "outputs": [
    {
     "data": {
      "text/plain": [
       "3"
      ]
     },
     "execution_count": 11,
     "metadata": {},
     "output_type": "execute_result"
    }
   ],
   "source": [
    "circ = Circle()\n",
    "circ.dim"
   ]
  },
  {
   "cell_type": "code",
   "execution_count": 12,
   "metadata": {},
   "outputs": [
    {
     "name": "stdout",
     "output_type": "stream",
     "text": [
      "Área: 28.274333882308138\n"
     ]
    }
   ],
   "source": [
    "circ.calc_area()"
   ]
  },
  {
   "cell_type": "code",
   "execution_count": 13,
   "metadata": {},
   "outputs": [
    {
     "data": {
      "text/plain": [
       "3"
      ]
     },
     "execution_count": 13,
     "metadata": {},
     "output_type": "execute_result"
    }
   ],
   "source": [
    "quad = Quadrado()\n",
    "quad.dim"
   ]
  },
  {
   "cell_type": "code",
   "execution_count": 14,
   "metadata": {},
   "outputs": [
    {
     "name": "stdout",
     "output_type": "stream",
     "text": [
      "Área: 9\n"
     ]
    }
   ],
   "source": [
    "quad.calc_area()"
   ]
  },
  {
   "cell_type": "code",
   "execution_count": 15,
   "metadata": {},
   "outputs": [
    {
     "data": {
      "text/plain": [
       "3"
      ]
     },
     "execution_count": 15,
     "metadata": {},
     "output_type": "execute_result"
    }
   ],
   "source": [
    "tri = Triangulo(base = 5, altura = 3)\n",
    "tri.altura"
   ]
  },
  {
   "cell_type": "code",
   "execution_count": 16,
   "metadata": {},
   "outputs": [
    {
     "data": {
      "text/plain": [
       "5"
      ]
     },
     "execution_count": 16,
     "metadata": {},
     "output_type": "execute_result"
    }
   ],
   "source": [
    "tri.base"
   ]
  },
  {
   "cell_type": "code",
   "execution_count": 17,
   "metadata": {},
   "outputs": [
    {
     "name": "stdout",
     "output_type": "stream",
     "text": [
      "Apenas quadrado e circunferências implatandos. Outras formas em versões futuras. :)\n"
     ]
    }
   ],
   "source": [
    "tri.calc_area()"
   ]
  },
  {
   "cell_type": "code",
   "execution_count": 18,
   "metadata": {},
   "outputs": [],
   "source": [
    "class Animal:\n",
    "    sound = None\n",
    "    def make_sound(self):\n",
    "        print(self.sound)\n",
    "\n",
    "class Cat(Animal):\n",
    "    sound = \"meow\"\n",
    "    \n",
    "class Duck(Animal):\n",
    "    sound = \"quack\""
   ]
  },
  {
   "cell_type": "code",
   "execution_count": 19,
   "metadata": {},
   "outputs": [
    {
     "name": "stdout",
     "output_type": "stream",
     "text": [
      "meow\n"
     ]
    }
   ],
   "source": [
    "c = Cat()\n",
    "c.make_sound()"
   ]
  },
  {
   "cell_type": "code",
   "execution_count": 20,
   "metadata": {},
   "outputs": [
    {
     "name": "stdout",
     "output_type": "stream",
     "text": [
      "quack\n"
     ]
    }
   ],
   "source": [
    "d = Duck()\n",
    "d.make_sound()"
   ]
  },
  {
   "cell_type": "markdown",
   "metadata": {},
   "source": [
    "### Herança múltipla"
   ]
  },
  {
   "cell_type": "code",
   "execution_count": 21,
   "metadata": {},
   "outputs": [],
   "source": [
    "class Shape:\n",
    "    def __init__(self,tipo='circunferencia'):\n",
    "        self.tipo = tipo\n",
    "    def calc_area(self):\n",
    "        if self.tipo == 'circunferencia':\n",
    "             print('Área:',math.pi*self.dim**2)\n",
    "        elif self.tipo == 'quadrado':\n",
    "            print('Área:',self.dim**2)\n",
    "        else:\n",
    "            print('Apenas quadrado e circunferências implatandos. Outras formas em versões futuras. :)')\n",
    "\n",
    "class Drawable:\n",
    "    def __init__(self,tipo='circunferencia'):\n",
    "        self.tipo = tipo\n",
    "    def calc_area(self):\n",
    "        if self.tipo == 'circunferencia':\n",
    "             print('Área calculada:',math.pi*self.dim**2)\n",
    "        elif self.tipo == 'quadrado':\n",
    "            print('Área calculada:',self.dim**2)\n",
    "        else:\n",
    "            print('Apenas quadrado e circunferências implatandos. Outras formas em versões futuras. :)')"
   ]
  },
  {
   "cell_type": "code",
   "execution_count": 22,
   "metadata": {},
   "outputs": [
    {
     "name": "stdout",
     "output_type": "stream",
     "text": [
      "Área: 28.274333882308138\n"
     ]
    }
   ],
   "source": [
    "class Circle(Shape,Drawable):\n",
    "    def __init__(self, raio = 3):\n",
    "        super().__init__()\n",
    "        self.dim = raio\n",
    "\n",
    "\n",
    "circ = Circle()\n",
    "circ.calc_area()"
   ]
  },
  {
   "cell_type": "code",
   "execution_count": 23,
   "metadata": {},
   "outputs": [
    {
     "name": "stdout",
     "output_type": "stream",
     "text": [
      "Área calculada: 28.274333882308138\n"
     ]
    }
   ],
   "source": [
    "class Circle(Drawable,Shape):\n",
    "    def __init__(self, raio = 3):\n",
    "        super().__init__()\n",
    "        self.dim = raio\n",
    "\n",
    "\n",
    "circ = Circle()\n",
    "circ.calc_area()"
   ]
  },
  {
   "cell_type": "code",
   "execution_count": 24,
   "metadata": {},
   "outputs": [
    {
     "name": "stdout",
     "output_type": "stream",
     "text": [
      "Hi!\n"
     ]
    }
   ],
   "source": [
    "class English:\n",
    "    def greet(self):\n",
    "        print('Hi!')\n",
    "class Portuguese:\n",
    "    def greet(self):\n",
    "        print('Oi!')\n",
    "class Bilingual(English, Portuguese):\n",
    "    pass\n",
    "\n",
    "Bilingual().greet()"
   ]
  },
  {
   "cell_type": "code",
   "execution_count": 25,
   "metadata": {},
   "outputs": [
    {
     "name": "stdout",
     "output_type": "stream",
     "text": [
      "Oi!\n"
     ]
    }
   ],
   "source": [
    "class Bilingual(Portuguese, English):\n",
    "    pass\n",
    "\n",
    "Bilingual().greet()"
   ]
  },
  {
   "cell_type": "markdown",
   "metadata": {},
   "source": [
    "# Métodos Estáticos\n",
    "\n",
    "São basicamente as funções normais, só que definidas dentro de uma classe. Importante lembrar que para esse tipo de função não podemos usar os atributos da classe, sem passa-los como parâmetros. Em python dificilmente se implementa métodos estáticos dentro de classes"
   ]
  },
  {
   "cell_type": "code",
   "execution_count": 26,
   "metadata": {},
   "outputs": [],
   "source": [
    "class Circle:\n",
    "    def __init__(self, raio = 3):\n",
    "        self.dim = raio\n",
    "    @staticmethod\n",
    "    def radius_to_perimeter(r):\n",
    "        return 2*math.pi*r"
   ]
  },
  {
   "cell_type": "code",
   "execution_count": 27,
   "metadata": {},
   "outputs": [
    {
     "data": {
      "text/plain": [
       "18.84955592153876"
      ]
     },
     "execution_count": 27,
     "metadata": {},
     "output_type": "execute_result"
    }
   ],
   "source": [
    "circ = Circle()\n",
    "circ.radius_to_perimeter(3)"
   ]
  },
  {
   "cell_type": "code",
   "execution_count": 28,
   "metadata": {},
   "outputs": [
    {
     "data": {
      "text/plain": [
       "18.84955592153876"
      ]
     },
     "execution_count": 28,
     "metadata": {},
     "output_type": "execute_result"
    }
   ],
   "source": [
    "circ.radius_to_perimeter(circ.dim)"
   ]
  },
  {
   "cell_type": "markdown",
   "metadata": {},
   "source": [
    "# Métodos de Clase"
   ]
  },
  {
   "cell_type": "code",
   "execution_count": 29,
   "metadata": {},
   "outputs": [],
   "source": [
    "class Circle:\n",
    "    def __init__(self, raio = 3):\n",
    "        self.dim = raio\n",
    "    @classmethod\n",
    "    def from_circumference(cls,circ):\n",
    "        return cls(circ/(2*math.pi))"
   ]
  },
  {
   "cell_type": "code",
   "execution_count": 30,
   "metadata": {},
   "outputs": [],
   "source": [
    "c = Circle.from_circumference(2*math.pi)"
   ]
  },
  {
   "cell_type": "code",
   "execution_count": 31,
   "metadata": {},
   "outputs": [
    {
     "data": {
      "text/plain": [
       "1.0"
      ]
     },
     "execution_count": 31,
     "metadata": {},
     "output_type": "execute_result"
    }
   ],
   "source": [
    "c.dim"
   ]
  },
  {
   "cell_type": "code",
   "execution_count": 32,
   "metadata": {},
   "outputs": [],
   "source": [
    "class User:\n",
    "    seq = 0 #quantidade de usuários salvos no sistema\n",
    "    objects = [] # lista com os usuários salvos\n",
    "\n",
    "    def __init__(self, nome, idade):\n",
    "        self.id = None\n",
    "        self.nome = nome\n",
    "        self.idade = idade\n",
    "\n",
    "    def save(self): # salvando o novo usuario cadastrado\n",
    "        self.__class__.seq += 1 \n",
    "        self.id = self.__class__.seq #utilizando nossa quantidade de users para gerar um id para o novo user\n",
    "        self.__class__.objects.append(self)\n",
    "\n",
    "    def __str__(self):\n",
    "        return self.nome\n",
    "\n",
    "    def __repr__(self):# print dos dados do usuários\n",
    "        return '<{}: Id = {} -- Nome = {} -- Idade = {}>\\n'.format(self.__class__.__name__, self.id, self.nome, self.idade)\n",
    "\n",
    "    @classmethod\n",
    "    def saved_users(cls):\n",
    "        return cls.objects"
   ]
  },
  {
   "cell_type": "code",
   "execution_count": 33,
   "metadata": {},
   "outputs": [
    {
     "name": "stdout",
     "output_type": "stream",
     "text": [
      "Regis\n",
      "<User: Id = None -- Nome = Regis -- Idade = 35>\n",
      "\n",
      "Usuários cadastrados: []\n"
     ]
    }
   ],
   "source": [
    "u1 = User('Regis', 35)\n",
    "\n",
    "print(u1.__str__())\n",
    "\n",
    "print(u1.__repr__())\n",
    "\n",
    "print('Usuários cadastrados:',User.saved_users())"
   ]
  },
  {
   "cell_type": "code",
   "execution_count": 34,
   "metadata": {},
   "outputs": [
    {
     "name": "stdout",
     "output_type": "stream",
     "text": [
      "Usuários cadastrados: [<User: Id = 1 -- Nome = Regis -- Idade = 35>\n",
      ", <User: Id = 2 -- Nome = Fabio -- Idade = 20>\n",
      "]\n"
     ]
    }
   ],
   "source": [
    "u1 = User('Regis', 35)\n",
    "u1.save()\n",
    "u2 = User('Fabio', 20)\n",
    "u2.save()\n",
    "\n",
    "print('Usuários cadastrados:',User.saved_users())"
   ]
  },
  {
   "cell_type": "markdown",
   "metadata": {},
   "source": [
    "## Getters and Setters"
   ]
  },
  {
   "cell_type": "code",
   "execution_count": 35,
   "metadata": {},
   "outputs": [
    {
     "name": "stdout",
     "output_type": "stream",
     "text": [
      "setter method called\n",
      "getter method called\n",
      "10\n"
     ]
    }
   ],
   "source": [
    "class Geeks: \n",
    "    def __init__(self): \n",
    "        self._age = 0\n",
    "       \n",
    "    # function to get value of _age \n",
    "    def get_age(self): \n",
    "        print(\"getter method called\") \n",
    "        return self._age \n",
    "       \n",
    "    # function to set value of _age \n",
    "    def set_age(self, a): \n",
    "        print(\"setter method called\") \n",
    "        self._age = a \n",
    "  \n",
    "     \n",
    "    age = property(get_age, set_age)  \n",
    "\n",
    "mark = Geeks() \n",
    "  \n",
    "mark.age = 10\n",
    "  \n",
    "print(mark.age) "
   ]
  },
  {
   "cell_type": "code",
   "execution_count": 36,
   "metadata": {},
   "outputs": [
    {
     "name": "stdout",
     "output_type": "stream",
     "text": [
      "getter method called\n"
     ]
    },
    {
     "data": {
      "text/plain": [
       "10"
      ]
     },
     "execution_count": 36,
     "metadata": {},
     "output_type": "execute_result"
    }
   ],
   "source": [
    "mark.age"
   ]
  },
  {
   "cell_type": "markdown",
   "metadata": {},
   "source": [
    "#### Usando o @property"
   ]
  },
  {
   "cell_type": "code",
   "execution_count": 37,
   "metadata": {},
   "outputs": [
    {
     "name": "stdout",
     "output_type": "stream",
     "text": [
      "setter method called\n",
      "getter method called\n",
      "19\n"
     ]
    }
   ],
   "source": [
    "class Geeks: \n",
    "    def __init__(self): \n",
    "        self._age = 0\n",
    "       \n",
    "    # using property decorator \n",
    "    # a getter function \n",
    "    @property\n",
    "    def age(self): \n",
    "        print(\"getter method called\") \n",
    "        return self._age \n",
    "       \n",
    "    # a setter function \n",
    "    @age.setter \n",
    "    def age(self, a): \n",
    "        if(a < 18): \n",
    "            raise ValueError(\"Sorry you age is below eligibility criteria\") \n",
    "        print(\"setter method called\") \n",
    "        self._age = a \n",
    "\n",
    "mark = Geeks() \n",
    "  \n",
    "mark.age = 19\n",
    "  \n",
    "print(mark.age) "
   ]
  },
  {
   "cell_type": "code",
   "execution_count": 38,
   "metadata": {},
   "outputs": [
    {
     "name": "stdout",
     "output_type": "stream",
     "text": [
      "getter method called\n",
      "0\n"
     ]
    }
   ],
   "source": [
    "mark = Geeks() \n",
    "  \n",
    "print(mark.age) "
   ]
  },
  {
   "cell_type": "code",
   "execution_count": 39,
   "metadata": {},
   "outputs": [],
   "source": [
    "mark = Geeks() "
   ]
  },
  {
   "cell_type": "code",
   "execution_count": 40,
   "metadata": {},
   "outputs": [
    {
     "name": "stdout",
     "output_type": "stream",
     "text": [
      "setter method called\n"
     ]
    }
   ],
   "source": [
    "mark.age = 19"
   ]
  },
  {
   "cell_type": "code",
   "execution_count": 41,
   "metadata": {},
   "outputs": [
    {
     "name": "stdout",
     "output_type": "stream",
     "text": [
      "getter method called\n",
      "19\n"
     ]
    }
   ],
   "source": [
    "print(mark.age)"
   ]
  },
  {
   "cell_type": "markdown",
   "metadata": {},
   "source": [
    "## Global"
   ]
  },
  {
   "cell_type": "code",
   "execution_count": 42,
   "metadata": {},
   "outputs": [],
   "source": [
    "a = 42\n",
    "\n",
    "def func():\n",
    "    global a\n",
    "    a = a+1"
   ]
  },
  {
   "cell_type": "code",
   "execution_count": 43,
   "metadata": {},
   "outputs": [
    {
     "name": "stdout",
     "output_type": "stream",
     "text": [
      "42\n",
      "43\n"
     ]
    }
   ],
   "source": [
    "print(a)\n",
    "func()\n",
    "print(a)"
   ]
  },
  {
   "cell_type": "code",
   "execution_count": 44,
   "metadata": {},
   "outputs": [
    {
     "name": "stdout",
     "output_type": "stream",
     "text": [
      "44\n"
     ]
    }
   ],
   "source": [
    "func()\n",
    "print(a)"
   ]
  },
  {
   "cell_type": "markdown",
   "metadata": {},
   "source": [
    "### Erros comuns com variáveis globais, acessar estruturas de dados sem passar por parâmetro e no decorrer do código perder o entendimento sobre qual o valor está dentro da variável e na hora de re-utilizar a função irá ter algum erro e será dificil encontrar que o erro era a variável utilizada de forma global. Por isso não devemos fazer!!!\n",
    "\n",
    "# NÃO FAZER!!"
   ]
  },
  {
   "cell_type": "code",
   "execution_count": 45,
   "metadata": {},
   "outputs": [
    {
     "name": "stdout",
     "output_type": "stream",
     "text": [
      "[10]\n",
      "[10, 1]\n"
     ]
    }
   ],
   "source": [
    "b = [10]\n",
    "def nao_fazer():\n",
    "    b.append(1)\n",
    "    \n",
    "print(b)\n",
    "nao_fazer()\n",
    "print(b)"
   ]
  },
  {
   "cell_type": "markdown",
   "metadata": {},
   "source": [
    "## Non Local\n",
    "\n",
    "Basicamente só pode ser usado para funções que agem em variáveis que só existem dentro de outras funções"
   ]
  },
  {
   "cell_type": "code",
   "execution_count": 46,
   "metadata": {},
   "outputs": [],
   "source": [
    "def outer():\n",
    "    a = 42\n",
    "    def func():\n",
    "        nonlocal a\n",
    "        print(a)\n",
    "        a = a + 1\n",
    "    func()"
   ]
  },
  {
   "cell_type": "code",
   "execution_count": 47,
   "metadata": {},
   "outputs": [
    {
     "name": "stdout",
     "output_type": "stream",
     "text": [
      "42\n"
     ]
    }
   ],
   "source": [
    "outer()"
   ]
  },
  {
   "cell_type": "code",
   "execution_count": 48,
   "metadata": {},
   "outputs": [
    {
     "name": "stdout",
     "output_type": "stream",
     "text": [
      "42\n"
     ]
    }
   ],
   "source": [
    "outer()"
   ]
  },
  {
   "cell_type": "code",
   "execution_count": 49,
   "metadata": {},
   "outputs": [
    {
     "ename": "SyntaxError",
     "evalue": "no binding for nonlocal 'a' found (<ipython-input-49-5e593e53a7df>, line 4)",
     "output_type": "error",
     "traceback": [
      "\u001b[1;36m  File \u001b[1;32m\"<ipython-input-49-5e593e53a7df>\"\u001b[1;36m, line \u001b[1;32m4\u001b[0m\n\u001b[1;33m    nonlocal a\u001b[0m\n\u001b[1;37m    ^\u001b[0m\n\u001b[1;31mSyntaxError\u001b[0m\u001b[1;31m:\u001b[0m no binding for nonlocal 'a' found\n"
     ]
    }
   ],
   "source": [
    "a = 42\n",
    "\n",
    "def func():\n",
    "    nonlocal a\n",
    "    print(a)\n",
    "    a = a+1"
   ]
  },
  {
   "cell_type": "markdown",
   "metadata": {},
   "source": [
    "# Feito em sala -- 30/09"
   ]
  },
  {
   "cell_type": "markdown",
   "metadata": {},
   "source": [
    "# Cardapio\n",
    "\n",
    "## mostrar itens cardapio\n",
    "## adicionar novo item no cardapio\n",
    "## remover item do cardapio\n",
    "## limpar cardapio (cardapio tem que ficar sem item nenhum)"
   ]
  },
  {
   "cell_type": "code",
   "execution_count": 74,
   "metadata": {},
   "outputs": [],
   "source": [
    "class Cardapio:\n",
    "    def __init__(self):\n",
    "        self.itens = []\n",
    "        self.preco = []\n",
    "        \n",
    "    def mostrar(self):\n",
    "        print(self.itens)\n",
    "        \n",
    "    def adicionar(self,item):\n",
    "        if type(item) == str:\n",
    "            if item not in self.itens:\n",
    "                self.itens.append(item)\n",
    "                print(item +' adicionado com sucesso!')\n",
    "            else:\n",
    "                print(item + ' ja existente no cardapio')\n",
    "        else:\n",
    "            print('Digite somente textos')\n",
    "        \n",
    "    def remover(self, item):\n",
    "        if item in self.itens:\n",
    "            self.itens.remove(item)\n",
    "            print('Item ' + item + ' foi removido com sucesso')\n",
    "        else:\n",
    "            print('Item não encontrado!')\n",
    "    def limpar(self):\n",
    "        for item in self.itens:\n",
    "            self.remover(item)\n",
    "        print(\"Cardapio limpo\")\n",
    "        self.mostrar()\n",
    "    "
   ]
  },
  {
   "cell_type": "code",
   "execution_count": 75,
   "metadata": {},
   "outputs": [
    {
     "name": "stdout",
     "output_type": "stream",
     "text": [
      "Cerveja adicionado com sucesso!\n",
      "['Cerveja']\n"
     ]
    }
   ],
   "source": [
    "menu = Cardapio()\n",
    "menu.adicionar(\"Cerveja\")\n",
    "menu.mostrar()"
   ]
  },
  {
   "cell_type": "code",
   "execution_count": 76,
   "metadata": {},
   "outputs": [
    {
     "name": "stdout",
     "output_type": "stream",
     "text": [
      "Ceviche adicionado com sucesso!\n"
     ]
    }
   ],
   "source": [
    "menu.adicionar(\"Ceviche\")"
   ]
  },
  {
   "cell_type": "code",
   "execution_count": 77,
   "metadata": {},
   "outputs": [
    {
     "name": "stdout",
     "output_type": "stream",
     "text": [
      "['Cerveja', 'Ceviche']\n"
     ]
    }
   ],
   "source": [
    "menu.mostrar()"
   ]
  },
  {
   "cell_type": "code",
   "execution_count": 78,
   "metadata": {},
   "outputs": [
    {
     "name": "stdout",
     "output_type": "stream",
     "text": [
      "Item Ceviche foi removido com sucesso\n"
     ]
    }
   ],
   "source": [
    "menu.remover('Ceviche')"
   ]
  },
  {
   "cell_type": "code",
   "execution_count": 79,
   "metadata": {},
   "outputs": [
    {
     "name": "stdout",
     "output_type": "stream",
     "text": [
      "Item não encontrado!\n"
     ]
    }
   ],
   "source": [
    "menu.remover('cebola')"
   ]
  },
  {
   "cell_type": "code",
   "execution_count": 80,
   "metadata": {},
   "outputs": [
    {
     "name": "stdout",
     "output_type": "stream",
     "text": [
      "['Cerveja']\n"
     ]
    }
   ],
   "source": [
    "menu.mostrar()"
   ]
  },
  {
   "cell_type": "code",
   "execution_count": 82,
   "metadata": {},
   "outputs": [
    {
     "name": "stdout",
     "output_type": "stream",
     "text": [
      "Item Cerveja foi removido com sucesso\n",
      "Cardapio limpo\n",
      "[]\n"
     ]
    }
   ],
   "source": [
    "menu.limpar()"
   ]
  },
  {
   "cell_type": "markdown",
   "metadata": {},
   "source": [
    "## Herança"
   ]
  },
  {
   "cell_type": "code",
   "execution_count": 91,
   "metadata": {},
   "outputs": [],
   "source": [
    "class Animal():\n",
    "    def __init__(self):\n",
    "        self.som = ''\n",
    "    def fazer_som(self):\n",
    "        print(self.som)\n",
    "\n",
    "class Gato(Animal):\n",
    "    def __init__(self):\n",
    "        self.som = 'meow'\n",
    "    def arranhar(self):\n",
    "        print('Arranhou o sofá!')\n",
    "        \n",
    "class Cabra(Animal):\n",
    "    def __init__(self):\n",
    "        self.som = 'mééééé'\n",
    "        \n",
    "    def dar_leite(self):\n",
    "        print('Leite produzido')"
   ]
  },
  {
   "cell_type": "code",
   "execution_count": 92,
   "metadata": {},
   "outputs": [
    {
     "name": "stdout",
     "output_type": "stream",
     "text": [
      "meow\n"
     ]
    }
   ],
   "source": [
    "cat = Gato()\n",
    "cat.fazer_som()"
   ]
  },
  {
   "cell_type": "code",
   "execution_count": 93,
   "metadata": {},
   "outputs": [
    {
     "name": "stdout",
     "output_type": "stream",
     "text": [
      "Arranhou o sofá!\n"
     ]
    }
   ],
   "source": [
    "cat.arranhar()"
   ]
  },
  {
   "cell_type": "code",
   "execution_count": 94,
   "metadata": {},
   "outputs": [
    {
     "name": "stdout",
     "output_type": "stream",
     "text": [
      "mééééé\n"
     ]
    }
   ],
   "source": [
    "goat = Cabra()\n",
    "goat.fazer_som()"
   ]
  },
  {
   "cell_type": "code",
   "execution_count": 96,
   "metadata": {},
   "outputs": [
    {
     "name": "stdout",
     "output_type": "stream",
     "text": [
      "Leite produzido\n"
     ]
    }
   ],
   "source": [
    "goat.dar_leite()"
   ]
  },
  {
   "cell_type": "code",
   "execution_count": 97,
   "metadata": {},
   "outputs": [
    {
     "name": "stdout",
     "output_type": "stream",
     "text": [
      "\n"
     ]
    }
   ],
   "source": [
    "animal = Animal()\n",
    "animal.fazer_som()"
   ]
  },
  {
   "cell_type": "markdown",
   "metadata": {},
   "source": [
    "## Herança Múltipla"
   ]
  },
  {
   "cell_type": "code",
   "execution_count": 102,
   "metadata": {},
   "outputs": [],
   "source": [
    "class Animal():\n",
    "    def __init__(self):\n",
    "        self.som = ''\n",
    "    def fazer_som(self):\n",
    "        print(self.som)\n",
    "\n",
    "class Leiteiras():\n",
    "    def __init__(self):\n",
    "        pass\n",
    "        \n",
    "    def dar_leite(self):\n",
    "        print('Leite produzido')\n",
    "\n",
    "class Gato(Animal):\n",
    "    def __init__(self):\n",
    "        self.som = 'meow'\n",
    "    def arranhar(self):\n",
    "        print('Arranhou o sofá!')\n",
    "    \n",
    "        \n",
    "class Cabra(Animal, Leiteiras):\n",
    "    def __init__(self):\n",
    "        self.som = 'méééé'\n",
    "    def subir_arvore(self):\n",
    "        print('Por algum motivo subiu a árvore!')\n",
    "\n",
    "class Vaca(Animal, Leiteiras):\n",
    "    def __init__(self):\n",
    "        self.som = 'muuu'\n",
    "    def pasta(self):\n",
    "        print('Comendo grama!')"
   ]
  },
  {
   "cell_type": "code",
   "execution_count": 103,
   "metadata": {},
   "outputs": [
    {
     "name": "stdout",
     "output_type": "stream",
     "text": [
      "méééé\n",
      "Por algum motivo subiu a árvore!\n",
      "Leite produzido\n"
     ]
    }
   ],
   "source": [
    "goat = Cabra()\n",
    "goat.fazer_som()\n",
    "goat.subir_arvore()\n",
    "goat.dar_leite()"
   ]
  },
  {
   "cell_type": "code",
   "execution_count": 105,
   "metadata": {},
   "outputs": [
    {
     "name": "stdout",
     "output_type": "stream",
     "text": [
      "muuu\n",
      "Comendo grama!\n",
      "Leite produzido\n"
     ]
    }
   ],
   "source": [
    "cow = Vaca()\n",
    "cow.fazer_som()\n",
    "cow.pasta()\n",
    "cow.dar_leite()"
   ]
  },
  {
   "cell_type": "code",
   "execution_count": null,
   "metadata": {},
   "outputs": [],
   "source": []
  }
 ],
 "metadata": {
  "kernelspec": {
   "display_name": "Python 3",
   "language": "python",
   "name": "python3"
  },
  "language_info": {
   "codemirror_mode": {
    "name": "ipython",
    "version": 3
   },
   "file_extension": ".py",
   "mimetype": "text/x-python",
   "name": "python",
   "nbconvert_exporter": "python",
   "pygments_lexer": "ipython3",
   "version": "3.7.4"
  }
 },
 "nbformat": 4,
 "nbformat_minor": 2
}
