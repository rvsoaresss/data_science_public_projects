{
 "cells": [
  {
   "cell_type": "markdown",
   "metadata": {},
   "source": [
    "Criar uma classe banco\n",
    "\n",
    "como saber se uma classe herda da outra: o banco é uma conta? o banco é uma conta? não, entao é necessario criar 2 classes diferentes\n",
    "\n",
    "classe cliente vai ser um atributo da classe banco"
   ]
  },
  {
   "cell_type": "code",
   "execution_count": null,
   "metadata": {},
   "outputs": [],
   "source": [
    "class Banco(): # paranteses é necessario quando herdamos \n",
    "    def __init__ (self, nome, id_banco,):\n",
    "        self.nome = nome\n",
    "        self.id_banco = id_banco\n",
    "        self.clientes = []\n",
    "        \n",
    "    def add_cliente(self, cliente):\n",
    "        self.clientes.append(cliente) # função dentro de classe chama-se metodo / variaveis do objeto chama-se atributos "
   ]
  },
  {
   "cell_type": "code",
   "execution_count": 13,
   "metadata": {},
   "outputs": [
    {
     "ename": "IndentationError",
     "evalue": "expected an indented block (<ipython-input-13-2e4aabef928c>, line 3)",
     "output_type": "error",
     "traceback": [
      "\u001b[1;36m  File \u001b[1;32m\"<ipython-input-13-2e4aabef928c>\"\u001b[1;36m, line \u001b[1;32m3\u001b[0m\n\u001b[1;33m    self.numero = numero\u001b[0m\n\u001b[1;37m       ^\u001b[0m\n\u001b[1;31mIndentationError\u001b[0m\u001b[1;31m:\u001b[0m expected an indented block\n"
     ]
    }
   ],
   "source": [
    "class Conta():\n",
    "    def __init__ (self, numero, agencia, tipo, saldo):\n",
    "    self.numero = numero #self.numero é o atributo / numero é a variavel\n",
    "    self.agencia = agencia\n",
    "    self.tipo = tipo\n",
    "    self.saldo = saldo\n",
    "    \n",
    "    def depositar (self, dinheiro):\n",
    "        if dinheiro > 0:\n",
    "            self.saldo = self.saldo + dinheiro\n",
    "        else:\n",
    "            print(\"Deposito negativo não existe\")\n",
    "            \n",
    "    def sacar (self, dinheiro):\n",
    "        if dinheiro <= self.saldo:\n",
    "            self.saldo = self.saldo - dinheiro\n",
    "        else:\n",
    "            print(\"Voce não tem saldo suficiente\")\n",
    "            \n",
    "    def transferir(self, conta_destino, dinheiro):\n",
    "        if dinheiro <= self.saldo:\n",
    "            self.sacar(dinheiro)\n",
    "            conta_destino.depositar(dinheiro)\n",
    "        else:\n",
    "            print(\"Voce não tem saldo suficiente\")"
   ]
  },
  {
   "cell_type": "code",
   "execution_count": 14,
   "metadata": {},
   "outputs": [
    {
     "ename": "NameError",
     "evalue": "name 'Conta' is not defined",
     "output_type": "error",
     "traceback": [
      "\u001b[1;31m---------------------------------------------------------------------------\u001b[0m",
      "\u001b[1;31mNameError\u001b[0m                                 Traceback (most recent call last)",
      "\u001b[1;32m<ipython-input-14-25a9cb884270>\u001b[0m in \u001b[0;36m<module>\u001b[1;34m\u001b[0m\n\u001b[1;32m----> 1\u001b[1;33m \u001b[0mconta_1\u001b[0m \u001b[1;33m=\u001b[0m \u001b[0mConta\u001b[0m\u001b[1;33m(\u001b[0m\u001b[1;36m1\u001b[0m\u001b[1;33m,\u001b[0m\u001b[1;34m\"001\"\u001b[0m\u001b[1;33m,\u001b[0m\u001b[1;34m\"corrente\"\u001b[0m\u001b[1;33m,\u001b[0m\u001b[1;36m2000\u001b[0m\u001b[1;33m)\u001b[0m\u001b[1;33m\u001b[0m\u001b[1;33m\u001b[0m\u001b[0m\n\u001b[0m",
      "\u001b[1;31mNameError\u001b[0m: name 'Conta' is not defined"
     ]
    }
   ],
   "source": [
    "conta_1 = Conta(1,\"001\",\"corrente\",2000)"
   ]
  },
  {
   "cell_type": "code",
   "execution_count": null,
   "metadata": {},
   "outputs": [],
   "source": []
  }
 ],
 "metadata": {
  "kernelspec": {
   "display_name": "Python 3",
   "language": "python",
   "name": "python3"
  },
  "language_info": {
   "codemirror_mode": {
    "name": "ipython",
    "version": 3
   },
   "file_extension": ".py",
   "mimetype": "text/x-python",
   "name": "python",
   "nbconvert_exporter": "python",
   "pygments_lexer": "ipython3",
   "version": "3.7.4"
  }
 },
 "nbformat": 4,
 "nbformat_minor": 2
}
