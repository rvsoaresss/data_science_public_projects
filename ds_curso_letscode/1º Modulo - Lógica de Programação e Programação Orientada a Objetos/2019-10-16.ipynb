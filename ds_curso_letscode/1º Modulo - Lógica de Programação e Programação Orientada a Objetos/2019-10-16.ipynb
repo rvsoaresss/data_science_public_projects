{
 "cells": [
  {
   "cell_type": "markdown",
   "metadata": {},
   "source": [
    "# Correção Prova"
   ]
  },
  {
   "cell_type": "code",
   "execution_count": 2,
   "metadata": {},
   "outputs": [
    {
     "data": {
      "text/plain": [
       "[0, 4, 5]"
      ]
     },
     "execution_count": 2,
     "metadata": {},
     "output_type": "execute_result"
    }
   ],
   "source": [
    "## Q2\n",
    "\n",
    "def remove(m,n, lista):\n",
    "    for i in range (m,n+1):\n",
    "        del(lista[m])\n",
    "lista = [0,1,2,3,4,5]\n",
    "remove(1,3,lista)\n",
    "lista"
   ]
  },
  {
   "cell_type": "code",
   "execution_count": 15,
   "metadata": {},
   "outputs": [
    {
     "name": "stdout",
     "output_type": "stream",
     "text": [
      "Linha 1\n",
      "Linha 2\n",
      "Linha 3\n",
      "Linha 4\n",
      "Linha 6\n"
     ]
    }
   ],
   "source": [
    "## Q7\n",
    "\n",
    "try:\n",
    "    print('Linha 1')\n",
    "    ### linha A\n",
    "    \n",
    "    try:\n",
    "        print('Linha 2')\n",
    "        ### linha B\n",
    "        raise RuntimeError('Erro 1')\n",
    "    except:\n",
    "        ### linha C\n",
    "        print('Linha 3')\n",
    "    print('Linha 4')\n",
    "except:\n",
    "    print('Linha 5')\n",
    "\n",
    "    \n",
    "print('Linha 6')\n",
    "\n",
    "\n"
   ]
  },
  {
   "cell_type": "code",
   "execution_count": null,
   "metadata": {},
   "outputs": [],
   "source": [
    "## Q8\n",
    "def testar_triangulo_retangulo(arg1, arg2, arg3):\n",
    "  ´´´  \n",
    "    if arg1>arg2 and arg1>arg3:\n",
    "        hipotenusa = arg1\n",
    "        cateto1 = arg2 \n",
    "        cateto2 = arg3\n",
    "    elif arg2 > arg1 and arg2 > arg3:\n",
    "        hipotenusa = arg2\n",
    "        cateto1=arg1\n",
    "        cateto2= arg3\n",
    "    else:\n",
    "        hipotenusa = arg3\n",
    "        cateto1 = arg2 \n",
    "        cateto2 = arg1\n",
    "        ´´´´\n",
    "    \n",
    "    if(hipotenusa**2==cateto1**2+cateto2**2):\n",
    "        return [hipotenusa, cateto1, cateto2], True\n",
    "    else:\n",
    "        return False\n",
    "    "
   ]
  },
  {
   "cell_type": "code",
   "execution_count": 16,
   "metadata": {},
   "outputs": [],
   "source": [
    "def testar_triangulo_retangulo(arg1, arg2, arg3):\n",
    "    lista = [arg1, arg2, arg3]\n",
    "    lista.sort()\n",
    "    \n",
    "    if(lista[2]**2==lista[1]**2+lista[0]**2):\n",
    "        return lista[::-1], True\n",
    "    else:\n",
    "        return False\n",
    "    "
   ]
  },
  {
   "cell_type": "code",
   "execution_count": 17,
   "metadata": {},
   "outputs": [
    {
     "data": {
      "text/plain": [
       "([5, 4, 3], True)"
      ]
     },
     "execution_count": 17,
     "metadata": {},
     "output_type": "execute_result"
    }
   ],
   "source": [
    "testar_triangulo_retangulo(3,4,5)"
   ]
  },
  {
   "cell_type": "code",
   "execution_count": 18,
   "metadata": {},
   "outputs": [],
   "source": [
    "def calc_hipo(arg1, arg2, arg3):\n",
    "    \n",
    "    return arg1**2 == (arg2**2+arg3**2)\n",
    "    \n",
    "def testar_triangulo_retangulo(arg1, arg2, arg3):\n",
    "    if calc_hipo(arg1,arg2,arg3):\n",
    "        return [arg1,arg2,arg3], True\n",
    "    \n",
    "    elif calc_hipo(arg2,arg1,arg3):\n",
    "        return [arg2,arg1,arg3], True\n",
    "    \n",
    "    elif calc_hipo(arg3,arg2,arg1):\n",
    "        return [arg3,arg2,arg1], True\n",
    "    else:\n",
    "        return False"
   ]
  },
  {
   "cell_type": "code",
   "execution_count": 20,
   "metadata": {},
   "outputs": [
    {
     "data": {
      "text/plain": [
       "False"
      ]
     },
     "execution_count": 20,
     "metadata": {},
     "output_type": "execute_result"
    }
   ],
   "source": [
    "testar_triangulo_retangulo(3,4,4)"
   ]
  },
  {
   "cell_type": "code",
   "execution_count": 21,
   "metadata": {},
   "outputs": [],
   "source": [
    "## Q9\n",
    "\n",
    "class Pessoa():\n",
    "    def __init__(self, nome, idade, peso, altura):\n",
    "        self.nome = nome\n",
    "        self.idade = idade\n",
    "        self.peso = peso\n",
    "        self.altura = altura\n",
    "        \n",
    "    def envelhecer(self, idade_adicional):\n",
    "        self.idade = self.idade + idade_adicional\n",
    "        print(\"A nova idade é:\",self.idade)\n",
    "        \n",
    "    def engordar(self, peso_adicional):\n",
    "        self.peso = self.peso + peso_adicional\n",
    "        print(\"Novo peso é:\", self.peso)\n",
    "        \n",
    "    def emagrecer(self, peso_perdido):\n",
    "        self.peso = self.peso - peso_perdido\n",
    "        print(\"Novo peso é:\", self.peso)\n",
    "        \n",
    "    def crescer(self, nova_idade):\n",
    "        if self.idade >=21:\n",
    "            self.altura = self.altura\n",
    "        else:\n",
    "            if nova_idade>=21:\n",
    "                dif_altura = (21-self.idade)*0.5\n",
    "                self.altura = self.altura + dif_altura\n",
    "            else:\n",
    "                dif_altura = (nova_idade - self.idade)*0.5\n",
    "                self.altura = self.altura + dif_altura\n",
    "            print(\"Altura atual é:\",self.altura)"
   ]
  },
  {
   "cell_type": "code",
   "execution_count": 22,
   "metadata": {},
   "outputs": [],
   "source": [
    "class Pessoa():\n",
    "    def __init__(self, nome, idade, peso, altura):\n",
    "        self.nome = nome\n",
    "        self.idade = idade\n",
    "        self.peso = peso\n",
    "        self.altura = altura\n",
    "        \n",
    "    def envelhecer(self, idade_adicional):\n",
    "        self.idade = self.idade + idade_adicional\n",
    "        print(\"A nova idade é:\",self.idade)\n",
    "        \n",
    "    def engordar(self, peso_adicional):\n",
    "        pass\n",
    "        \n",
    "    def emagrecer(self, peso_perdido):\n",
    "        pass\n",
    "        \n",
    "    def crescer(self, nova_idade):\n",
    "        if self.idade >=21:\n",
    "            self.altura = self.altura\n",
    "        else:\n",
    "            if nova_idade>=21:\n",
    "                dif_altura = (21-self.idade)*0.5\n",
    "                self.altura = self.altura + dif_altura\n",
    "            else:\n",
    "                dif_altura = (nova_idade - self.idade)*0.5\n",
    "                self.altura = self.altura + dif_altura\n",
    "            print(\"Altura atual é:\",self.altura)"
   ]
  },
  {
   "cell_type": "code",
   "execution_count": 23,
   "metadata": {},
   "outputs": [],
   "source": [
    "## Q 10\n",
    "\n",
    "class Felinos:\n",
    "    sound = 'meow'\n",
    "    def make_sound(self):\n",
    "        print('Gatos fazem',self.sound)\n",
    "\n",
    "class Gato(Felinos):\n",
    "    def __init__(self):\n",
    "        self.sound = 'meow '\n",
    "    def make_sound(self,n=1):\n",
    "        som = lambda x,k: x*k\n",
    "        print('Gatos fazem',som(self.sound,n))  \n"
   ]
  },
  {
   "cell_type": "code",
   "execution_count": 24,
   "metadata": {},
   "outputs": [],
   "source": [
    "felix = Gato()"
   ]
  },
  {
   "cell_type": "code",
   "execution_count": 26,
   "metadata": {},
   "outputs": [
    {
     "name": "stdout",
     "output_type": "stream",
     "text": [
      "Gatos fazem meow \n",
      "Gatos fazem meow meow meow meow meow \n",
      "Gatos fazem \n"
     ]
    }
   ],
   "source": [
    "felix.make_sound(1)\n",
    "felix.make_sound(5)\n",
    "felix.make_sound(0)"
   ]
  },
  {
   "cell_type": "code",
   "execution_count": 27,
   "metadata": {},
   "outputs": [],
   "source": [
    "x = lambda a,b: a+b"
   ]
  },
  {
   "cell_type": "code",
   "execution_count": 28,
   "metadata": {},
   "outputs": [
    {
     "data": {
      "text/plain": [
       "3"
      ]
     },
     "execution_count": 28,
     "metadata": {},
     "output_type": "execute_result"
    }
   ],
   "source": [
    "x(1,2)"
   ]
  },
  {
   "cell_type": "markdown",
   "metadata": {},
   "source": [
    "# Modulo 2"
   ]
  },
  {
   "cell_type": "code",
   "execution_count": 61,
   "metadata": {},
   "outputs": [],
   "source": [
    "def prod_pot(x,y):\n",
    "    produto = x*y\n",
    "    pot = x**y\n",
    "    return produto,pot"
   ]
  },
  {
   "cell_type": "code",
   "execution_count": 62,
   "metadata": {},
   "outputs": [
    {
     "data": {
      "text/plain": [
       "(4, 4)"
      ]
     },
     "execution_count": 62,
     "metadata": {},
     "output_type": "execute_result"
    }
   ],
   "source": [
    "prod_pot(2,2)"
   ]
  },
  {
   "cell_type": "code",
   "execution_count": 63,
   "metadata": {},
   "outputs": [],
   "source": [
    "prod, pot = prod_pot(2,2)"
   ]
  },
  {
   "cell_type": "code",
   "execution_count": 56,
   "metadata": {},
   "outputs": [
    {
     "data": {
      "text/plain": [
       "4"
      ]
     },
     "execution_count": 56,
     "metadata": {},
     "output_type": "execute_result"
    }
   ],
   "source": []
  },
  {
   "cell_type": "code",
   "execution_count": 58,
   "metadata": {},
   "outputs": [
    {
     "data": {
      "text/plain": [
       "4"
      ]
     },
     "execution_count": 58,
     "metadata": {},
     "output_type": "execute_result"
    }
   ],
   "source": [
    "pot"
   ]
  },
  {
   "cell_type": "markdown",
   "metadata": {},
   "source": [
    "## Tupla"
   ]
  },
  {
   "cell_type": "code",
   "execution_count": 76,
   "metadata": {},
   "outputs": [],
   "source": [
    "def triangulo_retangulo(lado1,lado2,lado3): \n",
    "    if lado1 ** 2 == lado2 ** 2 + lado3 ** 2:\n",
    "        return lado1, lado2, lado3, True \n",
    "    elif lado2 ** 2 == lado1 ** 2 + lado3 ** 2:\n",
    "        return lado2, lado1, lado3, True\n",
    "    elif lado3 ** 2 == lado1 ** 2 + lado2 ** 2:\n",
    "        return lado3, lado1, lado2, True \n",
    "    else: \n",
    "        print(\"Não é um triângulo retângulo\")\n",
    "        \n",
    "        "
   ]
  },
  {
   "cell_type": "code",
   "execution_count": 77,
   "metadata": {},
   "outputs": [
    {
     "data": {
      "text/plain": [
       "{True, 3, 4, 5}"
      ]
     },
     "execution_count": 77,
     "metadata": {},
     "output_type": "execute_result"
    }
   ],
   "source": [
    "triangulo_retangulo(3,4,5)"
   ]
  },
  {
   "cell_type": "code",
   "execution_count": 68,
   "metadata": {},
   "outputs": [],
   "source": [
    "a,b,c,flag = triangulo_retangulo(3,4,5)"
   ]
  },
  {
   "cell_type": "code",
   "execution_count": 69,
   "metadata": {},
   "outputs": [
    {
     "data": {
      "text/plain": [
       "True"
      ]
     },
     "execution_count": 69,
     "metadata": {},
     "output_type": "execute_result"
    }
   ],
   "source": [
    "flag"
   ]
  },
  {
   "cell_type": "code",
   "execution_count": 71,
   "metadata": {},
   "outputs": [
    {
     "name": "stdout",
     "output_type": "stream",
     "text": [
      "hipotenusa: 5 - catetos: 3   4\n"
     ]
    }
   ],
   "source": [
    "print('hipotenusa:',a,'- catetos:',b,' ',c)"
   ]
  },
  {
   "cell_type": "markdown",
   "metadata": {},
   "source": [
    "# Dicionário"
   ]
  },
  {
   "cell_type": "code",
   "execution_count": 89,
   "metadata": {},
   "outputs": [],
   "source": [
    "a = {'nome':'Julia', 'idade':25, 'sexo':'NP'}"
   ]
  },
  {
   "cell_type": "code",
   "execution_count": 90,
   "metadata": {},
   "outputs": [
    {
     "data": {
      "text/plain": [
       "dict"
      ]
     },
     "execution_count": 90,
     "metadata": {},
     "output_type": "execute_result"
    }
   ],
   "source": [
    "type(a)"
   ]
  },
  {
   "cell_type": "code",
   "execution_count": 91,
   "metadata": {},
   "outputs": [
    {
     "data": {
      "text/plain": [
       "'Julia'"
      ]
     },
     "execution_count": 91,
     "metadata": {},
     "output_type": "execute_result"
    }
   ],
   "source": [
    "a['nome']"
   ]
  },
  {
   "cell_type": "markdown",
   "metadata": {},
   "source": [
    "## Ex 1"
   ]
  },
  {
   "cell_type": "markdown",
   "metadata": {},
   "source": [
    "'screva uma função chamada most_frequent que receba 3 strings, uma palavra em português, outra com sua tradução para o inglês e a terceira com a tradução em espanhol e exiba as letras em ordem decrescente de frequência. "
   ]
  },
  {
   "cell_type": "code",
   "execution_count": 98,
   "metadata": {},
   "outputs": [],
   "source": [
    "def most_frequent(port,ing,esp):\n",
    "    palavra=port+ing+esp\n",
    "    dic={}\n",
    "    for i in range(len(palavra)):\n",
    "        if palavra[i] not in dic:\n",
    "            dic[palavra[i]]=palavra.count(palavra[i])\n",
    "    return dic\n",
    "            "
   ]
  },
  {
   "cell_type": "code",
   "execution_count": 112,
   "metadata": {},
   "outputs": [],
   "source": [
    "dici = most_frequent('cachorro','dog','perro')"
   ]
  },
  {
   "cell_type": "code",
   "execution_count": 115,
   "metadata": {},
   "outputs": [],
   "source": [
    "k = list(dici.keys())\n",
    "k.sort()"
   ]
  },
  {
   "cell_type": "code",
   "execution_count": 116,
   "metadata": {},
   "outputs": [
    {
     "data": {
      "text/plain": [
       "['a', 'c', 'd', 'e', 'g', 'h', 'o', 'p', 'r']"
      ]
     },
     "execution_count": 116,
     "metadata": {},
     "output_type": "execute_result"
    }
   ],
   "source": [
    "k"
   ]
  },
  {
   "cell_type": "markdown",
   "metadata": {},
   "source": [
    "# Ex 4\n",
    "\n",
    "Duas palavras formam um “par de metátese” se você puder transformar uma na outra trocando duas letras, por exemplo, “converse” e “conserve”. Escreva um programa que descubra todos os pares de metátese no dicionário. Dica: não teste todos os pares de palavras e não teste todas as trocas possíveis.\n",
    "\n"
   ]
  },
  {
   "cell_type": "code",
   "execution_count": 121,
   "metadata": {},
   "outputs": [],
   "source": [
    "def letras_palavra(palavra):\n",
    "    dic={}\n",
    "    for i in range(len(palavra)):\n",
    "        if palavra[i] not in dic:\n",
    "            dic[palavra[i]]=palavra.count(palavra[i])\n",
    "    lista = list(dic.keys())\n",
    "    lista.sort()\n",
    "    return lista\n",
    "\n",
    "def comparacao(palavra1,palavra2):\n",
    "    if letras_palavra(palavra1) == letras_palavra(palavra2):\n",
    "        count_dif = 0\n",
    "        for i in range(len(palavra1)):\n",
    "            if palavra1[i]!=palavra2[i]:\n",
    "                count_dif = count_dif + 1\n",
    "\n",
    "    if count_dif < 3:\n",
    "        print(palavra1,'e',palavra2,'são um par metátese!')\n",
    "    else:\n",
    "        print(palavra1,'e',palavra2,'não são um par metátese!')  \n",
    "\n",
    "def metatese(palavras):\n",
    "    for i in range(len(palavras)):\n",
    "        for j in range(i+1,len(palavras)):\n",
    "            if len(palavras[i]) == len(palavras[j]):\n",
    "                comparacao(palavras[i],palavras[j])\n",
    "            else: \n",
    "                print(palavras[i],'e',palavras[j],'não são um par metátese!')"
   ]
  },
  {
   "cell_type": "code",
   "execution_count": 123,
   "metadata": {},
   "outputs": [
    {
     "name": "stdout",
     "output_type": "stream",
     "text": [
      "conserve e conversek não são um par metátese!\n"
     ]
    }
   ],
   "source": [
    "metatese(['conserve','conversek'])"
   ]
  },
  {
   "cell_type": "code",
   "execution_count": null,
   "metadata": {},
   "outputs": [],
   "source": []
  }
 ],
 "metadata": {
  "kernelspec": {
   "display_name": "Python 3",
   "language": "python",
   "name": "python3"
  },
  "language_info": {
   "codemirror_mode": {
    "name": "ipython",
    "version": 3
   },
   "file_extension": ".py",
   "mimetype": "text/x-python",
   "name": "python",
   "nbconvert_exporter": "python",
   "pygments_lexer": "ipython3",
   "version": "3.7.0"
  }
 },
 "nbformat": 4,
 "nbformat_minor": 2
}
