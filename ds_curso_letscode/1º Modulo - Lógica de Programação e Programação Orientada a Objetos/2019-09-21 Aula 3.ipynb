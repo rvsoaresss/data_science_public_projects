{
 "cells": [
  {
   "cell_type": "markdown",
   "metadata": {},
   "source": [
    "# Aula 03\n",
    "## Na aula anterior...\n",
    "### Estruturas de Repetição"
   ]
  },
  {
   "cell_type": "markdown",
   "metadata": {},
   "source": [
    "O que é um while? Como usar? Como fazer pra mostrar todos os números ímpares entre 0 e 100?"
   ]
  },
  {
   "cell_type": "markdown",
   "metadata": {},
   "source": [
    "Texto 1"
   ]
  },
  {
   "cell_type": "markdown",
   "metadata": {},
   "source": [
    "teste"
   ]
  },
  {
   "cell_type": "raw",
   "metadata": {},
   "source": [
    "teste"
   ]
  },
  {
   "cell_type": "code",
   "execution_count": null,
   "metadata": {},
   "outputs": [],
   "source": []
  },
  {
   "cell_type": "code",
   "execution_count": 4,
   "metadata": {},
   "outputs": [
    {
     "name": "stdout",
     "output_type": "stream",
     "text": [
      "1\n",
      "3\n",
      "5\n",
      "7\n",
      "9\n"
     ]
    }
   ],
   "source": [
    "x = 0\n",
    "while x <= 10:\n",
    "    if x%2 == 1:\n",
    "        print(x)\n",
    "    x += 1"
   ]
  },
  {
   "cell_type": "markdown",
   "metadata": {},
   "source": [
    "**Me ajudem! Preciso calcular a média das notas de vocês mas fiquei doente, então preciso que vocês façam um programa que leia as notas referentes às avaliações, as quais são 5, de um aluno e calcule a média.**"
   ]
  },
  {
   "cell_type": "code",
   "execution_count": 10,
   "metadata": {},
   "outputs": [
    {
     "name": "stdout",
     "output_type": "stream",
     "text": [
      "Digite a nota da p1: 7\n",
      "Digite a nota da p2: 7\n",
      "Digite a nota da p3: 7\n",
      "Digite a nota da p4: 7\n",
      "Digite a nota da p5: 7\n",
      "Sua média foi:  7.0\n"
     ]
    }
   ],
   "source": [
    "total = 0\n",
    "contador = 1\n",
    "\n",
    "while contador <= 5:\n",
    "    notas = float(input('Digite a nota da p' + str(contador) + ': '))\n",
    "    total = total + notas\n",
    "    \n",
    "    contador += 1\n",
    "\n",
    "media = total/5\n",
    "print('Sua média foi: ', media)"
   ]
  },
  {
   "cell_type": "code",
   "execution_count": null,
   "metadata": {},
   "outputs": [],
   "source": [
    "total = 0\n",
    "contador = 1\n",
    "\n",
    "while contador <= 5:\n",
    "    notas = float(input('Digite a nota da p' + str(contador) + ': '))\n",
    "    total = total + notas\n",
    "    \n",
    "    contador += 1\n",
    "\n",
    "media = total/5\n",
    "print('Sua média foi: ', media)"
   ]
  },
  {
   "cell_type": "markdown",
   "metadata": {},
   "source": [
    "**Mas no próximo módulo não serão 8 notas. Na verdade nem eu sei quantas serão, então, por via das dúvidas, incremente e faça um sistema que leia notas de um aluno até que uma flag -1 seja inserida. Calcule a média de tudo.**"
   ]
  },
  {
   "cell_type": "code",
   "execution_count": null,
   "metadata": {},
   "outputs": [],
   "source": []
  },
  {
   "cell_type": "markdown",
   "metadata": {},
   "source": [
    "**Lembrando que o professor pode se enganar. Então vamos nos antecipar ao erro e colocar um validador de nota, a qual só será aceita se estiver entre 0 e 10 (inclusos).**"
   ]
  },
  {
   "cell_type": "code",
   "execution_count": null,
   "metadata": {},
   "outputs": [],
   "source": []
  },
  {
   "cell_type": "markdown",
   "metadata": {},
   "source": [
    "**Faça um programa que leia a validade das informações:**\n",
    "- **Idade: entre 0 e 150;**\n",
    "- **Salário: maior que 0;**\n",
    "- **Sexo: M, F ou Outro;**\n",
    "\n",
    "**O programa deve imprimir uma mensagem de erro para cada informação inválida.**"
   ]
  },
  {
   "cell_type": "code",
   "execution_count": null,
   "metadata": {},
   "outputs": [],
   "source": []
  },
  {
   "cell_type": "markdown",
   "metadata": {},
   "source": [
    "**Faça um programa que peça para o usuário digitar a idade, o salário e o sexo até que as entradas digitadas sejam válidas**\n",
    "\n",
    "- **Idade: entre 0 e 150;**\n",
    "- **Salário: maior que 0;**\n",
    "- **Sexo: M, F ou Outro;**"
   ]
  },
  {
   "cell_type": "code",
   "execution_count": null,
   "metadata": {},
   "outputs": [],
   "source": []
  },
  {
   "cell_type": "markdown",
   "metadata": {},
   "source": [
    "**Dado um número, imprima na tela todos os seus divisores.**"
   ]
  },
  {
   "cell_type": "code",
   "execution_count": null,
   "metadata": {},
   "outputs": [],
   "source": []
  },
  {
   "cell_type": "markdown",
   "metadata": {},
   "source": [
    "**Dado um número, imprima na tela se ele é primo ou não.**"
   ]
  },
  {
   "cell_type": "code",
   "execution_count": null,
   "metadata": {},
   "outputs": [],
   "source": []
  },
  {
   "cell_type": "markdown",
   "metadata": {},
   "source": [
    "**Na matemática, um número perfeito é um número inteiro para o qual a soma de todos os seus divisores positivos próprios (excluindo ele mesmo) é igual ao próprio número. Por exemplo o número 6 é perfeito, pois 1+2+3 é igual a 6. Sua tarefa é escrever um programa que imprima se um determinado número é perfeito ou não.**"
   ]
  },
  {
   "cell_type": "code",
   "execution_count": null,
   "metadata": {},
   "outputs": [],
   "source": []
  },
  {
   "cell_type": "markdown",
   "metadata": {},
   "source": [
    "## Funções"
   ]
  },
  {
   "cell_type": "markdown",
   "metadata": {},
   "source": [
    "O que é n%2 == 0 mesmo? Tem alguma forma mais bonita de escrever isso?"
   ]
  },
  {
   "cell_type": "code",
   "execution_count": null,
   "metadata": {},
   "outputs": [],
   "source": []
  },
  {
   "cell_type": "markdown",
   "metadata": {},
   "source": [
    "E se eu quiser que meu programa use a informação de alguma maneira, não apenas exibir? Como fazer?"
   ]
  },
  {
   "cell_type": "code",
   "execution_count": null,
   "metadata": {},
   "outputs": [],
   "source": []
  },
  {
   "cell_type": "markdown",
   "metadata": {},
   "source": [
    "Eita, minha função tá sendo usada pela galera. Mas será que eles tão usando direitinho? Como garantir isso?"
   ]
  },
  {
   "cell_type": "code",
   "execution_count": null,
   "metadata": {},
   "outputs": [],
   "source": []
  },
  {
   "cell_type": "markdown",
   "metadata": {},
   "source": [
    "**Deixar o programa de calular a média mais elegante usando função.**"
   ]
  },
  {
   "cell_type": "code",
   "execution_count": null,
   "metadata": {},
   "outputs": [],
   "source": []
  },
  {
   "cell_type": "markdown",
   "metadata": {},
   "source": [
    "**E o primo? Como fazer usando função?**"
   ]
  },
  {
   "cell_type": "code",
   "execution_count": null,
   "metadata": {},
   "outputs": [],
   "source": []
  },
  {
   "cell_type": "markdown",
   "metadata": {},
   "source": [
    "### [Hackerrank!](https://www.hackerrank.com/challenges/write-a-function/problem)\n",
    "\n",
    "A cada quase quatro anos temos um ano bissexto, o qual possui 29 dias em fevereiro. Para identificar se o ano é bissexto ou não no calendário gregoriano, observamos três critérios :\n",
    "\n",
    "- O ano pode ser dividido igualmente por 4, é um ano bissexto, a menos que:\n",
    "- O ano pode ser dividido igualmente por 100, NÃO é um ano bissexto, a menos que:\n",
    "- O ano também é igualmente divisível por 400. Então é um ano bissexto.\n",
    "\n",
    "Isso significa que no calendário gregoriano, os anos 2000 e 2400 *são* anos bissextos, enquanto 1800, 1900, 2100, 2200, 2300 e 2500 *não são* anos bissextos.\n",
    "\n",
    "Você recebe o ano e precisa escrever uma função para verificar se o ano é bissexto ou não."
   ]
  },
  {
   "cell_type": "code",
   "execution_count": null,
   "metadata": {},
   "outputs": [],
   "source": []
  }
 ],
 "metadata": {
  "kernelspec": {
   "display_name": "Python 3",
   "language": "python",
   "name": "python3"
  },
  "language_info": {
   "codemirror_mode": {
    "name": "ipython",
    "version": 3
   },
   "file_extension": ".py",
   "mimetype": "text/x-python",
   "name": "python",
   "nbconvert_exporter": "python",
   "pygments_lexer": "ipython3",
   "version": "3.7.4"
  }
 },
 "nbformat": 4,
 "nbformat_minor": 2
}
