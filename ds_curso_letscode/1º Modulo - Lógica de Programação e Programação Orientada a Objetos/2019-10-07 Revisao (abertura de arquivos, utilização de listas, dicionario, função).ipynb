{
 "cells": [
  {
   "cell_type": "code",
   "execution_count": 11,
   "metadata": {},
   "outputs": [],
   "source": [
    "arquivo = open(\"Aula/dados.csv\",\"r\")"
   ]
  },
  {
   "cell_type": "code",
   "execution_count": 12,
   "metadata": {},
   "outputs": [],
   "source": [
    "texto = arquivo.read()"
   ]
  },
  {
   "cell_type": "code",
   "execution_count": 13,
   "metadata": {},
   "outputs": [
    {
     "data": {
      "text/plain": [
       "'nome,idade,cidade\\nrodrigo,26,sÃ£o paulo\\ndiego,32,sÃ£o paulo\\nbruno,27,osasco\\nfernando,21,sÃ£o paulo\\npablo,23,embu das artes\\nkleber,36,sÃ£o paulo'"
      ]
     },
     "execution_count": 13,
     "metadata": {},
     "output_type": "execute_result"
    }
   ],
   "source": [
    "texto"
   ]
  },
  {
   "cell_type": "code",
   "execution_count": 14,
   "metadata": {},
   "outputs": [],
   "source": [
    "texto2=texto.split(\"\\n\") #separa por linha"
   ]
  },
  {
   "cell_type": "code",
   "execution_count": 15,
   "metadata": {
    "scrolled": true
   },
   "outputs": [
    {
     "data": {
      "text/plain": [
       "['nome,idade,cidade',\n",
       " 'rodrigo,26,sÃ£o paulo',\n",
       " 'diego,32,sÃ£o paulo',\n",
       " 'bruno,27,osasco',\n",
       " 'fernando,21,sÃ£o paulo',\n",
       " 'pablo,23,embu das artes',\n",
       " 'kleber,36,sÃ£o paulo']"
      ]
     },
     "execution_count": 15,
     "metadata": {},
     "output_type": "execute_result"
    }
   ],
   "source": [
    "texto2"
   ]
  },
  {
   "cell_type": "code",
   "execution_count": 16,
   "metadata": {},
   "outputs": [
    {
     "data": {
      "text/plain": [
       "['nome,idade,cidade']"
      ]
     },
     "execution_count": 16,
     "metadata": {},
     "output_type": "execute_result"
    }
   ],
   "source": [
    "texto2[0:1]"
   ]
  },
  {
   "cell_type": "code",
   "execution_count": 17,
   "metadata": {},
   "outputs": [
    {
     "data": {
      "text/plain": [
       "'o'"
      ]
     },
     "execution_count": 17,
     "metadata": {},
     "output_type": "execute_result"
    }
   ],
   "source": [
    "texto2[0][1]"
   ]
  },
  {
   "cell_type": "code",
   "execution_count": 18,
   "metadata": {},
   "outputs": [],
   "source": [
    "#criar lista de listas para separar as palavras por virgula (as listas são dividas por [])"
   ]
  },
  {
   "cell_type": "code",
   "execution_count": 19,
   "metadata": {},
   "outputs": [
    {
     "name": "stdout",
     "output_type": "stream",
     "text": [
      "['nome', 'idade', 'cidade']\n",
      "['rodrigo', '26', 'sÃ£o paulo']\n",
      "['diego', '32', 'sÃ£o paulo']\n",
      "['bruno', '27', 'osasco']\n",
      "['fernando', '21', 'sÃ£o paulo']\n",
      "['pablo', '23', 'embu das artes']\n",
      "['kleber', '36', 'sÃ£o paulo']\n"
     ]
    }
   ],
   "source": [
    "for elem in texto2:\n",
    "    elem=elem.split(\",\")\n",
    "    print(elem)"
   ]
  },
  {
   "cell_type": "code",
   "execution_count": 20,
   "metadata": {},
   "outputs": [
    {
     "name": "stdout",
     "output_type": "stream",
     "text": [
      "[['nome', 'idade', 'cidade'], ['rodrigo', '26', 'sÃ£o paulo'], ['diego', '32', 'sÃ£o paulo'], ['bruno', '27', 'osasco'], ['fernando', '21', 'sÃ£o paulo'], ['pablo', '23', 'embu das artes'], ['kleber', '36', 'sÃ£o paulo']]\n"
     ]
    }
   ],
   "source": [
    "for i in range(len(texto2)):\n",
    "    texto2[i]=texto2[i].split(\",\")\n",
    "print(texto2)"
   ]
  },
  {
   "cell_type": "code",
   "execution_count": 21,
   "metadata": {},
   "outputs": [
    {
     "data": {
      "text/plain": [
       "[['nome', 'idade', 'cidade'],\n",
       " ['rodrigo', '26', 'sÃ£o paulo'],\n",
       " ['diego', '32', 'sÃ£o paulo'],\n",
       " ['bruno', '27', 'osasco'],\n",
       " ['fernando', '21', 'sÃ£o paulo'],\n",
       " ['pablo', '23', 'embu das artes'],\n",
       " ['kleber', '36', 'sÃ£o paulo']]"
      ]
     },
     "execution_count": 21,
     "metadata": {},
     "output_type": "execute_result"
    }
   ],
   "source": [
    "texto2"
   ]
  },
  {
   "cell_type": "code",
   "execution_count": 22,
   "metadata": {},
   "outputs": [
    {
     "data": {
      "text/plain": [
       "'idade'"
      ]
     },
     "execution_count": 22,
     "metadata": {},
     "output_type": "execute_result"
    }
   ],
   "source": [
    "texto2[0][1]"
   ]
  },
  {
   "cell_type": "code",
   "execution_count": 23,
   "metadata": {},
   "outputs": [
    {
     "data": {
      "text/plain": [
       "['nome', 'idade', 'cidade']"
      ]
     },
     "execution_count": 23,
     "metadata": {},
     "output_type": "execute_result"
    }
   ],
   "source": [
    "texto2[0]"
   ]
  },
  {
   "cell_type": "code",
   "execution_count": 24,
   "metadata": {},
   "outputs": [
    {
     "data": {
      "text/plain": [
       "'nome'"
      ]
     },
     "execution_count": 24,
     "metadata": {},
     "output_type": "execute_result"
    }
   ],
   "source": [
    "texto2[0][0]"
   ]
  },
  {
   "cell_type": "code",
   "execution_count": 25,
   "metadata": {},
   "outputs": [
    {
     "data": {
      "text/plain": [
       "'rodrigo'"
      ]
     },
     "execution_count": 25,
     "metadata": {},
     "output_type": "execute_result"
    }
   ],
   "source": [
    "texto2[1][0]"
   ]
  },
  {
   "cell_type": "code",
   "execution_count": 26,
   "metadata": {},
   "outputs": [
    {
     "name": "stdout",
     "output_type": "stream",
     "text": [
      "['nome', 'idade', 'cidade']\n",
      "['rodrigo', '26', 'sÃ£o paulo']\n",
      "['diego', '32', 'sÃ£o paulo']\n",
      "['bruno', '27', 'osasco']\n",
      "['fernando', '21', 'sÃ£o paulo']\n",
      "['pablo', '23', 'embu das artes']\n",
      "['kleber', '36', 'sÃ£o paulo']\n"
     ]
    }
   ],
   "source": [
    "for linha in texto2:\n",
    "    print(linha)"
   ]
  },
  {
   "cell_type": "code",
   "execution_count": 27,
   "metadata": {},
   "outputs": [
    {
     "name": "stdout",
     "output_type": "stream",
     "text": [
      "nome\n",
      "rodrigo\n",
      "diego\n",
      "bruno\n",
      "fernando\n",
      "pablo\n",
      "kleber\n"
     ]
    }
   ],
   "source": [
    "for linha in texto2:\n",
    "    print(linha[0])"
   ]
  },
  {
   "cell_type": "code",
   "execution_count": 28,
   "metadata": {},
   "outputs": [],
   "source": [
    "for linha in range(1,len(texto2)):\n",
    "    texto2[linha][0]=\"Pietro\""
   ]
  },
  {
   "cell_type": "code",
   "execution_count": 29,
   "metadata": {},
   "outputs": [
    {
     "name": "stdout",
     "output_type": "stream",
     "text": [
      "nome\n",
      "Pietro\n",
      "Pietro\n",
      "Pietro\n",
      "Pietro\n",
      "Pietro\n",
      "Pietro\n"
     ]
    }
   ],
   "source": [
    "for linha in texto2:\n",
    "    print(linha[0])"
   ]
  },
  {
   "cell_type": "code",
   "execution_count": 30,
   "metadata": {},
   "outputs": [
    {
     "data": {
      "text/plain": [
       "[['nome', 'idade', 'cidade'],\n",
       " ['Pietro', '26', 'sÃ£o paulo'],\n",
       " ['Pietro', '32', 'sÃ£o paulo'],\n",
       " ['Pietro', '27', 'osasco'],\n",
       " ['Pietro', '21', 'sÃ£o paulo'],\n",
       " ['Pietro', '23', 'embu das artes'],\n",
       " ['Pietro', '36', 'sÃ£o paulo']]"
      ]
     },
     "execution_count": 30,
     "metadata": {},
     "output_type": "execute_result"
    }
   ],
   "source": [
    "texto2"
   ]
  },
  {
   "cell_type": "code",
   "execution_count": 31,
   "metadata": {},
   "outputs": [],
   "source": [
    "#dicionario utilizado para buscar uma informação pelo header (é uma evolução de uma lista)"
   ]
  },
  {
   "cell_type": "code",
   "execution_count": 32,
   "metadata": {},
   "outputs": [],
   "source": [
    "dados={\n",
    "    \"nome\":[],\n",
    "    \"idade\":[],\n",
    "    \"cidade\":[]  \n",
    "}"
   ]
  },
  {
   "cell_type": "code",
   "execution_count": 33,
   "metadata": {},
   "outputs": [],
   "source": [
    "for i in range(1,len(texto2)):\n",
    "    dados[\"nome\"].append(texto2[i][0])\n",
    "    dados[\"idade\"].append(texto2[i][1])\n",
    "    dados[\"cidade\"].append(texto2[i][2])"
   ]
  },
  {
   "cell_type": "code",
   "execution_count": 34,
   "metadata": {},
   "outputs": [
    {
     "data": {
      "text/plain": [
       "{'nome': ['Pietro', 'Pietro', 'Pietro', 'Pietro', 'Pietro', 'Pietro'],\n",
       " 'idade': ['26', '32', '27', '21', '23', '36'],\n",
       " 'cidade': ['sÃ£o paulo',\n",
       "  'sÃ£o paulo',\n",
       "  'osasco',\n",
       "  'sÃ£o paulo',\n",
       "  'embu das artes',\n",
       "  'sÃ£o paulo']}"
      ]
     },
     "execution_count": 34,
     "metadata": {},
     "output_type": "execute_result"
    }
   ],
   "source": [
    "dados"
   ]
  },
  {
   "cell_type": "code",
   "execution_count": 35,
   "metadata": {},
   "outputs": [
    {
     "data": {
      "text/plain": [
       "'embu das artes'"
      ]
     },
     "execution_count": 35,
     "metadata": {},
     "output_type": "execute_result"
    }
   ],
   "source": [
    "dados[\"cidade\"][4]"
   ]
  },
  {
   "cell_type": "code",
   "execution_count": 36,
   "metadata": {},
   "outputs": [
    {
     "data": {
      "text/plain": [
       "['Pietro', 'Pietro', 'Pietro', 'Pietro', 'Pietro', 'Pietro']"
      ]
     },
     "execution_count": 36,
     "metadata": {},
     "output_type": "execute_result"
    }
   ],
   "source": [
    "dados[\"nome\"]"
   ]
  },
  {
   "cell_type": "code",
   "execution_count": 37,
   "metadata": {},
   "outputs": [
    {
     "data": {
      "text/plain": [
       "['26', '32', '27', '21', '23', '36']"
      ]
     },
     "execution_count": 37,
     "metadata": {},
     "output_type": "execute_result"
    }
   ],
   "source": [
    "dados[\"idade\"]"
   ]
  },
  {
   "cell_type": "code",
   "execution_count": 38,
   "metadata": {},
   "outputs": [],
   "source": [
    "dados[\"sexo\"]=[\"M\",\"M\",\"M\",\"M\",\"M\",\"M\"] #[\"M\"]*6"
   ]
  },
  {
   "cell_type": "code",
   "execution_count": 39,
   "metadata": {},
   "outputs": [
    {
     "data": {
      "text/plain": [
       "['M', 'M', 'M', 'M', 'M', 'M']"
      ]
     },
     "execution_count": 39,
     "metadata": {},
     "output_type": "execute_result"
    }
   ],
   "source": [
    "dados[\"sexo\"]"
   ]
  },
  {
   "cell_type": "code",
   "execution_count": 40,
   "metadata": {},
   "outputs": [],
   "source": [
    "def salario(horas_trabalhadas, valor_hora):\n",
    "    salario=horas_trabalhadas*valor_hora\n",
    "    return salario"
   ]
  },
  {
   "cell_type": "code",
   "execution_count": 41,
   "metadata": {},
   "outputs": [
    {
     "data": {
      "text/plain": [
       "5000"
      ]
     },
     "execution_count": 41,
     "metadata": {},
     "output_type": "execute_result"
    }
   ],
   "source": [
    "salario(100,50)"
   ]
  },
  {
   "cell_type": "code",
   "execution_count": 42,
   "metadata": {},
   "outputs": [],
   "source": [
    "#numeros palindromos usando string"
   ]
  },
  {
   "cell_type": "code",
   "execution_count": 43,
   "metadata": {},
   "outputs": [],
   "source": [
    "def palindromo(n):\n",
    "    numero=str(n)\n",
    "    invertido=numero[::-1]\n",
    "    if numero==invertido:\n",
    "        print(\"Numero é um palindromo\")\n",
    "    else:\n",
    "        print(\"Numero não é um palindromo\")"
   ]
  },
  {
   "cell_type": "code",
   "execution_count": 44,
   "metadata": {},
   "outputs": [
    {
     "name": "stdout",
     "output_type": "stream",
     "text": [
      "Numero não é um palindromo\n"
     ]
    }
   ],
   "source": [
    "palindromo(1000)"
   ]
  },
  {
   "cell_type": "code",
   "execution_count": 45,
   "metadata": {},
   "outputs": [
    {
     "name": "stdout",
     "output_type": "stream",
     "text": [
      "Numero não é um palindromo\n"
     ]
    }
   ],
   "source": [
    "palindromo(1001.0)"
   ]
  },
  {
   "cell_type": "code",
   "execution_count": 46,
   "metadata": {},
   "outputs": [],
   "source": [
    "nome=\"Rodrigo\""
   ]
  },
  {
   "cell_type": "code",
   "execution_count": 47,
   "metadata": {
    "scrolled": true
   },
   "outputs": [
    {
     "data": {
      "text/plain": [
       "'ogirdoR'"
      ]
     },
     "execution_count": 47,
     "metadata": {},
     "output_type": "execute_result"
    }
   ],
   "source": [
    "nome[::-1]"
   ]
  },
  {
   "cell_type": "code",
   "execution_count": 48,
   "metadata": {},
   "outputs": [],
   "source": [
    "#numeros palindromos sem usar string"
   ]
  },
  {
   "cell_type": "code",
   "execution_count": 49,
   "metadata": {},
   "outputs": [],
   "source": [
    "def palindromo2(x):\n",
    "    contador=0\n",
    "    y=x\n",
    "    inverso=0\n",
    "    z=x\n",
    "    while y != 0:\n",
    "        y=y//10\n",
    "        contador+=1\n",
    "    for i in range(contador):\n",
    "        resto=x%10\n",
    "        inverso=inverso+resto*(10**(contador-1-i))\n",
    "        x=x//10\n",
    "    if z==inverso:\n",
    "        print(\"Numero é palindromo\")\n",
    "    else:\n",
    "        print(\"Numero não é palindromo\")\n",
    "    return inverso"
   ]
  },
  {
   "cell_type": "code",
   "execution_count": 50,
   "metadata": {},
   "outputs": [
    {
     "name": "stdout",
     "output_type": "stream",
     "text": [
      "Numero não é palindromo\n"
     ]
    },
    {
     "data": {
      "text/plain": [
       "1"
      ]
     },
     "execution_count": 50,
     "metadata": {},
     "output_type": "execute_result"
    }
   ],
   "source": [
    "palindromo2(1000)"
   ]
  },
  {
   "cell_type": "code",
   "execution_count": 51,
   "metadata": {},
   "outputs": [
    {
     "name": "stdout",
     "output_type": "stream",
     "text": [
      "Numero é palindromo\n"
     ]
    },
    {
     "data": {
      "text/plain": [
       "1001"
      ]
     },
     "execution_count": 51,
     "metadata": {},
     "output_type": "execute_result"
    }
   ],
   "source": [
    "palindromo2(1001)"
   ]
  },
  {
   "cell_type": "code",
   "execution_count": 52,
   "metadata": {},
   "outputs": [],
   "source": [
    "def palindromo3(n):\n",
    "    copia = n\n",
    "    inverso = 0\n",
    "    while n != 0:\n",
    "        resto = n%10\n",
    "        n=n//10\n",
    "        inverso = inverso*10+resto\n",
    "    if copia==inverso:\n",
    "        print(\"Numero é palindromo\")\n",
    "    else:\n",
    "        print(\"Numero não é palindromo\")\n",
    "    return inverso        "
   ]
  },
  {
   "cell_type": "code",
   "execution_count": 53,
   "metadata": {},
   "outputs": [
    {
     "name": "stdout",
     "output_type": "stream",
     "text": [
      "Numero é palindromo\n"
     ]
    },
    {
     "data": {
      "text/plain": [
       "1001"
      ]
     },
     "execution_count": 53,
     "metadata": {},
     "output_type": "execute_result"
    }
   ],
   "source": [
    "palindromo3(1001)"
   ]
  },
  {
   "cell_type": "code",
   "execution_count": 54,
   "metadata": {},
   "outputs": [
    {
     "name": "stdout",
     "output_type": "stream",
     "text": [
      "Numero não é palindromo\n"
     ]
    },
    {
     "data": {
      "text/plain": [
       "1"
      ]
     },
     "execution_count": 54,
     "metadata": {},
     "output_type": "execute_result"
    }
   ],
   "source": [
    "palindromo3(1000)"
   ]
  },
  {
   "cell_type": "code",
   "execution_count": 56,
   "metadata": {},
   "outputs": [
    {
     "name": "stdout",
     "output_type": "stream",
     "text": [
      "Numero não é palindromo\n"
     ]
    },
    {
     "data": {
      "text/plain": [
       "1501.0"
      ]
     },
     "execution_count": 56,
     "metadata": {},
     "output_type": "execute_result"
    }
   ],
   "source": [
    "palindromo3(1001.5)"
   ]
  },
  {
   "cell_type": "code",
   "execution_count": 57,
   "metadata": {},
   "outputs": [
    {
     "name": "stdout",
     "output_type": "stream",
     "text": [
      "Numero não é palindromo\n"
     ]
    },
    {
     "data": {
      "text/plain": [
       "1101.0000000000227"
      ]
     },
     "execution_count": 57,
     "metadata": {},
     "output_type": "execute_result"
    }
   ],
   "source": [
    "palindromo3(1001.1)"
   ]
  },
  {
   "cell_type": "code",
   "execution_count": 58,
   "metadata": {},
   "outputs": [
    {
     "name": "stdout",
     "output_type": "stream",
     "text": [
      "Numero é palindromo\n"
     ]
    },
    {
     "data": {
      "text/plain": [
       "222"
      ]
     },
     "execution_count": 58,
     "metadata": {},
     "output_type": "execute_result"
    }
   ],
   "source": [
    "palindromo3(222)"
   ]
  },
  {
   "cell_type": "code",
   "execution_count": 59,
   "metadata": {},
   "outputs": [
    {
     "name": "stdout",
     "output_type": "stream",
     "text": [
      "Numero é palindromo\n"
     ]
    },
    {
     "data": {
      "text/plain": [
       "555555555"
      ]
     },
     "execution_count": 59,
     "metadata": {},
     "output_type": "execute_result"
    }
   ],
   "source": [
    "palindromo3(555555555)"
   ]
  },
  {
   "cell_type": "code",
   "execution_count": null,
   "metadata": {},
   "outputs": [],
   "source": []
  }
 ],
 "metadata": {
  "kernelspec": {
   "display_name": "Python 3",
   "language": "python",
   "name": "python3"
  },
  "language_info": {
   "codemirror_mode": {
    "name": "ipython",
    "version": 3
   },
   "file_extension": ".py",
   "mimetype": "text/x-python",
   "name": "python",
   "nbconvert_exporter": "python",
   "pygments_lexer": "ipython3",
   "version": "3.7.4"
  }
 },
 "nbformat": 4,
 "nbformat_minor": 2
}
