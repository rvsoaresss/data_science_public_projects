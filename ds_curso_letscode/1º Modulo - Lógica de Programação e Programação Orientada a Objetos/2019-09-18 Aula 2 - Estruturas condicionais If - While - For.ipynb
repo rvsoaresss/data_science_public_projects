{
 "cells": [
  {
   "cell_type": "code",
   "execution_count": 1,
   "metadata": {},
   "outputs": [
    {
     "name": "stdout",
     "output_type": "stream",
     "text": [
      "Informe sua idade: 35\n",
      "Maior de idade\n"
     ]
    }
   ],
   "source": [
    "#1. Peça a idade do usuário e imprima se ele é maior ou menor de 18 anos\n",
    "\n",
    "idade = int(input(\"Informe sua idade: \"))\n",
    "\n",
    "if idade > 18:\n",
    "    print(\"Maior de idade\")\n",
    "else:\n",
    "    print(\"Menor de idade\")"
   ]
  },
  {
   "cell_type": "code",
   "execution_count": 3,
   "metadata": {
    "scrolled": true
   },
   "outputs": [
    {
     "name": "stdout",
     "output_type": "stream",
     "text": [
      "Informe un numero-3\n",
      "O numero informado é negativo\n"
     ]
    }
   ],
   "source": [
    "#2. Peça um número e mostre se ele é positivo ou negativo\n",
    "\n",
    "num = float(input(\"Informe un numero\"))\n",
    "\n",
    "if num >=0:\n",
    "    print(\"O numero informado é positivo\")\n",
    "else:\n",
    "    print(\"O numero informado é negativo\")"
   ]
  },
  {
   "cell_type": "code",
   "execution_count": 18,
   "metadata": {},
   "outputs": [
    {
     "name": "stdout",
     "output_type": "stream",
     "text": [
      "1\n"
     ]
    }
   ],
   "source": [
    "num = 17%2\n",
    "print(num)"
   ]
  },
  {
   "cell_type": "code",
   "execution_count": 8,
   "metadata": {},
   "outputs": [
    {
     "name": "stdout",
     "output_type": "stream",
     "text": [
      "Informe um numero: 8\n",
      "O numero informado é par\n"
     ]
    }
   ],
   "source": [
    "#3. Dado um número digitado, mostre se ele é Par ou Ímpar\n",
    "\n",
    "num = float(input(\"Informe um numero: \"))\n",
    "if num % 2 == 0:\n",
    "    print(\"O numero informado é par\")\n",
    "else:\n",
    "    print(\"O numero informado é impar\")"
   ]
  },
  {
   "cell_type": "code",
   "execution_count": 10,
   "metadata": {},
   "outputs": [
    {
     "name": "stdout",
     "output_type": "stream",
     "text": [
      "Informe o primeiro numero: 5\n",
      "Informe o segundo numero: 6\n",
      "5.0 é menor que  6.0\n"
     ]
    }
   ],
   "source": [
    "#4. Peça dois números e mostre o maior deles\n",
    "\n",
    "num1 = float(input(\"Informe o primeiro numero: \"))\n",
    "num2 = float(input(\"Informe o segundo numero: \"))\n",
    "\n",
    "if num1 > num2:\n",
    "    print(num1, \" é maior que \", num2)\n",
    "else:\n",
    "    print(num1, \"é menor que \", num2)"
   ]
  },
  {
   "cell_type": "code",
   "execution_count": 11,
   "metadata": {},
   "outputs": [
    {
     "name": "stdout",
     "output_type": "stream",
     "text": [
      "Informe a idade: 35\n",
      "Informe o salario: 1000\n",
      "Informe o sexo: M\n",
      "sexo invalido\n"
     ]
    }
   ],
   "source": [
    "# 5. Faça um programa que leia a validade das informações: \n",
    "#a. Idade: entre 0 e 150; \n",
    "#b. Salário: maior que 0; \n",
    "#c. Sexo: M, F ou Outro;\n",
    "# O programa deve imprimir uma mensagem de erro para cada informação inválida.\n",
    "\n",
    "idade = float(input(\"Informe a idade: \"))\n",
    "salario = float(input(\"Informe o salario: \"))\n",
    "sexo = str(input(\"Informe o sexo: \"))\n",
    "\n",
    "if idade <0 or idade>150:\n",
    "    print(\"Idade invalida\")\n",
    "if salario < 0:\n",
    "    print(\"Salario invalido\")\n",
    "if sexo != \"M\" or sexo != \"F\" or sexo != \"Outro\":\n",
    "    print(\"sexo invalido\")\n",
    "else:\n",
    "    print(\"fim\")             "
   ]
  },
  {
   "cell_type": "code",
   "execution_count": null,
   "metadata": {},
   "outputs": [],
   "source": [
    "#6. Escreva um programa que peça a nota de 3 provas de um aluno, e verifique se ele passou o não de ano:\n",
    "#Obs: O aluno irá passar de ano se sua média for maior que 6.\n",
    "\n",
    "nota1 = 6\n",
    "nota2 = 7\n",
    "nota3 = 4\n",
    "media = float(nota1)+float(nota2)+float(nota3)/3\n",
    "\n",
    "if media > 6\n"
   ]
  },
  {
   "cell_type": "code",
   "execution_count": 5,
   "metadata": {},
   "outputs": [
    {
     "name": "stdout",
     "output_type": "stream",
     "text": [
      "0\n",
      "1\n",
      "2\n",
      "3\n",
      "4\n"
     ]
    }
   ],
   "source": [
    "count = 0\n",
    "\n",
    "while count < 5:\n",
    "    print(count)\n",
    "    count = count + 1\n"
   ]
  },
  {
   "cell_type": "code",
   "execution_count": 8,
   "metadata": {},
   "outputs": [
    {
     "name": "stdout",
     "output_type": "stream",
     "text": [
      "1\n",
      "2\n",
      "3\n",
      "4\n",
      "5\n"
     ]
    }
   ],
   "source": [
    "a=[1,2,3,4,5]\n",
    "\n",
    "for i in a:\n",
    "    print(i)"
   ]
  },
  {
   "cell_type": "code",
   "execution_count": 13,
   "metadata": {},
   "outputs": [
    {
     "ename": "SyntaxError",
     "evalue": "can't assign to literal (<ipython-input-13-f73bc1f6f00a>, line 2)",
     "output_type": "error",
     "traceback": [
      "\u001b[1;36m  File \u001b[1;32m\"<ipython-input-13-f73bc1f6f00a>\"\u001b[1;36m, line \u001b[1;32m2\u001b[0m\n\u001b[1;33m    1=0\u001b[0m\n\u001b[1;37m       ^\u001b[0m\n\u001b[1;31mSyntaxError\u001b[0m\u001b[1;31m:\u001b[0m can't assign to literal\n"
     ]
    }
   ],
   "source": [
    "soma=0\n",
    "\n",
    "for i in range(0,10):\n",
    "    soma=soma+1\n",
    "soma"
   ]
  },
  {
   "cell_type": "code",
   "execution_count": 14,
   "metadata": {},
   "outputs": [
    {
     "data": {
      "text/plain": [
       "9"
      ]
     },
     "execution_count": 14,
     "metadata": {},
     "output_type": "execute_result"
    }
   ],
   "source": [
    "i"
   ]
  },
  {
   "cell_type": "code",
   "execution_count": null,
   "metadata": {},
   "outputs": [],
   "source": [
    "a=range(10)\n",
    "for i in a:\n",
    "    print(i)"
   ]
  },
  {
   "cell_type": "code",
   "execution_count": 11,
   "metadata": {},
   "outputs": [
    {
     "name": "stdout",
     "output_type": "stream",
     "text": [
      "P\n",
      "s\n",
      "r\n",
      "Pyt\n",
      "ython for Beginners\n",
      "Pytho\n",
      "Python for Beginners\n",
      "Python for Beginners\n"
     ]
    }
   ],
   "source": [
    "course = 'Python for Beginners'\n",
    "another = course[:]\n",
    "print(course [0])\n",
    "print(course [-1])\n",
    "print(course [-2])\n",
    "print(course [0:3])\n",
    "print(course [1:])\n",
    "print(course [:5])\n",
    "print(course [:])\n",
    "print(another)\n"
   ]
  },
  {
   "cell_type": "code",
   "execution_count": null,
   "metadata": {},
   "outputs": [],
   "source": []
  }
 ],
 "metadata": {
  "celltoolbar": "Raw Cell Format",
  "kernelspec": {
   "display_name": "Python 3",
   "language": "python",
   "name": "python3"
  },
  "language_info": {
   "codemirror_mode": {
    "name": "ipython",
    "version": 3
   },
   "file_extension": ".py",
   "mimetype": "text/x-python",
   "name": "python",
   "nbconvert_exporter": "python",
   "pygments_lexer": "ipython3",
   "version": "3.7.4"
  }
 },
 "nbformat": 4,
 "nbformat_minor": 2
}
