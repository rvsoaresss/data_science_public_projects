{
 "cells": [
  {
   "cell_type": "code",
   "execution_count": 1,
   "metadata": {},
   "outputs": [],
   "source": [
    "class Contato:\n",
    "    def __init__(self):\n",
    "        self.nome = []\n",
    "        self.telefone = []\n",
    "        self.email = [] \n",
    "    def add_contato(self,nome,telefone,email):\n",
    "        self.nome.append(nome)\n",
    "        self.telefone.append(telefone)\n",
    "        self.email.append(email)\n",
    "    \n",
    "    def procurar(self,nome):\n",
    "        for i in range(len(self.nome)):\n",
    "            if self.nome[i]== nome:\n",
    "                print(self.nome[i], self.telefone[i],self.email[i])\n",
    "        \n",
    "    def retorna_nome(self,nome):\n",
    "        for i in range(len(self.nome)):\n",
    "            if self.nome[i]== nome:\n",
    "                return (self.nome[i], self.telefone[i],self.email[i])\n",
    "        \n",
    "    def retorna_email(self,email):\n",
    "        for i in range(len(self.email)):\n",
    "            if self.email[i]== email:\n",
    "                return (self.nome[i], self.telefone[i],self.email[i])\n",
    "        \n",
    "    def remove_contato(self,nome,telefone='',email =''):\n",
    "        if telefone == '' or email =='': \n",
    "            name,fone,email = self.retorna_nome(nome)\n",
    "            self.remove_contato(name,fone,email)\n",
    "        else:\n",
    "            self.nome.remove(nome)\n",
    "            self.telefone.remove(telefone)\n",
    "            self.email.remove(email)\n",
    "            "
   ]
  },
  {
   "cell_type": "code",
   "execution_count": 2,
   "metadata": {},
   "outputs": [],
   "source": [
    "agenda = Contato()"
   ]
  },
  {
   "cell_type": "code",
   "execution_count": 3,
   "metadata": {},
   "outputs": [
    {
     "data": {
      "text/plain": [
       "'James;1146218927;jbutt@gmail.com\\njosephine_darakjy@darakjy.org;Josephine;8102929388\\nArt;art@venere.org;8566368749\\nLenna;lpaprocki@hotmail.com;9073854412\\nDonette;5135701893;donette.foller@cox.net\\nSimona;4195032484;simona@morasca.com\\n7735736914;mitsue_tollner@yahoo.com;Mitsue;\\nLeota;4087523500;leota@hotmail.com\\nSage;6054142147;sage_wieser@cox.net\\n4106558723;Kris;kris@gmail.com\\nminna_amigon@yahoo.com;Minna;2158741229\\nAbel;6313353414;amaclead@gmail.com\\nKiley;3104985651;kiley.caldarera@aol.com\\nGraciela;4407808425;gruta@cox.net\\nCammy;9565376195;calbares@gmail.com\\nmattie@aol.com;6022774385;Mattie\\nMeaghan;9313139635;meaghan@hotmail.com\\nGladys;4146619598;gladys.rim@rim.org\\nYuki;3132887937;yuki_whobrey@aol.com\\n8158282147;fFletcher;letcher.flosi@yahoo.com\\nbette_nicka@cox.net;Bette;6105453615\\nVeronika;4085401785;vinouye@aol.com\\nWillard;9723039197;willard@hotmail.com\\nmroyster@royster.com;Maryann;5189667987\\nAlisha;7326583154;alisha@slusarski.com'"
      ]
     },
     "execution_count": 3,
     "metadata": {},
     "output_type": "execute_result"
    }
   ],
   "source": [
    "arq = open('contatos.csv')\n",
    "lista = arq.read()\n",
    "lista"
   ]
  },
  {
   "cell_type": "code",
   "execution_count": 4,
   "metadata": {},
   "outputs": [
    {
     "data": {
      "text/plain": [
       "list"
      ]
     },
     "execution_count": 4,
     "metadata": {},
     "output_type": "execute_result"
    }
   ],
   "source": [
    "lista2 = lista.split('\\n')\n",
    "type(lista2)"
   ]
  },
  {
   "cell_type": "code",
   "execution_count": 5,
   "metadata": {},
   "outputs": [],
   "source": [
    "lista_de_listas = []"
   ]
  },
  {
   "cell_type": "code",
   "execution_count": 6,
   "metadata": {},
   "outputs": [],
   "source": [
    "for i in range(len(lista2)):\n",
    "    lista_de_listas.append(lista2[i].split(';'))\n",
    "    "
   ]
  },
  {
   "cell_type": "code",
   "execution_count": 7,
   "metadata": {},
   "outputs": [
    {
     "data": {
      "text/plain": [
       "[['James', '1146218927', 'jbutt@gmail.com'],\n",
       " ['josephine_darakjy@darakjy.org', 'Josephine', '8102929388'],\n",
       " ['Art', 'art@venere.org', '8566368749'],\n",
       " ['Lenna', 'lpaprocki@hotmail.com', '9073854412'],\n",
       " ['Donette', '5135701893', 'donette.foller@cox.net'],\n",
       " ['Simona', '4195032484', 'simona@morasca.com'],\n",
       " ['7735736914', 'mitsue_tollner@yahoo.com', 'Mitsue', ''],\n",
       " ['Leota', '4087523500', 'leota@hotmail.com'],\n",
       " ['Sage', '6054142147', 'sage_wieser@cox.net'],\n",
       " ['4106558723', 'Kris', 'kris@gmail.com'],\n",
       " ['minna_amigon@yahoo.com', 'Minna', '2158741229'],\n",
       " ['Abel', '6313353414', 'amaclead@gmail.com'],\n",
       " ['Kiley', '3104985651', 'kiley.caldarera@aol.com'],\n",
       " ['Graciela', '4407808425', 'gruta@cox.net'],\n",
       " ['Cammy', '9565376195', 'calbares@gmail.com'],\n",
       " ['mattie@aol.com', '6022774385', 'Mattie'],\n",
       " ['Meaghan', '9313139635', 'meaghan@hotmail.com'],\n",
       " ['Gladys', '4146619598', 'gladys.rim@rim.org'],\n",
       " ['Yuki', '3132887937', 'yuki_whobrey@aol.com'],\n",
       " ['8158282147', 'fFletcher', 'letcher.flosi@yahoo.com'],\n",
       " ['bette_nicka@cox.net', 'Bette', '6105453615'],\n",
       " ['Veronika', '4085401785', 'vinouye@aol.com'],\n",
       " ['Willard', '9723039197', 'willard@hotmail.com'],\n",
       " ['mroyster@royster.com', 'Maryann', '5189667987'],\n",
       " ['Alisha', '7326583154', 'alisha@slusarski.com']]"
      ]
     },
     "execution_count": 7,
     "metadata": {},
     "output_type": "execute_result"
    }
   ],
   "source": [
    "lista_de_listas"
   ]
  },
  {
   "cell_type": "code",
   "execution_count": 8,
   "metadata": {},
   "outputs": [],
   "source": [
    "for i in range(len(lista_de_listas)):\n",
    "    for j in range(len(lista_de_listas[i])):\n",
    "        if lista_de_listas[i][j] == '':\n",
    "            del lista_de_listas[i][j]\n",
    "            "
   ]
  },
  {
   "cell_type": "code",
   "execution_count": 9,
   "metadata": {},
   "outputs": [
    {
     "data": {
      "text/plain": [
       "[['James', '1146218927', 'jbutt@gmail.com'],\n",
       " ['josephine_darakjy@darakjy.org', 'Josephine', '8102929388'],\n",
       " ['Art', 'art@venere.org', '8566368749'],\n",
       " ['Lenna', 'lpaprocki@hotmail.com', '9073854412'],\n",
       " ['Donette', '5135701893', 'donette.foller@cox.net'],\n",
       " ['Simona', '4195032484', 'simona@morasca.com'],\n",
       " ['7735736914', 'mitsue_tollner@yahoo.com', 'Mitsue'],\n",
       " ['Leota', '4087523500', 'leota@hotmail.com'],\n",
       " ['Sage', '6054142147', 'sage_wieser@cox.net'],\n",
       " ['4106558723', 'Kris', 'kris@gmail.com'],\n",
       " ['minna_amigon@yahoo.com', 'Minna', '2158741229'],\n",
       " ['Abel', '6313353414', 'amaclead@gmail.com'],\n",
       " ['Kiley', '3104985651', 'kiley.caldarera@aol.com'],\n",
       " ['Graciela', '4407808425', 'gruta@cox.net'],\n",
       " ['Cammy', '9565376195', 'calbares@gmail.com'],\n",
       " ['mattie@aol.com', '6022774385', 'Mattie'],\n",
       " ['Meaghan', '9313139635', 'meaghan@hotmail.com'],\n",
       " ['Gladys', '4146619598', 'gladys.rim@rim.org'],\n",
       " ['Yuki', '3132887937', 'yuki_whobrey@aol.com'],\n",
       " ['8158282147', 'fFletcher', 'letcher.flosi@yahoo.com'],\n",
       " ['bette_nicka@cox.net', 'Bette', '6105453615'],\n",
       " ['Veronika', '4085401785', 'vinouye@aol.com'],\n",
       " ['Willard', '9723039197', 'willard@hotmail.com'],\n",
       " ['mroyster@royster.com', 'Maryann', '5189667987'],\n",
       " ['Alisha', '7326583154', 'alisha@slusarski.com']]"
      ]
     },
     "execution_count": 9,
     "metadata": {},
     "output_type": "execute_result"
    }
   ],
   "source": [
    "lista_de_listas"
   ]
  },
  {
   "cell_type": "code",
   "execution_count": 10,
   "metadata": {},
   "outputs": [],
   "source": [
    "def ordenar(lista_de_listas):\n",
    "    for i in range(len(lista_de_listas)):\n",
    "        for j in range(len(lista_de_listas[i])):\n",
    "            \n",
    "            if '@' in lista_de_listas[i][j]:\n",
    "                aux_email = lista_de_listas[i][j]\n",
    "            elif lista_de_listas[i][j].isdigit() == 1:\n",
    "                aux_tel = lista_de_listas[i][j]\n",
    "            else:\n",
    "                aux_nome = lista_de_listas[i][j]\n",
    "            \n",
    "        lista_de_listas[i][0] = aux_nome\n",
    "        lista_de_listas[i][1] = aux_tel\n",
    "        lista_de_listas[i][2] = aux_email\n",
    "        \n",
    "    return lista_de_listas\n",
    "    "
   ]
  },
  {
   "cell_type": "code",
   "execution_count": 11,
   "metadata": {},
   "outputs": [],
   "source": [
    "lista2 =ordenar(lista_de_listas)"
   ]
  },
  {
   "cell_type": "code",
   "execution_count": 12,
   "metadata": {},
   "outputs": [
    {
     "data": {
      "text/plain": [
       "[['James', '1146218927', 'jbutt@gmail.com'],\n",
       " ['Josephine', '8102929388', 'josephine_darakjy@darakjy.org'],\n",
       " ['Art', '8566368749', 'art@venere.org'],\n",
       " ['Lenna', '9073854412', 'lpaprocki@hotmail.com'],\n",
       " ['Donette', '5135701893', 'donette.foller@cox.net'],\n",
       " ['Simona', '4195032484', 'simona@morasca.com'],\n",
       " ['Mitsue', '7735736914', 'mitsue_tollner@yahoo.com'],\n",
       " ['Leota', '4087523500', 'leota@hotmail.com'],\n",
       " ['Sage', '6054142147', 'sage_wieser@cox.net'],\n",
       " ['Kris', '4106558723', 'kris@gmail.com'],\n",
       " ['Minna', '2158741229', 'minna_amigon@yahoo.com'],\n",
       " ['Abel', '6313353414', 'amaclead@gmail.com'],\n",
       " ['Kiley', '3104985651', 'kiley.caldarera@aol.com'],\n",
       " ['Graciela', '4407808425', 'gruta@cox.net'],\n",
       " ['Cammy', '9565376195', 'calbares@gmail.com'],\n",
       " ['Mattie', '6022774385', 'mattie@aol.com'],\n",
       " ['Meaghan', '9313139635', 'meaghan@hotmail.com'],\n",
       " ['Gladys', '4146619598', 'gladys.rim@rim.org'],\n",
       " ['Yuki', '3132887937', 'yuki_whobrey@aol.com'],\n",
       " ['fFletcher', '8158282147', 'letcher.flosi@yahoo.com'],\n",
       " ['Bette', '6105453615', 'bette_nicka@cox.net'],\n",
       " ['Veronika', '4085401785', 'vinouye@aol.com'],\n",
       " ['Willard', '9723039197', 'willard@hotmail.com'],\n",
       " ['Maryann', '5189667987', 'mroyster@royster.com'],\n",
       " ['Alisha', '7326583154', 'alisha@slusarski.com']]"
      ]
     },
     "execution_count": 12,
     "metadata": {},
     "output_type": "execute_result"
    }
   ],
   "source": [
    "lista2"
   ]
  },
  {
   "cell_type": "code",
   "execution_count": 13,
   "metadata": {},
   "outputs": [],
   "source": [
    "for i in range(len(lista_de_listas)):\n",
    "    agenda.add_contato(lista_de_listas[i][0],lista_de_listas[i][1],lista_de_listas[i][2])"
   ]
  },
  {
   "cell_type": "code",
   "execution_count": 14,
   "metadata": {},
   "outputs": [
    {
     "data": {
      "text/plain": [
       "['James',\n",
       " 'Josephine',\n",
       " 'Art',\n",
       " 'Lenna',\n",
       " 'Donette',\n",
       " 'Simona',\n",
       " 'Mitsue',\n",
       " 'Leota',\n",
       " 'Sage',\n",
       " 'Kris',\n",
       " 'Minna',\n",
       " 'Abel',\n",
       " 'Kiley',\n",
       " 'Graciela',\n",
       " 'Cammy',\n",
       " 'Mattie',\n",
       " 'Meaghan',\n",
       " 'Gladys',\n",
       " 'Yuki',\n",
       " 'fFletcher',\n",
       " 'Bette',\n",
       " 'Veronika',\n",
       " 'Willard',\n",
       " 'Maryann',\n",
       " 'Alisha']"
      ]
     },
     "execution_count": 14,
     "metadata": {},
     "output_type": "execute_result"
    }
   ],
   "source": [
    "agenda.nome"
   ]
  },
  {
   "cell_type": "code",
   "execution_count": 15,
   "metadata": {},
   "outputs": [
    {
     "data": {
      "text/plain": [
       "['jbutt@gmail.com',\n",
       " 'josephine_darakjy@darakjy.org',\n",
       " 'art@venere.org',\n",
       " 'lpaprocki@hotmail.com',\n",
       " 'donette.foller@cox.net',\n",
       " 'simona@morasca.com',\n",
       " 'mitsue_tollner@yahoo.com',\n",
       " 'leota@hotmail.com',\n",
       " 'sage_wieser@cox.net',\n",
       " 'kris@gmail.com',\n",
       " 'minna_amigon@yahoo.com',\n",
       " 'amaclead@gmail.com',\n",
       " 'kiley.caldarera@aol.com',\n",
       " 'gruta@cox.net',\n",
       " 'calbares@gmail.com',\n",
       " 'mattie@aol.com',\n",
       " 'meaghan@hotmail.com',\n",
       " 'gladys.rim@rim.org',\n",
       " 'yuki_whobrey@aol.com',\n",
       " 'letcher.flosi@yahoo.com',\n",
       " 'bette_nicka@cox.net',\n",
       " 'vinouye@aol.com',\n",
       " 'willard@hotmail.com',\n",
       " 'mroyster@royster.com',\n",
       " 'alisha@slusarski.com']"
      ]
     },
     "execution_count": 15,
     "metadata": {},
     "output_type": "execute_result"
    }
   ],
   "source": [
    "agenda.email\n"
   ]
  },
  {
   "cell_type": "code",
   "execution_count": 16,
   "metadata": {},
   "outputs": [
    {
     "data": {
      "text/plain": [
       "['1146218927',\n",
       " '8102929388',\n",
       " '8566368749',\n",
       " '9073854412',\n",
       " '5135701893',\n",
       " '4195032484',\n",
       " '7735736914',\n",
       " '4087523500',\n",
       " '6054142147',\n",
       " '4106558723',\n",
       " '2158741229',\n",
       " '6313353414',\n",
       " '3104985651',\n",
       " '4407808425',\n",
       " '9565376195',\n",
       " '6022774385',\n",
       " '9313139635',\n",
       " '4146619598',\n",
       " '3132887937',\n",
       " '8158282147',\n",
       " '6105453615',\n",
       " '4085401785',\n",
       " '9723039197',\n",
       " '5189667987',\n",
       " '7326583154']"
      ]
     },
     "execution_count": 16,
     "metadata": {},
     "output_type": "execute_result"
    }
   ],
   "source": [
    "agenda.telefone"
   ]
  },
  {
   "cell_type": "code",
   "execution_count": null,
   "metadata": {},
   "outputs": [
    {
     "name": "stdout",
     "output_type": "stream",
     "text": [
      "=================================================================\n",
      "|                    Sistema contatos                           |\n",
      "=================================================================\n",
      "| 1 - Incluir                                                   |\n",
      "          \n",
      "| 2 - Remover                                                   |\n",
      "          \n",
      "| 3 - Buscar                                                    |\n",
      "          \n",
      "| 4 - Salvar arquivo                                            |\n",
      "          \n",
      "| 5 - Sair                                                      |\n",
      "          \n",
      "----------------------------------------------------------------\n",
      "Opção Escolhida :1\n",
      "digite o nome: Rodrigo\n",
      "Digite o telefone: 981104421\n",
      "Digite o email: rodrigosoares.s@hotmail.com\n",
      "=================================================================\n",
      "|                    Sistema contatos                           |\n",
      "=================================================================\n",
      "| 1 - Incluir                                                   |\n",
      "          \n",
      "| 2 - Remover                                                   |\n",
      "          \n",
      "| 3 - Buscar                                                    |\n",
      "          \n",
      "| 4 - Salvar arquivo                                            |\n",
      "          \n",
      "| 5 - Sair                                                      |\n",
      "          \n",
      "----------------------------------------------------------------\n",
      "Opção Escolhida :4\n",
      "=================================================================\n",
      "|                    Sistema contatos                           |\n",
      "=================================================================\n",
      "| 1 - Incluir                                                   |\n",
      "          \n",
      "| 2 - Remover                                                   |\n",
      "          \n",
      "| 3 - Buscar                                                    |\n",
      "          \n",
      "| 4 - Salvar arquivo                                            |\n",
      "          \n",
      "| 5 - Sair                                                      |\n",
      "          \n",
      "----------------------------------------------------------------\n",
      "Opção Escolhida :3\n",
      "Digite um nome: rodrigo\n",
      "=================================================================\n",
      "|                    Sistema contatos                           |\n",
      "=================================================================\n",
      "| 1 - Incluir                                                   |\n",
      "          \n",
      "| 2 - Remover                                                   |\n",
      "          \n",
      "| 3 - Buscar                                                    |\n",
      "          \n",
      "| 4 - Salvar arquivo                                            |\n",
      "          \n",
      "| 5 - Sair                                                      |\n",
      "          \n",
      "----------------------------------------------------------------\n",
      "Opção Escolhida :3\n",
      "Digite um nome: Rodrigo\n",
      "Rodrigo 981104421 rodrigosoares.s@hotmail.com\n",
      "=================================================================\n",
      "|                    Sistema contatos                           |\n",
      "=================================================================\n",
      "| 1 - Incluir                                                   |\n",
      "          \n",
      "| 2 - Remover                                                   |\n",
      "          \n",
      "| 3 - Buscar                                                    |\n",
      "          \n",
      "| 4 - Salvar arquivo                                            |\n",
      "          \n",
      "| 5 - Sair                                                      |\n",
      "          \n",
      "----------------------------------------------------------------\n",
      "Opção Escolhida :3\n",
      "Digite um nome: rodrigo\n",
      "=================================================================\n",
      "|                    Sistema contatos                           |\n",
      "=================================================================\n",
      "| 1 - Incluir                                                   |\n",
      "          \n",
      "| 2 - Remover                                                   |\n",
      "          \n",
      "| 3 - Buscar                                                    |\n",
      "          \n",
      "| 4 - Salvar arquivo                                            |\n",
      "          \n",
      "| 5 - Sair                                                      |\n",
      "          \n",
      "----------------------------------------------------------------\n",
      "Opção Escolhida :2\n",
      "Digite o nome a excluir: Rodrigo\n",
      "=================================================================\n",
      "|                    Sistema contatos                           |\n",
      "=================================================================\n",
      "| 1 - Incluir                                                   |\n",
      "          \n",
      "| 2 - Remover                                                   |\n",
      "          \n",
      "| 3 - Buscar                                                    |\n",
      "          \n",
      "| 4 - Salvar arquivo                                            |\n",
      "          \n",
      "| 5 - Sair                                                      |\n",
      "          \n",
      "----------------------------------------------------------------\n",
      "Opção Escolhida :3\n",
      "Digite um nome: Rodrigo\n",
      "=================================================================\n",
      "|                    Sistema contatos                           |\n",
      "=================================================================\n",
      "| 1 - Incluir                                                   |\n",
      "          \n",
      "| 2 - Remover                                                   |\n",
      "          \n",
      "| 3 - Buscar                                                    |\n",
      "          \n",
      "| 4 - Salvar arquivo                                            |\n",
      "          \n",
      "| 5 - Sair                                                      |\n",
      "          \n",
      "----------------------------------------------------------------\n"
     ]
    }
   ],
   "source": [
    "repetir = True\n",
    "\n",
    "while repetir:\n",
    "    print(\"=================================================================\")\n",
    "    print(\"|                    Sistema contatos                           |\")\n",
    "    print(\"=================================================================\")\n",
    "    print('''| 1 - Incluir                                                   |\n",
    "          \\n| 2 - Remover                                                   |\n",
    "          \\n| 3 - Buscar                                                    |\n",
    "          \\n| 4 - Salvar arquivo                                            |\n",
    "          \\n| 5 - Sair                                                      |\n",
    "          \\n----------------------------------------------------------------''')\n",
    "    op=int(input(\"Opção Escolhida :\"))\n",
    "\n",
    "    if op == 1:\n",
    "        name = input('digite o nome: ')\n",
    "        while type(name) != str:\n",
    "            \n",
    "            name = input('digite o nome')\n",
    "        tele = input('Digite o telefone: ')\n",
    "        while tele.isdigit() != 1:\n",
    "            tele = input('Digite o telefone: ')\n",
    "        em = input('Digite o email: ')\n",
    "        while '@' not in em:\n",
    "            em = input('Digite o email: ')\n",
    "            \n",
    "        agenda.add_contato(name,tele,em)\n",
    "        \n",
    "    elif op == 2:\n",
    "        name = input('Digite o nome a excluir: ')\n",
    "        while type(name) != str:\n",
    "            name = input('Digite o nome a excluir: ')\n",
    "                \n",
    "        agenda.remove_contato(name)\n",
    "        \n",
    "    elif op == 3:\n",
    "        name = input('Digite um nome: ')\n",
    "        while type(name) != str:\n",
    "            name = input('Digite um nome: ')\n",
    "         \n",
    "        agenda.procurar(name)\n",
    "        \n",
    "    elif op == 4:  \n",
    "        lista_aux=[]\n",
    "        for i in range(len(agenda.nome)):\n",
    "            if i == 0:\n",
    "                lista_aux.append(agenda.nome[i]+';'+agenda.telefone[i]+';'+agenda.email[i])\n",
    "            else:\n",
    "                lista_aux.append('\\n'+agenda.nome[i]+';'+agenda.telefone[i]+';'+agenda.email[i])\n",
    "        \n",
    "        file = open(\"contatos.csv\", 'w') \n",
    "        file.writelines(lista_aux)\n",
    "        file.close()\n",
    "        \n",
    "       \n",
    "    elif op == 5:\n",
    "        repetir = False\n",
    "        \n",
    "    "
   ]
  },
  {
   "cell_type": "code",
   "execution_count": 19,
   "metadata": {},
   "outputs": [
    {
     "data": {
      "text/plain": [
       "['James',\n",
       " 'Josephine',\n",
       " 'Art',\n",
       " 'Lenna',\n",
       " 'Donette',\n",
       " 'Simona',\n",
       " 'Mitsue',\n",
       " 'Leota',\n",
       " 'Sage',\n",
       " 'Kris',\n",
       " 'Minna',\n",
       " 'Abel',\n",
       " 'Kiley',\n",
       " 'Graciela',\n",
       " 'Cammy',\n",
       " 'Mattie',\n",
       " 'Meaghan',\n",
       " 'Gladys',\n",
       " 'Yuki',\n",
       " 'fFletcher',\n",
       " 'Bette',\n",
       " 'Veronika',\n",
       " 'Willard',\n",
       " 'Maryann',\n",
       " 'Alisha']"
      ]
     },
     "execution_count": 19,
     "metadata": {},
     "output_type": "execute_result"
    }
   ],
   "source": [
    "agenda.nome"
   ]
  },
  {
   "cell_type": "code",
   "execution_count": null,
   "metadata": {},
   "outputs": [],
   "source": []
  }
 ],
 "metadata": {
  "kernelspec": {
   "display_name": "Python 3",
   "language": "python",
   "name": "python3"
  },
  "language_info": {
   "codemirror_mode": {
    "name": "ipython",
    "version": 3
   },
   "file_extension": ".py",
   "mimetype": "text/x-python",
   "name": "python",
   "nbconvert_exporter": "python",
   "pygments_lexer": "ipython3",
   "version": "3.7.4"
  }
 },
 "nbformat": 4,
 "nbformat_minor": 2
}
