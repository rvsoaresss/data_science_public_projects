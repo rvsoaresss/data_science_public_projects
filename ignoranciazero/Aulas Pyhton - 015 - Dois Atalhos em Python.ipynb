{
 "cells": [
  {
   "cell_type": "code",
   "execution_count": null,
   "metadata": {},
   "outputs": [],
   "source": [
    "cont = 0\n",
    "cont = count + 1\n",
    "cont"
   ]
  },
  {
   "cell_type": "code",
   "execution_count": null,
   "metadata": {},
   "outputs": [],
   "source": [
    "cont += 1\n",
    "cont"
   ]
  },
  {
   "cell_type": "code",
   "execution_count": null,
   "metadata": {},
   "outputs": [],
   "source": [
    "cont //= 2\n",
    "cont"
   ]
  },
  {
   "cell_type": "code",
   "execution_count": null,
   "metadata": {},
   "outputs": [],
   "source": [
    "cont %= 2\n",
    "cont"
   ]
  },
  {
   "cell_type": "code",
   "execution_count": null,
   "metadata": {},
   "outputs": [],
   "source": [
    "cont *= 2\n",
    "cont"
   ]
  },
  {
   "cell_type": "code",
   "execution_count": null,
   "metadata": {},
   "outputs": [],
   "source": [
    "\"\"\"Dizemos que um numero natural é triangular se ele é produto de\n",
    "tres numeros naturais consecutivos.\n",
    "\n",
    "Exemplo: 120 é triangular, pois 4.5.6 == 120.\n",
    "Dado um inteiro não negativo n, verificar se n é triangular.\"\"\"\n",
    "\n",
    "n=int(input(\"Informe um numero: \"))\n",
    "a=1\n",
    "b=2\n",
    "c=3\n",
    "resultado=0\n",
    "\n",
    "while resultado <= n:\n",
    "    resultado=a*b*c    \n",
    "    if resultado == n:\n",
    "        print(n,\"é triangular pois\",a,\".\",b,\".\",c,\"==\",n)\n",
    "    a+=1\n",
    "    b+=1\n",
    "    c+=1"
   ]
  },
  {
   "cell_type": "code",
   "execution_count": null,
   "metadata": {},
   "outputs": [],
   "source": [
    "num=int(input(\"Digite um numero: \"))\n",
    "i, j, k = 1, 2, 3\n",
    "\n",
    "while i * j * k < num:\n",
    "    i+=1\n",
    "    j+=1\n",
    "    k+=1\n",
    "if i * j * k == num:\n",
    "    print(num,\"é triangular pois\",i,\".\",j,\".\",k,\"==\",num)\n",
    "else:\n",
    "    print(num,\"não é triangular\")"
   ]
  },
  {
   "cell_type": "code",
   "execution_count": null,
   "metadata": {},
   "outputs": [],
   "source": [
    "num=int(input(\"Digite um numero: \"))\n",
    "i = 1\n",
    "\n",
    "while i * (i+1) * (i+2) < num:\n",
    "    i+=1\n",
    "if i * (i+1) * (i+2) == num:\n",
    "    print(num,\"é triangular pois\",i,\".\",(i+1),\".\",(i+2),\"==\",num)\n",
    "else:\n",
    "    print(num,\"não é triangular\")"
   ]
  },
  {
   "cell_type": "code",
   "execution_count": null,
   "metadata": {},
   "outputs": [],
   "source": [
    "\"\"\"pegar um determinado numero m de pessoas, para cada\n",
    "pessoa a gente vai pegar o dia de nascimento dela (dia, mes, ano)\n",
    "pegar uma idade e a partir disso vai calcular a data em que a \n",
    "pessoa vai completar essa idade\"\"\"\n",
    "\n",
    "n=int(input(\"Digite o numero de pessoas: \"))\n",
    "\n",
    "cont=1\n",
    "\n",
    "while cont <= n:\n",
    "    dia=int(input(\"Digite o dia de nascimento: \"))\n",
    "    mes=int(input(\"Digite o mes de nascimento: \"))\n",
    "    ano=int(input(\"Digite o ano de nascimento: \"))\n",
    "    idade=int(input(\"Digite a idade a ser completada: \"))\n",
    "    \n",
    "    print(\"a\",cont,\"º pessoa fara\", idade, \"anos no dia\",\n",
    "         dia,\"/\",mes,\"/\",ano+idade)\n",
    "    cont += 1"
   ]
  },
  {
   "cell_type": "code",
   "execution_count": null,
   "metadata": {},
   "outputs": [],
   "source": [
    "n=int(input(\"Digite o numero de pessoas: \"))\n",
    "\n",
    "cont=1\n",
    "\n",
    "while cont <= n:\n",
    "    dia=int(input(\"Digite o dia de nascimento da %iº pessoa: \"%\n",
    "                 (cont)))\n",
    "    mes=int(input(\"Digite o mes de nascimento da %iº pessoa: \"%\n",
    "                 (cont)))\n",
    "    ano=int(input(\"Digite o ano de nascimento da %iº pessoa: \"%\n",
    "                 (cont)))\n",
    "    idade=int(input(\"Digite a idade a ser completada da %iº pessoa: \"% \n",
    "                    (cont)))\n",
    "    print(\"A %iº pessoa fara %i anos no dia %i/%i/%i\" % (cont,idade,\n",
    "                                                     dia,\n",
    "                                                     mes,\n",
    "                                                     ano+idade))\n",
    "    print(\"\")\n",
    "    cont += 1"
   ]
  },
  {
   "cell_type": "code",
   "execution_count": null,
   "metadata": {},
   "outputs": [],
   "source": [
    "\"\"\"\n",
    "Para inteiros colocar %i ou %d\n",
    "Mais de uma variavel colocar % --> %\n",
    "Para float colocar %f\n",
    "Para strings colocar %s\n",
    "\"\"\""
   ]
  },
  {
   "cell_type": "code",
   "execution_count": 3,
   "metadata": {},
   "outputs": [
    {
     "name": "stdout",
     "output_type": "stream",
     "text": [
      "Digite um numero: 6\n",
      "21\n",
      "numero informado não é perfeito\n"
     ]
    }
   ],
   "source": [
    "\"\"\"Dizemos que um inteiro positivo n é perfeito se for igual a soma de\n",
    "seus divisores positivos diferentes de n.\n",
    "\n",
    "Exemplo: 6 é perfeito, pois 1+2+3=6.\n",
    "Dado um inteiro positivo n, verificar se n é perfeito\"\"\"\n",
    "\n",
    "n = int(input(\"Digite um numero: \"))\n",
    "\n",
    "i = 1\n",
    "resultado = 0\n",
    "\n",
    "while i <= n:\n",
    "    resultado = i + (i+1) + (i+2)\n",
    "    i += 1\n",
    "print(resultado)\n",
    "if resultado == n:\n",
    "    print(\"i% é perfeito, pois i%+i%+i% = i%\" %(n, i, (i+1), (i+2),resultado))\n",
    "else:\n",
    "    print(\"numero informado não é perfeito\")\n"
   ]
  },
  {
   "cell_type": "code",
   "execution_count": null,
   "metadata": {},
   "outputs": [],
   "source": []
  }
 ],
 "metadata": {
  "kernelspec": {
   "display_name": "Python 3",
   "language": "python",
   "name": "python3"
  },
  "language_info": {
   "codemirror_mode": {
    "name": "ipython",
    "version": 3
   },
   "file_extension": ".py",
   "mimetype": "text/x-python",
   "name": "python",
   "nbconvert_exporter": "python",
   "pygments_lexer": "ipython3",
   "version": "3.7.4"
  }
 },
 "nbformat": 4,
 "nbformat_minor": 2
}
