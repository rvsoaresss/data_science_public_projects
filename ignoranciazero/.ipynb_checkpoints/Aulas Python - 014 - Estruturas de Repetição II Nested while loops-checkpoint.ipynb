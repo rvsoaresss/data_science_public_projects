{
 "cells": [
  {
   "cell_type": "code",
   "execution_count": null,
   "metadata": {},
   "outputs": [],
   "source": [
    "i = 0\n",
    "n = 5\n",
    "j = 0\n",
    "\n",
    "while i < n:\n",
    "    while j < n:\n",
    "        print(j)\n",
    "        j = j + 1\n",
    "    print(i)\n",
    "    i = i + 1"
   ]
  },
  {
   "cell_type": "code",
   "execution_count": null,
   "metadata": {},
   "outputs": [],
   "source": [
    "i = 0\n",
    "n = 5\n",
    "\n",
    "while i < n:\n",
    "    j = 0\n",
    "    while j < n:\n",
    "        print(i,j)\n",
    "        j = j + 1\n",
    "    i = i + 1"
   ]
  },
  {
   "cell_type": "code",
   "execution_count": null,
   "metadata": {},
   "outputs": [],
   "source": [
    "i = 0\n",
    "n = 5\n",
    "\n",
    "while i < n:\n",
    "    j = 0\n",
    "    while j < n:\n",
    "        print(\"i=\",i,\"j=\",j)\n",
    "        j = j + 1\n",
    "    i = i + 1"
   ]
  },
  {
   "cell_type": "code",
   "execution_count": null,
   "metadata": {},
   "outputs": [],
   "source": [
    "i = 0\n",
    "n = 5\n",
    "j = 0\n",
    "\n",
    "while i < n:\n",
    "    while j < n:\n",
    "        print(\"i=\",i,\"j=\",j)\n",
    "        j = j + 1\n",
    "    i = i + 1"
   ]
  },
  {
   "cell_type": "code",
   "execution_count": 1,
   "metadata": {},
   "outputs": [
    {
     "name": "stdout",
     "output_type": "stream",
     "text": [
      "Informe o numero de empresas: 3\n",
      "informe o numero de meses: 2\n",
      "\n",
      "Empresa: 1\n",
      "Mes: 1\n",
      "Informe o ganho da empresa no mes: 500\n",
      "Informe os gastos da empresa no mes:500\n",
      "Mes: 2\n",
      "Informe o ganho da empresa no mes: 600\n",
      "Informe os gastos da empresa no mes:600\n",
      "a empresa 1 ficou indiferente: balança = R$: 0\n",
      "\n",
      "Empresa: 2\n",
      "Mes: 1\n",
      "Informe o ganho da empresa no mes: 500\n",
      "Informe os gastos da empresa no mes:600\n",
      "Mes: 2\n",
      "Informe o ganho da empresa no mes: 800\n",
      "Informe os gastos da empresa no mes:1000\n",
      "defict de: -300\n",
      "\n",
      "Empresa: 3\n",
      "Mes: 1\n",
      "Informe o ganho da empresa no mes: 500\n",
      "Informe os gastos da empresa no mes:800\n",
      "Mes: 2\n",
      "Informe o ganho da empresa no mes: 1000\n",
      "Informe os gastos da empresa no mes:1100\n",
      "defict de: -400\n"
     ]
    }
   ],
   "source": [
    "'''Dado um numero n de empresas, e um numero m de meses,\n",
    "e o ganho e gastos positivos e inteiros de cada empresa para cada mes,\n",
    "imprimir se a empresa nesses meses ficou com defict, lucro ou indiferente e\n",
    "imprimir o valor correspondente a essa balança'''\n",
    "\n",
    "n=int(input(\"Informe o numero de empresas: \"))\n",
    "m=int(input(\"informe o numero de meses: \"))\n",
    "count=1\n",
    "\n",
    "while count < n+1:\n",
    "    ganho=0\n",
    "    gastos=0\n",
    "    count2=1\n",
    "    balanca=0\n",
    "    print(\"\\nEmpresa:\",count)\n",
    "    while count2 < m+1:\n",
    "        print(\"Mes:\",count2)\n",
    "        ganho=int(input(\"Informe o ganho da empresa no mes: \"))\n",
    "        gastos=int(input(\"Informe os gastos da empresa no mes:\"))\n",
    "        balanca=balanca+(ganho-gastos)\n",
    "        count2 = count2 + 1\n",
    "    if balanca > 0:\n",
    "        print(\"lucro de:\", balanca)\n",
    "    elif balanca < 0:\n",
    "        print(\"defict de:\", balanca)\n",
    "    else:\n",
    "        print(\"a empresa\",count,\"ficou indiferente: balança = R$:\",balanca)\n",
    "    count = count + 1"
   ]
  },
  {
   "cell_type": "code",
   "execution_count": 3,
   "metadata": {},
   "outputs": [
    {
     "name": "stdout",
     "output_type": "stream",
     "text": [
      "Informe o numero de empresas: 3\n",
      "informe o numero de meses: 2\n",
      "\n",
      "Empresa 1 :\n",
      "Mes 1 :\n",
      "Informe o ganho da empresa no mes: 500\n",
      "Informe os gastos da empresa no mes:500\n",
      "\n",
      "Mes 2 :\n",
      "Informe o ganho da empresa no mes: 600\n",
      "Informe os gastos da empresa no mes:600\n",
      "\n",
      "a empresa 1 ficou indiferente (balança = R$: 0)\n",
      "\n",
      "Empresa 2 :\n",
      "Mes 1 :\n",
      "Informe o ganho da empresa no mes: 500\n",
      "Informe os gastos da empresa no mes:600\n",
      "\n",
      "Mes 2 :\n",
      "Informe o ganho da empresa no mes: 800\n",
      "Informe os gastos da empresa no mes:1000\n",
      "\n",
      "A empresa 2 ficou com defict de R$: -300\n",
      "\n",
      "Empresa 3 :\n",
      "Mes 1 :\n",
      "Informe o ganho da empresa no mes: 500\n",
      "Informe os gastos da empresa no mes:800\n",
      "\n",
      "Mes 2 :\n",
      "Informe o ganho da empresa no mes: 1100\n",
      "Informe os gastos da empresa no mes:1000\n",
      "\n",
      "A empresa 3 ficou com defict de R$: -200\n",
      "\n"
     ]
    }
   ],
   "source": [
    "n=int(input(\"Informe o numero de empresas: \"))\n",
    "m=int(input(\"informe o numero de meses: \"))\n",
    "empresa=1\n",
    "print(\"\")\n",
    "\n",
    "while empresa <= n:\n",
    "    ganho=0\n",
    "    gasto=0\n",
    "    mes=1\n",
    "    balanca=0\n",
    "    print(\"Empresa\",empresa,\":\")\n",
    "    while mes <= m:\n",
    "        print(\"Mes\",mes,\":\")\n",
    "        ganho=int(input(\"Informe o ganho da empresa no mes: \"))\n",
    "        gasto=int(input(\"Informe os gastos da empresa no mes:\"))\n",
    "        balanca=balanca+(ganho-gasto)\n",
    "        print(\"\")\n",
    "        mes = mes + 1\n",
    "    if balanca > 0:\n",
    "        print(\"A empresa\",empresa, \"ficou com lucro de R$:\", balanca)\n",
    "    elif balanca < 0:\n",
    "        print(\"A empresa\", empresa, \"ficou com defict de R$:\", balanca)\n",
    "    else:\n",
    "        print(\"A empresa\",empresa,\"ficou indiferente (balança = R$: 0)\")\n",
    "    empresa = empresa + 1\n",
    "    print(\"\")"
   ]
  },
  {
   "cell_type": "code",
   "execution_count": null,
   "metadata": {},
   "outputs": [],
   "source": []
  }
 ],
 "metadata": {
  "kernelspec": {
   "display_name": "Python 3",
   "language": "python",
   "name": "python3"
  },
  "language_info": {
   "codemirror_mode": {
    "name": "ipython",
    "version": 3
   },
   "file_extension": ".py",
   "mimetype": "text/x-python",
   "name": "python",
   "nbconvert_exporter": "python",
   "pygments_lexer": "ipython3",
   "version": "3.7.4"
  }
 },
 "nbformat": 4,
 "nbformat_minor": 2
}
