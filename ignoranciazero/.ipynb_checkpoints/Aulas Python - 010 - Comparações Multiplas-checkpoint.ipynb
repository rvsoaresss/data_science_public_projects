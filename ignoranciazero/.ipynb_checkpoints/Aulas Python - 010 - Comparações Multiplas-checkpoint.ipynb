{
 "cells": [
  {
   "cell_type": "code",
   "execution_count": null,
   "metadata": {
    "scrolled": true
   },
   "outputs": [],
   "source": [
    "a = 3\n",
    "a < 4"
   ]
  },
  {
   "cell_type": "code",
   "execution_count": null,
   "metadata": {},
   "outputs": [],
   "source": [
    "3 <= a < 5"
   ]
  },
  {
   "cell_type": "code",
   "execution_count": null,
   "metadata": {},
   "outputs": [],
   "source": [
    "idade = int(input(\"Informe sua idade: \"))\n",
    "\n",
    "if idade >=18:\n",
    "    if idade < 70:\n",
    "        print(\"Voce pode receber o beneficio\")\n",
    "    else:\n",
    "        print(\"Voce não pode receber o beneficio\")\n",
    "else:\n",
    "    print(\"Voce não pode receber o beneficio\")\n",
    "    "
   ]
  },
  {
   "cell_type": "code",
   "execution_count": 14,
   "metadata": {},
   "outputs": [
    {
     "name": "stdout",
     "output_type": "stream",
     "text": [
      "Informe sua idade: 70\n",
      "Voce nao pode receber o beneficio\n"
     ]
    }
   ],
   "source": [
    "idade = int(input(\"Informe sua idade: \"))\n",
    "\n",
    "if 18 <= idade < 70:\n",
    "    print(\"Voce pode receber o beneficio\")  \n",
    "else:\n",
    "    print(\"Voce nao pode receber o beneficio\")"
   ]
  },
  {
   "cell_type": "code",
   "execution_count": 21,
   "metadata": {},
   "outputs": [
    {
     "name": "stdout",
     "output_type": "stream",
     "text": [
      "Informe o valor do saque: 564\n",
      "5 notas de 100\n",
      "1 nota de 50\n",
      "1 nota de 10\n",
      "4 notas de 1\n"
     ]
    }
   ],
   "source": [
    "# Faça um programa para um caixa eletronico. o programa devera perguntar ao usuario o valor do saque\n",
    "# e depois informar quantas notas de cada valor serão fornecidas. as notas disponiveis serao as de 1, 5, 10, 50 e 100\n",
    "# reais. o valor minimo é de 10 reais e o maximo de 600 reais.\n",
    "# o programa não deve se preocupar com a quantidade de notas existentes na maquina.\n",
    "# exemplo1: para sacar a quantia de 256 reais o programa fornece duas notas de 100, uma nota de 50, uma nota de 5 e \n",
    "# uma nota de 1\n",
    "# exemplo2: para sacar a quantia de 399 reais, o programa fornece tres notas de 100, uma nota de 50, quatro notas de 10, \n",
    "# uma nota de 5 e quatro notas de 1\n",
    "\n",
    "valor = int(input(\"Informe o valor do saque: \"))\n",
    "notas_100 = valor//100\n",
    "notas_50 = (valor%100)//50\n",
    "notas_10 = ((valor%100)%50)//10\n",
    "notas_5 = (((valor%100)%50)%10)//5\n",
    "notas_1 = ((((valor%100)%50)%10)%5)//1\n",
    "\n",
    "if 10 <= valor <= 600:\n",
    "    if notas_100 > 1:\n",
    "        print(notas_100,\"notas de 100\")\n",
    "    elif notas_100 == 1:\n",
    "        print(notas_100,\"nota de 100\")\n",
    "    if notas_50 > 1:\n",
    "        print(notas_50,\"notas de 50\")\n",
    "    elif notas_50 == 1:\n",
    "        print(notas_50,\"nota de 50\")\n",
    "    if notas_10 > 1:\n",
    "        print(notas_10,\"notas de 10\")\n",
    "    elif notas_10 == 1:\n",
    "        print(notas_10,\"nota de 10\")\n",
    "    if notas_5 > 1:\n",
    "        print(notas_5,\"notas de 5\")\n",
    "    elif notas_5 == 1:\n",
    "        print(notas_5,\"nota de 5\")\n",
    "    if notas_1 > 1:\n",
    "        print(notas_1,\"notas de 1\")\n",
    "    elif notas_1 == 1:\n",
    "        print(notas_1,\"nota de 1\")\n",
    "else:\n",
    "    print(\"Informe um valor entre 10 e 600\")"
   ]
  },
  {
   "cell_type": "code",
   "execution_count": null,
   "metadata": {},
   "outputs": [],
   "source": []
  }
 ],
 "metadata": {
  "kernelspec": {
   "display_name": "Python 3",
   "language": "python",
   "name": "python3"
  },
  "language_info": {
   "codemirror_mode": {
    "name": "ipython",
    "version": 3
   },
   "file_extension": ".py",
   "mimetype": "text/x-python",
   "name": "python",
   "nbconvert_exporter": "python",
   "pygments_lexer": "ipython3",
   "version": "3.7.4"
  }
 },
 "nbformat": 4,
 "nbformat_minor": 2
}
