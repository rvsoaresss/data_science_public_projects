{
 "cells": [
  {
   "cell_type": "code",
   "execution_count": null,
   "metadata": {},
   "outputs": [],
   "source": [
    "if 3 > 2:\n",
    "    print(\"maior\")\n",
    "else:\n",
    "    print(\"menor\")"
   ]
  },
  {
   "cell_type": "code",
   "execution_count": null,
   "metadata": {},
   "outputs": [],
   "source": [
    "# Faça um programa que leia um numero e exiba o dia correspondente da semana.\n",
    "# 1-domingo, 2-segunda, 3-terça, 4-quarta, 5-quinta, 6-sexta\n",
    "# se digitar outro valor aparecer numero invalido\n",
    "\n",
    "num=int(input(\"informe um numero: \"))\n",
    "verifica = False\n",
    "\n",
    "if num == 1:\n",
    "    print(\"domingo\")\n",
    "    verifica = True\n",
    "if num == 2:\n",
    "    print(\"segunda\")\n",
    "    verifica = True\n",
    "if num == 3:\n",
    "    print(\"terça\")\n",
    "    verifica = True\n",
    "if num == 4:\n",
    "    print(\"quarta\")\n",
    "    verifica = True\n",
    "if num == 5:\n",
    "    print(\"quinta\")\n",
    "    verifica = True\n",
    "if num == 6:\n",
    "    print(\"sexta\")\n",
    "    verifica = True\n",
    "if num == 7:\n",
    "    print(\"sabado\")\n",
    "    verifica = True\n",
    "if verifica != True:\n",
    "    print(\"numero invalido\")"
   ]
  },
  {
   "cell_type": "code",
   "execution_count": null,
   "metadata": {},
   "outputs": [],
   "source": [
    "num=int(input(\"informe um numero: \"))\n",
    "\n",
    "if num == 1:\n",
    "    print(\"domingo\")\n",
    "elif num == 2:\n",
    "    print(\"segunda\")\n",
    "elif num == 3:\n",
    "    print(\"terça\")\n",
    "elif num == 4:\n",
    "    print(\"quarta\")\n",
    "elif num == 5:\n",
    "    print(\"quinta\")\n",
    "elif num == 6:\n",
    "    print(\"sexta\")\n",
    "elif num == 7:\n",
    "    print(\"sabado\")\n",
    "else:\n",
    "    print(\"numero invalido\")"
   ]
  },
  {
   "cell_type": "code",
   "execution_count": null,
   "metadata": {},
   "outputs": [],
   "source": [
    "num=int(input(\"informe um numero: \"))\n",
    "\n",
    "if num < 15:\n",
    "    print(\"Menor que 15\")\n",
    "if num < 20:\n",
    "    print(\"Menor que 20\")\n",
    "else:\n",
    "    print(\"Ola\")"
   ]
  },
  {
   "cell_type": "code",
   "execution_count": null,
   "metadata": {},
   "outputs": [],
   "source": [
    "num=int(input(\"informe um numero: \"))\n",
    "\n",
    "if num < 15:\n",
    "    print(\"Menor que 15\")\n",
    "elif num < 20:\n",
    "    print(\"Menor que 20\")\n",
    "else:\n",
    "    print(\"Ola\")"
   ]
  },
  {
   "cell_type": "code",
   "execution_count": 4,
   "metadata": {},
   "outputs": [
    {
     "name": "stdout",
     "output_type": "stream",
     "text": [
      "informe o primeiro numero: 1\n",
      "informe o segundo numero: 3\n",
      "informe o terceiro numero: 2\n",
      "3 2 1\n"
     ]
    }
   ],
   "source": [
    "# faça um programa que leia 3 numeros e mostre em ordem decrescente\n",
    "\n",
    "num1 = int(input(\"informe o primeiro numero: \"))\n",
    "num2 = int(input(\"informe o segundo numero: \"))\n",
    "num3 = int(input(\"informe o terceiro numero: \"))\n",
    "\n",
    "if num1 < num2:\n",
    "    if num1 < num3:\n",
    "        if num2 < num3:\n",
    "            print(num3, num2, num1)\n",
    "        else:\n",
    "            print(num2, num3, num1)\n",
    "    else:\n",
    "        print(num2, num1, num3)\n",
    "else:\n",
    "    print(num1,num2,num3)"
   ]
  },
  {
   "cell_type": "code",
   "execution_count": 10,
   "metadata": {},
   "outputs": [
    {
     "name": "stdout",
     "output_type": "stream",
     "text": [
      "informe o primeiro numero: 3\n",
      "informe o segundo numero: 2\n",
      "informe o terceiro numero: 1\n",
      "3 2 1\n"
     ]
    }
   ],
   "source": [
    "num1 = int(input(\"informe o primeiro numero: \"))\n",
    "num2 = int(input(\"informe o segundo numero: \"))\n",
    "num3 = int(input(\"informe o terceiro numero: \"))\n",
    "\n",
    "if num1 >= num2 >= num3:\n",
    "    print(num1, num2, num3)\n",
    "elif num1 >= num3 >= num2:\n",
    "    print(num1, num3, num2)\n",
    "elif num2 >= num1 >= num3:\n",
    "    print(num2, num1, num3)    \n",
    "elif num2 >= num3 >= num1:\n",
    "    print(num2, num3, num1)\n",
    "elif num3 >= num1 >= num2:\n",
    "    print(num3, num1, num2)\n",
    "else:\n",
    "    print(num3, num2,num1)"
   ]
  },
  {
   "cell_type": "code",
   "execution_count": 46,
   "metadata": {},
   "outputs": [
    {
     "name": "stdout",
     "output_type": "stream",
     "text": [
      "Digite um numero de 0 a 1000: 321\n",
      "3 centenas , 2 dezenas e 1 unidade\n"
     ]
    }
   ],
   "source": [
    "'''Faça um programa que leia um numero inteiro menor que 1000 e imprima a quantidade de centenas, dezenas\n",
    "e unidades do mesmo. Observando os termos no plural e colocação de \"e\", da virgula entre outros.\n",
    "326 = 3 centenas, 2 dezenas e 6 unidades\n",
    "12 = 1 dezena e 2 unidades\n",
    "testar com: 326, 300, 100, 320, 310, 305, 301, 101, 311, 111, 25, 20, 10, 21, 11, 1, 7 e 16'''\n",
    "\n",
    "num = int(input(\"Digite um numero de 0 a 1000: \"))\n",
    "numero = str(num)\n",
    "centena = num//100\n",
    "dezena = (num%100)//10\n",
    "unidade = ((num%100)%10)//1\n",
    "tamanho = len(numero)\n",
    "\n",
    "if 0 < num < 1001:\n",
    "    if centena > 1:\n",
    "        cent = \"centenas\"\n",
    "    elif centena == 1:\n",
    "        cent = \"centena\"\n",
    "    if dezena > 1:\n",
    "        dez = \"dezenas\"\n",
    "    elif dezena == 1:\n",
    "        dez = \"dezena\"\n",
    "    if unidade > 1:\n",
    "        uni = \"unidades\"\n",
    "    elif unidade == 1:\n",
    "        uni = \"unidade\"\n",
    "\n",
    "    if tamanho == 3:\n",
    "        print(centena, cent,\",\", dezena, dez, \"e\", unidade, uni)\n",
    "    elif tamanho == 2:\n",
    "        print(dezena, dez, \"e\", unidade, uni)\n",
    "    else:\n",
    "        print(unidade, uni)\n",
    "else:\n",
    "    print(\"Numero invalido\")"
   ]
  },
  {
   "cell_type": "code",
   "execution_count": null,
   "metadata": {},
   "outputs": [],
   "source": []
  }
 ],
 "metadata": {
  "kernelspec": {
   "display_name": "Python 3",
   "language": "python",
   "name": "python3"
  },
  "language_info": {
   "codemirror_mode": {
    "name": "ipython",
    "version": 3
   },
   "file_extension": ".py",
   "mimetype": "text/x-python",
   "name": "python",
   "nbconvert_exporter": "python",
   "pygments_lexer": "ipython3",
   "version": "3.7.4"
  }
 },
 "nbformat": 4,
 "nbformat_minor": 2
}
