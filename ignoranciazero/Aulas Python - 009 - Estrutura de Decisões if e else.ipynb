{
 "cells": [
  {
   "cell_type": "code",
   "execution_count": 93,
   "metadata": {},
   "outputs": [
    {
     "name": "stdout",
     "output_type": "stream",
     "text": [
      "Digite sua idade: 20\n",
      "Voce pode beber a vontade\n"
     ]
    }
   ],
   "source": [
    "idade = int(input(\"Digite sua idade: \"))\n",
    "resposta = idade >=18\n",
    "\n",
    "if resposta == True:\n",
    "    print(\"Voce pode beber a vontade\")\n",
    "if resposta == False:\n",
    "    print(\"Voce só pode beber refrigerante\")"
   ]
  },
  {
   "cell_type": "code",
   "execution_count": 94,
   "metadata": {},
   "outputs": [
    {
     "name": "stdout",
     "output_type": "stream",
     "text": [
      "Digite sua idade: 15\n",
      "Voce só pode beber refrigerante\n"
     ]
    }
   ],
   "source": [
    "idade = int(input(\"Digite sua idade: \"))\n",
    "resposta = idade >=18\n",
    "\n",
    "if resposta:\n",
    "    print(\"Voce pode beber a vontade\")\n",
    "if resposta != True:\n",
    "    print(\"Voce só pode beber refrigerante\")"
   ]
  },
  {
   "cell_type": "code",
   "execution_count": 98,
   "metadata": {},
   "outputs": [
    {
     "name": "stdout",
     "output_type": "stream",
     "text": [
      "Digite sua idade: 22\n",
      "Voce pode beber a vontade\n",
      "Voce é VIP\n"
     ]
    }
   ],
   "source": [
    "idade = int(input(\"Digite sua idade: \"))\n",
    "\n",
    "if idade >=18:\n",
    "    print(\"Voce pode beber a vontade\")\n",
    "if idade >=21:\n",
    "    print(\"Voce é VIP\")\n",
    "if idade <18:\n",
    "    print(\"Voce só pode beber refrigerante\")"
   ]
  },
  {
   "cell_type": "code",
   "execution_count": 99,
   "metadata": {},
   "outputs": [
    {
     "name": "stdout",
     "output_type": "stream",
     "text": [
      "Digite sua idade: 21\n",
      "Voce pode beber a vontade\n",
      "Voce é VIP\n"
     ]
    }
   ],
   "source": [
    "idade = int(input(\"Digite sua idade: \"))\n",
    "\n",
    "if idade >=18:\n",
    "    print(\"Voce pode beber a vontade\")\n",
    "    if idade >=21:\n",
    "        print(\"Voce é VIP\")\n",
    "if idade <18:\n",
    "    print(\"Voce só pode beber refrigerante\")"
   ]
  },
  {
   "cell_type": "code",
   "execution_count": 101,
   "metadata": {},
   "outputs": [
    {
     "name": "stdout",
     "output_type": "stream",
     "text": [
      "Digite sua idade: 13\n",
      "Voce só pode beber refrigerante\n"
     ]
    }
   ],
   "source": [
    "idade = int(input(\"Digite sua idade: \"))\n",
    "\n",
    "if idade >=18:\n",
    "    print(\"Voce pode beber a vontade\")\n",
    "    if idade >=21:\n",
    "        print(\"Voce é VIP\")\n",
    "else:\n",
    "    print(\"Voce só pode beber refrigerante\")"
   ]
  },
  {
   "cell_type": "code",
   "execution_count": 109,
   "metadata": {},
   "outputs": [
    {
     "name": "stdout",
     "output_type": "stream",
     "text": [
      "Digite o primeiro numero: 4\n",
      "Digite o segundo numero: 4\n",
      "4\n"
     ]
    }
   ],
   "source": [
    "# Faça um programa que peça dois numeros e imprima o menor deles\n",
    "\n",
    "num1 = int(input(\"Digite o primeiro numero: \"))\n",
    "num2 = int(input(\"Digite o segundo numero: \"))\n",
    "\n",
    "if num1 > num2:\n",
    "    print(num1)\n",
    "else:\n",
    "    print(num2)"
   ]
  },
  {
   "cell_type": "code",
   "execution_count": 119,
   "metadata": {},
   "outputs": [
    {
     "name": "stdout",
     "output_type": "stream",
     "text": [
      "Digite o tamanho da area a ser pintada: 44\n",
      "Para pintar a area informada será necessário 1 latas, e custará R$ 80 ,00\n"
     ]
    }
   ],
   "source": [
    "# Faça um programa para uma loja de tintas. O programa devera pedir o tamanho em metros quadrados da area a ser pintada. \n",
    "# Considere que a cobertura da tinta é de 1 litro para cada 3 metros quadrados e que a tinta é vendida em latas de 18\n",
    "# litros, que custam R$:80,00.\n",
    "#Informe ao usuario a quantidade de latas de tinta a serem compradas e o preço total\n",
    "\n",
    "\n",
    "area = int(input(\"Digite o tamanho da area a ser pintada: \"))\n",
    "litros = area//3\n",
    "\n",
    "if area % 3 > 0:\n",
    "    litros = litros + 1\n",
    "\n",
    "latas = litros//18\n",
    "if litros % 18 > 0:\n",
    "    latas = latas+1\n",
    "\n",
    "print(\"Para pintar a area informada será necessário\", latas, \"latas, e custará R$\", latas*80,\",00\")"
   ]
  },
  {
   "cell_type": "code",
   "execution_count": 123,
   "metadata": {},
   "outputs": [
    {
     "name": "stdout",
     "output_type": "stream",
     "text": [
      "Informe um valor: 0\n",
      "o valor informado é positivo\n"
     ]
    }
   ],
   "source": [
    "# Faça um programa que peça um valor e mostre na tela se o valor é positivo ou negativo\n",
    "\n",
    "num = (int(input(\"Informe um valor: \")))\n",
    "\n",
    "if num >= 0:\n",
    "    print(\"o valor informado é positivo\")\n",
    "else:\n",
    "    print(\"o valor informado é negativo\")"
   ]
  },
  {
   "cell_type": "code",
   "execution_count": 140,
   "metadata": {},
   "outputs": [
    {
     "name": "stdout",
     "output_type": "stream",
     "text": [
      "Informe o tamanho da area a ser pintada: 100\n",
      "Area informada mais 10% de folga:  110\n",
      "litros necessários:  18\n",
      "latas necessárias: 2\n",
      "galoes necessárias: 5\n"
     ]
    }
   ],
   "source": [
    "# Faça um programa para uma loja de tintas. O programa devera pedir o tamanho em metros quadrados da area a ser pintada. \n",
    "# Considere que a cobertura da tinta é de 1 litro para cada 6 metros quadrados e que a tinta é vendida em latas de 18\n",
    "# litros, que custam R$ 80,00 ou em galoes de 4 litros, que custam R$ 25,00\n",
    "# Informe ao usuario as quantidades de tinta a serem compradas e os respectivos preços em 3 situações:\n",
    "# comprar apenas latas de 18 litros\n",
    "# comprar apenas galoes de 4 litros\n",
    "# misturar latas e galoes de forma que o preço seja o menor\n",
    "# acrescente 10% de folga e sempre arredonde os valores para cima, isto é, considere latas cheias\n",
    "\n",
    "\n",
    "area = int(input(\"Informe o tamanho da area a ser pintada: \"))\n",
    "area = int(area * 1.1)\n",
    "print(\"Area informada mais 10% de folga: \", area)\n",
    "litros = area // 6\n",
    "print(\"litros necessários: \", litros)\n",
    "if area % 6 > 0:\n",
    "    litros = litros + 1\n",
    "\n",
    "latas = litros // 18\n",
    "if litros % 18 > 0:\n",
    "    latas = latas + 1\n",
    "print(\"latas necessárias:\" , latas)\n",
    "\n",
    "galoes = litros // 4\n",
    "if litros % 4 > 0:\n",
    "    galoes = galoes + 1\n",
    "print(\"galoes necessárias:\" , galoes)\n"
   ]
  },
  {
   "cell_type": "code",
   "execution_count": null,
   "metadata": {},
   "outputs": [],
   "source": []
  }
 ],
 "metadata": {
  "kernelspec": {
   "display_name": "Python 3",
   "language": "python",
   "name": "python3"
  },
  "language_info": {
   "codemirror_mode": {
    "name": "ipython",
    "version": 3
   },
   "file_extension": ".py",
   "mimetype": "text/x-python",
   "name": "python",
   "nbconvert_exporter": "python",
   "pygments_lexer": "ipython3",
   "version": "3.7.4"
  }
 },
 "nbformat": 4,
 "nbformat_minor": 2
}
