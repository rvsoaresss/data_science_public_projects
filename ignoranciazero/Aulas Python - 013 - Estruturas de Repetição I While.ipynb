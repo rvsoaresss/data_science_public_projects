{
 "cells": [
  {
   "cell_type": "code",
   "execution_count": 1,
   "metadata": {},
   "outputs": [
    {
     "name": "stdout",
     "output_type": "stream",
     "text": [
      "0\n",
      "1\n",
      "2\n",
      "3\n",
      "4\n",
      "5\n",
      "6\n",
      "7\n",
      "8\n",
      "9\n"
     ]
    }
   ],
   "source": [
    "n = 10\n",
    "count = 0\n",
    "\n",
    "while count < n:\n",
    "    print(count)\n",
    "    count = count + 1"
   ]
  },
  {
   "cell_type": "code",
   "execution_count": 2,
   "metadata": {},
   "outputs": [
    {
     "name": "stdout",
     "output_type": "stream",
     "text": [
      "Informe o valor da base: 1\n",
      "Informe o valor do expoente: 2\n",
      "1 elevado a 2 é 1\n"
     ]
    }
   ],
   "source": [
    "'''Faça um programa que peça dois numeros, base e expoente, calcule e mostre o primeiro numero elevado ao segundo numero.\n",
    "Não utilize a função potencia da linguagem'''\n",
    "\n",
    "base = int(input(\"Informe o valor da base: \"))\n",
    "expoente = int(input(\"Informe o valor do expoente: \"))\n",
    "count = 0\n",
    "produto = 1\n",
    "\n",
    "while count < expoente:\n",
    "    produto = produto * base\n",
    "    count = count + 1\n",
    "print(base,\"elevado a\",expoente,\"é\",produto)"
   ]
  },
  {
   "cell_type": "code",
   "execution_count": 3,
   "metadata": {},
   "outputs": [
    {
     "name": "stdout",
     "output_type": "stream",
     "text": [
      "Informe um numero positivo: 1\n",
      "fatorial de 1 é 1\n"
     ]
    }
   ],
   "source": [
    "'''Dado um numero inteiro não negativo n, determinar o fatorial de n'''\n",
    "\n",
    "n = int(input(\"Informe um numero positivo: \"))\n",
    "count = 1\n",
    "produto = n\n",
    "count_inverso = n-count\n",
    "\n",
    "while count < n:\n",
    "    print(produto, \"*\", count_inverso, \"=\", produto * count_inverso)\n",
    "    produto = produto * count_inverso\n",
    "    count = count + 1\n",
    "    count_inverso = n-count\n",
    "print(\"fatorial de\",n,\"é\",produto)"
   ]
  },
  {
   "cell_type": "code",
   "execution_count": 4,
   "metadata": {},
   "outputs": [
    {
     "name": "stdout",
     "output_type": "stream",
     "text": [
      "Informe um numero positivo: 2\n",
      "2 ! = 2\n"
     ]
    }
   ],
   "source": [
    "n = int(input(\"Informe um numero positivo: \"))\n",
    "count = n-1\n",
    "produto = n\n",
    "\n",
    "while count > 1:\n",
    "    produto = produto * count\n",
    "    count = count - 1\n",
    "print(n,\"! =\", produto)"
   ]
  },
  {
   "cell_type": "code",
   "execution_count": 5,
   "metadata": {},
   "outputs": [
    {
     "name": "stdout",
     "output_type": "stream",
     "text": [
      "Informe um numero positivo: 2\n",
      "2 ! = 2\n"
     ]
    }
   ],
   "source": [
    "n = int(input(\"Informe um numero positivo: \"))\n",
    "count = 2\n",
    "produto = 1\n",
    "\n",
    "while count <= n:\n",
    "    produto = produto * count\n",
    "    count = count + 1\n",
    "print(n,\"! =\", produto)"
   ]
  },
  {
   "cell_type": "code",
   "execution_count": 6,
   "metadata": {},
   "outputs": [
    {
     "name": "stdout",
     "output_type": "stream",
     "text": [
      "Informe o primeiro numero:2\n",
      "4\n",
      "Informe o proximo numero3\n",
      "9\n",
      "Informe o proximo numero0\n"
     ]
    }
   ],
   "source": [
    "'''Dado uma sequencia de numeros inteiros não nulos, seguida por 0, imprimir seus quadrados'''\n",
    "\n",
    "n=int(input(\"Informe o primeiro numero:\"))\n",
    "\n",
    "while n != 0:\n",
    "    print(n**2)\n",
    "    n=int(input(\"Informe o proximo numero\"))"
   ]
  },
  {
   "cell_type": "code",
   "execution_count": 17,
   "metadata": {},
   "outputs": [
    {
     "name": "stdout",
     "output_type": "stream",
     "text": [
      "Informe um numero positivo3\n",
      "1\n",
      "3\n",
      "5\n"
     ]
    }
   ],
   "source": [
    "'''Dado um numero inteiro positivo n, imprimir os n primeiros naturais impares '''\n",
    "\n",
    "n=int(input(\"Informe um numero positivo\"))\n",
    "count = 0\n",
    "impar = 1\n",
    "\n",
    "while count < n:\n",
    "    count = count + 1\n",
    "    print(impar)\n",
    "    impar = impar + 2"
   ]
  },
  {
   "cell_type": "code",
   "execution_count": null,
   "metadata": {},
   "outputs": [],
   "source": []
  }
 ],
 "metadata": {
  "kernelspec": {
   "display_name": "Python 3",
   "language": "python",
   "name": "python3"
  },
  "language_info": {
   "codemirror_mode": {
    "name": "ipython",
    "version": 3
   },
   "file_extension": ".py",
   "mimetype": "text/x-python",
   "name": "python",
   "nbconvert_exporter": "python",
   "pygments_lexer": "ipython3",
   "version": "3.7.4"
  }
 },
 "nbformat": 4,
 "nbformat_minor": 2
}
