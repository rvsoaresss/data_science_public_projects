{
 "cells": [
  {
   "cell_type": "markdown",
   "metadata": {},
   "source": [
    "## Aulas Python - 037 - Funções IV: Listas e Matrizes\n",
    "\n",
    "## https://www.youtube.com/watch?v=-spJ99kDOhI&t=335s"
   ]
  },
  {
   "cell_type": "code",
   "execution_count": null,
   "metadata": {},
   "outputs": [],
   "source": [
    "x = 10"
   ]
  },
  {
   "cell_type": "code",
   "execution_count": null,
   "metadata": {},
   "outputs": [],
   "source": [
    "def soma(x):\n",
    "    x += 3\n",
    "    print(x)"
   ]
  },
  {
   "cell_type": "code",
   "execution_count": null,
   "metadata": {},
   "outputs": [],
   "source": [
    "soma(x)"
   ]
  },
  {
   "cell_type": "code",
   "execution_count": null,
   "metadata": {},
   "outputs": [],
   "source": [
    "x"
   ]
  },
  {
   "cell_type": "code",
   "execution_count": null,
   "metadata": {},
   "outputs": [],
   "source": [
    "def modificalista(a):\n",
    "    a[0] += 10\n",
    "    "
   ]
  },
  {
   "cell_type": "code",
   "execution_count": null,
   "metadata": {},
   "outputs": [],
   "source": [
    "a = [1,2,3,4]"
   ]
  },
  {
   "cell_type": "code",
   "execution_count": null,
   "metadata": {},
   "outputs": [],
   "source": [
    "modificalista(a)"
   ]
  },
  {
   "cell_type": "code",
   "execution_count": null,
   "metadata": {},
   "outputs": [],
   "source": [
    "a"
   ]
  },
  {
   "cell_type": "code",
   "execution_count": null,
   "metadata": {},
   "outputs": [],
   "source": [
    "# escreva uma função que recebe um inteiro m e outro n e com isso constroi uma matriz mxn (2:46)\n",
    "\n",
    "matriz = []\n",
    "\n",
    "m = int(input(\"Digite o numero de linhas da matriz: \"))\n",
    "n = int(input(\"Digite o numero de colunas da matriz: \"))\n",
    "\n",
    "def criar_matriz(m, n, matriz):\n",
    "    for i in range(1,m+1):\n",
    "        linha = []\n",
    "        for j in range(1,n+1):\n",
    "            x = int(input(\"Digite o valor do campo %i %i: \" %(i,j)))\n",
    "            linha.append(x)\n",
    "        \n",
    "        matriz.append(linha)\n",
    "criar_matriz(m,n,matriz)\n",
    "print(matriz)"
   ]
  },
  {
   "cell_type": "code",
   "execution_count": null,
   "metadata": {},
   "outputs": [],
   "source": [
    "# escreva uma função que troca um valor por outro numa matriz (6:58)\n",
    "\n",
    "matriz = []\n",
    "\n",
    "m = int(input(\"Digite o numero de linhas da matriz: \"))\n",
    "n = int(input(\"Digite o numero de colunas da matriz: \"))\n",
    "\n",
    "def criar_matriz(m, n, matriz):\n",
    "    for i in range(1,m+1):\n",
    "        linha = []\n",
    "        for j in range(1,n+1):\n",
    "            x = int(input(\"Digite o valor do campo %i %i: \" %(i,j)))\n",
    "            linha.append(x)\n",
    "        \n",
    "        matriz.append(linha)\n",
    "\n",
    "\n",
    "def trocar_valor(posicao1, posicao2, matriz):\n",
    "    valor1 = matriz[posicao1//10 -1][posicao1%10 -1]\n",
    "    valor2 = matriz[posicao2//10 -1][posicao2%10 -1]\n",
    "    matriz[posicao1//10 -1][posicao1%10 -1] = valor2\n",
    "    matriz[posicao2//10 -1][posicao2%10 -1] = valor1\n",
    "                                 \n",
    "criar_matriz(m,n,matriz)\n",
    "print(matriz)\n",
    "posicao1 = int(input(\"Digite a posiçao do valor 1:\"))\n",
    "posicao2 = int(input(\"Digite a posição do valor 2:\"))\n",
    "\n",
    "trocar_valor(posicao1, posicao2, matriz)\n",
    "print(matriz)"
   ]
  },
  {
   "cell_type": "code",
   "execution_count": 4,
   "metadata": {},
   "outputs": [
    {
     "name": "stdout",
     "output_type": "stream",
     "text": [
      "[[2, 14, 8, 13], [5, 12, 7, 3], [15, 4, 1, 9], [11, 6, 0, 10]]\n",
      "[[13, 5, 14, 4], [10, 12, 2, 3], [9, 15, 7, 0], [8, 6, 11, 1]]\n",
      "[[9, 8, 13, 1], [10, 14, 6, 5], [3, 15, 11, 4], [12, 7, 0, 2]]\n"
     ]
    }
   ],
   "source": [
    "# escreva uma função que gera uma matriz 4x4 com os numeros 0 a 15 sem repetiçoes\n",
    "\n",
    "import random\n",
    "matriz = []\n",
    "\n",
    "def gerar_matriz(matriz):\n",
    "    lista = list(range(16))\n",
    "    for j in range(4):\n",
    "        linha = []\n",
    "        for i in range(4):\n",
    "            x = random.choice(lista)\n",
    "            linha.append(x)\n",
    "            lista.remove(x)\n",
    "        \n",
    "        matriz.append(linha)\n",
    "\n",
    "for i in range(3):\n",
    "    matriz = []\n",
    "    gerar_matriz(matriz)\n",
    "    print(matriz)\n"
   ]
  },
  {
   "cell_type": "code",
   "execution_count": null,
   "metadata": {},
   "outputs": [],
   "source": []
  }
 ],
 "metadata": {
  "kernelspec": {
   "display_name": "Python 3",
   "language": "python",
   "name": "python3"
  },
  "language_info": {
   "codemirror_mode": {
    "name": "ipython",
    "version": 3
   },
   "file_extension": ".py",
   "mimetype": "text/x-python",
   "name": "python",
   "nbconvert_exporter": "python",
   "pygments_lexer": "ipython3",
   "version": "3.7.4"
  }
 },
 "nbformat": 4,
 "nbformat_minor": 2
}
